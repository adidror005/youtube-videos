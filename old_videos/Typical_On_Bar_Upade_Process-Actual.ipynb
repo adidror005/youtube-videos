{
 "cells": [
  {
   "cell_type": "markdown",
   "id": "db47d8a3-7231-4de1-bb4f-dd9d682864bd",
   "metadata": {},
   "source": [
    "### Goal of video\n",
    "* Give an organized framework for on bar algorithms which we can generalize and make more sophisticated later.\n",
    "    * An abstract class **OnBarAlgo** that we will implement the subclass **SimpleMLBuySellAlgo**\n",
    "* We will focus on just 1 onBar algo! In future videos will show you good ways to organize it to many.\n",
    "* **NOTE**: eventually this approach will generalize to many **OnBarAlgo**s together and we should implement some sort of **BarAlgorithmController** which will handle running a given list/set/dict of these **OnBarAlgo** implementations, but will will save that for another video\n",
    "* Illustrate simple example of buying stock with a bracket order where we don't adjust price targets at all and only\n",
    "* Keep it very simple.\n",
    "  - No order cancelation\n",
    "  - No order modification\n",
    "  - No double downing\n",
    "  - etc..\n",
    "  - **NOTE** I always adjust price targets, double down, etc..., but want to keep this video understandable"
   ]
  },
  {
   "cell_type": "markdown",
   "id": "4a434c4d-1c1b-48e7-8772-d2c579f71546",
   "metadata": {},
   "source": [
    "### Remove some annoying warnings!"
   ]
  },
  {
   "cell_type": "code",
   "execution_count": 1,
   "id": "ec739743-fd06-43c9-b1eb-4324c8c690da",
   "metadata": {},
   "outputs": [],
   "source": [
    "import warnings\n",
    "import pandas as pd\n",
    "\n",
    "# Ignore all FutureWarnings (often from pandas)\n",
    "warnings.simplefilter(action='ignore', category=FutureWarning)\n",
    "\n",
    "# Ignore pandas SettingWithCopyWarning specifically\n",
    "warnings.simplefilter(action='ignore', category=pd.errors.SettingWithCopyWarning)\n",
    "\n",
    "import warnings\n",
    "\n",
    "# Ignore the specific warning about timezone information loss\n",
    "warnings.filterwarnings(\"ignore\", message=\"Converting to PeriodArray/Index representation will drop timezone information\")\n"
   ]
  },
  {
   "cell_type": "markdown",
   "id": "cfb039ae-1d32-4fac-af41-a98f27d39dfe",
   "metadata": {},
   "source": [
    "### Connect to IB"
   ]
  },
  {
   "cell_type": "code",
   "execution_count": 3,
   "id": "f6aed52d-ce84-4362-9697-1e3984f7c8b4",
   "metadata": {},
   "outputs": [
    {
     "data": {
      "text/plain": [
       "<IB connected to 127.0.0.1:4003 clientId=0>"
      ]
     },
     "execution_count": 3,
     "metadata": {},
     "output_type": "execute_result"
    }
   ],
   "source": [
    "from ib_async import * \n",
    "ib = IB()\n",
    "util.startLoop()\n",
    "ib.connect(port=4003,clientId=0)"
   ]
  },
  {
   "cell_type": "markdown",
   "id": "bc2441d4-8c06-4b7e-85ad-335134fbbb05",
   "metadata": {},
   "source": [
    "### Big Picture Approach with OnBar Long Algorithms:\n",
    "1. Preface: Getting Bar Data: Historical Bars + Real Time Bars\n",
    "    - An alternative much easier, but less robust to internet disconnections is to just use historicalbars with keepUptoDate= True for most current one.\n",
    "3. On Bar Update Callback **onBarUpdate** where you implement logic when new bar arrives"
   ]
  },
  {
   "cell_type": "markdown",
   "id": "3abd3ded-ddf5-458d-99c5-7ffbaebb0b74",
   "metadata": {},
   "source": [
    "#### Preface: Getting Bar Data: Historical Bars + Real Time Bars\n",
    "* Get historical data for enough of a period to calculate any features that need it...\n",
    "    - for example if your bars are 5 minutes and you have RSI 780 as a feature you would need 10 days of historical data since 78 5-min bars in a day "
   ]
  },
  {
   "cell_type": "markdown",
   "id": "47346cd8-5685-43b1-8ce4-e7996ee1a3b7",
   "metadata": {},
   "source": [
    "*  **NOTE 1** I usually have a **Data** class to abstract this away, but we won't do this in this video.\n",
    "* **NOTE 2** Be careful your logic doesn't result in missing or duplicating some bars\n",
    "    * For example, if running during market hours then run get live bars before historical bars before the live bars since otherwise you will have a gap.\n",
    "    "
   ]
  },
  {
   "cell_type": "markdown",
   "id": "041eb9df-e3aa-4bf1-b9d0-e0960c55ea2d",
   "metadata": {},
   "source": [
    "* Define Stock contract we wish to trade"
   ]
  },
  {
   "cell_type": "code",
   "execution_count": 4,
   "id": "640bf000-6230-4808-912e-31082156f306",
   "metadata": {},
   "outputs": [
    {
     "data": {
      "text/plain": [
       "[Stock(conId=4391, symbol='AMD', exchange='SMART', primaryExchange='NASDAQ', currency='USD', localSymbol='AMD', tradingClass='NMS')]"
      ]
     },
     "execution_count": 4,
     "metadata": {},
     "output_type": "execute_result"
    }
   ],
   "source": [
    "stock = Stock(symbol='AMD',exchange='SMART',currency='USD')\n",
    "ib.qualifyContracts(stock)"
   ]
  },
  {
   "cell_type": "markdown",
   "id": "60eb5c82-d0a8-492c-9c9a-676cf8501263",
   "metadata": {},
   "source": [
    "* Get Realtime 5 second bars"
   ]
  },
  {
   "cell_type": "code",
   "execution_count": 5,
   "id": "42454626-91ea-40f3-b973-30d417262aad",
   "metadata": {},
   "outputs": [],
   "source": [
    "real_time_bars  = ib.reqRealTimeBars(contract=stock,barSize=5,whatToShow='TRADES',useRTH=False)"
   ]
  },
  {
   "cell_type": "code",
   "execution_count": 9,
   "id": "1430209a-c12b-445d-994a-ca164b4d932e",
   "metadata": {},
   "outputs": [
    {
     "data": {
      "text/html": [
       "<div>\n",
       "<style scoped>\n",
       "    .dataframe tbody tr th:only-of-type {\n",
       "        vertical-align: middle;\n",
       "    }\n",
       "\n",
       "    .dataframe tbody tr th {\n",
       "        vertical-align: top;\n",
       "    }\n",
       "\n",
       "    .dataframe thead th {\n",
       "        text-align: right;\n",
       "    }\n",
       "</style>\n",
       "<table border=\"1\" class=\"dataframe\">\n",
       "  <thead>\n",
       "    <tr style=\"text-align: right;\">\n",
       "      <th></th>\n",
       "      <th>time</th>\n",
       "      <th>endTime</th>\n",
       "      <th>open_</th>\n",
       "      <th>high</th>\n",
       "      <th>low</th>\n",
       "      <th>close</th>\n",
       "      <th>volume</th>\n",
       "      <th>wap</th>\n",
       "      <th>count</th>\n",
       "    </tr>\n",
       "  </thead>\n",
       "  <tbody>\n",
       "    <tr>\n",
       "      <th>0</th>\n",
       "      <td>2024-10-31 10:53:35+00:00</td>\n",
       "      <td>-1</td>\n",
       "      <td>146.95</td>\n",
       "      <td>146.95</td>\n",
       "      <td>146.95</td>\n",
       "      <td>146.95</td>\n",
       "      <td>0.0</td>\n",
       "      <td>146.95</td>\n",
       "      <td>0</td>\n",
       "    </tr>\n",
       "    <tr>\n",
       "      <th>1</th>\n",
       "      <td>2024-10-31 10:53:40+00:00</td>\n",
       "      <td>-1</td>\n",
       "      <td>146.90</td>\n",
       "      <td>146.90</td>\n",
       "      <td>146.90</td>\n",
       "      <td>146.90</td>\n",
       "      <td>100.0</td>\n",
       "      <td>146.90</td>\n",
       "      <td>1</td>\n",
       "    </tr>\n",
       "    <tr>\n",
       "      <th>2</th>\n",
       "      <td>2024-10-31 10:53:45+00:00</td>\n",
       "      <td>-1</td>\n",
       "      <td>146.90</td>\n",
       "      <td>146.90</td>\n",
       "      <td>146.90</td>\n",
       "      <td>146.90</td>\n",
       "      <td>0.0</td>\n",
       "      <td>146.90</td>\n",
       "      <td>0</td>\n",
       "    </tr>\n",
       "  </tbody>\n",
       "</table>\n",
       "</div>"
      ],
      "text/plain": [
       "                       time  endTime   open_    high     low   close  volume  \\\n",
       "0 2024-10-31 10:53:35+00:00       -1  146.95  146.95  146.95  146.95     0.0   \n",
       "1 2024-10-31 10:53:40+00:00       -1  146.90  146.90  146.90  146.90   100.0   \n",
       "2 2024-10-31 10:53:45+00:00       -1  146.90  146.90  146.90  146.90     0.0   \n",
       "\n",
       "      wap  count  \n",
       "0  146.95      0  \n",
       "1  146.90      1  \n",
       "2  146.90      0  "
      ]
     },
     "execution_count": 9,
     "metadata": {},
     "output_type": "execute_result"
    }
   ],
   "source": [
    "util.df(real_time_bars)"
   ]
  },
  {
   "cell_type": "markdown",
   "id": "f74ca5b3-a731-4732-b8f3-73d87d7e6a87",
   "metadata": {},
   "source": [
    "* Get historical 5 seconds bars\n",
    "    * Need to loop a few times to get more history due to timeouts"
   ]
  },
  {
   "cell_type": "code",
   "execution_count": 10,
   "id": "3b95fcdf-d202-4848-8d2d-a97687ce29a9",
   "metadata": {},
   "outputs": [
    {
     "name": "stdout",
     "output_type": "stream",
     "text": [
      "Downloading Period 0\n",
      "Downloading Period 1\n",
      "Downloading Period 2\n",
      "Downloading Period 3\n",
      "Downloading Period 4\n",
      "Downloading Period 5\n",
      "Downloading Period 6\n",
      "Downloading Period 7\n",
      "Downloading Period 8\n",
      "Downloading Period 9\n",
      "Downloading Period 10\n"
     ]
    }
   ],
   "source": [
    "def get_historical_data(contract,num_periods=11):\n",
    "      barsList = []\n",
    "      dt = \"\"\n",
    "      for i in range(num_periods):\n",
    "          print(f\"Downloading Period {i}\")\n",
    "          bars = ib.reqHistoricalData(\n",
    "              contract,\n",
    "              endDateTime=dt,\n",
    "              durationStr='3 D',\n",
    "              barSizeSetting='5 secs',\n",
    "              whatToShow='TRADES', keepUpToDate=False,\n",
    "              useRTH=True,\n",
    "              formatDate=1)\n",
    "          if not bars:\n",
    "              break\n",
    "          barsList.append(bars)\n",
    "          dt = bars[0].date\n",
    " \n",
    "      bars = [b for bars in reversed(barsList) for b in bars]\n",
    "\n",
    "      historical_df = util.df(bars).set_index('date').copy(deep=True)\n",
    "      df_cols = ['open', 'high', 'low', 'close', 'volume', 'average', 'dollar_value', 'day_id']\n",
    "      historical_df['dollar_value'] = historical_df['volume'] * historical_df['average']\n",
    "      historical_df['day_id'] = historical_df.index.date\n",
    "      historical_df = historical_df[df_cols]\n",
    "      return historical_df\n",
    "historical_df = get_historical_data(stock,11)"
   ]
  },
  {
   "cell_type": "code",
   "execution_count": 15,
   "id": "b2ed24bf-b3b4-4766-aa18-69587623b63e",
   "metadata": {},
   "outputs": [
    {
     "data": {
      "text/plain": [
       "((154440, 8), (92, 9))"
      ]
     },
     "execution_count": 15,
     "metadata": {},
     "output_type": "execute_result"
    }
   ],
   "source": [
    "historical_df.shape,util.df(real_time_bars).shape"
   ]
  },
  {
   "cell_type": "markdown",
   "id": "3ad8896a-1ba8-4b2a-b05b-14599356309e",
   "metadata": {},
   "source": [
    "#### Bar Upate Callback: **onBarUpdate** (when new bar arrives):\n",
    "    \n",
    "1.  Update Dollar Bars, Volume Bars, Time Bars, whatever you Use\n",
    "2.  Extract Features\n",
    "3.  Make a Prediction of some sort\n",
    "\n",
    "4.  Get Action (meaning Run an algorithm) **NOTE** we can have multiple algos and so multiple *get_action* methods\n",
    "    * For this video's example,\n",
    "    * If Prediction>=BUY_PROB_THRESHOLD and Close<MAX_BUY_PRICE and NO_ACTIVE_TRADES:\n",
    "         * Submit bracket buy order for stock\n",
    "      "
   ]
  },
  {
   "cell_type": "markdown",
   "id": "409e8cf1-cebd-4f61-acc2-73839784720f",
   "metadata": {},
   "source": [
    "### Assumptions: \n",
    "\n",
    "#### We have following functions implemented:\n",
    "1. Get updated aggregate bars: **update_bars**: Black Box function to compute some sort of aggregate bars every 5 seconds\n",
    "    * For example if using 1 minute bars\n",
    "        * If we just got 12:30:15 to 12:30:20 then the last 2 bars would be 12:28-20-10:29:20 and 12:29:20-12:30-20\n",
    "        * If we just got 12:30:20 to 12:30:25 then the last 2 bars would be 12:28-20-10:29:25 and 12:29:20-12:30-25\n",
    "**NOTE 1** I use some version of dollar bars.\n",
    "\n",
    "**NOTE 2** If your logic only works for end of whole bars or when some filtering condition is true then you can also return an *IS_COMPLETED* flag for if the bar is completed or not.\n",
    "\n",
    "2. **extract_features**: From bars to get feature vectors for ML model + other info like Take Profit and Stop Loss Targets! \n",
    "4. **Fitted ML model** with model.predict, model.predict_proba or similar"
   ]
  },
  {
   "cell_type": "code",
   "execution_count": 16,
   "id": "4a0b909b-01c9-43a8-b08e-7ff65e0899a6",
   "metadata": {},
   "outputs": [],
   "source": [
    "from on_bar_utils import update_bars, extract_features,fitted_ml_model,DOLLAR_BAR_THRESHOLD"
   ]
  },
  {
   "cell_type": "markdown",
   "id": "d4901f68-412b-4e54-8a23-e15d83bd0205",
   "metadata": {},
   "source": [
    "* Get new aggregate bars"
   ]
  },
  {
   "cell_type": "code",
   "execution_count": 18,
   "id": "f3ad9f55-19f5-4fb9-9ad2-424701bd3369",
   "metadata": {},
   "outputs": [
    {
     "data": {
      "text/plain": [
       "(1079, 17)"
      ]
     },
     "execution_count": 18,
     "metadata": {},
     "output_type": "execute_result"
    }
   ],
   "source": [
    "update_bars(historical_bars_df=historical_df,live_bars=real_time_bars,dollar_bar_threshold=DOLLAR_BAR_THRESHOLD).shape"
   ]
  },
  {
   "cell_type": "code",
   "execution_count": 19,
   "id": "3691186a-e2da-43d0-81de-325d7c0c3bb9",
   "metadata": {},
   "outputs": [],
   "source": [
    "new_agg_bars_df=update_bars(historical_bars_df=historical_df,live_bars=real_time_bars,dollar_bar_threshold=DOLLAR_BAR_THRESHOLD)"
   ]
  },
  {
   "cell_type": "markdown",
   "id": "d737326d-2acb-4b83-8808-d17b851d51e8",
   "metadata": {},
   "source": [
    "* Extract ML Features"
   ]
  },
  {
   "cell_type": "code",
   "execution_count": 21,
   "id": "f3566837-01d8-4b16-b3c3-e48deb303254",
   "metadata": {},
   "outputs": [],
   "source": [
    "features_df = extract_features(new_agg_bars_df)"
   ]
  },
  {
   "cell_type": "code",
   "execution_count": 55,
   "id": "74271392-99d3-415f-b64f-5c30636818af",
   "metadata": {},
   "outputs": [
    {
     "data": {
      "text/plain": [
       "['RSI_14',\n",
       " 'RSI_840',\n",
       " 'RSI_70',\n",
       " 'PPO_12_26_9',\n",
       " 'PPOh_12_26_9',\n",
       " 'PPOs_12_26_9',\n",
       " 'PPO_40_200_12',\n",
       " 'PPOh_40_200_12',\n",
       " 'PPOs_40_200_12',\n",
       " 'LOGRET_840',\n",
       " 'LOGRET_1',\n",
       " 'LOGRET_2',\n",
       " 'LOGRET_3',\n",
       " 'AROOND_14',\n",
       " 'AROONU_14',\n",
       " 'AROONOSC_14',\n",
       " 'BOP',\n",
       " 'MFI_14',\n",
       " 'serial_correlation_50_1',\n",
       " 'STOCHRSIk_14_14_3_3',\n",
       " 'STOCHRSId_14_14_3_3',\n",
       " 'SKEW_30',\n",
       " 'SKEW_200',\n",
       " 'SKEW_90',\n",
       " 'close',\n",
       " 'take_profit_target',\n",
       " 'stop_loss_target']"
      ]
     },
     "execution_count": 55,
     "metadata": {},
     "output_type": "execute_result"
    }
   ],
   "source": [
    "features_df.columns.tolist()"
   ]
  },
  {
   "cell_type": "markdown",
   "id": "55de4cee-331e-42a4-84a7-3039925c99c6",
   "metadata": {},
   "source": [
    "* Use fitted model to make prediction"
   ]
  },
  {
   "cell_type": "code",
   "execution_count": 28,
   "id": "6e6809bb-cadc-48d8-91c6-ce974c002c67",
   "metadata": {},
   "outputs": [
    {
     "data": {
      "text/plain": [
       "0.4684235349290563"
      ]
     },
     "execution_count": 28,
     "metadata": {},
     "output_type": "execute_result"
    }
   ],
   "source": [
    "fitted_ml_model.predict_proba(features_df.iloc[-1,:])[1]"
   ]
  },
  {
   "cell_type": "markdown",
   "id": "c7c9e639-80a7-48c6-8458-5a432d297023",
   "metadata": {},
   "source": [
    "### Main Algo Loop in **onBarUpdate** callback\n",
    "* This is what we need to implement\n",
    "* Note *hasNewBar* isn't so really needed when using real time bars, but let's use it anyways."
   ]
  },
  {
   "cell_type": "markdown",
   "id": "cb233edc-ef1f-452b-9db6-80791d61d4c6",
   "metadata": {},
   "source": [
    "\n",
    "```\n",
    "def on_bar_update(bars,hasNewBar): \n",
    "    if hasNewBar:\n",
    "        # Get Bars in My case Dollar Bars\n",
    "        df = update_bars(historical_df,real_time_bars, DOLLAR_BAR_THRESHOLD)\n",
    "        # Extract Features\n",
    "        df_features = extract_features(df)\n",
    "        ## Make a Prediction\n",
    "        probs_cat = fitted_ml_model.predict_proba(df_features.tail(1))[0, 1]\n",
    "        ## Call on bar algorithms' get_action method one at a time\n",
    "        #### TODO #######\n",
    "        ###### on_bar_algo.get_action(df_features,probs_cat) ################\n",
    "```\n",
    "        "
   ]
  },
  {
   "cell_type": "markdown",
   "id": "a9db2b70-edbe-4774-8fe3-71dbc5369c18",
   "metadata": {},
   "source": [
    "### Note again I usually wrap this stuff in an **OnBarAlgorithmController** class so I can use multiple onBar algos"
   ]
  },
  {
   "cell_type": "markdown",
   "id": "aabc0cb3-4f4c-46dd-a477-cdc41880c4b9",
   "metadata": {},
   "source": [
    "### Abstract Class for OnBarAlgorithm\n",
    "* Snippet of my actual code for onBar algorithms\n",
    "* You need to implement the get_action method which is called "
   ]
  },
  {
   "cell_type": "code",
   "execution_count": 67,
   "id": "dd2f2cfe-124d-455f-820e-6f423bb14a78",
   "metadata": {},
   "outputs": [],
   "source": [
    "from abc import ABC, abstractmethod\n",
    "\n",
    "class OnBarAlgorithm(ABC):\n",
    "\n",
    "    def __init__(self,ib:IB):\n",
    "        self.ib=ib\n",
    "        self.set_config()\n",
    "\n",
    "    @abstractmethod\n",
    "    def set_config(self):\n",
    "        pass\n",
    "        \n",
    "    \n",
    "    @abstractmethod\n",
    "    def get_action(self, df_features,prob):\n",
    "        pass\n"
   ]
  },
  {
   "cell_type": "markdown",
   "id": "17da1029-cb29-4744-ad2b-ba8d5b7df878",
   "metadata": {},
   "source": [
    "#### Implement **SimpleMLBuySellAlgo** which will subclass **OnBarAlgorithm**"
   ]
  },
  {
   "cell_type": "code",
   "execution_count": 142,
   "id": "0bd01770-514e-4b18-a2c5-88d9b360ce16",
   "metadata": {},
   "outputs": [],
   "source": [
    "class SimpleMLBuySellAlgo(OnBarAlgorithm):\n",
    "    ib:IB\n",
    "    def __init__(self,ib:IB):\n",
    "        super().__init__(ib)\n",
    "        self._ACTIVE_TRADE = False\n",
    "        self._QTY_SOLD = 0\n",
    "    def set_config(self): # usually take this from some config.ini file with ConfigParser class\n",
    "        self.QTY = 200 # Qty to trade\n",
    "        self.MAX_BUY_PRICE = 260 # Max stock price willing to buy at\n",
    "        self.DISCOUNT_FROM_LIMIT = -0.05  #(if close is 146.9-0.05 then our buy limit would be 146.85)\n",
    "        self.PROBS_THRESH_FOR_BUYING = 0.451 \n",
    "        self.ACTION = 'BUY'\n",
    "        \n",
    "    def set_contract(self,contract:Contract):\n",
    "        self.contract = contract\n",
    "    \n",
    "    def get_action(self,df_features,prob):\n",
    "        close = df_features.iloc[-1].close\n",
    "        if prob>=self.PROBS_THRESH_FOR_BUYING:\n",
    "            if close<=self.MAX_BUY_PRICE:\n",
    "                if not self._ACTIVE_TRADE:\n",
    "                    limit_price = close - self.DISCOUNT_FROM_LIMIT\n",
    "                    take_profit_price = df_features.iloc[-1].stop_loss_target#take_profit_target\n",
    "                    stop_loss_price = df_features.iloc[-1].stop_loss_target-1\n",
    "                    \n",
    "                    # Place new bracket order and it will set self._ACTIVE_TRADE = True\n",
    "                    self.place_bracket_order(limit_price,take_profit_price,stop_loss_price)\n",
    "    \n",
    "    def place_bracket_order(self,limit_price,take_profit_price,stop_loss_price):\n",
    "        bracket_order = ib.bracketOrder(action=self.ACTION,quantity=self.QTY,limitPrice=limit_price,\n",
    "                                        takeProfitPrice=take_profit_price,stopLossPrice=stop_loss_price,outsideRth=True)\n",
    "        parent_trade = self.ib.placeOrder(self.contract,bracket_order.parent)\n",
    "        take_profit_trade = self.ib.placeOrder(self.contract,bracket_order.takeProfit)\n",
    "        stop_trade = self.ib.placeOrder(self.contract,bracket_order.stopLoss)\n",
    "        self._ACTIVE_TRADE=True\n",
    "\n",
    "    def onExecDetails(self,trade:Trade,fill:Fill):\n",
    "        side = fill.execution.side\n",
    "        shares = fill.execution.shares\n",
    "\n",
    "        print(f\"New {side} execution for {shares} shares\")\n",
    "\n",
    "        if side == 'SLD':\n",
    "            self._QTY_SOLD+=shares\n",
    "            if self._QTY_SOLD == self.QTY:\n",
    "                self._QTY_SOLD=0\n",
    "                self._ACTIVE_TRADE=False\n",
    "\n",
    "    def onNewOrder(self,trade:Trade):\n",
    "        print(\"New Order\")\n",
    "        print(trade.order)\n",
    "\n",
    "    def attach_callbacks(self):\n",
    "        self.ib.newOrderEvent.clear()\n",
    "        self.ib.execDetailsEvent.clear()\n",
    "\n",
    "        self.ib.newOrderEvent+=self.onNewOrder\n",
    "        self.ib.execDetailsEvent+=self.onExecDetails\n",
    "\n",
    "        \n",
    "\n",
    "        \n",
    "    \n",
    "\n",
    "                    "
   ]
  },
  {
   "cell_type": "markdown",
   "id": "66721161-5111-4fec-9681-a7c1606c5945",
   "metadata": {},
   "source": [
    "### Create an instance of SimpleMLBuySellAlgo and set its params"
   ]
  },
  {
   "cell_type": "code",
   "execution_count": 143,
   "id": "c301370b-d7fb-4a99-a751-14d0569871ef",
   "metadata": {},
   "outputs": [],
   "source": [
    "simple_ml_algo = SimpleMLBuySellAlgo(ib)\n",
    "simple_ml_algo.set_contract(stock)\n",
    "simple_ml_algo.attach_callbacks()"
   ]
  },
  {
   "cell_type": "markdown",
   "id": "dd49b52c-a218-483f-b134-53385addf94f",
   "metadata": {},
   "source": [
    "### Define the  **on_bar_update** callback"
   ]
  },
  {
   "cell_type": "code",
   "execution_count": 144,
   "id": "135a4c37-58c8-4529-8ffe-63aa6fade7b3",
   "metadata": {},
   "outputs": [],
   "source": [
    "def on_bar_update(bars,hasNewBar): \n",
    "    if hasNewBar:\n",
    "        # Get Bars in My case Dollar Bars\n",
    "        df = update_bars(historical_df,real_time_bars, DOLLAR_BAR_THRESHOLD)\n",
    "        # Extract Features\n",
    "        df_features = extract_features(df)\n",
    "        ## Make a Prediction\n",
    "        probs_cat = fitted_ml_model.predict_proba(df_features.tail(1))[0, 1]\n",
    "        print(f\"Prediction prob {probs_cat}\")\n",
    "        ## Call on bar algorithms' get_action method one at a time\n",
    "        simple_ml_algo.get_action(df_features,probs_cat)\n"
   ]
  },
  {
   "cell_type": "markdown",
   "id": "38645d08-7f65-4f59-ba0b-a9aeb9470087",
   "metadata": {},
   "source": [
    "### Start the onBar algo\n",
    "* First clear the callback to make sure you have nothing else running"
   ]
  },
  {
   "cell_type": "code",
   "execution_count": 147,
   "id": "6c4ab4cd-e023-48be-8ce9-1b8224215828",
   "metadata": {},
   "outputs": [],
   "source": [
    "real_time_bars.updateEvent.clear()"
   ]
  },
  {
   "cell_type": "markdown",
   "id": "8737707f-e099-49d1-bb93-6cdee58871e5",
   "metadata": {},
   "source": [
    "* Attach callback"
   ]
  },
  {
   "cell_type": "code",
   "execution_count": 146,
   "id": "c5957de8-9c50-4edc-8471-13a9c09d0c0b",
   "metadata": {},
   "outputs": [
    {
     "name": "stdout",
     "output_type": "stream",
     "text": [
      "Prediction prob 0.469007633623274\n",
      "New Order\n",
      "LimitOrder(orderId=2494, action='BUY', totalQuantity=200, lmtPrice=148.06, transmit=False, outsideRth=True)\n",
      "New Order\n",
      "LimitOrder(orderId=2495, action='SELL', totalQuantity=200, lmtPrice=147.91, transmit=False, parentId=2494, outsideRth=True)\n",
      "New Order\n",
      "StopOrder(orderId=2496, action='SELL', totalQuantity=200, auxPrice=146.91, parentId=2494, outsideRth=True)\n",
      "New BOT execution for 200.0 shares\n",
      "New SLD execution for 200.0 shares\n",
      "Prediction prob 0.469007633623274\n",
      "New Order\n",
      "LimitOrder(orderId=2497, action='BUY', totalQuantity=200, lmtPrice=148.06, transmit=False, outsideRth=True)\n",
      "New Order\n",
      "LimitOrder(orderId=2498, action='SELL', totalQuantity=200, lmtPrice=147.91, transmit=False, parentId=2497, outsideRth=True)\n",
      "New Order\n",
      "StopOrder(orderId=2499, action='SELL', totalQuantity=200, auxPrice=146.91, parentId=2497, outsideRth=True)\n",
      "New BOT execution for 200.0 shares\n",
      "New SLD execution for 200.0 shares\n",
      "Prediction prob 0.4705281245595064\n",
      "New Order\n",
      "LimitOrder(orderId=2500, action='BUY', totalQuantity=200, lmtPrice=148.10000000000002, transmit=False, outsideRth=True)\n",
      "New Order\n",
      "LimitOrder(orderId=2501, action='SELL', totalQuantity=200, lmtPrice=147.95000000000002, transmit=False, parentId=2500, outsideRth=True)\n",
      "New Order\n",
      "StopOrder(orderId=2502, action='SELL', totalQuantity=200, auxPrice=146.95000000000002, parentId=2500, outsideRth=True)\n",
      "New BOT execution for 200.0 shares\n",
      "New SLD execution for 200.0 shares\n",
      "Prediction prob 0.4717545499697427\n",
      "New Order\n",
      "LimitOrder(orderId=2503, action='BUY', totalQuantity=200, lmtPrice=148.11, transmit=False, outsideRth=True)\n",
      "New Order\n",
      "LimitOrder(orderId=2504, action='SELL', totalQuantity=200, lmtPrice=147.96, transmit=False, parentId=2503, outsideRth=True)\n",
      "New Order\n",
      "StopOrder(orderId=2505, action='SELL', totalQuantity=200, auxPrice=146.96, parentId=2503, outsideRth=True)\n",
      "New BOT execution for 200.0 shares\n",
      "New SLD execution for 100.0 shares\n",
      "Prediction prob 0.4717545499697427\n",
      "Prediction prob 0.4717545499697427\n",
      "Prediction prob 0.4717545499697427\n",
      "Prediction prob 0.4717545499697427\n",
      "New SLD execution for 100.0 shares\n",
      "Prediction prob 0.4705281245595064\n",
      "New Order\n",
      "LimitOrder(orderId=2506, action='BUY', totalQuantity=200, lmtPrice=148.10000000000002, transmit=False, outsideRth=True)\n",
      "New Order\n",
      "LimitOrder(orderId=2507, action='SELL', totalQuantity=200, lmtPrice=147.95000000000002, transmit=False, parentId=2506, outsideRth=True)\n",
      "New Order\n",
      "StopOrder(orderId=2508, action='SELL', totalQuantity=200, auxPrice=146.95000000000002, parentId=2506, outsideRth=True)\n",
      "New BOT execution for 200.0 shares\n",
      "New SLD execution for 100.0 shares\n",
      "Prediction prob 0.4705281245595064\n",
      "New SLD execution for 100.0 shares\n",
      "Prediction prob 0.4705281245595064\n",
      "New Order\n",
      "LimitOrder(orderId=2509, action='BUY', totalQuantity=200, lmtPrice=148.10000000000002, transmit=False, outsideRth=True)\n",
      "New Order\n",
      "LimitOrder(orderId=2510, action='SELL', totalQuantity=200, lmtPrice=147.95000000000002, transmit=False, parentId=2509, outsideRth=True)\n",
      "New Order\n",
      "StopOrder(orderId=2511, action='SELL', totalQuantity=200, auxPrice=146.95000000000002, parentId=2509, outsideRth=True)\n",
      "New BOT execution for 200.0 shares\n",
      "New SLD execution for 200.0 shares\n"
     ]
    }
   ],
   "source": [
    "real_time_bars.updateEvent+=on_bar_update"
   ]
  },
  {
   "cell_type": "markdown",
   "id": "771a9161-e3f8-4125-8f52-bc8fd72aae46",
   "metadata": {},
   "source": [
    "### Cancel all open orders"
   ]
  },
  {
   "cell_type": "code",
   "execution_count": 141,
   "id": "207a2e93-7ec6-42c6-9231-179ba95792e8",
   "metadata": {},
   "outputs": [],
   "source": [
    "for order in ib.openOrders():\n",
    "    ib.cancelOrder(order)"
   ]
  },
  {
   "cell_type": "code",
   "execution_count": 148,
   "id": "fdcf54dc-0dfb-4952-9823-46e72aa5a516",
   "metadata": {},
   "outputs": [
    {
     "data": {
      "text/html": [
       "<div>\n",
       "<style scoped>\n",
       "    .dataframe tbody tr th:only-of-type {\n",
       "        vertical-align: middle;\n",
       "    }\n",
       "\n",
       "    .dataframe tbody tr th {\n",
       "        vertical-align: top;\n",
       "    }\n",
       "\n",
       "    .dataframe thead th {\n",
       "        text-align: right;\n",
       "    }\n",
       "</style>\n",
       "<table border=\"1\" class=\"dataframe\">\n",
       "  <thead>\n",
       "    <tr style=\"text-align: right;\">\n",
       "      <th></th>\n",
       "      <th>execId</th>\n",
       "      <th>time</th>\n",
       "      <th>acctNumber</th>\n",
       "      <th>exchange</th>\n",
       "      <th>side</th>\n",
       "      <th>shares</th>\n",
       "      <th>price</th>\n",
       "      <th>permId</th>\n",
       "      <th>clientId</th>\n",
       "      <th>orderId</th>\n",
       "      <th>liquidation</th>\n",
       "      <th>cumQty</th>\n",
       "      <th>avgPrice</th>\n",
       "      <th>orderRef</th>\n",
       "      <th>evRule</th>\n",
       "      <th>evMultiplier</th>\n",
       "      <th>modelCode</th>\n",
       "      <th>lastLiquidity</th>\n",
       "      <th>pendingPriceRevision</th>\n",
       "    </tr>\n",
       "  </thead>\n",
       "  <tbody>\n",
       "    <tr>\n",
       "      <th>0</th>\n",
       "      <td>0000e0d5.672306ea.01.01</td>\n",
       "      <td>2024-10-31 11:38:19+00:00</td>\n",
       "      <td>DU5269954</td>\n",
       "      <td>ISLAND</td>\n",
       "      <td>BOT</td>\n",
       "      <td>100.0</td>\n",
       "      <td>147.83</td>\n",
       "      <td>1074570277</td>\n",
       "      <td>0</td>\n",
       "      <td>2485</td>\n",
       "      <td>0</td>\n",
       "      <td>100.0</td>\n",
       "      <td>147.830</td>\n",
       "      <td></td>\n",
       "      <td></td>\n",
       "      <td>0.0</td>\n",
       "      <td></td>\n",
       "      <td>1</td>\n",
       "      <td>False</td>\n",
       "    </tr>\n",
       "    <tr>\n",
       "      <th>1</th>\n",
       "      <td>0000e0d5.672306eb.01.01</td>\n",
       "      <td>2024-10-31 11:38:55+00:00</td>\n",
       "      <td>DU5269954</td>\n",
       "      <td>ARCA</td>\n",
       "      <td>BOT</td>\n",
       "      <td>100.0</td>\n",
       "      <td>147.80</td>\n",
       "      <td>1074570277</td>\n",
       "      <td>0</td>\n",
       "      <td>2485</td>\n",
       "      <td>0</td>\n",
       "      <td>200.0</td>\n",
       "      <td>147.815</td>\n",
       "      <td></td>\n",
       "      <td></td>\n",
       "      <td>0.0</td>\n",
       "      <td></td>\n",
       "      <td>2</td>\n",
       "      <td>False</td>\n",
       "    </tr>\n",
       "    <tr>\n",
       "      <th>2</th>\n",
       "      <td>0000e0d5.672306f9.01.01</td>\n",
       "      <td>2024-10-31 11:41:42+00:00</td>\n",
       "      <td>DU5269954</td>\n",
       "      <td>BATS</td>\n",
       "      <td>BOT</td>\n",
       "      <td>100.0</td>\n",
       "      <td>147.85</td>\n",
       "      <td>1074570280</td>\n",
       "      <td>0</td>\n",
       "      <td>2488</td>\n",
       "      <td>0</td>\n",
       "      <td>100.0</td>\n",
       "      <td>147.850</td>\n",
       "      <td></td>\n",
       "      <td></td>\n",
       "      <td>0.0</td>\n",
       "      <td></td>\n",
       "      <td>2</td>\n",
       "      <td>False</td>\n",
       "    </tr>\n",
       "    <tr>\n",
       "      <th>3</th>\n",
       "      <td>0000e0d5.67230799.01.01</td>\n",
       "      <td>2024-10-31 11:44:12+00:00</td>\n",
       "      <td>DU5269954</td>\n",
       "      <td>DRCTEDGE</td>\n",
       "      <td>BOT</td>\n",
       "      <td>200.0</td>\n",
       "      <td>148.05</td>\n",
       "      <td>1074570286</td>\n",
       "      <td>0</td>\n",
       "      <td>2494</td>\n",
       "      <td>0</td>\n",
       "      <td>200.0</td>\n",
       "      <td>148.050</td>\n",
       "      <td></td>\n",
       "      <td></td>\n",
       "      <td>0.0</td>\n",
       "      <td></td>\n",
       "      <td>2</td>\n",
       "      <td>False</td>\n",
       "    </tr>\n",
       "    <tr>\n",
       "      <th>4</th>\n",
       "      <td>0000e0d5.6723079a.01.01</td>\n",
       "      <td>2024-10-31 11:44:12+00:00</td>\n",
       "      <td>DU5269954</td>\n",
       "      <td>DRCTEDGE</td>\n",
       "      <td>SLD</td>\n",
       "      <td>200.0</td>\n",
       "      <td>147.96</td>\n",
       "      <td>1074570287</td>\n",
       "      <td>0</td>\n",
       "      <td>2495</td>\n",
       "      <td>0</td>\n",
       "      <td>200.0</td>\n",
       "      <td>147.960</td>\n",
       "      <td></td>\n",
       "      <td></td>\n",
       "      <td>0.0</td>\n",
       "      <td></td>\n",
       "      <td>2</td>\n",
       "      <td>False</td>\n",
       "    </tr>\n",
       "    <tr>\n",
       "      <th>5</th>\n",
       "      <td>0000e0d5.672307a0.01.01</td>\n",
       "      <td>2024-10-31 11:44:17+00:00</td>\n",
       "      <td>DU5269954</td>\n",
       "      <td>DRCTEDGE</td>\n",
       "      <td>BOT</td>\n",
       "      <td>200.0</td>\n",
       "      <td>148.05</td>\n",
       "      <td>1074570289</td>\n",
       "      <td>0</td>\n",
       "      <td>2497</td>\n",
       "      <td>0</td>\n",
       "      <td>200.0</td>\n",
       "      <td>148.050</td>\n",
       "      <td></td>\n",
       "      <td></td>\n",
       "      <td>0.0</td>\n",
       "      <td></td>\n",
       "      <td>2</td>\n",
       "      <td>False</td>\n",
       "    </tr>\n",
       "    <tr>\n",
       "      <th>6</th>\n",
       "      <td>0000e0d5.672307a1.01.01</td>\n",
       "      <td>2024-10-31 11:44:17+00:00</td>\n",
       "      <td>DU5269954</td>\n",
       "      <td>ISLAND</td>\n",
       "      <td>SLD</td>\n",
       "      <td>200.0</td>\n",
       "      <td>148.01</td>\n",
       "      <td>1074570290</td>\n",
       "      <td>0</td>\n",
       "      <td>2498</td>\n",
       "      <td>0</td>\n",
       "      <td>200.0</td>\n",
       "      <td>148.010</td>\n",
       "      <td></td>\n",
       "      <td></td>\n",
       "      <td>0.0</td>\n",
       "      <td></td>\n",
       "      <td>2</td>\n",
       "      <td>False</td>\n",
       "    </tr>\n",
       "    <tr>\n",
       "      <th>7</th>\n",
       "      <td>0000e0d5.672307bc.01.01</td>\n",
       "      <td>2024-10-31 11:44:22+00:00</td>\n",
       "      <td>DU5269954</td>\n",
       "      <td>DRCTEDGE</td>\n",
       "      <td>BOT</td>\n",
       "      <td>200.0</td>\n",
       "      <td>148.09</td>\n",
       "      <td>1074570292</td>\n",
       "      <td>0</td>\n",
       "      <td>2500</td>\n",
       "      <td>0</td>\n",
       "      <td>200.0</td>\n",
       "      <td>148.090</td>\n",
       "      <td></td>\n",
       "      <td></td>\n",
       "      <td>0.0</td>\n",
       "      <td></td>\n",
       "      <td>2</td>\n",
       "      <td>False</td>\n",
       "    </tr>\n",
       "    <tr>\n",
       "      <th>8</th>\n",
       "      <td>0000e0d5.672307bd.01.01</td>\n",
       "      <td>2024-10-31 11:44:22+00:00</td>\n",
       "      <td>DU5269954</td>\n",
       "      <td>ISLAND</td>\n",
       "      <td>SLD</td>\n",
       "      <td>200.0</td>\n",
       "      <td>148.05</td>\n",
       "      <td>1074570293</td>\n",
       "      <td>0</td>\n",
       "      <td>2501</td>\n",
       "      <td>0</td>\n",
       "      <td>200.0</td>\n",
       "      <td>148.050</td>\n",
       "      <td></td>\n",
       "      <td></td>\n",
       "      <td>0.0</td>\n",
       "      <td></td>\n",
       "      <td>2</td>\n",
       "      <td>False</td>\n",
       "    </tr>\n",
       "    <tr>\n",
       "      <th>9</th>\n",
       "      <td>0000e0d5.672307e6.01.01</td>\n",
       "      <td>2024-10-31 11:44:27+00:00</td>\n",
       "      <td>DU5269954</td>\n",
       "      <td>DRCTEDGE</td>\n",
       "      <td>BOT</td>\n",
       "      <td>200.0</td>\n",
       "      <td>148.09</td>\n",
       "      <td>1074570295</td>\n",
       "      <td>0</td>\n",
       "      <td>2503</td>\n",
       "      <td>0</td>\n",
       "      <td>200.0</td>\n",
       "      <td>148.090</td>\n",
       "      <td></td>\n",
       "      <td></td>\n",
       "      <td>0.0</td>\n",
       "      <td></td>\n",
       "      <td>2</td>\n",
       "      <td>False</td>\n",
       "    </tr>\n",
       "    <tr>\n",
       "      <th>10</th>\n",
       "      <td>0000e0d5.672307e7.01.01</td>\n",
       "      <td>2024-10-31 11:44:27+00:00</td>\n",
       "      <td>DU5269954</td>\n",
       "      <td>ISLAND</td>\n",
       "      <td>SLD</td>\n",
       "      <td>100.0</td>\n",
       "      <td>148.05</td>\n",
       "      <td>1074570296</td>\n",
       "      <td>0</td>\n",
       "      <td>2504</td>\n",
       "      <td>0</td>\n",
       "      <td>100.0</td>\n",
       "      <td>148.050</td>\n",
       "      <td></td>\n",
       "      <td></td>\n",
       "      <td>0.0</td>\n",
       "      <td></td>\n",
       "      <td>2</td>\n",
       "      <td>False</td>\n",
       "    </tr>\n",
       "    <tr>\n",
       "      <th>11</th>\n",
       "      <td>0000e0d5.672307f1.01.01</td>\n",
       "      <td>2024-10-31 11:44:48+00:00</td>\n",
       "      <td>DU5269954</td>\n",
       "      <td>DRCTEDGE</td>\n",
       "      <td>SLD</td>\n",
       "      <td>100.0</td>\n",
       "      <td>148.00</td>\n",
       "      <td>1074570296</td>\n",
       "      <td>0</td>\n",
       "      <td>2504</td>\n",
       "      <td>0</td>\n",
       "      <td>200.0</td>\n",
       "      <td>148.025</td>\n",
       "      <td></td>\n",
       "      <td></td>\n",
       "      <td>0.0</td>\n",
       "      <td></td>\n",
       "      <td>2</td>\n",
       "      <td>False</td>\n",
       "    </tr>\n",
       "    <tr>\n",
       "      <th>12</th>\n",
       "      <td>0000e0d5.672307fd.01.01</td>\n",
       "      <td>2024-10-31 11:44:52+00:00</td>\n",
       "      <td>DU5269954</td>\n",
       "      <td>DRCTEDGE</td>\n",
       "      <td>BOT</td>\n",
       "      <td>200.0</td>\n",
       "      <td>148.09</td>\n",
       "      <td>1074570298</td>\n",
       "      <td>0</td>\n",
       "      <td>2506</td>\n",
       "      <td>0</td>\n",
       "      <td>200.0</td>\n",
       "      <td>148.090</td>\n",
       "      <td></td>\n",
       "      <td></td>\n",
       "      <td>0.0</td>\n",
       "      <td></td>\n",
       "      <td>2</td>\n",
       "      <td>False</td>\n",
       "    </tr>\n",
       "    <tr>\n",
       "      <th>13</th>\n",
       "      <td>0000e0d5.672307fe.01.01</td>\n",
       "      <td>2024-10-31 11:44:52+00:00</td>\n",
       "      <td>DU5269954</td>\n",
       "      <td>ISLAND</td>\n",
       "      <td>SLD</td>\n",
       "      <td>100.0</td>\n",
       "      <td>148.00</td>\n",
       "      <td>1074570299</td>\n",
       "      <td>0</td>\n",
       "      <td>2507</td>\n",
       "      <td>0</td>\n",
       "      <td>100.0</td>\n",
       "      <td>148.000</td>\n",
       "      <td></td>\n",
       "      <td></td>\n",
       "      <td>0.0</td>\n",
       "      <td></td>\n",
       "      <td>2</td>\n",
       "      <td>False</td>\n",
       "    </tr>\n",
       "    <tr>\n",
       "      <th>14</th>\n",
       "      <td>0000e0d5.67230806.01.01</td>\n",
       "      <td>2024-10-31 11:44:59+00:00</td>\n",
       "      <td>DU5269954</td>\n",
       "      <td>ISLAND</td>\n",
       "      <td>SLD</td>\n",
       "      <td>100.0</td>\n",
       "      <td>148.00</td>\n",
       "      <td>1074570299</td>\n",
       "      <td>0</td>\n",
       "      <td>2507</td>\n",
       "      <td>0</td>\n",
       "      <td>200.0</td>\n",
       "      <td>148.000</td>\n",
       "      <td></td>\n",
       "      <td></td>\n",
       "      <td>0.0</td>\n",
       "      <td></td>\n",
       "      <td>2</td>\n",
       "      <td>False</td>\n",
       "    </tr>\n",
       "    <tr>\n",
       "      <th>15</th>\n",
       "      <td>0000e0d5.6723080e.01.01</td>\n",
       "      <td>2024-10-31 11:45:02+00:00</td>\n",
       "      <td>DU5269954</td>\n",
       "      <td>DRCTEDGE</td>\n",
       "      <td>BOT</td>\n",
       "      <td>200.0</td>\n",
       "      <td>148.09</td>\n",
       "      <td>1074570301</td>\n",
       "      <td>0</td>\n",
       "      <td>2509</td>\n",
       "      <td>0</td>\n",
       "      <td>200.0</td>\n",
       "      <td>148.090</td>\n",
       "      <td></td>\n",
       "      <td></td>\n",
       "      <td>0.0</td>\n",
       "      <td></td>\n",
       "      <td>2</td>\n",
       "      <td>False</td>\n",
       "    </tr>\n",
       "    <tr>\n",
       "      <th>16</th>\n",
       "      <td>0000e0d5.6723080f.01.01</td>\n",
       "      <td>2024-10-31 11:45:02+00:00</td>\n",
       "      <td>DU5269954</td>\n",
       "      <td>DRCTEDGE</td>\n",
       "      <td>SLD</td>\n",
       "      <td>200.0</td>\n",
       "      <td>148.05</td>\n",
       "      <td>1074570302</td>\n",
       "      <td>0</td>\n",
       "      <td>2510</td>\n",
       "      <td>0</td>\n",
       "      <td>200.0</td>\n",
       "      <td>148.050</td>\n",
       "      <td></td>\n",
       "      <td></td>\n",
       "      <td>0.0</td>\n",
       "      <td></td>\n",
       "      <td>2</td>\n",
       "      <td>False</td>\n",
       "    </tr>\n",
       "  </tbody>\n",
       "</table>\n",
       "</div>"
      ],
      "text/plain": [
       "                     execId                      time acctNumber  exchange  \\\n",
       "0   0000e0d5.672306ea.01.01 2024-10-31 11:38:19+00:00  DU5269954    ISLAND   \n",
       "1   0000e0d5.672306eb.01.01 2024-10-31 11:38:55+00:00  DU5269954      ARCA   \n",
       "2   0000e0d5.672306f9.01.01 2024-10-31 11:41:42+00:00  DU5269954      BATS   \n",
       "3   0000e0d5.67230799.01.01 2024-10-31 11:44:12+00:00  DU5269954  DRCTEDGE   \n",
       "4   0000e0d5.6723079a.01.01 2024-10-31 11:44:12+00:00  DU5269954  DRCTEDGE   \n",
       "5   0000e0d5.672307a0.01.01 2024-10-31 11:44:17+00:00  DU5269954  DRCTEDGE   \n",
       "6   0000e0d5.672307a1.01.01 2024-10-31 11:44:17+00:00  DU5269954    ISLAND   \n",
       "7   0000e0d5.672307bc.01.01 2024-10-31 11:44:22+00:00  DU5269954  DRCTEDGE   \n",
       "8   0000e0d5.672307bd.01.01 2024-10-31 11:44:22+00:00  DU5269954    ISLAND   \n",
       "9   0000e0d5.672307e6.01.01 2024-10-31 11:44:27+00:00  DU5269954  DRCTEDGE   \n",
       "10  0000e0d5.672307e7.01.01 2024-10-31 11:44:27+00:00  DU5269954    ISLAND   \n",
       "11  0000e0d5.672307f1.01.01 2024-10-31 11:44:48+00:00  DU5269954  DRCTEDGE   \n",
       "12  0000e0d5.672307fd.01.01 2024-10-31 11:44:52+00:00  DU5269954  DRCTEDGE   \n",
       "13  0000e0d5.672307fe.01.01 2024-10-31 11:44:52+00:00  DU5269954    ISLAND   \n",
       "14  0000e0d5.67230806.01.01 2024-10-31 11:44:59+00:00  DU5269954    ISLAND   \n",
       "15  0000e0d5.6723080e.01.01 2024-10-31 11:45:02+00:00  DU5269954  DRCTEDGE   \n",
       "16  0000e0d5.6723080f.01.01 2024-10-31 11:45:02+00:00  DU5269954  DRCTEDGE   \n",
       "\n",
       "   side  shares   price      permId  clientId  orderId  liquidation  cumQty  \\\n",
       "0   BOT   100.0  147.83  1074570277         0     2485            0   100.0   \n",
       "1   BOT   100.0  147.80  1074570277         0     2485            0   200.0   \n",
       "2   BOT   100.0  147.85  1074570280         0     2488            0   100.0   \n",
       "3   BOT   200.0  148.05  1074570286         0     2494            0   200.0   \n",
       "4   SLD   200.0  147.96  1074570287         0     2495            0   200.0   \n",
       "5   BOT   200.0  148.05  1074570289         0     2497            0   200.0   \n",
       "6   SLD   200.0  148.01  1074570290         0     2498            0   200.0   \n",
       "7   BOT   200.0  148.09  1074570292         0     2500            0   200.0   \n",
       "8   SLD   200.0  148.05  1074570293         0     2501            0   200.0   \n",
       "9   BOT   200.0  148.09  1074570295         0     2503            0   200.0   \n",
       "10  SLD   100.0  148.05  1074570296         0     2504            0   100.0   \n",
       "11  SLD   100.0  148.00  1074570296         0     2504            0   200.0   \n",
       "12  BOT   200.0  148.09  1074570298         0     2506            0   200.0   \n",
       "13  SLD   100.0  148.00  1074570299         0     2507            0   100.0   \n",
       "14  SLD   100.0  148.00  1074570299         0     2507            0   200.0   \n",
       "15  BOT   200.0  148.09  1074570301         0     2509            0   200.0   \n",
       "16  SLD   200.0  148.05  1074570302         0     2510            0   200.0   \n",
       "\n",
       "    avgPrice orderRef evRule  evMultiplier modelCode  lastLiquidity  \\\n",
       "0    147.830                           0.0                        1   \n",
       "1    147.815                           0.0                        2   \n",
       "2    147.850                           0.0                        2   \n",
       "3    148.050                           0.0                        2   \n",
       "4    147.960                           0.0                        2   \n",
       "5    148.050                           0.0                        2   \n",
       "6    148.010                           0.0                        2   \n",
       "7    148.090                           0.0                        2   \n",
       "8    148.050                           0.0                        2   \n",
       "9    148.090                           0.0                        2   \n",
       "10   148.050                           0.0                        2   \n",
       "11   148.025                           0.0                        2   \n",
       "12   148.090                           0.0                        2   \n",
       "13   148.000                           0.0                        2   \n",
       "14   148.000                           0.0                        2   \n",
       "15   148.090                           0.0                        2   \n",
       "16   148.050                           0.0                        2   \n",
       "\n",
       "    pendingPriceRevision  \n",
       "0                  False  \n",
       "1                  False  \n",
       "2                  False  \n",
       "3                  False  \n",
       "4                  False  \n",
       "5                  False  \n",
       "6                  False  \n",
       "7                  False  \n",
       "8                  False  \n",
       "9                  False  \n",
       "10                 False  \n",
       "11                 False  \n",
       "12                 False  \n",
       "13                 False  \n",
       "14                 False  \n",
       "15                 False  \n",
       "16                 False  "
      ]
     },
     "execution_count": 148,
     "metadata": {},
     "output_type": "execute_result"
    }
   ],
   "source": [
    "util.df(util.df(ib.fills()).execution.tolist())"
   ]
  },
  {
   "cell_type": "code",
   "execution_count": 122,
   "id": "14e0b188-02d3-44bb-9198-4c7d7b97b02a",
   "metadata": {},
   "outputs": [
    {
     "name": "stdout",
     "output_type": "stream",
     "text": [
      "Prediction prob 0.4619344919625329\n"
     ]
    },
    {
     "data": {
      "text/plain": [
       "RealTimeBar(time=datetime.datetime(2024, 10, 31, 11, 40, 20, tzinfo=datetime.timezone.utc), endTime=-1, open_=147.71, high=147.71, low=147.71, close=147.71, volume=0.0, wap=147.71, count=0)"
      ]
     },
     "execution_count": 122,
     "metadata": {},
     "output_type": "execute_result"
    },
    {
     "name": "stdout",
     "output_type": "stream",
     "text": [
      "Prediction prob 0.4619344919625329\n",
      "Prediction prob 0.4619344919625329\n"
     ]
    }
   ],
   "source": [
    "real_time_bars[-1]"
   ]
  },
  {
   "cell_type": "code",
   "execution_count": 125,
   "id": "106b991f-1c13-496f-bf34-2141f73b42ab",
   "metadata": {},
   "outputs": [
    {
     "data": {
      "text/plain": [
       "[]"
      ]
     },
     "execution_count": 125,
     "metadata": {},
     "output_type": "execute_result"
    }
   ],
   "source": [
    "ib.openOrders()"
   ]
  },
  {
   "cell_type": "code",
   "execution_count": null,
   "id": "b5275bcb-9507-42d0-8952-fbb34ca27bca",
   "metadata": {},
   "outputs": [],
   "source": []
  }
 ],
 "metadata": {
  "kernelspec": {
   "display_name": "Python 3 (ipykernel)",
   "language": "python",
   "name": "python3"
  },
  "language_info": {
   "codemirror_mode": {
    "name": "ipython",
    "version": 3
   },
   "file_extension": ".py",
   "mimetype": "text/x-python",
   "name": "python",
   "nbconvert_exporter": "python",
   "pygments_lexer": "ipython3",
   "version": "3.10.13"
  }
 },
 "nbformat": 4,
 "nbformat_minor": 5
}
