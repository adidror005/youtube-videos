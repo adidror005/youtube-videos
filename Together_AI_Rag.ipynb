{
  "nbformat": 4,
  "nbformat_minor": 0,
  "metadata": {
    "colab": {
      "provenance": [],
      "authorship_tag": "ABX9TyMvNfquPFi3bU0z4qOmlxyU",
      "include_colab_link": true
    },
    "kernelspec": {
      "name": "python3",
      "display_name": "Python 3"
    },
    "language_info": {
      "name": "python"
    }
  },
  "cells": [
    {
      "cell_type": "markdown",
      "metadata": {
        "id": "view-in-github",
        "colab_type": "text"
      },
      "source": [
        "<a href=\"https://colab.research.google.com/github/adidror005/youtube-videos/blob/main/Together_AI_Rag.ipynb\" target=\"_parent\"><img src=\"https://colab.research.google.com/assets/colab-badge.svg\" alt=\"Open In Colab\"/></a>"
      ]
    },
    {
      "cell_type": "markdown",
      "source": [
        "Together AI is a platform that simplifies working with open‑source generative AI models. It offers serverless model access, quick fine‑tuning, private GPU endpoints, and scalable cloud infrastructure—making it easy for developers to train, deploy, and run models for tasks like chat, vision, embeddings, and more using just a few lines of code ."
      ],
      "metadata": {
        "id": "TlzpeQtTIaLs"
      }
    },
    {
      "cell_type": "code",
      "source": [
        "!pip install together"
      ],
      "metadata": {
        "colab": {
          "base_uri": "https://localhost:8080/"
        },
        "id": "yGWOK5cIoiuA",
        "outputId": "c333c81b-62ad-4bd7-d0ab-75f0dcd0150c"
      },
      "execution_count": 3,
      "outputs": [
        {
          "output_type": "stream",
          "name": "stdout",
          "text": [
            "Collecting together\n",
            "  Downloading together-1.5.13-py3-none-any.whl.metadata (15 kB)\n",
            "Requirement already satisfied: aiohttp<4.0.0,>=3.9.3 in /usr/local/lib/python3.11/dist-packages (from together) (3.11.15)\n",
            "Requirement already satisfied: click<9.0.0,>=8.1.7 in /usr/local/lib/python3.11/dist-packages (from together) (8.2.1)\n",
            "Collecting eval-type-backport<0.3.0,>=0.1.3 (from together)\n",
            "  Downloading eval_type_backport-0.2.2-py3-none-any.whl.metadata (2.2 kB)\n",
            "Requirement already satisfied: filelock<4.0.0,>=3.13.1 in /usr/local/lib/python3.11/dist-packages (from together) (3.18.0)\n",
            "Requirement already satisfied: numpy>=1.23.5 in /usr/local/lib/python3.11/dist-packages (from together) (2.0.2)\n",
            "Requirement already satisfied: pillow<12.0.0,>=11.1.0 in /usr/local/lib/python3.11/dist-packages (from together) (11.2.1)\n",
            "Requirement already satisfied: pydantic<3.0.0,>=2.6.3 in /usr/local/lib/python3.11/dist-packages (from together) (2.11.5)\n",
            "Requirement already satisfied: requests<3.0.0,>=2.31.0 in /usr/local/lib/python3.11/dist-packages (from together) (2.32.3)\n",
            "Requirement already satisfied: rich<15.0.0,>=13.8.1 in /usr/local/lib/python3.11/dist-packages (from together) (13.9.4)\n",
            "Requirement already satisfied: tabulate<0.10.0,>=0.9.0 in /usr/local/lib/python3.11/dist-packages (from together) (0.9.0)\n",
            "Requirement already satisfied: tqdm<5.0.0,>=4.66.2 in /usr/local/lib/python3.11/dist-packages (from together) (4.67.1)\n",
            "Collecting typer<0.16,>=0.9 (from together)\n",
            "  Downloading typer-0.15.4-py3-none-any.whl.metadata (15 kB)\n",
            "Requirement already satisfied: aiohappyeyeballs>=2.3.0 in /usr/local/lib/python3.11/dist-packages (from aiohttp<4.0.0,>=3.9.3->together) (2.6.1)\n",
            "Requirement already satisfied: aiosignal>=1.1.2 in /usr/local/lib/python3.11/dist-packages (from aiohttp<4.0.0,>=3.9.3->together) (1.3.2)\n",
            "Requirement already satisfied: attrs>=17.3.0 in /usr/local/lib/python3.11/dist-packages (from aiohttp<4.0.0,>=3.9.3->together) (25.3.0)\n",
            "Requirement already satisfied: frozenlist>=1.1.1 in /usr/local/lib/python3.11/dist-packages (from aiohttp<4.0.0,>=3.9.3->together) (1.6.0)\n",
            "Requirement already satisfied: multidict<7.0,>=4.5 in /usr/local/lib/python3.11/dist-packages (from aiohttp<4.0.0,>=3.9.3->together) (6.4.4)\n",
            "Requirement already satisfied: propcache>=0.2.0 in /usr/local/lib/python3.11/dist-packages (from aiohttp<4.0.0,>=3.9.3->together) (0.3.1)\n",
            "Requirement already satisfied: yarl<2.0,>=1.17.0 in /usr/local/lib/python3.11/dist-packages (from aiohttp<4.0.0,>=3.9.3->together) (1.20.0)\n",
            "Requirement already satisfied: annotated-types>=0.6.0 in /usr/local/lib/python3.11/dist-packages (from pydantic<3.0.0,>=2.6.3->together) (0.7.0)\n",
            "Requirement already satisfied: pydantic-core==2.33.2 in /usr/local/lib/python3.11/dist-packages (from pydantic<3.0.0,>=2.6.3->together) (2.33.2)\n",
            "Requirement already satisfied: typing-extensions>=4.12.2 in /usr/local/lib/python3.11/dist-packages (from pydantic<3.0.0,>=2.6.3->together) (4.14.0)\n",
            "Requirement already satisfied: typing-inspection>=0.4.0 in /usr/local/lib/python3.11/dist-packages (from pydantic<3.0.0,>=2.6.3->together) (0.4.1)\n",
            "Requirement already satisfied: charset-normalizer<4,>=2 in /usr/local/lib/python3.11/dist-packages (from requests<3.0.0,>=2.31.0->together) (3.4.2)\n",
            "Requirement already satisfied: idna<4,>=2.5 in /usr/local/lib/python3.11/dist-packages (from requests<3.0.0,>=2.31.0->together) (3.10)\n",
            "Requirement already satisfied: urllib3<3,>=1.21.1 in /usr/local/lib/python3.11/dist-packages (from requests<3.0.0,>=2.31.0->together) (2.4.0)\n",
            "Requirement already satisfied: certifi>=2017.4.17 in /usr/local/lib/python3.11/dist-packages (from requests<3.0.0,>=2.31.0->together) (2025.4.26)\n",
            "Requirement already satisfied: markdown-it-py>=2.2.0 in /usr/local/lib/python3.11/dist-packages (from rich<15.0.0,>=13.8.1->together) (3.0.0)\n",
            "Requirement already satisfied: pygments<3.0.0,>=2.13.0 in /usr/local/lib/python3.11/dist-packages (from rich<15.0.0,>=13.8.1->together) (2.19.1)\n",
            "Collecting click<9.0.0,>=8.1.7 (from together)\n",
            "  Downloading click-8.1.8-py3-none-any.whl.metadata (2.3 kB)\n",
            "Requirement already satisfied: shellingham>=1.3.0 in /usr/local/lib/python3.11/dist-packages (from typer<0.16,>=0.9->together) (1.5.4)\n",
            "Requirement already satisfied: mdurl~=0.1 in /usr/local/lib/python3.11/dist-packages (from markdown-it-py>=2.2.0->rich<15.0.0,>=13.8.1->together) (0.1.2)\n",
            "Downloading together-1.5.13-py3-none-any.whl (90 kB)\n",
            "\u001b[2K   \u001b[90m━━━━━━━━━━━━━━━━━━━━━━━━━━━━━━━━━━━━━━━━\u001b[0m \u001b[32m90.7/90.7 kB\u001b[0m \u001b[31m6.1 MB/s\u001b[0m eta \u001b[36m0:00:00\u001b[0m\n",
            "\u001b[?25hDownloading eval_type_backport-0.2.2-py3-none-any.whl (5.8 kB)\n",
            "Downloading typer-0.15.4-py3-none-any.whl (45 kB)\n",
            "\u001b[2K   \u001b[90m━━━━━━━━━━━━━━━━━━━━━━━━━━━━━━━━━━━━━━━━\u001b[0m \u001b[32m45.3/45.3 kB\u001b[0m \u001b[31m3.3 MB/s\u001b[0m eta \u001b[36m0:00:00\u001b[0m\n",
            "\u001b[?25hDownloading click-8.1.8-py3-none-any.whl (98 kB)\n",
            "\u001b[2K   \u001b[90m━━━━━━━━━━━━━━━━━━━━━━━━━━━━━━━━━━━━━━━━\u001b[0m \u001b[32m98.2/98.2 kB\u001b[0m \u001b[31m7.8 MB/s\u001b[0m eta \u001b[36m0:00:00\u001b[0m\n",
            "\u001b[?25hInstalling collected packages: eval-type-backport, click, typer, together\n",
            "  Attempting uninstall: click\n",
            "    Found existing installation: click 8.2.1\n",
            "    Uninstalling click-8.2.1:\n",
            "      Successfully uninstalled click-8.2.1\n",
            "  Attempting uninstall: typer\n",
            "    Found existing installation: typer 0.16.0\n",
            "    Uninstalling typer-0.16.0:\n",
            "      Successfully uninstalled typer-0.16.0\n",
            "Successfully installed click-8.1.8 eval-type-backport-0.2.2 together-1.5.13 typer-0.15.4\n"
          ]
        }
      ]
    },
    {
      "cell_type": "code",
      "execution_count": 6,
      "metadata": {
        "colab": {
          "base_uri": "https://localhost:8080/"
        },
        "id": "PaDQxcn5nHU-",
        "outputId": "575ecce5-9703-44f0-da4d-bfc5ad8f2389"
      },
      "outputs": [
        {
          "output_type": "stream",
          "name": "stdout",
          "text": [
            "<think>\n",
            "Okay, the user is asking for fun things to do in New York. Let me start by recalling the major attractions. There's Central Park, obviously. People love that for picnics, walking, or biking. Then there's the Statue of Liberty and Ellis Island. Those are must-sees for tourists, but maybe locals enjoy them too. The Metropolitan Museum of Art comes to mind. Museums are a big part of NYC. Times Square is another iconic spot, especially at night with the lights.\n",
            "\n",
            "Wait, but the user might already know the obvious stuff. Maybe I should include some lesser-known spots too. Like the High Line, the elevated park. That's pretty unique. Also, maybe the 9/11 Memorial and Museum. It's a significant site and can be both educational and moving.\n",
            "\n",
            "Food is a big part of New York. Maybe suggest some famous foods like pizza, bagels, or the food markets like Chelsea Market. Theater in Broadway is a classic, but maybe mention off-Broadway shows for different experiences. The Brooklyn Bridge walk is another activity that offers great views.\n",
            "\n",
            "What about seasonal activities? Like ice skating in the winter, maybe at Rockefeller Center. Summer concerts or Shakespeare in the Park. Also, neighborhoods like SoHo for shopping, Greenwich Village for its historic vibe. The Empire State Building and Top of the Rock for observation decks. Maybe the American Museum of Natural History for families.\n",
            "\n",
            "Wait, but I should check if I'm missing any recent additions. Like the Vessel at Hudson Yards, or the Little Island park. Also, cultural areas like Chinatown or Harlem. Maybe include a jazz club or a famous diner like Katz's Delicatessen. Oh, and the New York Public Library is a beautiful spot.\n",
            "\n",
            "I should also consider different interests—art, history, food, outdoor activities. Maybe separate into categories. Also, transportation tips? Like subway or Citi Bikes. But the user asked for fun things, not logistics. Need to balance between iconic and hidden gems. Let me list out the main ones and then add some unique ones. Also, maybe mention events like the Macy's Parade or New Year's Eve in Times Square. But that's seasonal. Maybe include a mix.\n",
            "\n",
            "Wait, the user might be a tourist or a local looking for new ideas. So covering both could be good. Let me make sure to include a variety. Also, check for any inaccuracies. For example, is the High Line still popular? Yes, it's a big attraction. And the Vessel, though controversial, is still a spot. Also, maybe the Bronx Zoo or Coney Island for more offbeat stuff. But that might be stretching. Need to keep it manageable. Alright, I think I have a good list. Now structure it into sections with brief descriptions and tips.\n",
            "</think>\n",
            "\n",
            "New York City is a treasure trove of iconic landmarks, cultural gems, and unique experiences. Here's a curated list of fun activities, blending classics with hidden gems:\n",
            "\n",
            "### **Iconic Must-Do Experiences**\n",
            "1. **Statue of Liberty & Ellis Island**  \n",
            "   - Take a ferry to explore the statue's pedestal or museum, then learn about immigration history at Ellis Island.\n",
            "   - *Tip:* Book tickets early for rooftop access at the Statue.\n",
            "\n",
            "2. **Central Park**  \n",
            "   - Rent a bike, picnic on the Great Lawn, or explore hidden spots like the **Bethesda Terrace** or **Strawberry Fields**.\n",
            "   - *Seasonal Tip:* Winter ice-skating at Wollman Rink.\n",
            "\n",
            "3. **Top of the Rock or Empire State Building**  \n",
            "   - Compare sunset views from these iconic observation decks. The Rock’s open-air decks offer a unique perspective.\n",
            "\n",
            "4. **Broadway Show**  \n",
            "   - Catch a musical or play. For budget-friendly options, try the **TodayTix app** for last-minute tickets or opt for off-Broadway gems like the **Blue Man Group**.\n",
            "\n",
            "### **Cultural & Historical Gems**\n",
            "5. **The Met Cloisters & Temple of Dendur**  \n",
            "   - A medieval art haven in Fort Tryon Park, with a serene rooftop garden and a stunning Egyptian temple.\n",
            "\n",
            "6. **9/11 Memorial & Museum**  \n",
            "   - Reflect at the twin reflecting pools and explore artifacts in the underground museum.\n",
            "\n",
            "7. **Harlem Renaissance Tours**  \n",
            "   - Experience soul food, gospel brunches, or a guided walk through historic sites like the **Apollo Theater**.\n",
            "\n",
            "### **Outdoor Adventures**\n",
            "8. **High Line & Little Island**  \n",
            "   - Stroll this elevated park built on old train tracks, ending at the quirky **Vessel** sculpture. Nearby, **Little Island** offers performance spaces and green terraces.\n",
            "\n",
            "9. **Brooklyn Bridge Walk**  \n",
            "   - Walk or bike across the bridge at dusk for skyline views. Pair it with a visit to **Dumbo** and **Jane’s Carousel**.\n",
            "\n",
            "10. **Coney Island**  \n",
            "    - Ride the Cyclone roller coaster, eat Nathan’s hot dogs, and enjoy the boardwalk’s retro vibe.\n",
            "\n",
            "### **Food & Markets**\n",
            "11. **Chelsea Market**  \n",
            "    - Sample global eats like Los Tacos No. 1 or the famous **Big Mozzarella Stand**.\n",
            "\n",
            "12. **Katz’s Delicatessen**  \n",
            "    - Dive into a pastrami sandwich (made famous by *When Harry Met Sally*) and watch the slicers in action.\n",
            "\n",
            "13. **Arthur Avenue (The Bronx)**  \n",
            "    - Explore NYC’s original Little Italy with authentic Italian markets and restaurants.\n",
            "\n",
            "### **Hidden Gems & Local Favorites**\n",
            "14. **The New York Public Library**  \n",
            "    - Admire the Beaux-Arts architecture and the iconic lion statues (Patience and Fortitude).\n",
            "\n",
            "15. **Green-Wood Cemetery**  \n",
            "    - A serene, historic burial ground with artful tombs and trolley tours.\n",
            "\n",
            "16. **The Tenement Museum**  \n",
            "    - Step into 19th-century immigrant life through immersive tours of a restored apartment building.\n",
            "\n",
            "### **Seasonal Fun**\n",
            "- **Winter:** Rockefeller Center ice-skating and holiday markets.  \n",
            "- **Spring:** Sakura Matsuri cherry blossom festival in Brooklyn Botanic Garden.  \n",
            "- **Summer:** Outdoor movies in parks or **Shakespeare in the Park**.  \n",
            "- **Fall:** Apple-picking in the Hudson Valley or leaf-peeping in Central Park.\n",
            "\n",
            "### **Unique Experiences**\n",
            "- **Whitney Museum’s 7th Floor Terrace:** Rooftop views with art installations.  \n",
            "- **Lowline Lab:** A futuristic underground park prototype.  \n",
            "- **Coney Island Sideshows:** Check out quirky performances at the **Coney Island Circus Sideshow**.\n",
            "\n",
            "### **Practical Tips**\n",
            "- **Transportation:** Use the subway or **Citi Bike** for easy exploration.  \n",
            "- **Free Attractions:** Many museums (The Met, MoMA) have pay-what-you-wish policies.  \n",
            "- **Events:** Check listings for **NYC Official Guide** for festivals, parades, or pop-ups.\n",
            "\n",
            "Whether you're a first-timer or a local, NYC’s mix of energy and history ensures there’s always something new to discover! 🗽🍴🗽\n"
          ]
        }
      ],
      "source": [
        "from together import Together\n",
        "from google.colab import userdata\n",
        "import os\n",
        "os.environ[\"TOGETHER_API_KEY\"] = userdata.get('TOGETHER_API_KEY')\n",
        "client = Together() # auth defaults to os.environ.get(\"TOGETHER_API_KEY\")\n",
        "\n",
        "response = client.chat.completions.create(\n",
        "    model=\"Qwen/Qwen3-235B-A22B-fp8-tput\",\n",
        "    messages=[\n",
        "      {\n",
        "        \"role\": \"user\",\n",
        "        \"content\": \"What are some fun things to do in New York?\"\n",
        "      }\n",
        "    ]\n",
        ")\n",
        "print(response.choices[0].message.content)"
      ]
    }
  ]
}