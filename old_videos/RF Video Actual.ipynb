{
 "cells": [
  {
   "cell_type": "code",
   "execution_count": 59,
   "id": "8624f1e4",
   "metadata": {},
   "outputs": [
    {
     "data": {
      "text/html": [
       "\n",
       "<style>\n",
       ".container { width:100% !important; }\n",
       "</style>\n"
      ],
      "text/plain": [
       "<IPython.core.display.HTML object>"
      ]
     },
     "execution_count": 59,
     "metadata": {},
     "output_type": "execute_result"
    }
   ],
   "source": [
    "from sklearn.metrics import confusion_matrix, classification_report, accuracy_score,balanced_accuracy_score\n",
    "from sklearn.metrics import roc_auc_score, log_loss\n",
    "\n",
    "import pandas as pd\n",
    "import numpy as np\n",
    "\n",
    "from IPython.core.display import HTML\n",
    "\n",
    "\n",
    "HTML(\"\"\"\n",
    "<style>\n",
    ".container { width:100% !important; }\n",
    "</style>\n",
    "\"\"\")\n"
   ]
  },
  {
   "cell_type": "markdown",
   "id": "18889962",
   "metadata": {},
   "source": [
    "### Drawbacks of Decision Trees\n",
    "* Too small => Underfitting/high bias\n",
    "* To large  => Overfitting/high variance."
   ]
  },
  {
   "cell_type": "markdown",
   "id": "c203e187",
   "metadata": {},
   "source": [
    "### Some background info\n",
    "\n",
    "##### Bootstrap Technique (Efron et al)\n",
    "\n",
    "* Estimation Tool: Uses sampling with replacement to estimate population statistics (e.g., mean, variance) from a sample.\n",
    "* Assumptions: Assumes data are independent and identically distributed (IID), the sample is representative, and sufficiently large.\n",
    "* Purpose: Measures the variability of a statistic across multiple resamples to estimate its accuracy.\n",
    "\n",
    "##### Bagging (Bootstrap Aggregating)\n",
    "* Variance Reduction: An ensemble method that trains multiple models on bootstrap samples to reduce prediction variance, particularly effective for high-variance, overfit-prone models like decision trees.\n",
    "* Assumptions: Assumes base models have high variance and perform better than random guessing. Aims to reduce overfitting by averaging model predictions.\n",
    "* Outcome: Produces a more robust model by combining the strengths of multiple learners, leading to improved accuracy and stability.\n",
    "\n",
    "Both bootstrap and bagging leverage resampling to achieve their goals—bootstrap for statistical estimation and bagging for enhancing model performance by reducing variance.\n",
    "\n",
    "\n",
    "\n",
    "\n",
    "\n",
    "\n"
   ]
  },
  {
   "cell_type": "markdown",
   "id": "8a86210b",
   "metadata": {},
   "source": [
    "### Random Forest (By Breiman et Al)\n",
    "* For dataset with $N$ examples and $F$ features\n",
    "\n",
    "* For $i \\in \\text{NUM_TREES}$ \n",
    "    - Bootstrap Sample: Sample with replacement $N$ examples.\n",
    "    - Random Subspace Method: Sample without replacement a set of $f<F$ features.\n",
    "    - Fit Decision Tree on the sample on bootstrap sample using the $f$ selected features\n",
    "* Take an average of the predictions for regression trees or probabilities for classifiaction trees. \n",
    "* For classification trees if we make classifications based on a \"threshold\" if threshold is $\\frac{1}{\\text{NUM_CLASSES}}$ then this is majority vote.\n",
    "\n",
    "##### Random Forest Benfits:\n",
    "\n",
    "* Lower Variance of Individual Trees => Lower Error do to Bias-Variance Decomposition\n",
    "* Absuredely Parallel since trees are independent (in sckit-learn n_jobs=-1)\n",
    "\n",
    "##### Resources\n",
    "\n",
    "###### Books/Papers\n",
    "* The Elements of Statistical Learning: Jerome H. Friedman, Robert Tibshirani, and Trevor Hastie\n",
    "\n",
    "\n",
    "###### Sckit-Learn\n",
    "* https://scikit-learn.org/stable/modules/generated/sklearn.ensemble.RandomForestClassifier.html\n",
    "* https://scikit-learn.org/stable/modules/classes.html\n",
    "    "
   ]
  },
  {
   "cell_type": "markdown",
   "id": "c42abbf0",
   "metadata": {},
   "source": [
    "### Walk through!"
   ]
  },
  {
   "cell_type": "code",
   "execution_count": 60,
   "id": "0303b7e0",
   "metadata": {
    "scrolled": true
   },
   "outputs": [
    {
     "name": "stdout",
     "output_type": "stream",
     "text": [
      "Fit tree  1 with using training examples [5, 2, 8, 2, 5, 2, 1, 0, 0, 0] using features [7 9 6]\n",
      "Fit tree  2 with using training examples [0, 6, 7, 5, 3, 4, 4, 7, 3, 3] using features [3 6 5]\n",
      "Fit tree  3 with using training examples [6, 5, 2, 4, 5, 7, 2, 6, 5, 3] using features [6 3 8]\n",
      "Fit tree  4 with using training examples [3, 5, 2, 2, 3, 3, 5, 4, 0, 7] using features [0 2 8]\n",
      "Fit tree  5 with using training examples [2, 9, 7, 8, 0, 2, 5, 7, 7, 3] using features [4 1 2]\n",
      "Fit tree  6 with using training examples [3, 8, 2, 5, 3, 0, 2, 2, 0, 5] using features [4 7 1]\n",
      "Fit tree  7 with using training examples [6, 2, 9, 4, 5, 4, 1, 8, 5, 1] using features [6 7 4]\n",
      "Fit tree  8 with using training examples [5, 2, 0, 0, 8, 8, 5, 2, 7, 7] using features [1 5 6]\n",
      "Fit tree  9 with using training examples [6, 0, 7, 3, 1, 2, 2, 6, 9, 3] using features [4 3 5]\n",
      "Fit tree 10 with using training examples [8, 8, 2, 1, 6, 7, 2, 2, 8, 6] using features [0 9 2]\n",
      "* Average the tree's prediction to get final predictions\n",
      "    - For classification you average to probabilities and can make a classification based on the max\n"
     ]
    }
   ],
   "source": [
    "NUM_TREES = 10\n",
    "N = 10\n",
    "F = 10\n",
    "f = 3\n",
    "for i in range(1,NUM_TREES+1):\n",
    "    bootstrap_sample = np.random.choice(N,N,replace=True).tolist()\n",
    "    random_features = np.random.choice(F,f,replace=False)\n",
    "    print(\"Fit tree\",\"{:2}\".format(i),\"with using training examples\",bootstrap_sample,\"using features\",random_features)\n",
    "print(\"* Average the tree's prediction to get final predictions\")\n",
    "print(\"    - For classification you average to probabilities and can make a classification based on the max\")"
   ]
  },
  {
   "cell_type": "markdown",
   "id": "d82ecd71",
   "metadata": {},
   "source": [
    "* Notice not all training examples are used in every tree!\n",
    "\n",
    "### For each example, the % of trees in which it is selected a $N \\rightarrow \\infty$ and $\\text{NUM_TREEES}\\rightarrow\\infty$ goes to \n",
    "$$1-\\frac{1}{e}$$ since the probability of not selecting example $i$ in a particular bootstrap sample is  is $\\left(\\frac{N-1}{N}\\right)^N=\\left(1-\\frac{1}{N}\\right)^N$.\n",
    "\n",
    "* The limit of the above as $N\\rightarrow \\infty$ is $e$ by definition\n"
   ]
  },
  {
   "cell_type": "code",
   "execution_count": 61,
   "id": "4d861cf2",
   "metadata": {},
   "outputs": [
    {
     "data": {
      "text/plain": [
       "array([0.6324, 0.6363, 0.631 , ..., 0.6299, 0.6282, 0.627 ])"
      ]
     },
     "execution_count": 61,
     "metadata": {},
     "output_type": "execute_result"
    }
   ],
   "source": [
    "NUM_TREES = 10000\n",
    "N = NUM_TREES\n",
    "cnt=np.zeros(N)\n",
    "for i in range(NUM_TREES):\n",
    "    bootstrap_sample = np.random.choice(N,N,replace=True).tolist()\n",
    "    cnt[list(set(bootstrap_sample))]+=1\n",
    "cnt/NUM_TREES"
   ]
  },
  {
   "cell_type": "code",
   "execution_count": 62,
   "id": "d2e31da7",
   "metadata": {},
   "outputs": [
    {
     "data": {
      "text/plain": [
       "0.006070277658665454"
      ]
     },
     "execution_count": 62,
     "metadata": {},
     "output_type": "execute_result"
    }
   ],
   "source": [
    "np.mean(np.abs((cnt/NUM_TREES-(1-1/np.exp(1)))/(1-1/np.exp(1))  ))"
   ]
  },
  {
   "cell_type": "markdown",
   "id": "a919ec17",
   "metadata": {},
   "source": [
    "### Out of Bag (OOB Predictions)\n",
    "* Predictions made on the unselected examples"
   ]
  },
  {
   "cell_type": "code",
   "execution_count": 63,
   "id": "c2286efe",
   "metadata": {},
   "outputs": [
    {
     "name": "stdout",
     "output_type": "stream",
     "text": [
      "* Fit tree  1 with using training examples [3, 6, 3, 5, 5, 8, 0, 0, 0, 7] using features [2 7 1]\n",
      "  Out of Bag Predictions using training examples [1, 2, 4, 9]\n",
      "\n",
      "* Fit tree  2 with using training examples [1, 2, 6, 2, 8, 0, 0, 2, 6, 6] using features [9 0 8]\n",
      "  Out of Bag Predictions using training examples [3, 4, 5, 7, 9]\n",
      "\n",
      "* Fit tree  3 with using training examples [8, 1, 2, 9, 2, 6, 0, 2, 6, 8] using features [4 9 0]\n",
      "  Out of Bag Predictions using training examples [3, 4, 5, 7]\n",
      "\n",
      "* Fit tree  4 with using training examples [9, 3, 2, 4, 1, 1, 2, 2, 1, 4] using features [1 7 3]\n",
      "  Out of Bag Predictions using training examples [0, 5, 6, 7, 8]\n",
      "\n",
      "* Fit tree  5 with using training examples [6, 7, 2, 0, 4, 6, 0, 4, 4, 3] using features [6 5 9]\n",
      "  Out of Bag Predictions using training examples [1, 5, 8, 9]\n",
      "\n",
      "* Fit tree  6 with using training examples [9, 1, 0, 2, 3, 6, 8, 5, 8, 6] using features [4 9 2]\n",
      "  Out of Bag Predictions using training examples [4, 7]\n",
      "\n",
      "* Fit tree  7 with using training examples [0, 8, 8, 5, 5, 6, 2, 8, 1, 6] using features [8 5 3]\n",
      "  Out of Bag Predictions using training examples [3, 4, 7, 9]\n",
      "\n",
      "* Fit tree  8 with using training examples [8, 5, 7, 2, 7, 0, 6, 7, 0, 6] using features [7 6 9]\n",
      "  Out of Bag Predictions using training examples [1, 3, 4, 9]\n",
      "\n",
      "* Fit tree  9 with using training examples [3, 8, 5, 2, 1, 5, 6, 4, 1, 1] using features [1 0 8]\n",
      "  Out of Bag Predictions using training examples [0, 7, 9]\n",
      "\n",
      "* Fit tree 10 with using training examples [2, 7, 4, 4, 4, 8, 2, 3, 8, 4] using features [6 2 9]\n",
      "  Out of Bag Predictions using training examples [0, 1, 5, 6, 9]\n",
      "\n"
     ]
    }
   ],
   "source": [
    "NUM_TREES = 10\n",
    "N = NUM_TREES\n",
    "F=10\n",
    "f=3\n",
    "for i in range(1,NUM_TREES+1):\n",
    "    bootstrap_sample = np.random.choice(N,N).tolist()\n",
    "    random_features = np.random.choice(F,f,replace=False)\n",
    "    print(\"* Fit tree\",\"{:2}\".format(i),\"with using training examples\",bootstrap_sample,\"using features\",random_features)\n",
    "    examples_not_selected = [i for i in range(N) if i not in bootstrap_sample]\n",
    "    print(\"  Out of Bag Predictions using training examples\",examples_not_selected)\n",
    "    print()"
   ]
  },
  {
   "cell_type": "markdown",
   "id": "70df957f",
   "metadata": {},
   "source": [
    "### Clearly a huge problem with \"correlated/overlapping\" labels. \n",
    "* The tripple barrier labels are overlapping\n",
    "* We must have a better way to deal with them since it screws up the effectiveness of the boostrap. We will talk about this in a future video."
   ]
  },
  {
   "cell_type": "markdown",
   "id": "f8f259b7",
   "metadata": {},
   "source": [
    "### Sckit-Learn Classification Example\n",
    "* Regression is pretty much the splitter/criterion + predict instead of predict_proba\n",
    "\n",
    "### IMPORTANT PARAMS\n",
    "* class_weight: dict, balanced, or balanced_subsample\n",
    "* n_estimators\n",
    "* criterion\n",
    "* max_features\n",
    "* max_depth\n",
    "* min_samples_leaf\n",
    "* min_samples_split\n",
    "* min_weight_fraction_leaf\n",
    "* min_weight_fraction_split\n",
    "* max_samples (IMPORTANT FOR OVERLAP!)\n",
    "* oob_score\n",
    "* ramdom state\n",
    "* n_jobs"
   ]
  },
  {
   "cell_type": "markdown",
   "id": "36287736",
   "metadata": {},
   "source": [
    "### Load cusum filtered dataset with tripple barrier labels + sample weights from previous video\n"
   ]
  },
  {
   "cell_type": "code",
   "execution_count": 64,
   "id": "fc0b39c3",
   "metadata": {},
   "outputs": [],
   "source": [
    "df = pd.read_csv(\"sample_data/tsla_dollar_bars_with_features_and_tripple_barrier_labels.csv\",index_col=0,parse_dates=[0])"
   ]
  },
  {
   "cell_type": "markdown",
   "id": "5640bd2a",
   "metadata": {},
   "source": [
    "#### Split to train/test"
   ]
  },
  {
   "cell_type": "code",
   "execution_count": 65,
   "id": "fbc00089",
   "metadata": {},
   "outputs": [],
   "source": [
    "train=df.loc[:'2022-12-31']\n",
    "test=df.loc['2023-01-02':]"
   ]
  },
  {
   "cell_type": "markdown",
   "id": "2464d212",
   "metadata": {},
   "source": [
    "### Define RF for Classification"
   ]
  },
  {
   "cell_type": "code",
   "execution_count": 66,
   "id": "cdbd5dc9",
   "metadata": {},
   "outputs": [],
   "source": [
    "from sklearn.ensemble import RandomForestClassifier\n",
    "\n",
    "clf = RandomForestClassifier(n_estimators=500,max_depth=9,class_weight='balanced_subsample',oob_score=True,max_features=0.1,min_samples_split=10)"
   ]
  },
  {
   "cell_type": "code",
   "execution_count": null,
   "id": "0259e40e",
   "metadata": {},
   "outputs": [],
   "source": []
  },
  {
   "cell_type": "markdown",
   "id": "872f18e6",
   "metadata": {},
   "source": [
    "###### When fitting the model you can specify sample_weight "
   ]
  },
  {
   "cell_type": "code",
   "execution_count": 67,
   "id": "4bef07c7",
   "metadata": {},
   "outputs": [],
   "source": [
    "feature_cols=['RSI_14',\n",
    " 'RSI_840',\n",
    " 'RSI_70',\n",
    " 'PPO_12_26_9',\n",
    " 'PPO_40_200_12',\n",
    " 'PPOh_40_200_12',\n",
    " 'PPOs_40_200_12',\n",
    " 'LOGRET_840',\n",
    " 'LOGRET_1',\n",
    " 'LOGRET_2',\n",
    " 'LOGRET_3',\n",
    " 'AROOND_14',\n",
    " 'AROONU_14',\n",
    " 'AROONOSC_14',\n",
    " 'BOP',\n",
    " 'MFI_14',\n",
    " 'average_to_close',\n",
    " 'serial_correlation_50_1']"
   ]
  },
  {
   "cell_type": "markdown",
   "id": "0315976e",
   "metadata": {},
   "source": [
    "#### Fit the model"
   ]
  },
  {
   "cell_type": "code",
   "execution_count": 68,
   "id": "82ad9524",
   "metadata": {},
   "outputs": [
    {
     "data": {
      "text/html": [
       "<style>#sk-container-id-3 {color: black;}#sk-container-id-3 pre{padding: 0;}#sk-container-id-3 div.sk-toggleable {background-color: white;}#sk-container-id-3 label.sk-toggleable__label {cursor: pointer;display: block;width: 100%;margin-bottom: 0;padding: 0.3em;box-sizing: border-box;text-align: center;}#sk-container-id-3 label.sk-toggleable__label-arrow:before {content: \"▸\";float: left;margin-right: 0.25em;color: #696969;}#sk-container-id-3 label.sk-toggleable__label-arrow:hover:before {color: black;}#sk-container-id-3 div.sk-estimator:hover label.sk-toggleable__label-arrow:before {color: black;}#sk-container-id-3 div.sk-toggleable__content {max-height: 0;max-width: 0;overflow: hidden;text-align: left;background-color: #f0f8ff;}#sk-container-id-3 div.sk-toggleable__content pre {margin: 0.2em;color: black;border-radius: 0.25em;background-color: #f0f8ff;}#sk-container-id-3 input.sk-toggleable__control:checked~div.sk-toggleable__content {max-height: 200px;max-width: 100%;overflow: auto;}#sk-container-id-3 input.sk-toggleable__control:checked~label.sk-toggleable__label-arrow:before {content: \"▾\";}#sk-container-id-3 div.sk-estimator input.sk-toggleable__control:checked~label.sk-toggleable__label {background-color: #d4ebff;}#sk-container-id-3 div.sk-label input.sk-toggleable__control:checked~label.sk-toggleable__label {background-color: #d4ebff;}#sk-container-id-3 input.sk-hidden--visually {border: 0;clip: rect(1px 1px 1px 1px);clip: rect(1px, 1px, 1px, 1px);height: 1px;margin: -1px;overflow: hidden;padding: 0;position: absolute;width: 1px;}#sk-container-id-3 div.sk-estimator {font-family: monospace;background-color: #f0f8ff;border: 1px dotted black;border-radius: 0.25em;box-sizing: border-box;margin-bottom: 0.5em;}#sk-container-id-3 div.sk-estimator:hover {background-color: #d4ebff;}#sk-container-id-3 div.sk-parallel-item::after {content: \"\";width: 100%;border-bottom: 1px solid gray;flex-grow: 1;}#sk-container-id-3 div.sk-label:hover label.sk-toggleable__label {background-color: #d4ebff;}#sk-container-id-3 div.sk-serial::before {content: \"\";position: absolute;border-left: 1px solid gray;box-sizing: border-box;top: 0;bottom: 0;left: 50%;z-index: 0;}#sk-container-id-3 div.sk-serial {display: flex;flex-direction: column;align-items: center;background-color: white;padding-right: 0.2em;padding-left: 0.2em;position: relative;}#sk-container-id-3 div.sk-item {position: relative;z-index: 1;}#sk-container-id-3 div.sk-parallel {display: flex;align-items: stretch;justify-content: center;background-color: white;position: relative;}#sk-container-id-3 div.sk-item::before, #sk-container-id-3 div.sk-parallel-item::before {content: \"\";position: absolute;border-left: 1px solid gray;box-sizing: border-box;top: 0;bottom: 0;left: 50%;z-index: -1;}#sk-container-id-3 div.sk-parallel-item {display: flex;flex-direction: column;z-index: 1;position: relative;background-color: white;}#sk-container-id-3 div.sk-parallel-item:first-child::after {align-self: flex-end;width: 50%;}#sk-container-id-3 div.sk-parallel-item:last-child::after {align-self: flex-start;width: 50%;}#sk-container-id-3 div.sk-parallel-item:only-child::after {width: 0;}#sk-container-id-3 div.sk-dashed-wrapped {border: 1px dashed gray;margin: 0 0.4em 0.5em 0.4em;box-sizing: border-box;padding-bottom: 0.4em;background-color: white;}#sk-container-id-3 div.sk-label label {font-family: monospace;font-weight: bold;display: inline-block;line-height: 1.2em;}#sk-container-id-3 div.sk-label-container {text-align: center;}#sk-container-id-3 div.sk-container {/* jupyter's `normalize.less` sets `[hidden] { display: none; }` but bootstrap.min.css set `[hidden] { display: none !important; }` so we also need the `!important` here to be able to override the default hidden behavior on the sphinx rendered scikit-learn.org. See: https://github.com/scikit-learn/scikit-learn/issues/21755 */display: inline-block !important;position: relative;}#sk-container-id-3 div.sk-text-repr-fallback {display: none;}</style><div id=\"sk-container-id-3\" class=\"sk-top-container\"><div class=\"sk-text-repr-fallback\"><pre>RandomForestClassifier(class_weight=&#x27;balanced_subsample&#x27;, max_depth=9,\n",
       "                       max_features=0.1, min_samples_split=10, n_estimators=500,\n",
       "                       oob_score=True)</pre><b>In a Jupyter environment, please rerun this cell to show the HTML representation or trust the notebook. <br />On GitHub, the HTML representation is unable to render, please try loading this page with nbviewer.org.</b></div><div class=\"sk-container\" hidden><div class=\"sk-item\"><div class=\"sk-estimator sk-toggleable\"><input class=\"sk-toggleable__control sk-hidden--visually\" id=\"sk-estimator-id-3\" type=\"checkbox\" checked><label for=\"sk-estimator-id-3\" class=\"sk-toggleable__label sk-toggleable__label-arrow\">RandomForestClassifier</label><div class=\"sk-toggleable__content\"><pre>RandomForestClassifier(class_weight=&#x27;balanced_subsample&#x27;, max_depth=9,\n",
       "                       max_features=0.1, min_samples_split=10, n_estimators=500,\n",
       "                       oob_score=True)</pre></div></div></div></div></div>"
      ],
      "text/plain": [
       "RandomForestClassifier(class_weight='balanced_subsample', max_depth=9,\n",
       "                       max_features=0.1, min_samples_split=10, n_estimators=500,\n",
       "                       oob_score=True)"
      ]
     },
     "execution_count": 68,
     "metadata": {},
     "output_type": "execute_result"
    }
   ],
   "source": [
    "clf.fit(train[feature_cols],train['label'],sample_weight=train['SAMPLE_WEIGHT'])"
   ]
  },
  {
   "cell_type": "markdown",
   "id": "022eb08d",
   "metadata": {},
   "source": [
    "### Can get individual estimators"
   ]
  },
  {
   "cell_type": "code",
   "execution_count": 69,
   "id": "7730e1de",
   "metadata": {},
   "outputs": [
    {
     "data": {
      "text/html": [
       "<style>#sk-container-id-4 {color: black;}#sk-container-id-4 pre{padding: 0;}#sk-container-id-4 div.sk-toggleable {background-color: white;}#sk-container-id-4 label.sk-toggleable__label {cursor: pointer;display: block;width: 100%;margin-bottom: 0;padding: 0.3em;box-sizing: border-box;text-align: center;}#sk-container-id-4 label.sk-toggleable__label-arrow:before {content: \"▸\";float: left;margin-right: 0.25em;color: #696969;}#sk-container-id-4 label.sk-toggleable__label-arrow:hover:before {color: black;}#sk-container-id-4 div.sk-estimator:hover label.sk-toggleable__label-arrow:before {color: black;}#sk-container-id-4 div.sk-toggleable__content {max-height: 0;max-width: 0;overflow: hidden;text-align: left;background-color: #f0f8ff;}#sk-container-id-4 div.sk-toggleable__content pre {margin: 0.2em;color: black;border-radius: 0.25em;background-color: #f0f8ff;}#sk-container-id-4 input.sk-toggleable__control:checked~div.sk-toggleable__content {max-height: 200px;max-width: 100%;overflow: auto;}#sk-container-id-4 input.sk-toggleable__control:checked~label.sk-toggleable__label-arrow:before {content: \"▾\";}#sk-container-id-4 div.sk-estimator input.sk-toggleable__control:checked~label.sk-toggleable__label {background-color: #d4ebff;}#sk-container-id-4 div.sk-label input.sk-toggleable__control:checked~label.sk-toggleable__label {background-color: #d4ebff;}#sk-container-id-4 input.sk-hidden--visually {border: 0;clip: rect(1px 1px 1px 1px);clip: rect(1px, 1px, 1px, 1px);height: 1px;margin: -1px;overflow: hidden;padding: 0;position: absolute;width: 1px;}#sk-container-id-4 div.sk-estimator {font-family: monospace;background-color: #f0f8ff;border: 1px dotted black;border-radius: 0.25em;box-sizing: border-box;margin-bottom: 0.5em;}#sk-container-id-4 div.sk-estimator:hover {background-color: #d4ebff;}#sk-container-id-4 div.sk-parallel-item::after {content: \"\";width: 100%;border-bottom: 1px solid gray;flex-grow: 1;}#sk-container-id-4 div.sk-label:hover label.sk-toggleable__label {background-color: #d4ebff;}#sk-container-id-4 div.sk-serial::before {content: \"\";position: absolute;border-left: 1px solid gray;box-sizing: border-box;top: 0;bottom: 0;left: 50%;z-index: 0;}#sk-container-id-4 div.sk-serial {display: flex;flex-direction: column;align-items: center;background-color: white;padding-right: 0.2em;padding-left: 0.2em;position: relative;}#sk-container-id-4 div.sk-item {position: relative;z-index: 1;}#sk-container-id-4 div.sk-parallel {display: flex;align-items: stretch;justify-content: center;background-color: white;position: relative;}#sk-container-id-4 div.sk-item::before, #sk-container-id-4 div.sk-parallel-item::before {content: \"\";position: absolute;border-left: 1px solid gray;box-sizing: border-box;top: 0;bottom: 0;left: 50%;z-index: -1;}#sk-container-id-4 div.sk-parallel-item {display: flex;flex-direction: column;z-index: 1;position: relative;background-color: white;}#sk-container-id-4 div.sk-parallel-item:first-child::after {align-self: flex-end;width: 50%;}#sk-container-id-4 div.sk-parallel-item:last-child::after {align-self: flex-start;width: 50%;}#sk-container-id-4 div.sk-parallel-item:only-child::after {width: 0;}#sk-container-id-4 div.sk-dashed-wrapped {border: 1px dashed gray;margin: 0 0.4em 0.5em 0.4em;box-sizing: border-box;padding-bottom: 0.4em;background-color: white;}#sk-container-id-4 div.sk-label label {font-family: monospace;font-weight: bold;display: inline-block;line-height: 1.2em;}#sk-container-id-4 div.sk-label-container {text-align: center;}#sk-container-id-4 div.sk-container {/* jupyter's `normalize.less` sets `[hidden] { display: none; }` but bootstrap.min.css set `[hidden] { display: none !important; }` so we also need the `!important` here to be able to override the default hidden behavior on the sphinx rendered scikit-learn.org. See: https://github.com/scikit-learn/scikit-learn/issues/21755 */display: inline-block !important;position: relative;}#sk-container-id-4 div.sk-text-repr-fallback {display: none;}</style><div id=\"sk-container-id-4\" class=\"sk-top-container\"><div class=\"sk-text-repr-fallback\"><pre>DecisionTreeClassifier(max_depth=9, max_features=0.1, min_samples_split=10,\n",
       "                       random_state=1640048449)</pre><b>In a Jupyter environment, please rerun this cell to show the HTML representation or trust the notebook. <br />On GitHub, the HTML representation is unable to render, please try loading this page with nbviewer.org.</b></div><div class=\"sk-container\" hidden><div class=\"sk-item\"><div class=\"sk-estimator sk-toggleable\"><input class=\"sk-toggleable__control sk-hidden--visually\" id=\"sk-estimator-id-4\" type=\"checkbox\" checked><label for=\"sk-estimator-id-4\" class=\"sk-toggleable__label sk-toggleable__label-arrow\">DecisionTreeClassifier</label><div class=\"sk-toggleable__content\"><pre>DecisionTreeClassifier(max_depth=9, max_features=0.1, min_samples_split=10,\n",
       "                       random_state=1640048449)</pre></div></div></div></div></div>"
      ],
      "text/plain": [
       "DecisionTreeClassifier(max_depth=9, max_features=0.1, min_samples_split=10,\n",
       "                       random_state=1640048449)"
      ]
     },
     "execution_count": 69,
     "metadata": {},
     "output_type": "execute_result"
    }
   ],
   "source": [
    "clf.estimators_[10]"
   ]
  },
  {
   "cell_type": "markdown",
   "id": "bc4e1d82",
   "metadata": {},
   "source": [
    "### Get Params"
   ]
  },
  {
   "cell_type": "code",
   "execution_count": 70,
   "id": "4065d784",
   "metadata": {},
   "outputs": [
    {
     "data": {
      "text/plain": [
       "{'bootstrap': True,\n",
       " 'ccp_alpha': 0.0,\n",
       " 'class_weight': 'balanced_subsample',\n",
       " 'criterion': 'gini',\n",
       " 'max_depth': 9,\n",
       " 'max_features': 0.1,\n",
       " 'max_leaf_nodes': None,\n",
       " 'max_samples': None,\n",
       " 'min_impurity_decrease': 0.0,\n",
       " 'min_samples_leaf': 1,\n",
       " 'min_samples_split': 10,\n",
       " 'min_weight_fraction_leaf': 0.0,\n",
       " 'n_estimators': 500,\n",
       " 'n_jobs': None,\n",
       " 'oob_score': True,\n",
       " 'random_state': None,\n",
       " 'verbose': 0,\n",
       " 'warm_start': False}"
      ]
     },
     "execution_count": 70,
     "metadata": {},
     "output_type": "execute_result"
    }
   ],
   "source": [
    "clf.get_params()"
   ]
  },
  {
   "cell_type": "markdown",
   "id": "d80a0fc5",
   "metadata": {},
   "source": [
    "### Can get feature importance"
   ]
  },
  {
   "cell_type": "code",
   "execution_count": 71,
   "id": "b36fd714",
   "metadata": {},
   "outputs": [
    {
     "data": {
      "text/plain": [
       "array([0.05593777, 0.07000343, 0.08823762, 0.05938594, 0.10309632,\n",
       "       0.06477602, 0.09694173, 0.06280026, 0.0392871 , 0.05318268,\n",
       "       0.05595548, 0.0228365 , 0.02545203, 0.03363586, 0.03909908,\n",
       "       0.04561419, 0.0428354 , 0.04092259])"
      ]
     },
     "execution_count": 71,
     "metadata": {},
     "output_type": "execute_result"
    }
   ],
   "source": [
    "clf.feature_importances_"
   ]
  },
  {
   "cell_type": "code",
   "execution_count": 72,
   "id": "118adc75",
   "metadata": {},
   "outputs": [
    {
     "data": {
      "text/html": [
       "<div>\n",
       "<style scoped>\n",
       "    .dataframe tbody tr th:only-of-type {\n",
       "        vertical-align: middle;\n",
       "    }\n",
       "\n",
       "    .dataframe tbody tr th {\n",
       "        vertical-align: top;\n",
       "    }\n",
       "\n",
       "    .dataframe thead th {\n",
       "        text-align: right;\n",
       "    }\n",
       "</style>\n",
       "<table border=\"1\" class=\"dataframe\">\n",
       "  <thead>\n",
       "    <tr style=\"text-align: right;\">\n",
       "      <th></th>\n",
       "      <th>Name</th>\n",
       "      <th>Score</th>\n",
       "    </tr>\n",
       "  </thead>\n",
       "  <tbody>\n",
       "    <tr>\n",
       "      <th>4</th>\n",
       "      <td>PPO_40_200_12</td>\n",
       "      <td>0.103096</td>\n",
       "    </tr>\n",
       "    <tr>\n",
       "      <th>6</th>\n",
       "      <td>PPOs_40_200_12</td>\n",
       "      <td>0.096942</td>\n",
       "    </tr>\n",
       "    <tr>\n",
       "      <th>2</th>\n",
       "      <td>RSI_70</td>\n",
       "      <td>0.088238</td>\n",
       "    </tr>\n",
       "    <tr>\n",
       "      <th>1</th>\n",
       "      <td>RSI_840</td>\n",
       "      <td>0.070003</td>\n",
       "    </tr>\n",
       "    <tr>\n",
       "      <th>5</th>\n",
       "      <td>PPOh_40_200_12</td>\n",
       "      <td>0.064776</td>\n",
       "    </tr>\n",
       "    <tr>\n",
       "      <th>7</th>\n",
       "      <td>LOGRET_840</td>\n",
       "      <td>0.062800</td>\n",
       "    </tr>\n",
       "    <tr>\n",
       "      <th>3</th>\n",
       "      <td>PPO_12_26_9</td>\n",
       "      <td>0.059386</td>\n",
       "    </tr>\n",
       "    <tr>\n",
       "      <th>10</th>\n",
       "      <td>LOGRET_3</td>\n",
       "      <td>0.055955</td>\n",
       "    </tr>\n",
       "    <tr>\n",
       "      <th>0</th>\n",
       "      <td>RSI_14</td>\n",
       "      <td>0.055938</td>\n",
       "    </tr>\n",
       "    <tr>\n",
       "      <th>9</th>\n",
       "      <td>LOGRET_2</td>\n",
       "      <td>0.053183</td>\n",
       "    </tr>\n",
       "    <tr>\n",
       "      <th>15</th>\n",
       "      <td>MFI_14</td>\n",
       "      <td>0.045614</td>\n",
       "    </tr>\n",
       "    <tr>\n",
       "      <th>16</th>\n",
       "      <td>average_to_close</td>\n",
       "      <td>0.042835</td>\n",
       "    </tr>\n",
       "    <tr>\n",
       "      <th>17</th>\n",
       "      <td>serial_correlation_50_1</td>\n",
       "      <td>0.040923</td>\n",
       "    </tr>\n",
       "    <tr>\n",
       "      <th>8</th>\n",
       "      <td>LOGRET_1</td>\n",
       "      <td>0.039287</td>\n",
       "    </tr>\n",
       "    <tr>\n",
       "      <th>14</th>\n",
       "      <td>BOP</td>\n",
       "      <td>0.039099</td>\n",
       "    </tr>\n",
       "    <tr>\n",
       "      <th>13</th>\n",
       "      <td>AROONOSC_14</td>\n",
       "      <td>0.033636</td>\n",
       "    </tr>\n",
       "    <tr>\n",
       "      <th>12</th>\n",
       "      <td>AROONU_14</td>\n",
       "      <td>0.025452</td>\n",
       "    </tr>\n",
       "    <tr>\n",
       "      <th>11</th>\n",
       "      <td>AROOND_14</td>\n",
       "      <td>0.022837</td>\n",
       "    </tr>\n",
       "  </tbody>\n",
       "</table>\n",
       "</div>"
      ],
      "text/plain": [
       "                       Name     Score\n",
       "4             PPO_40_200_12  0.103096\n",
       "6            PPOs_40_200_12  0.096942\n",
       "2                    RSI_70  0.088238\n",
       "1                   RSI_840  0.070003\n",
       "5            PPOh_40_200_12  0.064776\n",
       "7                LOGRET_840  0.062800\n",
       "3               PPO_12_26_9  0.059386\n",
       "10                 LOGRET_3  0.055955\n",
       "0                    RSI_14  0.055938\n",
       "9                  LOGRET_2  0.053183\n",
       "15                   MFI_14  0.045614\n",
       "16         average_to_close  0.042835\n",
       "17  serial_correlation_50_1  0.040923\n",
       "8                  LOGRET_1  0.039287\n",
       "14                      BOP  0.039099\n",
       "13              AROONOSC_14  0.033636\n",
       "12                AROONU_14  0.025452\n",
       "11                AROOND_14  0.022837"
      ]
     },
     "execution_count": 72,
     "metadata": {},
     "output_type": "execute_result"
    }
   ],
   "source": [
    "pd.DataFrame({'Name':clf.feature_names_in_,'Score':clf.feature_importances_}).sort_values('Score',ascending=False)"
   ]
  },
  {
   "cell_type": "markdown",
   "id": "910abb16",
   "metadata": {},
   "source": [
    "### Can get OOB predictions\n",
    "* Need o set oob_score = True"
   ]
  },
  {
   "cell_type": "code",
   "execution_count": 73,
   "id": "6e65c278",
   "metadata": {},
   "outputs": [
    {
     "data": {
      "text/plain": [
       "0.5849353923731484"
      ]
     },
     "execution_count": 73,
     "metadata": {},
     "output_type": "execute_result"
    }
   ],
   "source": [
    "clf.oob_score_"
   ]
  },
  {
   "cell_type": "code",
   "execution_count": 74,
   "id": "c36d8f80",
   "metadata": {},
   "outputs": [],
   "source": [
    "oob_probs=clf.oob_decision_function_[:,1]\n",
    "oob_preds = np.where(oob_probs>=0.5,1,-1)"
   ]
  },
  {
   "cell_type": "code",
   "execution_count": 75,
   "id": "a639ce30",
   "metadata": {},
   "outputs": [
    {
     "data": {
      "text/plain": [
       "array([[3791, 1088],\n",
       "       [2863, 1777]], dtype=int64)"
      ]
     },
     "execution_count": 75,
     "metadata": {},
     "output_type": "execute_result"
    }
   ],
   "source": [
    "confusion_matrix(train['label'],oob_preds)"
   ]
  },
  {
   "cell_type": "code",
   "execution_count": 76,
   "id": "df40caa8",
   "metadata": {},
   "outputs": [
    {
     "data": {
      "text/plain": [
       "0.6703609066143639"
      ]
     },
     "execution_count": 76,
     "metadata": {},
     "output_type": "execute_result"
    }
   ],
   "source": [
    "log_loss(train['label'],oob_probs)"
   ]
  },
  {
   "cell_type": "code",
   "execution_count": 77,
   "id": "722f87e5",
   "metadata": {},
   "outputs": [
    {
     "data": {
      "text/plain": [
       "0.579988811125796"
      ]
     },
     "execution_count": 77,
     "metadata": {},
     "output_type": "execute_result"
    }
   ],
   "source": [
    "roc_auc_score(train['label'],oob_preds)"
   ]
  },
  {
   "cell_type": "markdown",
   "id": "340aeb40",
   "metadata": {},
   "source": [
    "###### TOO OPTIMISTIC DO TO OVERLAPPING LABELS ! USELESS IN THIS CASE!"
   ]
  },
  {
   "cell_type": "markdown",
   "id": "b585b866",
   "metadata": {},
   "source": [
    "#### Let's look at results on test set "
   ]
  },
  {
   "cell_type": "code",
   "execution_count": 78,
   "id": "4c8c5b97",
   "metadata": {},
   "outputs": [
    {
     "data": {
      "text/plain": [
       "array([ 1.,  1.,  1., ..., -1., -1., -1.])"
      ]
     },
     "execution_count": 78,
     "metadata": {},
     "output_type": "execute_result"
    }
   ],
   "source": [
    "tests_preds = clf.predict(test[feature_cols])\n",
    "tests_preds"
   ]
  },
  {
   "cell_type": "code",
   "execution_count": 79,
   "id": "de45c383",
   "metadata": {},
   "outputs": [
    {
     "data": {
      "text/plain": [
       "array([0.52265695, 0.55942637, 0.51246789, ..., 0.4407655 , 0.46101783,\n",
       "       0.47021667])"
      ]
     },
     "execution_count": 79,
     "metadata": {},
     "output_type": "execute_result"
    }
   ],
   "source": [
    "test_probs = clf.predict_proba(test[feature_cols])[:,1]\n",
    "test_probs"
   ]
  },
  {
   "cell_type": "code",
   "execution_count": 80,
   "id": "20f1d7f0",
   "metadata": {},
   "outputs": [
    {
     "data": {
      "text/plain": [
       "0.48661899897854954"
      ]
     },
     "execution_count": 80,
     "metadata": {},
     "output_type": "execute_result"
    }
   ],
   "source": [
    "accuracy_score(test['label'],tests_preds)"
   ]
  },
  {
   "cell_type": "code",
   "execution_count": 81,
   "id": "c4f018e5",
   "metadata": {},
   "outputs": [
    {
     "data": {
      "text/plain": [
       "array([[1594,  703],\n",
       "       [1810,  788]], dtype=int64)"
      ]
     },
     "execution_count": 81,
     "metadata": {},
     "output_type": "execute_result"
    }
   ],
   "source": [
    "confusion_matrix(test['label'],tests_preds)"
   ]
  },
  {
   "cell_type": "code",
   "execution_count": 82,
   "id": "3a3d6b85",
   "metadata": {},
   "outputs": [
    {
     "data": {
      "text/plain": [
       "0.7037969051546367"
      ]
     },
     "execution_count": 82,
     "metadata": {},
     "output_type": "execute_result"
    }
   ],
   "source": [
    "log_loss(test['label'],test_probs)"
   ]
  },
  {
   "cell_type": "code",
   "execution_count": 83,
   "id": "3e1472f6",
   "metadata": {},
   "outputs": [
    {
     "data": {
      "text/plain": [
       "0.4938978880308117"
      ]
     },
     "execution_count": 83,
     "metadata": {},
     "output_type": "execute_result"
    }
   ],
   "source": [
    "roc_auc_score(test['label'],test_probs)"
   ]
  },
  {
   "cell_type": "markdown",
   "id": "bc812324",
   "metadata": {},
   "source": [
    "#### Test set accuracy and confusion matrix way lower..."
   ]
  },
  {
   "cell_type": "markdown",
   "id": "3fe7ea02",
   "metadata": {},
   "source": [
    "### Using \"BaggingClassifier\" Class\n",
    "* need to define the base_estimator"
   ]
  },
  {
   "cell_type": "code",
   "execution_count": 84,
   "id": "490b2913",
   "metadata": {},
   "outputs": [],
   "source": [
    "from sklearn.ensemble import BaggingClassifier\n",
    "from sklearn.tree import DecisionTreeClassifier\n",
    " \n",
    "base_estimator = DecisionTreeClassifier(max_depth=None, random_state=42, splitter='random')\n",
    "\n",
    "# Create a BaggingClassifier with the decision tree as the base estimator\n",
    "random_forest_via_bagging = BaggingClassifier(\n",
    "    base_estimator=base_estimator,\n",
    "    n_estimators=100, # Number of trees\n",
    "    max_samples=0.8, # Fraction of samples to train each base estimator\n",
    "    max_features=0.8, # Fraction of features to draw from the total features for training each base estimator\n",
    "    bootstrap=True, # Samples are drawn with replacement (setting to False would be for Pasting)\n",
    "    bootstrap_features=False, # Features are not drawn with replacement\n",
    "    random_state=42\n",
    ")\n"
   ]
  },
  {
   "cell_type": "markdown",
   "id": "fbacb698",
   "metadata": {},
   "source": [
    "##### Can do Regression with RandomForestRegressor and BaggingRegressor for example to predict Simple Retuns $\\frac{S_{t+1}-S_t}{S_t}$"
   ]
  },
  {
   "cell_type": "code",
   "execution_count": 85,
   "id": "63d238ee",
   "metadata": {},
   "outputs": [
    {
     "data": {
      "text/html": [
       "<div>\n",
       "<style scoped>\n",
       "    .dataframe tbody tr th:only-of-type {\n",
       "        vertical-align: middle;\n",
       "    }\n",
       "\n",
       "    .dataframe tbody tr th {\n",
       "        vertical-align: top;\n",
       "    }\n",
       "\n",
       "    .dataframe thead th {\n",
       "        text-align: right;\n",
       "    }\n",
       "</style>\n",
       "<table border=\"1\" class=\"dataframe\">\n",
       "  <thead>\n",
       "    <tr style=\"text-align: right;\">\n",
       "      <th></th>\n",
       "      <th>Open</th>\n",
       "      <th>High</th>\n",
       "      <th>Low</th>\n",
       "      <th>Close</th>\n",
       "      <th>Volume</th>\n",
       "      <th>LABEL</th>\n",
       "      <th>PREV_RETURN</th>\n",
       "      <th>RSI_14</th>\n",
       "      <th>RSI_840</th>\n",
       "      <th>RSI_70</th>\n",
       "      <th>...</th>\n",
       "      <th>PVR</th>\n",
       "      <th>PVT</th>\n",
       "      <th>CHOP_14_1_100</th>\n",
       "      <th>RSX_14</th>\n",
       "      <th>RVGI_14_4</th>\n",
       "      <th>RVGIs_14_4</th>\n",
       "      <th>UO_7_14_28</th>\n",
       "      <th>TSI_13_25_13</th>\n",
       "      <th>TSIs_13_25_13</th>\n",
       "      <th>serial_correlation_50_1</th>\n",
       "    </tr>\n",
       "    <tr>\n",
       "      <th>date</th>\n",
       "      <th></th>\n",
       "      <th></th>\n",
       "      <th></th>\n",
       "      <th></th>\n",
       "      <th></th>\n",
       "      <th></th>\n",
       "      <th></th>\n",
       "      <th></th>\n",
       "      <th></th>\n",
       "      <th></th>\n",
       "      <th></th>\n",
       "      <th></th>\n",
       "      <th></th>\n",
       "      <th></th>\n",
       "      <th></th>\n",
       "      <th></th>\n",
       "      <th></th>\n",
       "      <th></th>\n",
       "      <th></th>\n",
       "      <th></th>\n",
       "      <th></th>\n",
       "    </tr>\n",
       "  </thead>\n",
       "  <tbody>\n",
       "    <tr>\n",
       "      <th>2021-02-03 12:55:00</th>\n",
       "      <td>286.4500</td>\n",
       "      <td>286.8633</td>\n",
       "      <td>285.8833</td>\n",
       "      <td>286.1267</td>\n",
       "      <td>459699.0</td>\n",
       "      <td>0.000769</td>\n",
       "      <td>-0.001443</td>\n",
       "      <td>38.589439</td>\n",
       "      <td>51.500601</td>\n",
       "      <td>49.275659</td>\n",
       "      <td>...</td>\n",
       "      <td>4.0</td>\n",
       "      <td>8.803861e+07</td>\n",
       "      <td>46.669668</td>\n",
       "      <td>43.677265</td>\n",
       "      <td>-0.034304</td>\n",
       "      <td>0.104102</td>\n",
       "      <td>29.863009</td>\n",
       "      <td>-3.577866</td>\n",
       "      <td>-2.195433</td>\n",
       "      <td>-0.020455</td>\n",
       "    </tr>\n",
       "    <tr>\n",
       "      <th>2021-02-03 13:00:00</th>\n",
       "      <td>286.1133</td>\n",
       "      <td>286.9533</td>\n",
       "      <td>286.1033</td>\n",
       "      <td>286.3467</td>\n",
       "      <td>255252.0</td>\n",
       "      <td>0.000012</td>\n",
       "      <td>0.000769</td>\n",
       "      <td>40.865114</td>\n",
       "      <td>51.518911</td>\n",
       "      <td>49.560990</td>\n",
       "      <td>...</td>\n",
       "      <td>2.0</td>\n",
       "      <td>8.805823e+07</td>\n",
       "      <td>45.906915</td>\n",
       "      <td>36.725154</td>\n",
       "      <td>-0.128016</td>\n",
       "      <td>0.019149</td>\n",
       "      <td>28.282276</td>\n",
       "      <td>-5.574056</td>\n",
       "      <td>-2.678093</td>\n",
       "      <td>-0.017953</td>\n",
       "    </tr>\n",
       "    <tr>\n",
       "      <th>2021-02-03 13:05:00</th>\n",
       "      <td>286.3000</td>\n",
       "      <td>286.6233</td>\n",
       "      <td>286.0333</td>\n",
       "      <td>286.3500</td>\n",
       "      <td>132573.0</td>\n",
       "      <td>0.000408</td>\n",
       "      <td>0.000012</td>\n",
       "      <td>40.900491</td>\n",
       "      <td>51.519186</td>\n",
       "      <td>49.565307</td>\n",
       "      <td>...</td>\n",
       "      <td>2.0</td>\n",
       "      <td>8.805838e+07</td>\n",
       "      <td>44.408598</td>\n",
       "      <td>31.507992</td>\n",
       "      <td>-0.184191</td>\n",
       "      <td>-0.071943</td>\n",
       "      <td>30.175838</td>\n",
       "      <td>-7.219708</td>\n",
       "      <td>-3.326895</td>\n",
       "      <td>-0.015336</td>\n",
       "    </tr>\n",
       "    <tr>\n",
       "      <th>2021-02-03 13:10:00</th>\n",
       "      <td>286.3633</td>\n",
       "      <td>286.7033</td>\n",
       "      <td>286.3433</td>\n",
       "      <td>286.4667</td>\n",
       "      <td>115692.0</td>\n",
       "      <td>-0.000477</td>\n",
       "      <td>0.000407</td>\n",
       "      <td>42.217004</td>\n",
       "      <td>51.528917</td>\n",
       "      <td>49.719704</td>\n",
       "      <td>...</td>\n",
       "      <td>2.0</td>\n",
       "      <td>8.806310e+07</td>\n",
       "      <td>42.641712</td>\n",
       "      <td>28.070207</td>\n",
       "      <td>-0.213231</td>\n",
       "      <td>-0.145325</td>\n",
       "      <td>29.110498</td>\n",
       "      <td>-8.288995</td>\n",
       "      <td>-4.035767</td>\n",
       "      <td>-0.018006</td>\n",
       "    </tr>\n",
       "    <tr>\n",
       "      <th>2021-02-03 13:15:00</th>\n",
       "      <td>286.5000</td>\n",
       "      <td>286.7267</td>\n",
       "      <td>286.0033</td>\n",
       "      <td>286.3300</td>\n",
       "      <td>135681.0</td>\n",
       "      <td>-0.000570</td>\n",
       "      <td>-0.000477</td>\n",
       "      <td>41.063086</td>\n",
       "      <td>51.516790</td>\n",
       "      <td>49.539482</td>\n",
       "      <td>...</td>\n",
       "      <td>3.0</td>\n",
       "      <td>8.805662e+07</td>\n",
       "      <td>43.298426</td>\n",
       "      <td>25.518553</td>\n",
       "      <td>-0.226796</td>\n",
       "      <td>-0.191609</td>\n",
       "      <td>32.049469</td>\n",
       "      <td>-9.509211</td>\n",
       "      <td>-4.817687</td>\n",
       "      <td>-0.031670</td>\n",
       "    </tr>\n",
       "    <tr>\n",
       "      <th>...</th>\n",
       "      <td>...</td>\n",
       "      <td>...</td>\n",
       "      <td>...</td>\n",
       "      <td>...</td>\n",
       "      <td>...</td>\n",
       "      <td>...</td>\n",
       "      <td>...</td>\n",
       "      <td>...</td>\n",
       "      <td>...</td>\n",
       "      <td>...</td>\n",
       "      <td>...</td>\n",
       "      <td>...</td>\n",
       "      <td>...</td>\n",
       "      <td>...</td>\n",
       "      <td>...</td>\n",
       "      <td>...</td>\n",
       "      <td>...</td>\n",
       "      <td>...</td>\n",
       "      <td>...</td>\n",
       "      <td>...</td>\n",
       "      <td>...</td>\n",
       "    </tr>\n",
       "    <tr>\n",
       "      <th>2023-11-22 15:30:00</th>\n",
       "      <td>233.0800</td>\n",
       "      <td>233.4300</td>\n",
       "      <td>233.0100</td>\n",
       "      <td>233.3100</td>\n",
       "      <td>691981.0</td>\n",
       "      <td>0.000600</td>\n",
       "      <td>0.000986</td>\n",
       "      <td>51.925258</td>\n",
       "      <td>50.569267</td>\n",
       "      <td>46.142918</td>\n",
       "      <td>...</td>\n",
       "      <td>1.0</td>\n",
       "      <td>9.422860e+08</td>\n",
       "      <td>54.969588</td>\n",
       "      <td>49.854528</td>\n",
       "      <td>-0.073070</td>\n",
       "      <td>-0.115703</td>\n",
       "      <td>60.141164</td>\n",
       "      <td>-4.119316</td>\n",
       "      <td>-5.710006</td>\n",
       "      <td>-0.179047</td>\n",
       "    </tr>\n",
       "    <tr>\n",
       "      <th>2023-11-22 15:35:00</th>\n",
       "      <td>233.3200</td>\n",
       "      <td>233.4900</td>\n",
       "      <td>233.2100</td>\n",
       "      <td>233.4500</td>\n",
       "      <td>600678.0</td>\n",
       "      <td>0.001028</td>\n",
       "      <td>0.000600</td>\n",
       "      <td>53.352797</td>\n",
       "      <td>50.586787</td>\n",
       "      <td>46.412396</td>\n",
       "      <td>...</td>\n",
       "      <td>2.0</td>\n",
       "      <td>9.423221e+08</td>\n",
       "      <td>53.069949</td>\n",
       "      <td>52.551986</td>\n",
       "      <td>-0.025758</td>\n",
       "      <td>-0.088811</td>\n",
       "      <td>59.429339</td>\n",
       "      <td>-2.570393</td>\n",
       "      <td>-5.261490</td>\n",
       "      <td>-0.181043</td>\n",
       "    </tr>\n",
       "    <tr>\n",
       "      <th>2023-11-22 15:40:00</th>\n",
       "      <td>233.4600</td>\n",
       "      <td>233.7000</td>\n",
       "      <td>233.2700</td>\n",
       "      <td>233.6900</td>\n",
       "      <td>973646.0</td>\n",
       "      <td>0.001455</td>\n",
       "      <td>0.001028</td>\n",
       "      <td>55.777095</td>\n",
       "      <td>50.616828</td>\n",
       "      <td>46.874686</td>\n",
       "      <td>...</td>\n",
       "      <td>1.0</td>\n",
       "      <td>9.424222e+08</td>\n",
       "      <td>48.674596</td>\n",
       "      <td>55.741677</td>\n",
       "      <td>0.025860</td>\n",
       "      <td>-0.047715</td>\n",
       "      <td>65.324600</td>\n",
       "      <td>-0.558022</td>\n",
       "      <td>-4.589566</td>\n",
       "      <td>-0.177164</td>\n",
       "    </tr>\n",
       "    <tr>\n",
       "      <th>2023-11-22 15:45:00</th>\n",
       "      <td>233.6900</td>\n",
       "      <td>234.1500</td>\n",
       "      <td>233.5800</td>\n",
       "      <td>234.0300</td>\n",
       "      <td>994516.0</td>\n",
       "      <td>-0.000342</td>\n",
       "      <td>0.001454</td>\n",
       "      <td>59.025889</td>\n",
       "      <td>50.659374</td>\n",
       "      <td>47.525290</td>\n",
       "      <td>...</td>\n",
       "      <td>1.0</td>\n",
       "      <td>9.425669e+08</td>\n",
       "      <td>39.471512</td>\n",
       "      <td>59.718936</td>\n",
       "      <td>0.105390</td>\n",
       "      <td>0.005421</td>\n",
       "      <td>71.625497</td>\n",
       "      <td>2.135027</td>\n",
       "      <td>-3.628910</td>\n",
       "      <td>-0.171414</td>\n",
       "    </tr>\n",
       "    <tr>\n",
       "      <th>2023-11-22 15:50:00</th>\n",
       "      <td>234.0200</td>\n",
       "      <td>234.1800</td>\n",
       "      <td>233.6900</td>\n",
       "      <td>233.9500</td>\n",
       "      <td>1005743.0</td>\n",
       "      <td>0.001111</td>\n",
       "      <td>-0.000342</td>\n",
       "      <td>57.947183</td>\n",
       "      <td>50.649095</td>\n",
       "      <td>47.386764</td>\n",
       "      <td>...</td>\n",
       "      <td>3.0</td>\n",
       "      <td>9.425325e+08</td>\n",
       "      <td>40.837866</td>\n",
       "      <td>63.397070</td>\n",
       "      <td>0.186997</td>\n",
       "      <td>0.070623</td>\n",
       "      <td>66.706239</td>\n",
       "      <td>4.081510</td>\n",
       "      <td>-2.527421</td>\n",
       "      <td>-0.178385</td>\n",
       "    </tr>\n",
       "  </tbody>\n",
       "</table>\n",
       "<p>55104 rows × 77 columns</p>\n",
       "</div>"
      ],
      "text/plain": [
       "                         Open      High       Low     Close     Volume  \\\n",
       "date                                                                     \n",
       "2021-02-03 12:55:00  286.4500  286.8633  285.8833  286.1267   459699.0   \n",
       "2021-02-03 13:00:00  286.1133  286.9533  286.1033  286.3467   255252.0   \n",
       "2021-02-03 13:05:00  286.3000  286.6233  286.0333  286.3500   132573.0   \n",
       "2021-02-03 13:10:00  286.3633  286.7033  286.3433  286.4667   115692.0   \n",
       "2021-02-03 13:15:00  286.5000  286.7267  286.0033  286.3300   135681.0   \n",
       "...                       ...       ...       ...       ...        ...   \n",
       "2023-11-22 15:30:00  233.0800  233.4300  233.0100  233.3100   691981.0   \n",
       "2023-11-22 15:35:00  233.3200  233.4900  233.2100  233.4500   600678.0   \n",
       "2023-11-22 15:40:00  233.4600  233.7000  233.2700  233.6900   973646.0   \n",
       "2023-11-22 15:45:00  233.6900  234.1500  233.5800  234.0300   994516.0   \n",
       "2023-11-22 15:50:00  234.0200  234.1800  233.6900  233.9500  1005743.0   \n",
       "\n",
       "                        LABEL  PREV_RETURN     RSI_14    RSI_840     RSI_70  \\\n",
       "date                                                                          \n",
       "2021-02-03 12:55:00  0.000769    -0.001443  38.589439  51.500601  49.275659   \n",
       "2021-02-03 13:00:00  0.000012     0.000769  40.865114  51.518911  49.560990   \n",
       "2021-02-03 13:05:00  0.000408     0.000012  40.900491  51.519186  49.565307   \n",
       "2021-02-03 13:10:00 -0.000477     0.000407  42.217004  51.528917  49.719704   \n",
       "2021-02-03 13:15:00 -0.000570    -0.000477  41.063086  51.516790  49.539482   \n",
       "...                       ...          ...        ...        ...        ...   \n",
       "2023-11-22 15:30:00  0.000600     0.000986  51.925258  50.569267  46.142918   \n",
       "2023-11-22 15:35:00  0.001028     0.000600  53.352797  50.586787  46.412396   \n",
       "2023-11-22 15:40:00  0.001455     0.001028  55.777095  50.616828  46.874686   \n",
       "2023-11-22 15:45:00 -0.000342     0.001454  59.025889  50.659374  47.525290   \n",
       "2023-11-22 15:50:00  0.001111    -0.000342  57.947183  50.649095  47.386764   \n",
       "\n",
       "                     ...  PVR           PVT  CHOP_14_1_100     RSX_14  \\\n",
       "date                 ...                                                \n",
       "2021-02-03 12:55:00  ...  4.0  8.803861e+07      46.669668  43.677265   \n",
       "2021-02-03 13:00:00  ...  2.0  8.805823e+07      45.906915  36.725154   \n",
       "2021-02-03 13:05:00  ...  2.0  8.805838e+07      44.408598  31.507992   \n",
       "2021-02-03 13:10:00  ...  2.0  8.806310e+07      42.641712  28.070207   \n",
       "2021-02-03 13:15:00  ...  3.0  8.805662e+07      43.298426  25.518553   \n",
       "...                  ...  ...           ...            ...        ...   \n",
       "2023-11-22 15:30:00  ...  1.0  9.422860e+08      54.969588  49.854528   \n",
       "2023-11-22 15:35:00  ...  2.0  9.423221e+08      53.069949  52.551986   \n",
       "2023-11-22 15:40:00  ...  1.0  9.424222e+08      48.674596  55.741677   \n",
       "2023-11-22 15:45:00  ...  1.0  9.425669e+08      39.471512  59.718936   \n",
       "2023-11-22 15:50:00  ...  3.0  9.425325e+08      40.837866  63.397070   \n",
       "\n",
       "                     RVGI_14_4  RVGIs_14_4  UO_7_14_28  TSI_13_25_13  \\\n",
       "date                                                                   \n",
       "2021-02-03 12:55:00  -0.034304    0.104102   29.863009     -3.577866   \n",
       "2021-02-03 13:00:00  -0.128016    0.019149   28.282276     -5.574056   \n",
       "2021-02-03 13:05:00  -0.184191   -0.071943   30.175838     -7.219708   \n",
       "2021-02-03 13:10:00  -0.213231   -0.145325   29.110498     -8.288995   \n",
       "2021-02-03 13:15:00  -0.226796   -0.191609   32.049469     -9.509211   \n",
       "...                        ...         ...         ...           ...   \n",
       "2023-11-22 15:30:00  -0.073070   -0.115703   60.141164     -4.119316   \n",
       "2023-11-22 15:35:00  -0.025758   -0.088811   59.429339     -2.570393   \n",
       "2023-11-22 15:40:00   0.025860   -0.047715   65.324600     -0.558022   \n",
       "2023-11-22 15:45:00   0.105390    0.005421   71.625497      2.135027   \n",
       "2023-11-22 15:50:00   0.186997    0.070623   66.706239      4.081510   \n",
       "\n",
       "                     TSIs_13_25_13  serial_correlation_50_1  \n",
       "date                                                         \n",
       "2021-02-03 12:55:00      -2.195433                -0.020455  \n",
       "2021-02-03 13:00:00      -2.678093                -0.017953  \n",
       "2021-02-03 13:05:00      -3.326895                -0.015336  \n",
       "2021-02-03 13:10:00      -4.035767                -0.018006  \n",
       "2021-02-03 13:15:00      -4.817687                -0.031670  \n",
       "...                            ...                      ...  \n",
       "2023-11-22 15:30:00      -5.710006                -0.179047  \n",
       "2023-11-22 15:35:00      -5.261490                -0.181043  \n",
       "2023-11-22 15:40:00      -4.589566                -0.177164  \n",
       "2023-11-22 15:45:00      -3.628910                -0.171414  \n",
       "2023-11-22 15:50:00      -2.527421                -0.178385  \n",
       "\n",
       "[55104 rows x 77 columns]"
      ]
     },
     "execution_count": 85,
     "metadata": {},
     "output_type": "execute_result"
    }
   ],
   "source": [
    "df = pd.read_csv('sample_data/tsla_returns_prediction',index_col=0,parse_dates=['date'])\n",
    " \n",
    "df"
   ]
  },
  {
   "cell_type": "markdown",
   "id": "ef6810bd",
   "metadata": {},
   "source": [
    "##### Define Feature Columns"
   ]
  },
  {
   "cell_type": "code",
   "execution_count": 86,
   "id": "fd922ccf",
   "metadata": {},
   "outputs": [],
   "source": [
    "feature_cols=['RSI_14',\n",
    " 'RSI_840',\n",
    " 'RSI_70',\n",
    " 'PPO_12_26_9',\n",
    " 'PPO_40_200_12',\n",
    " 'PPOh_40_200_12',\n",
    " 'PPOs_40_200_12',\n",
    " 'LOGRET_840',\n",
    " 'LOGRET_1',\n",
    " 'LOGRET_2',\n",
    " 'LOGRET_3',\n",
    " 'AROOND_14',\n",
    " 'AROONU_14',\n",
    " 'AROONOSC_14',\n",
    " 'BOP',\n",
    " 'MFI_14',\n",
    " 'serial_correlation_50_1']"
   ]
  },
  {
   "cell_type": "markdown",
   "id": "20f53b1e",
   "metadata": {},
   "source": [
    "##### Split into training/test"
   ]
  },
  {
   "cell_type": "code",
   "execution_count": 87,
   "id": "9886c60e",
   "metadata": {},
   "outputs": [],
   "source": [
    "train=df.loc[:'2022-12-31']\n",
    "test=df.loc['2023-01-02':]"
   ]
  },
  {
   "cell_type": "code",
   "execution_count": 88,
   "id": "e42af021",
   "metadata": {},
   "outputs": [],
   "source": [
    "from sklearn.ensemble import RandomForestRegressor\n",
    "reg = RandomForestRegressor(n_estimators=100,max_depth=5,criterion='absolute_error',oob_score=True,n_jobs=-1,max_features=0.1)\n",
    "reg = reg.fit(train[feature_cols], train['LABEL'])\n"
   ]
  },
  {
   "cell_type": "code",
   "execution_count": null,
   "id": "c6f288d2",
   "metadata": {},
   "outputs": [],
   "source": []
  },
  {
   "cell_type": "code",
   "execution_count": null,
   "id": "c44d76ad",
   "metadata": {},
   "outputs": [],
   "source": []
  }
 ],
 "metadata": {
  "kernelspec": {
   "display_name": "py310",
   "language": "python",
   "name": "py310"
  },
  "language_info": {
   "codemirror_mode": {
    "name": "ipython",
    "version": 3
   },
   "file_extension": ".py",
   "mimetype": "text/x-python",
   "name": "python",
   "nbconvert_exporter": "python",
   "pygments_lexer": "ipython3",
   "version": "3.10.13"
  }
 },
 "nbformat": 4,
 "nbformat_minor": 5
}
