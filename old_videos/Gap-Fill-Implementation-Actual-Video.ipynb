{
 "cells": [
  {
   "cell_type": "markdown",
   "id": "a0eb4bcf",
   "metadata": {},
   "source": [
    "# THIS NOTEBOOK IS NOT TESTED AND COULD HAVE A MAJOR BUG\n",
    "* Not finnacial advice\n",
    "* Be careful!\n",
    "* Notebook is at your own risk!\n",
    "* I am not responsible for anything in this notebook"
   ]
  },
  {
   "cell_type": "code",
   "execution_count": 5,
   "id": "ec66af84",
   "metadata": {},
   "outputs": [
    {
     "data": {
      "text/html": [
       "\n",
       "<style>\n",
       ".container { width:100% !important; }\n",
       "</style>\n"
      ],
      "text/plain": [
       "<IPython.core.display.HTML object>"
      ]
     },
     "execution_count": 5,
     "metadata": {},
     "output_type": "execute_result"
    }
   ],
   "source": [
    "from IPython.core.display import HTML\n",
    "import datetime\n",
    "import pandas as pd\n",
    "HTML(\"\"\"\n",
    "<style>\n",
    ".container { width:100% !important; }\n",
    "</style>\n",
    "\"\"\")\n"
   ]
  },
  {
   "cell_type": "code",
   "execution_count": 6,
   "id": "9554fc34",
   "metadata": {},
   "outputs": [],
   "source": [
    "import datetime\n",
    "import numpy as np\n",
    " "
   ]
  },
  {
   "cell_type": "markdown",
   "id": "a3976e0a",
   "metadata": {},
   "source": [
    "### Connect to IB as always"
   ]
  },
  {
   "cell_type": "code",
   "execution_count": 7,
   "id": "a4c00b74",
   "metadata": {},
   "outputs": [
    {
     "data": {
      "text/plain": [
       "<IB connected to 127.0.0.1:4004 clientId=0>"
      ]
     },
     "execution_count": 7,
     "metadata": {},
     "output_type": "execute_result"
    }
   ],
   "source": [
    "from ib_insync import *\n",
    "ib = IB()\n",
    "util.startLoop()\n",
    "ib.connect(port=4004,clientId=0)"
   ]
  },
  {
   "cell_type": "markdown",
   "id": "781aa099",
   "metadata": {},
   "source": [
    "## Possible Ideas\n",
    "1. Simple stock trading (Medium Risk, Begginer)\n",
    "    - Opening Gap Up: \n",
    "        * Sell at market or some sort of limit and take profit at gap fill and have stop loss at open + 2 x opening_gap\n",
    "    - Opening Gap Down:\n",
    "        * Buy at market or some sort of limit and take profit at gap fill and have wide stop loss at open-2 x opening gap  \n",
    "2. Selling Options (Less risky, Medium Level)\n",
    "    - Opening Gap Up: \n",
    "        * Sell call option market or some sort of limit and take profit at call price corresponding to gap fill.\n",
    "    - Opening Gap Down:\n",
    "        * Sell put option market or some sort of limit and take profit at put price corresponding to gap fill.\n",
    "3. Trading Spreads (Higher risk, Advanced Level)\n",
    "    - Opening Gap Up: \n",
    "        * Buy bear debit spread market or some sort of limit and take profit at call price at gap fill\n",
    "    - Opening Gap Down:\n",
    "        * Buy bull debit spread at market or some sort of limit and take profit at put price at gap fill"
   ]
  },
  {
   "cell_type": "markdown",
   "id": "f531a2d5",
   "metadata": {},
   "source": [
    "### Notes on Gap Fills!"
   ]
  },
  {
   "cell_type": "markdown",
   "id": "b54639e6",
   "metadata": {},
   "source": [
    "* **Model Dependence on Index Components**: A better index model can depend on the components of the index. A simple model was used for illustration. Stock like MSFT out of wack due to earnings it can screw gap for example \n",
    "\n",
    "* **Gap Plays in Individual Stocks**: When individual stocks gap along with the market and there's no specific news driving the individual stock (e.g., if TSLA gaps with S&P by 2% without specific news on TSLA), such movements can be utilized as gap plays.\n",
    "\n",
    "* **Professional Gaps in High Market Volume**: Gaps occurring during high market volume are termed professional gaps and may take weeks to fill.\n",
    "\n",
    "* **Fading Strategies Based on Volume**: When there is news with low to moderate premarket volume, these can often be faded regularly.\n",
    "\n",
    "The above points also incorporate some ideas from John Carter's book, *Mastering the Trade*.\n",
    "\n",
    "* **Adjust for dividends!**\n"
   ]
  },
  {
   "cell_type": "markdown",
   "id": "2374da76",
   "metadata": {},
   "source": [
    "## Game Plan (Must run between 9:00 and 9:30 PM EST)\n",
    "####  1. Get keep up to date historical bars with say 5 minutes\n",
    "#### 2. Attach callback where On first onBarUpdate with hasNewBar = True\n",
    "    - Calculate Features for Model\n",
    "    - Make Prediction\n",
    "    - if Prediction > PROB_THESH + GAP>MIN_GAP_PCT then take trade!"
   ]
  },
  {
   "cell_type": "markdown",
   "id": "79bb45c4",
   "metadata": {},
   "source": [
    "## Review\n",
    "### 1. Bracket Orders with ib_insync\n"
   ]
  },
  {
   "cell_type": "code",
   "execution_count": 27,
   "id": "2fce28be",
   "metadata": {},
   "outputs": [
    {
     "data": {
      "text/plain": [
       "BracketOrder(parent=LimitOrder(orderId=4552, action='BUY', totalQuantity=100, lmtPrice=148, transmit=False), takeProfit=LimitOrder(orderId=4553, action='SELL', totalQuantity=100, lmtPrice=150, transmit=False, parentId=4552), stopLoss=StopOrder(orderId=4554, action='SELL', totalQuantity=100, auxPrice=143, parentId=4552))"
      ]
     },
     "execution_count": 27,
     "metadata": {},
     "output_type": "execute_result"
    }
   ],
   "source": [
    "bracket_orders=ib.bracketOrder(action='BUY',quantity=100,limitPrice=148,takeProfitPrice=150,stopLossPrice=143)\n",
    "bracket_orders"
   ]
  },
  {
   "cell_type": "markdown",
   "id": "8be042d5",
   "metadata": {},
   "source": [
    "#### Placing Orders"
   ]
  },
  {
   "cell_type": "code",
   "execution_count": 29,
   "id": "db3919d8",
   "metadata": {},
   "outputs": [],
   "source": [
    "for order in bracket_orders:\n",
    "    ib.placeOrder(stock,order)"
   ]
  },
  {
   "cell_type": "code",
   "execution_count": 34,
   "id": "701107c7",
   "metadata": {},
   "outputs": [
    {
     "data": {
      "text/html": [
       "<div>\n",
       "<style scoped>\n",
       "    .dataframe tbody tr th:only-of-type {\n",
       "        vertical-align: middle;\n",
       "    }\n",
       "\n",
       "    .dataframe tbody tr th {\n",
       "        vertical-align: top;\n",
       "    }\n",
       "\n",
       "    .dataframe thead th {\n",
       "        text-align: right;\n",
       "    }\n",
       "</style>\n",
       "<table border=\"1\" class=\"dataframe\">\n",
       "  <thead>\n",
       "    <tr style=\"text-align: right;\">\n",
       "      <th></th>\n",
       "      <th>execId</th>\n",
       "      <th>time</th>\n",
       "      <th>acctNumber</th>\n",
       "      <th>exchange</th>\n",
       "      <th>side</th>\n",
       "      <th>shares</th>\n",
       "      <th>price</th>\n",
       "      <th>permId</th>\n",
       "      <th>clientId</th>\n",
       "      <th>orderId</th>\n",
       "      <th>liquidation</th>\n",
       "      <th>cumQty</th>\n",
       "      <th>avgPrice</th>\n",
       "      <th>orderRef</th>\n",
       "      <th>evRule</th>\n",
       "      <th>evMultiplier</th>\n",
       "      <th>modelCode</th>\n",
       "      <th>lastLiquidity</th>\n",
       "    </tr>\n",
       "  </thead>\n",
       "  <tbody>\n",
       "    <tr>\n",
       "      <th>0</th>\n",
       "      <td>0000e0d5.663c8b81.01.01</td>\n",
       "      <td>2024-05-09 15:24:05+00:00</td>\n",
       "      <td>DU7351505</td>\n",
       "      <td>ISLAND</td>\n",
       "      <td>BOT</td>\n",
       "      <td>100.0</td>\n",
       "      <td>147.98</td>\n",
       "      <td>1822726460</td>\n",
       "      <td>0</td>\n",
       "      <td>4552</td>\n",
       "      <td>0</td>\n",
       "      <td>100.0</td>\n",
       "      <td>147.98</td>\n",
       "      <td></td>\n",
       "      <td></td>\n",
       "      <td>0.0</td>\n",
       "      <td></td>\n",
       "      <td>2</td>\n",
       "    </tr>\n",
       "  </tbody>\n",
       "</table>\n",
       "</div>"
      ],
      "text/plain": [
       "                    execId                      time acctNumber exchange side  \\\n",
       "0  0000e0d5.663c8b81.01.01 2024-05-09 15:24:05+00:00  DU7351505   ISLAND  BOT   \n",
       "\n",
       "   shares   price      permId  clientId  orderId  liquidation  cumQty  \\\n",
       "0   100.0  147.98  1822726460         0     4552            0   100.0   \n",
       "\n",
       "   avgPrice orderRef evRule  evMultiplier modelCode  lastLiquidity  \n",
       "0    147.98                           0.0                        2  "
      ]
     },
     "execution_count": 34,
     "metadata": {},
     "output_type": "execute_result"
    }
   ],
   "source": [
    "util.df([fill.execution for fill in ib.fills()])"
   ]
  },
  {
   "cell_type": "markdown",
   "id": "dfeeeaab",
   "metadata": {},
   "source": [
    "#### Open trades"
   ]
  },
  {
   "cell_type": "code",
   "execution_count": 36,
   "id": "0d77946d",
   "metadata": {},
   "outputs": [
    {
     "data": {
      "text/html": [
       "<div>\n",
       "<style scoped>\n",
       "    .dataframe tbody tr th:only-of-type {\n",
       "        vertical-align: middle;\n",
       "    }\n",
       "\n",
       "    .dataframe tbody tr th {\n",
       "        vertical-align: top;\n",
       "    }\n",
       "\n",
       "    .dataframe thead th {\n",
       "        text-align: right;\n",
       "    }\n",
       "</style>\n",
       "<table border=\"1\" class=\"dataframe\">\n",
       "  <thead>\n",
       "    <tr style=\"text-align: right;\">\n",
       "      <th></th>\n",
       "      <th>orderId</th>\n",
       "      <th>clientId</th>\n",
       "      <th>permId</th>\n",
       "      <th>action</th>\n",
       "      <th>totalQuantity</th>\n",
       "      <th>orderType</th>\n",
       "      <th>lmtPrice</th>\n",
       "      <th>auxPrice</th>\n",
       "      <th>tif</th>\n",
       "      <th>activeStartTime</th>\n",
       "      <th>...</th>\n",
       "      <th>usePriceMgmtAlgo</th>\n",
       "      <th>duration</th>\n",
       "      <th>postToAts</th>\n",
       "      <th>advancedErrorOverride</th>\n",
       "      <th>manualOrderTime</th>\n",
       "      <th>minTradeQty</th>\n",
       "      <th>minCompeteSize</th>\n",
       "      <th>competeAgainstBestOffset</th>\n",
       "      <th>midOffsetAtWhole</th>\n",
       "      <th>midOffsetAtHalf</th>\n",
       "    </tr>\n",
       "  </thead>\n",
       "  <tbody>\n",
       "    <tr>\n",
       "      <th>0</th>\n",
       "      <td>4553</td>\n",
       "      <td>0</td>\n",
       "      <td>1822726461</td>\n",
       "      <td>SELL</td>\n",
       "      <td>100.0</td>\n",
       "      <td>LMT</td>\n",
       "      <td>150.0</td>\n",
       "      <td>0.0</td>\n",
       "      <td></td>\n",
       "      <td></td>\n",
       "      <td>...</td>\n",
       "      <td>False</td>\n",
       "      <td>2147483647</td>\n",
       "      <td>2147483647</td>\n",
       "      <td></td>\n",
       "      <td></td>\n",
       "      <td>2147483647</td>\n",
       "      <td>2147483647</td>\n",
       "      <td>1.797693e+308</td>\n",
       "      <td>1.797693e+308</td>\n",
       "      <td>1.797693e+308</td>\n",
       "    </tr>\n",
       "    <tr>\n",
       "      <th>1</th>\n",
       "      <td>4554</td>\n",
       "      <td>0</td>\n",
       "      <td>1822726462</td>\n",
       "      <td>SELL</td>\n",
       "      <td>100.0</td>\n",
       "      <td>STP</td>\n",
       "      <td>0.0</td>\n",
       "      <td>143.0</td>\n",
       "      <td></td>\n",
       "      <td></td>\n",
       "      <td>...</td>\n",
       "      <td>False</td>\n",
       "      <td>2147483647</td>\n",
       "      <td>2147483647</td>\n",
       "      <td></td>\n",
       "      <td></td>\n",
       "      <td>2147483647</td>\n",
       "      <td>2147483647</td>\n",
       "      <td>1.797693e+308</td>\n",
       "      <td>1.797693e+308</td>\n",
       "      <td>1.797693e+308</td>\n",
       "    </tr>\n",
       "  </tbody>\n",
       "</table>\n",
       "<p>2 rows × 139 columns</p>\n",
       "</div>"
      ],
      "text/plain": [
       "   orderId  clientId      permId action  totalQuantity orderType  lmtPrice  \\\n",
       "0     4553         0  1822726461   SELL          100.0       LMT     150.0   \n",
       "1     4554         0  1822726462   SELL          100.0       STP       0.0   \n",
       "\n",
       "   auxPrice tif activeStartTime  ... usePriceMgmtAlgo    duration   postToAts  \\\n",
       "0       0.0                      ...            False  2147483647  2147483647   \n",
       "1     143.0                      ...            False  2147483647  2147483647   \n",
       "\n",
       "  advancedErrorOverride  manualOrderTime  minTradeQty  minCompeteSize  \\\n",
       "0                                          2147483647      2147483647   \n",
       "1                                          2147483647      2147483647   \n",
       "\n",
       "   competeAgainstBestOffset  midOffsetAtWhole  midOffsetAtHalf  \n",
       "0             1.797693e+308     1.797693e+308    1.797693e+308  \n",
       "1             1.797693e+308     1.797693e+308    1.797693e+308  \n",
       "\n",
       "[2 rows x 139 columns]"
      ]
     },
     "execution_count": 36,
     "metadata": {},
     "output_type": "execute_result"
    }
   ],
   "source": [
    "util.df(ib.openOrders())"
   ]
  },
  {
   "cell_type": "markdown",
   "id": "2560c565",
   "metadata": {},
   "source": [
    "#### Cancelling Orders"
   ]
  },
  {
   "cell_type": "code",
   "execution_count": 37,
   "id": "99418ae3",
   "metadata": {},
   "outputs": [],
   "source": [
    "for order in ib.openOrders():\n",
    "    ib.cancelOrder(order)"
   ]
  },
  {
   "cell_type": "markdown",
   "id": "107ff591",
   "metadata": {},
   "source": [
    "#### Function to place bracket order"
   ]
  },
  {
   "cell_type": "code",
   "execution_count": 191,
   "id": "0581375d",
   "metadata": {},
   "outputs": [],
   "source": [
    "def place_bracket_order(action,qty,limit,take_profit,stop_loss):\n",
    "    bracket_orders=ib.bracketOrder(action=action,quantity=qty,limitPrice=limit,takeProfitPrice=take_profit,stopLossPrice=stop_loss)\n",
    "    for order in bracket_orders:\n",
    "        ib.placeOrder(stock,order)\n",
    "    "
   ]
  },
  {
   "cell_type": "markdown",
   "id": "af709e6b",
   "metadata": {},
   "source": [
    "### 2. Requesting Historical Data with keep up to date = True and callbacks"
   ]
  },
  {
   "cell_type": "code",
   "execution_count": 8,
   "id": "6730e5c1",
   "metadata": {},
   "outputs": [
    {
     "data": {
      "text/plain": [
       "[Stock(conId=459530964, symbol='ABNB', exchange='SMART', primaryExchange='NASDAQ', currency='USD', localSymbol='ABNB', tradingClass='NMS')]"
      ]
     },
     "execution_count": 8,
     "metadata": {},
     "output_type": "execute_result"
    }
   ],
   "source": [
    "stock = Stock(symbol='ABNB',exchange='SMART',currency='USD')\n",
    "ib.qualifyContracts(stock)\n"
   ]
  },
  {
   "cell_type": "code",
   "execution_count": 9,
   "id": "9ea9dc2c",
   "metadata": {},
   "outputs": [],
   "source": [
    "bars = ib.reqHistoricalData(stock,\"\",durationStr='30 D',barSizeSetting='5 mins',whatToShow='TRADES',useRTH=False,keepUpToDate=True)"
   ]
  },
  {
   "cell_type": "code",
   "execution_count": 39,
   "id": "de6cc110",
   "metadata": {},
   "outputs": [
    {
     "data": {
      "text/plain": [
       "datetime.datetime(2024, 5, 9, 11, 27, 16, 838765)"
      ]
     },
     "execution_count": 39,
     "metadata": {},
     "output_type": "execute_result"
    }
   ],
   "source": [
    "datetime.datetime.now()"
   ]
  },
  {
   "cell_type": "markdown",
   "id": "7705ae81",
   "metadata": {},
   "source": [
    "#### Callbacks\n",
    "* When bar is completed you actually get 2 bars right after another. One with a new bar with volume = -1"
   ]
  },
  {
   "cell_type": "code",
   "execution_count": 40,
   "id": "6905b76c",
   "metadata": {},
   "outputs": [
    {
     "name": "stdout",
     "output_type": "stream",
     "text": [
      "2024-05-09 11:28:16.337377\n",
      "                          date    open    high     low   close    volume  \\\n",
      "4990 2024-05-09 11:15:00-04:00  147.63  148.25  147.61  148.00  114490.0   \n",
      "4991 2024-05-09 11:20:00-04:00  148.03  148.20  147.72  147.79   60858.0   \n",
      "4992 2024-05-09 11:25:00-04:00  147.72  148.28  147.63  148.24   68741.0   \n",
      "\n",
      "         average  barCount  \n",
      "4990  147.876947       687  \n",
      "4991  147.942425       408  \n",
      "4992  147.952789       298  \n",
      "2024-05-09 11:28:21.328028\n",
      "                          date    open    high     low   close    volume  \\\n",
      "4990 2024-05-09 11:15:00-04:00  147.63  148.25  147.61  148.00  114490.0   \n",
      "4991 2024-05-09 11:20:00-04:00  148.03  148.20  147.72  147.79   60858.0   \n",
      "4992 2024-05-09 11:25:00-04:00  147.72  148.28  147.63  148.23   68741.0   \n",
      "\n",
      "         average  barCount  \n",
      "4990  147.876947       687  \n",
      "4991  147.942425       408  \n",
      "4992  147.952789       298  \n",
      "2024-05-09 11:28:30.638106\n",
      "                          date    open    high     low   close    volume  \\\n",
      "4990 2024-05-09 11:15:00-04:00  147.63  148.25  147.61  148.00  114490.0   \n",
      "4991 2024-05-09 11:20:00-04:00  148.03  148.20  147.72  147.79   60858.0   \n",
      "4992 2024-05-09 11:25:00-04:00  147.72  148.28  147.63  148.20   70041.0   \n",
      "\n",
      "         average  barCount  \n",
      "4990  147.876947       687  \n",
      "4991  147.942425       408  \n",
      "4992  147.957534       304  \n",
      "2024-05-09 11:28:36.357841\n",
      "                          date    open    high     low   close    volume  \\\n",
      "4990 2024-05-09 11:15:00-04:00  147.63  148.25  147.61  148.00  114490.0   \n",
      "4991 2024-05-09 11:20:00-04:00  148.03  148.20  147.72  147.79   60858.0   \n",
      "4992 2024-05-09 11:25:00-04:00  147.72  148.28  147.63  148.19   70841.0   \n",
      "\n",
      "         average  barCount  \n",
      "4990  147.876947       687  \n",
      "4991  147.942425       408  \n",
      "4992  147.960181       311  \n",
      "2024-05-09 11:28:41.325238\n",
      "                          date    open    high     low   close    volume  \\\n",
      "4990 2024-05-09 11:15:00-04:00  147.63  148.25  147.61  148.00  114490.0   \n",
      "4991 2024-05-09 11:20:00-04:00  148.03  148.20  147.72  147.79   60858.0   \n",
      "4992 2024-05-09 11:25:00-04:00  147.72  148.28  147.63  148.13   72624.0   \n",
      "\n",
      "         average  barCount  \n",
      "4990  147.876947       687  \n",
      "4991  147.942425       408  \n",
      "4992  147.965224       327  \n",
      "2024-05-09 11:28:51.357004\n",
      "                          date    open    high     low   close    volume  \\\n",
      "4990 2024-05-09 11:15:00-04:00  147.63  148.25  147.61  148.00  114490.0   \n",
      "4991 2024-05-09 11:20:00-04:00  148.03  148.20  147.72  147.79   60858.0   \n",
      "4992 2024-05-09 11:25:00-04:00  147.72  148.28  147.63  148.17   83820.0   \n",
      "\n",
      "         average  barCount  \n",
      "4990  147.876947       687  \n",
      "4991  147.942425       408  \n",
      "4992  147.995211       343  \n",
      "2024-05-09 11:28:56.323091\n",
      "                          date    open    high     low   close    volume  \\\n",
      "4990 2024-05-09 11:15:00-04:00  147.63  148.25  147.61  148.00  114490.0   \n",
      "4991 2024-05-09 11:20:00-04:00  148.03  148.20  147.72  147.79   60858.0   \n",
      "4992 2024-05-09 11:25:00-04:00  147.72  148.28  147.63  148.20   83920.0   \n",
      "\n",
      "         average  barCount  \n",
      "4990  147.876947       687  \n",
      "4991  147.942425       408  \n",
      "4992  147.995455       344  \n",
      "2024-05-09 11:29:06.363663\n",
      "                          date    open    high     low   close    volume  \\\n",
      "4990 2024-05-09 11:15:00-04:00  147.63  148.25  147.61  148.00  114490.0   \n",
      "4991 2024-05-09 11:20:00-04:00  148.03  148.20  147.72  147.79   60858.0   \n",
      "4992 2024-05-09 11:25:00-04:00  147.72  148.28  147.63  148.03   87074.0   \n",
      "\n",
      "         average  barCount  \n",
      "4990  147.876947       687  \n",
      "4991  147.942425       408  \n",
      "4992  147.998704       370  \n",
      "2024-05-09 11:29:11.318458\n",
      "                          date    open    high     low   close    volume  \\\n",
      "4990 2024-05-09 11:15:00-04:00  147.63  148.25  147.61  148.00  114490.0   \n",
      "4991 2024-05-09 11:20:00-04:00  148.03  148.20  147.72  147.79   60858.0   \n",
      "4992 2024-05-09 11:25:00-04:00  147.72  148.28  147.63  148.13   88228.0   \n",
      "\n",
      "         average  barCount  \n",
      "4990  147.876947       687  \n",
      "4991  147.942425       408  \n",
      "4992  148.000121       381  \n",
      "2024-05-09 11:29:16.354191\n",
      "                          date    open    high     low   close    volume  \\\n",
      "4990 2024-05-09 11:15:00-04:00  147.63  148.25  147.61  148.00  114490.0   \n",
      "4991 2024-05-09 11:20:00-04:00  148.03  148.20  147.72  147.79   60858.0   \n",
      "4992 2024-05-09 11:25:00-04:00  147.72  148.28  147.63  148.14   88328.0   \n",
      "\n",
      "         average  barCount  \n",
      "4990  147.876947       687  \n",
      "4991  147.942425       408  \n",
      "4992  148.000279       382  \n",
      "2024-05-09 11:29:26.389216\n",
      "                          date    open    high     low   close    volume  \\\n",
      "4990 2024-05-09 11:15:00-04:00  147.63  148.25  147.61  148.00  114490.0   \n",
      "4991 2024-05-09 11:20:00-04:00  148.03  148.20  147.72  147.79   60858.0   \n",
      "4992 2024-05-09 11:25:00-04:00  147.72  148.28  147.63  148.14   88840.0   \n",
      "\n",
      "         average  barCount  \n",
      "4990  147.876947       687  \n",
      "4991  147.942425       408  \n",
      "4992  148.001028       387  \n",
      "2024-05-09 11:29:31.326516\n",
      "                          date    open    high     low   close    volume  \\\n",
      "4990 2024-05-09 11:15:00-04:00  147.63  148.25  147.61  148.00  114490.0   \n",
      "4991 2024-05-09 11:20:00-04:00  148.03  148.20  147.72  147.79   60858.0   \n",
      "4992 2024-05-09 11:25:00-04:00  147.72  148.28  147.63  148.10   89345.0   \n",
      "\n",
      "         average  barCount  \n",
      "4990  147.876947       687  \n",
      "4991  147.942425       408  \n",
      "4992  148.001633       392  \n",
      "2024-05-09 11:29:41.397196\n",
      "                          date    open    high     low   close    volume  \\\n",
      "4990 2024-05-09 11:15:00-04:00  147.63  148.25  147.61  148.00  114490.0   \n",
      "4991 2024-05-09 11:20:00-04:00  148.03  148.20  147.72  147.79   60858.0   \n",
      "4992 2024-05-09 11:25:00-04:00  147.72  148.28  147.63  148.15   91945.0   \n",
      "\n",
      "         average  barCount  \n",
      "4990  147.876947       687  \n",
      "4991  147.942425       408  \n",
      "4992  148.005774       405  \n",
      "2024-05-09 11:29:46.347297\n",
      "                          date    open    high     low   close    volume  \\\n",
      "4990 2024-05-09 11:15:00-04:00  147.63  148.25  147.61  148.00  114490.0   \n",
      "4991 2024-05-09 11:20:00-04:00  148.03  148.20  147.72  147.79   60858.0   \n",
      "4992 2024-05-09 11:25:00-04:00  147.72  148.28  147.63  148.19   92245.0   \n",
      "\n",
      "         average  barCount  \n",
      "4990  147.876947       687  \n",
      "4991  147.942425       408  \n",
      "4992  148.006292       408  \n",
      "2024-05-09 11:29:51.363835\n",
      "                          date    open    high     low   close    volume  \\\n",
      "4990 2024-05-09 11:15:00-04:00  147.63  148.25  147.61  148.00  114490.0   \n",
      "4991 2024-05-09 11:20:00-04:00  148.03  148.20  147.72  147.79   60858.0   \n",
      "4992 2024-05-09 11:25:00-04:00  147.72  148.28  147.63  148.13   92345.0   \n",
      "\n",
      "         average  barCount  \n",
      "4990  147.876947       687  \n",
      "4991  147.942425       408  \n",
      "4992  148.006425       409  \n",
      "2024-05-09 11:29:56.327053\n",
      "                          date    open    high     low   close    volume  \\\n",
      "4990 2024-05-09 11:15:00-04:00  147.63  148.25  147.61  148.00  114490.0   \n",
      "4991 2024-05-09 11:20:00-04:00  148.03  148.20  147.72  147.79   60858.0   \n",
      "4992 2024-05-09 11:25:00-04:00  147.72  148.28  147.63  148.21   93770.0   \n",
      "\n",
      "         average  barCount  \n",
      "4990  147.876947       687  \n",
      "4991  147.942425       408  \n",
      "4992  148.009153       420  \n",
      "2024-05-09 11:30:00.842835\n",
      "                          date    open    high     low   close    volume  \\\n",
      "4990 2024-05-09 11:15:00-04:00  147.63  148.25  147.61  148.00  114490.0   \n",
      "4991 2024-05-09 11:20:00-04:00  148.03  148.20  147.72  147.79   60858.0   \n",
      "4992 2024-05-09 11:25:00-04:00  147.72  148.28  147.63  148.14   94170.0   \n",
      "\n",
      "         average  barCount  \n",
      "4990  147.876947       687  \n",
      "4991  147.942425       408  \n",
      "4992  148.009853       424  \n",
      "has New Bar\n",
      "2024-05-09 11:30:01.018642\n",
      "                          date    open    high     low   close   volume  \\\n",
      "4991 2024-05-09 11:20:00-04:00  148.03  148.20  147.72  147.79  60858.0   \n",
      "4992 2024-05-09 11:25:00-04:00  147.72  148.28  147.63  148.14  94170.0   \n",
      "4993 2024-05-09 11:30:00-04:00  148.20  148.20  148.20  148.20     -1.0   \n",
      "\n",
      "         average  barCount  \n",
      "4991  147.942425       408  \n",
      "4992  148.009853       424  \n",
      "4993  148.200000        -1  \n",
      "2024-05-09 11:30:05.678597\n",
      "                          date    open    high     low   close   volume  \\\n",
      "4991 2024-05-09 11:20:00-04:00  148.03  148.20  147.72  147.79  60858.0   \n",
      "4992 2024-05-09 11:25:00-04:00  147.72  148.28  147.63  148.14  94170.0   \n",
      "4993 2024-05-09 11:30:00-04:00  148.20  148.21  148.15  148.15   1149.0   \n",
      "\n",
      "         average  barCount  \n",
      "4991  147.942425       408  \n",
      "4992  148.009853       424  \n",
      "4993  148.193211        10  \n"
     ]
    },
    {
     "name": "stdout",
     "output_type": "stream",
     "text": [
      "2024-05-09 11:30:11.383845\n",
      "                          date    open    high     low   close   volume  \\\n",
      "4991 2024-05-09 11:20:00-04:00  148.03  148.20  147.72  147.79  60858.0   \n",
      "4992 2024-05-09 11:25:00-04:00  147.72  148.28  147.63  148.14  94170.0   \n",
      "4993 2024-05-09 11:30:00-04:00  148.20  148.21  148.10  148.10   2253.0   \n",
      "\n",
      "         average  barCount  \n",
      "4991  147.942425       408  \n",
      "4992  148.009853       424  \n",
      "4993  148.160186        20  \n",
      "2024-05-09 11:30:21.064234\n",
      "                          date    open    high     low   close   volume  \\\n",
      "4991 2024-05-09 11:20:00-04:00  148.03  148.20  147.72  147.79  60858.0   \n",
      "4992 2024-05-09 11:25:00-04:00  147.72  148.28  147.63  148.14  94170.0   \n",
      "4993 2024-05-09 11:30:00-04:00  148.20  148.21  148.10  148.15   2453.0   \n",
      "\n",
      "         average  barCount  \n",
      "4991  147.942425       408  \n",
      "4992  148.009853       424  \n",
      "4993  148.160171        22  \n",
      "2024-05-09 11:30:26.320892\n",
      "                          date    open    high     low   close   volume  \\\n",
      "4991 2024-05-09 11:20:00-04:00  148.03  148.20  147.72  147.79  60858.0   \n",
      "4992 2024-05-09 11:25:00-04:00  147.72  148.28  147.63  148.14  94170.0   \n",
      "4993 2024-05-09 11:30:00-04:00  148.20  148.21  148.10  148.12   3453.0   \n",
      "\n",
      "         average  barCount  \n",
      "4991  147.942425       408  \n",
      "4992  148.009853       424  \n",
      "4993  148.154909        31  \n",
      "2024-05-09 11:30:30.811916\n",
      "                          date    open    high     low   close   volume  \\\n",
      "4991 2024-05-09 11:20:00-04:00  148.03  148.20  147.72  147.79  60858.0   \n",
      "4992 2024-05-09 11:25:00-04:00  147.72  148.28  147.63  148.14  94170.0   \n",
      "4993 2024-05-09 11:30:00-04:00  148.20  148.21  147.98  147.98   6198.0   \n",
      "\n",
      "         average  barCount  \n",
      "4991  147.942425       408  \n",
      "4992  148.009853       424  \n",
      "4993  148.096144        52  \n",
      "2024-05-09 11:30:36.324154\n",
      "                          date    open    high     low   close   volume  \\\n",
      "4991 2024-05-09 11:20:00-04:00  148.03  148.20  147.72  147.79  60858.0   \n",
      "4992 2024-05-09 11:25:00-04:00  147.72  148.28  147.63  148.14  94170.0   \n",
      "4993 2024-05-09 11:30:00-04:00  148.20  148.21  147.93  147.95   8114.0   \n",
      "\n",
      "         average  barCount  \n",
      "4991  147.942425       408  \n",
      "4992  148.009853       424  \n",
      "4993  148.065600        68  \n",
      "2024-05-09 11:30:41.247623\n",
      "                          date    open    high     low   close   volume  \\\n",
      "4991 2024-05-09 11:20:00-04:00  148.03  148.20  147.72  147.79  60858.0   \n",
      "4992 2024-05-09 11:25:00-04:00  147.72  148.28  147.63  148.14  94170.0   \n",
      "4993 2024-05-09 11:30:00-04:00  148.20  148.21  147.93  147.95   8214.0   \n",
      "\n",
      "         average  barCount  \n",
      "4991  147.942425       408  \n",
      "4992  148.009853       424  \n",
      "4993  148.064193        69  \n",
      "2024-05-09 11:30:45.836707\n",
      "                          date    open    high     low   close   volume  \\\n",
      "4991 2024-05-09 11:20:00-04:00  148.03  148.20  147.72  147.79  60858.0   \n",
      "4992 2024-05-09 11:25:00-04:00  147.72  148.28  147.63  148.14  94170.0   \n",
      "4993 2024-05-09 11:30:00-04:00  148.20  148.21  147.93  148.00   9264.0   \n",
      "\n",
      "         average  barCount  \n",
      "4991  147.942425       408  \n",
      "4992  148.009853       424  \n",
      "4993  148.058340        78  \n"
     ]
    }
   ],
   "source": [
    "def on_bar_update(bars,hasNewBar):\n",
    "    if hasNewBar:\n",
    "        print(\"has New Bar\")\n",
    "    print(datetime.datetime.now())\n",
    "    print(util.df(bars).tail(3))\n",
    "bars.updateEvent.clear()\n",
    "bars.updateEvent+=on_bar_update"
   ]
  },
  {
   "cell_type": "code",
   "execution_count": 41,
   "id": "dcf7bda4",
   "metadata": {},
   "outputs": [],
   "source": [
    "bars.updateEvent.clear()"
   ]
  },
  {
   "cell_type": "markdown",
   "id": "e905fe81",
   "metadata": {},
   "source": [
    "### Get market data for stock"
   ]
  },
  {
   "cell_type": "code",
   "execution_count": 20,
   "id": "bbbeebca",
   "metadata": {},
   "outputs": [
    {
     "data": {
      "text/plain": [
       "True"
      ]
     },
     "execution_count": 20,
     "metadata": {},
     "output_type": "execute_result"
    }
   ],
   "source": [
    "stock_ticker = ib.reqMktData(stock,\"\",False,False)\n",
    "ib.sleep(2)"
   ]
  },
  {
   "cell_type": "code",
   "execution_count": 25,
   "id": "e02cf284",
   "metadata": {},
   "outputs": [
    {
     "data": {
      "text/plain": [
       "(146.6, 157.9, 150.01, 147.9)"
      ]
     },
     "execution_count": 25,
     "metadata": {},
     "output_type": "execute_result"
    }
   ],
   "source": [
    "stock_ticker.open,stock_ticker.close,stock_ticker.high,stock_ticker.marketPrice()"
   ]
  },
  {
   "cell_type": "markdown",
   "id": "d078324a",
   "metadata": {},
   "source": [
    "## Gap Fill with Buying/Shorting Stocks"
   ]
  },
  {
   "cell_type": "markdown",
   "id": "49ddfe14",
   "metadata": {},
   "source": [
    "### Components\n",
    "### 1. Load Model for predicting if gap will be filled (I am going to assume a dummy model that always predicts the probability as 1)\n",
    "* Assume just 3 simple features\n",
    "    * Gap PCT\n",
    "    * Relative Volume\n",
    "    * Day_Of_week\n"
   ]
  },
  {
   "cell_type": "markdown",
   "id": "d03364d9",
   "metadata": {},
   "source": [
    "#### Fit the Classifier on Historical Data:\n",
    "* We are using dummy classifier that only predicts 1"
   ]
  },
  {
   "cell_type": "code",
   "execution_count": 202,
   "id": "c6967763",
   "metadata": {},
   "outputs": [
    {
     "data": {
      "text/html": [
       "<div>\n",
       "<style scoped>\n",
       "    .dataframe tbody tr th:only-of-type {\n",
       "        vertical-align: middle;\n",
       "    }\n",
       "\n",
       "    .dataframe tbody tr th {\n",
       "        vertical-align: top;\n",
       "    }\n",
       "\n",
       "    .dataframe thead th {\n",
       "        text-align: right;\n",
       "    }\n",
       "</style>\n",
       "<table border=\"1\" class=\"dataframe\">\n",
       "  <thead>\n",
       "    <tr style=\"text-align: right;\">\n",
       "      <th></th>\n",
       "      <th>GAP_PCT</th>\n",
       "      <th>RELATIVE_VOLUME</th>\n",
       "      <th>DAY_OF_WEEK</th>\n",
       "    </tr>\n",
       "  </thead>\n",
       "  <tbody>\n",
       "    <tr>\n",
       "      <th>0</th>\n",
       "      <td>0.1</td>\n",
       "      <td>1</td>\n",
       "      <td>4</td>\n",
       "    </tr>\n",
       "    <tr>\n",
       "      <th>1</th>\n",
       "      <td>0.3</td>\n",
       "      <td>3</td>\n",
       "      <td>5</td>\n",
       "    </tr>\n",
       "    <tr>\n",
       "      <th>2</th>\n",
       "      <td>0.1</td>\n",
       "      <td>3</td>\n",
       "      <td>5</td>\n",
       "    </tr>\n",
       "  </tbody>\n",
       "</table>\n",
       "</div>"
      ],
      "text/plain": [
       "   GAP_PCT  RELATIVE_VOLUME  DAY_OF_WEEK\n",
       "0      0.1                1            4\n",
       "1      0.3                3            5\n",
       "2      0.1                3            5"
      ]
     },
     "execution_count": 202,
     "metadata": {},
     "output_type": "execute_result"
    }
   ],
   "source": [
    "features = pd.DataFrame({'GAP_PCT':[0.1,0.3,0.1],'RELATIVE_VOLUME':[1,3,3],'DAY_OF_WEEK':[4,5,5]},index=[0,1,2])\n",
    "labels=[1,0,1]\n",
    "features"
   ]
  },
  {
   "cell_type": "code",
   "execution_count": 203,
   "id": "d48f2349",
   "metadata": {},
   "outputs": [
    {
     "data": {
      "text/html": [
       "<style>#sk-container-id-13 {color: black;}#sk-container-id-13 pre{padding: 0;}#sk-container-id-13 div.sk-toggleable {background-color: white;}#sk-container-id-13 label.sk-toggleable__label {cursor: pointer;display: block;width: 100%;margin-bottom: 0;padding: 0.3em;box-sizing: border-box;text-align: center;}#sk-container-id-13 label.sk-toggleable__label-arrow:before {content: \"▸\";float: left;margin-right: 0.25em;color: #696969;}#sk-container-id-13 label.sk-toggleable__label-arrow:hover:before {color: black;}#sk-container-id-13 div.sk-estimator:hover label.sk-toggleable__label-arrow:before {color: black;}#sk-container-id-13 div.sk-toggleable__content {max-height: 0;max-width: 0;overflow: hidden;text-align: left;background-color: #f0f8ff;}#sk-container-id-13 div.sk-toggleable__content pre {margin: 0.2em;color: black;border-radius: 0.25em;background-color: #f0f8ff;}#sk-container-id-13 input.sk-toggleable__control:checked~div.sk-toggleable__content {max-height: 200px;max-width: 100%;overflow: auto;}#sk-container-id-13 input.sk-toggleable__control:checked~label.sk-toggleable__label-arrow:before {content: \"▾\";}#sk-container-id-13 div.sk-estimator input.sk-toggleable__control:checked~label.sk-toggleable__label {background-color: #d4ebff;}#sk-container-id-13 div.sk-label input.sk-toggleable__control:checked~label.sk-toggleable__label {background-color: #d4ebff;}#sk-container-id-13 input.sk-hidden--visually {border: 0;clip: rect(1px 1px 1px 1px);clip: rect(1px, 1px, 1px, 1px);height: 1px;margin: -1px;overflow: hidden;padding: 0;position: absolute;width: 1px;}#sk-container-id-13 div.sk-estimator {font-family: monospace;background-color: #f0f8ff;border: 1px dotted black;border-radius: 0.25em;box-sizing: border-box;margin-bottom: 0.5em;}#sk-container-id-13 div.sk-estimator:hover {background-color: #d4ebff;}#sk-container-id-13 div.sk-parallel-item::after {content: \"\";width: 100%;border-bottom: 1px solid gray;flex-grow: 1;}#sk-container-id-13 div.sk-label:hover label.sk-toggleable__label {background-color: #d4ebff;}#sk-container-id-13 div.sk-serial::before {content: \"\";position: absolute;border-left: 1px solid gray;box-sizing: border-box;top: 0;bottom: 0;left: 50%;z-index: 0;}#sk-container-id-13 div.sk-serial {display: flex;flex-direction: column;align-items: center;background-color: white;padding-right: 0.2em;padding-left: 0.2em;position: relative;}#sk-container-id-13 div.sk-item {position: relative;z-index: 1;}#sk-container-id-13 div.sk-parallel {display: flex;align-items: stretch;justify-content: center;background-color: white;position: relative;}#sk-container-id-13 div.sk-item::before, #sk-container-id-13 div.sk-parallel-item::before {content: \"\";position: absolute;border-left: 1px solid gray;box-sizing: border-box;top: 0;bottom: 0;left: 50%;z-index: -1;}#sk-container-id-13 div.sk-parallel-item {display: flex;flex-direction: column;z-index: 1;position: relative;background-color: white;}#sk-container-id-13 div.sk-parallel-item:first-child::after {align-self: flex-end;width: 50%;}#sk-container-id-13 div.sk-parallel-item:last-child::after {align-self: flex-start;width: 50%;}#sk-container-id-13 div.sk-parallel-item:only-child::after {width: 0;}#sk-container-id-13 div.sk-dashed-wrapped {border: 1px dashed gray;margin: 0 0.4em 0.5em 0.4em;box-sizing: border-box;padding-bottom: 0.4em;background-color: white;}#sk-container-id-13 div.sk-label label {font-family: monospace;font-weight: bold;display: inline-block;line-height: 1.2em;}#sk-container-id-13 div.sk-label-container {text-align: center;}#sk-container-id-13 div.sk-container {/* jupyter's `normalize.less` sets `[hidden] { display: none; }` but bootstrap.min.css set `[hidden] { display: none !important; }` so we also need the `!important` here to be able to override the default hidden behavior on the sphinx rendered scikit-learn.org. See: https://github.com/scikit-learn/scikit-learn/issues/21755 */display: inline-block !important;position: relative;}#sk-container-id-13 div.sk-text-repr-fallback {display: none;}</style><div id=\"sk-container-id-13\" class=\"sk-top-container\"><div class=\"sk-text-repr-fallback\"><pre>DummyClassifier(strategy=&#x27;most_frequent&#x27;)</pre><b>In a Jupyter environment, please rerun this cell to show the HTML representation or trust the notebook. <br />On GitHub, the HTML representation is unable to render, please try loading this page with nbviewer.org.</b></div><div class=\"sk-container\" hidden><div class=\"sk-item\"><div class=\"sk-estimator sk-toggleable\"><input class=\"sk-toggleable__control sk-hidden--visually\" id=\"sk-estimator-id-13\" type=\"checkbox\" checked><label for=\"sk-estimator-id-13\" class=\"sk-toggleable__label sk-toggleable__label-arrow\">DummyClassifier</label><div class=\"sk-toggleable__content\"><pre>DummyClassifier(strategy=&#x27;most_frequent&#x27;)</pre></div></div></div></div></div>"
      ],
      "text/plain": [
       "DummyClassifier(strategy='most_frequent')"
      ]
     },
     "execution_count": 203,
     "metadata": {},
     "output_type": "execute_result"
    }
   ],
   "source": [
    "from sklearn.dummy import DummyClassifier\n",
    "model = DummyClassifier(strategy='most_frequent')\n",
    "model.fit(features,labels)"
   ]
  },
  {
   "cell_type": "code",
   "execution_count": 204,
   "id": "db7ecece",
   "metadata": {},
   "outputs": [
    {
     "data": {
      "text/plain": [
       "array([[0., 1.],\n",
       "       [0., 1.],\n",
       "       [0., 1.]])"
      ]
     },
     "execution_count": 204,
     "metadata": {},
     "output_type": "execute_result"
    }
   ],
   "source": [
    "model.predict_proba(features)"
   ]
  },
  {
   "cell_type": "markdown",
   "id": "d0dc2f29",
   "metadata": {},
   "source": [
    "#### Save the model\n",
    "* Please use a much better model!"
   ]
  },
  {
   "cell_type": "code",
   "execution_count": 205,
   "id": "02d4976c",
   "metadata": {},
   "outputs": [
    {
     "data": {
      "text/plain": [
       "['dummy_model.joblib']"
      ]
     },
     "execution_count": 205,
     "metadata": {},
     "output_type": "execute_result"
    }
   ],
   "source": [
    "from joblib import dump\n",
    "dump(model,'dummy_model.joblib')"
   ]
  },
  {
   "cell_type": "markdown",
   "id": "8ab5cb61",
   "metadata": {},
   "source": [
    "### Assume we fit a model previously and then saved the model"
   ]
  },
  {
   "cell_type": "markdown",
   "id": "a86faf8a",
   "metadata": {},
   "source": [
    "#### Load the model"
   ]
  },
  {
   "cell_type": "code",
   "execution_count": 206,
   "id": "df5f2cca",
   "metadata": {},
   "outputs": [],
   "source": [
    "from joblib import load\n",
    "\n",
    "model = load('dummy_model.joblib')\n"
   ]
  },
  {
   "cell_type": "markdown",
   "id": "94ed4687",
   "metadata": {},
   "source": [
    "### 2. Hyperparams \n",
    " \n"
   ]
  },
  {
   "cell_type": "code",
   "execution_count": 207,
   "id": "96b3bce2",
   "metadata": {},
   "outputs": [],
   "source": [
    "MIN_GAP_PCT = 0.01 # Min gap % we are willing to make a trade on\n",
    "\n",
    "STOCK_QTY =100 # Quantity of stock to buy/short\n",
    "\n",
    "SLIPPAGE_MAX = 5  # Use 0 or negative if want to be careful\n",
    "\n",
    "STOP_LOSS_TO_TAKE_PROFIT_RATIO = 4 # Ratio of stop loss to take profit. 3 to 1 risk reward is 1/3.. This is a \"tight stop\" I don't like it (or even I don't like at all)\n",
    "\n",
    "PROB_THRESH = 0.85 #Probability thresh to make a trade!\n",
    "\n",
    "assert(STOP_LOSS_TO_TAKE_PROFIT_RATIO>0)\n",
    "assert(MIN_GAP_PCT>0)"
   ]
  },
  {
   "cell_type": "markdown",
   "id": "48199c54",
   "metadata": {},
   "source": [
    "### 3. Contract of Stock we want to trade!\n",
    "* IF using QQQ/SPY or dividend stocks make sure you adjust for dividends when playing gap fill"
   ]
  },
  {
   "cell_type": "code",
   "execution_count": null,
   "id": "9d4dca83",
   "metadata": {},
   "outputs": [],
   "source": [
    "stock = Stock(\"ABNB\",exchange='SMART',currency='USD')\n",
    "ib.qualifyContracts(stock)"
   ]
  },
  {
   "cell_type": "markdown",
   "id": "53603150",
   "metadata": {},
   "source": [
    "### 4. Request Historical + Market Data "
   ]
  },
  {
   "cell_type": "markdown",
   "id": "d98d7473",
   "metadata": {},
   "source": [
    "##### Market Data"
   ]
  },
  {
   "cell_type": "code",
   "execution_count": null,
   "id": "f4c32266",
   "metadata": {},
   "outputs": [],
   "source": [
    "stock_ticker = ib.reqMktData(stock,\"\",False,False)\n",
    "ib.sleep(2)"
   ]
  },
  {
   "cell_type": "code",
   "execution_count": 209,
   "id": "462e142a",
   "metadata": {},
   "outputs": [
    {
     "data": {
      "text/plain": [
       "(157.9, 146.6, 147.46)"
      ]
     },
     "execution_count": 209,
     "metadata": {},
     "output_type": "execute_result"
    }
   ],
   "source": [
    "stock_ticker.close,stock_ticker.open,stock_ticker.marketPrice()"
   ]
  },
  {
   "cell_type": "markdown",
   "id": "09be24a1",
   "metadata": {},
   "source": [
    "#### Historical Data with Keep Up to Date = True\n",
    "* Note this doesn't work for 5 second bars! / Live Bars\n",
    "* Not robust to internet connections. For that you need ib.reqRealTimeBars"
   ]
  },
  {
   "cell_type": "code",
   "execution_count": 210,
   "id": "88df1199",
   "metadata": {},
   "outputs": [],
   "source": [
    "bars = ib.reqHistoricalData(stock,\"\",durationStr='30 D',barSizeSetting='5 mins',whatToShow='TRADES',useRTH=False,keepUpToDate=True)"
   ]
  },
  {
   "cell_type": "markdown",
   "id": "63384bc3",
   "metadata": {},
   "source": [
    "### Gap Fill Logic for Buying/Shorting Stocks"
   ]
  },
  {
   "cell_type": "code",
   "execution_count": 238,
   "id": "f9d7f871",
   "metadata": {},
   "outputs": [],
   "source": [
    "def gap_trade(bars,ticker):\n",
    "    i=0\n",
    "    while True:\n",
    "        i+=1\n",
    "        print(i)\n",
    "\n",
    "        opening_gap = ticker.open - ticker.close\n",
    "        opening_gap_pct_change = opening_gap/ticker.close\n",
    "        print(f\"Opening gap is {opening_gap}\")\n",
    "        if np.isnan(opening_gap): # Market didn't start yet or at least we didn't get official open price\n",
    "                print(\"No open price data yet\")\n",
    "                continue\n",
    "        else:\n",
    "            features = compute_features(bars,opening_gap_pct_change)\n",
    "            \n",
    "                \n",
    "        if model.predict_proba(features)[:,1]>=PROB_THRESH: #Model predicts gap will be filled\n",
    "            print(\"MODEL PREDICTS GAP WILL BE FILLED!\")\n",
    "            if opening_gap>0: # Gap Up\n",
    "                print(\"GAP UP\")\n",
    "                if  (ticker.open-SLIPPAGE_MAX-ticker.close)/ticker.close>=MIN_GAP_PCT: # Is it worth it for you to make a trade?\n",
    "                    if (ticker.low>ticker.close): # Gap has not yet filled...\n",
    "                        place_bracket_order(action='SELL',qty=STOCK_QTY,limit=ticker.open-SLIPPAGE_MAX,take_profit=ticker.close,stop_loss=ticker.open+STOP_LOSS_TO_TAKE_PROFIT_RATIO*opening_gap)\n",
    "                        print(\"PLACED ORDER\")\n",
    "                        break\n",
    "                    else:\n",
    "                        print(\"GAP ALREADY FILLED\")\n",
    "                        break\n",
    "                else:\n",
    "                    print(\"NO GAP OPPORTUNITY\")\n",
    "                    break\n",
    "                break\n",
    "\n",
    "            elif opening_gap<0: # Gap Down\n",
    "                print(\"GAP DOWN\")\n",
    "                if  (ticker.open+SLIPPAGE_MAX-ticker.close)/ticker.close<=-MIN_GAP_PCT: # Is it worth it for you to make a trade?\n",
    "                    if (ticker.high<ticker.close):   # Gap not yet filled\n",
    "                        place_bracket_order(action='BUY',qty=STOCK_QTY,limit=ticker.open+SLIPPAGE_MAX,take_profit=ticker.close,stop_loss=ticker.open+STOP_LOSS_TO_TAKE_PROFIT_RATIO*opening_gap)\n",
    "                        print(\"PLACED ORDER\")\n",
    "                        break\n",
    "                    else:\n",
    "                        print(\"GAP ALREADY FILLED!\")\n",
    "                        break\n",
    "\n",
    "                else:\n",
    "                    print(\"NO GAP OPPORTUNITY\")\n",
    "                    break\n",
    "\n",
    "                break\n",
    "            else:\n",
    "                print(\"NO GAP OPPORTUNITY\")\n",
    "                break\n",
    "        else: \n",
    "            print(\"MODEL PREDICTS GAP WILL NOT BE FILLED!\")\n",
    "            break\n",
    "            \n"
   ]
  },
  {
   "cell_type": "markdown",
   "id": "a3fd4ab1",
   "metadata": {},
   "source": [
    "### 5. Define callback for opening gap\n",
    "* Must run before market open!"
   ]
  },
  {
   "cell_type": "code",
   "execution_count": 239,
   "id": "1a81ea55",
   "metadata": {},
   "outputs": [
    {
     "name": "stdout",
     "output_type": "stream",
     "text": [
      "Volume is -1.0\n",
      "1\n",
      "Opening gap is -11.300000000000011\n",
      "MODEL PREDICTS GAP WILL BE FILLED!\n",
      "GAP DOWN\n",
      "PLACED ORDER\n",
      "DONE RUNNING GAP FILL STRATEGY!\n"
     ]
    }
   ],
   "source": [
    "market_open = datetime.time(9,30)\n",
    "\n",
    "market_open = datetime.time(13,40)\n",
    "\n",
    "\n",
    "def on_bar_update(bars,hasNewBar):\n",
    "    if hasNewBar:\n",
    "        if bars[-1].date.time()==market_open: #Check if market is open!\n",
    "            print(f\"Volume is {bars[-1].volume}\")\n",
    "            gap_trade(bars[:-1],stock_ticker) # until index -1 cuz that is latest completed bar...\n",
    "            bars.updateEvent.clear()\n",
    "            print(\"DONE RUNNING GAP FILL STRATEGY!\")\n",
    "    \n",
    "        \n",
    "    \n",
    "bars.updateEvent.clear()\n",
    "bars.updateEvent+=on_bar_update"
   ]
  },
  {
   "cell_type": "code",
   "execution_count": null,
   "id": "9901408c",
   "metadata": {},
   "outputs": [],
   "source": []
  },
  {
   "cell_type": "code",
   "execution_count": null,
   "id": "0c23ba2b",
   "metadata": {},
   "outputs": [],
   "source": []
  },
  {
   "cell_type": "code",
   "execution_count": 223,
   "id": "45cbc328",
   "metadata": {},
   "outputs": [],
   "source": [
    "def compute_features(bars,opening_gap_pct):\n",
    "    df = util.df(bars)\n",
    "    df['day_of_week']=df.date.dt.day_of_week\n",
    "    df['day']=df.date.dt.date\n",
    "    PREMARKET=df.set_index('date').between_time('4:00','9:25').groupby('day').agg(volume=('volume','sum'))\n",
    "    PREMARKET['volume_14_ma']=PREMARKET.rolling(14)['volume'].mean()\n",
    "\n",
    "    # Take last Entry of each feature...\n",
    "    day_of_week = df['day_of_week'].iloc[-1]\n",
    "    relative_volume = PREMARKET.volume.iloc[-1]/PREMARKET.volume_14_ma.iloc[-1]\n",
    "    \n",
    "    \n",
    "    return [[opening_gap_pct ,relative_volume,day_of_week]]\n"
   ]
  },
  {
   "cell_type": "code",
   "execution_count": 230,
   "id": "2427d63d",
   "metadata": {},
   "outputs": [
    {
     "data": {
      "text/plain": [
       "0       2024-03-28\n",
       "1       2024-03-28\n",
       "2       2024-03-28\n",
       "3       2024-03-28\n",
       "4       2024-03-28\n",
       "           ...    \n",
       "5013    2024-05-09\n",
       "5014    2024-05-09\n",
       "5015    2024-05-09\n",
       "5016    2024-05-09\n",
       "5017    2024-05-09\n",
       "Name: date, Length: 5018, dtype: object"
      ]
     },
     "execution_count": 230,
     "metadata": {},
     "output_type": "execute_result"
    },
    {
     "name": "stdout",
     "output_type": "stream",
     "text": [
      "Opening gap is -11.300000000000011\n",
      "MODEL PREDICTS GAP WILL BE FILLED!\n",
      "GAP DOWN\n",
      "PLACED ORDER\n",
      "DONE RUNNING GAP FILL STRATEGY!\n",
      "Volume is -1.0\n",
      "Opening gap is -11.300000000000011\n",
      "MODEL PREDICTS GAP WILL BE FILLED!\n",
      "GAP DOWN\n",
      "PLACED ORDER\n",
      "DONE RUNNING GAP FILL STRATEGY!\n",
      "Volume is -1.0\n",
      "Opening gap is -11.300000000000011\n",
      "MODEL PREDICTS GAP WILL BE FILLED!\n",
      "GAP DOWN\n",
      "PLACED ORDER\n",
      "DONE RUNNING GAP FILL STRATEGY!\n"
     ]
    }
   ],
   "source": [
    "util.df(bars).date.dt.date"
   ]
  },
  {
   "cell_type": "code",
   "execution_count": 240,
   "id": "91f3c80e",
   "metadata": {},
   "outputs": [
    {
     "data": {
      "text/html": [
       "<div>\n",
       "<style scoped>\n",
       "    .dataframe tbody tr th:only-of-type {\n",
       "        vertical-align: middle;\n",
       "    }\n",
       "\n",
       "    .dataframe tbody tr th {\n",
       "        vertical-align: top;\n",
       "    }\n",
       "\n",
       "    .dataframe thead th {\n",
       "        text-align: right;\n",
       "    }\n",
       "</style>\n",
       "<table border=\"1\" class=\"dataframe\">\n",
       "  <thead>\n",
       "    <tr style=\"text-align: right;\">\n",
       "      <th></th>\n",
       "      <th>execId</th>\n",
       "      <th>time</th>\n",
       "      <th>acctNumber</th>\n",
       "      <th>exchange</th>\n",
       "      <th>side</th>\n",
       "      <th>shares</th>\n",
       "      <th>price</th>\n",
       "      <th>permId</th>\n",
       "      <th>clientId</th>\n",
       "      <th>orderId</th>\n",
       "      <th>liquidation</th>\n",
       "      <th>cumQty</th>\n",
       "      <th>avgPrice</th>\n",
       "      <th>orderRef</th>\n",
       "      <th>evRule</th>\n",
       "      <th>evMultiplier</th>\n",
       "      <th>modelCode</th>\n",
       "      <th>lastLiquidity</th>\n",
       "    </tr>\n",
       "  </thead>\n",
       "  <tbody>\n",
       "    <tr>\n",
       "      <th>0</th>\n",
       "      <td>0000e0d5.663c8b81.01.01</td>\n",
       "      <td>2024-05-09 15:24:05+00:00</td>\n",
       "      <td>DU7351505</td>\n",
       "      <td>ISLAND</td>\n",
       "      <td>BOT</td>\n",
       "      <td>100.0</td>\n",
       "      <td>147.98</td>\n",
       "      <td>1822726460</td>\n",
       "      <td>0</td>\n",
       "      <td>4552</td>\n",
       "      <td>0</td>\n",
       "      <td>100.0</td>\n",
       "      <td>147.98</td>\n",
       "      <td></td>\n",
       "      <td></td>\n",
       "      <td>0.0</td>\n",
       "      <td></td>\n",
       "      <td>2</td>\n",
       "    </tr>\n",
       "    <tr>\n",
       "      <th>1</th>\n",
       "      <td>0000e0d5.663ca27b.01.01</td>\n",
       "      <td>2024-05-09 17:00:23+00:00</td>\n",
       "      <td>DU7351505</td>\n",
       "      <td>EDGEA</td>\n",
       "      <td>BOT</td>\n",
       "      <td>100.0</td>\n",
       "      <td>147.62</td>\n",
       "      <td>1822726463</td>\n",
       "      <td>0</td>\n",
       "      <td>4564</td>\n",
       "      <td>0</td>\n",
       "      <td>100.0</td>\n",
       "      <td>147.62</td>\n",
       "      <td></td>\n",
       "      <td></td>\n",
       "      <td>0.0</td>\n",
       "      <td></td>\n",
       "      <td>2</td>\n",
       "    </tr>\n",
       "    <tr>\n",
       "      <th>2</th>\n",
       "      <td>0000e0d5.663ca27d.01.01</td>\n",
       "      <td>2024-05-09 17:00:27+00:00</td>\n",
       "      <td>DU7351505</td>\n",
       "      <td>CHX</td>\n",
       "      <td>SLD</td>\n",
       "      <td>100.0</td>\n",
       "      <td>147.46</td>\n",
       "      <td>1822726465</td>\n",
       "      <td>0</td>\n",
       "      <td>4566</td>\n",
       "      <td>0</td>\n",
       "      <td>100.0</td>\n",
       "      <td>147.46</td>\n",
       "      <td></td>\n",
       "      <td></td>\n",
       "      <td>0.0</td>\n",
       "      <td></td>\n",
       "      <td>2</td>\n",
       "    </tr>\n",
       "    <tr>\n",
       "      <th>3</th>\n",
       "      <td>0000dc8f.663c5881.01.01</td>\n",
       "      <td>2024-05-09 17:02:15+00:00</td>\n",
       "      <td>DU7351505</td>\n",
       "      <td>IBKRATS</td>\n",
       "      <td>BOT</td>\n",
       "      <td>100.0</td>\n",
       "      <td>147.36</td>\n",
       "      <td>1822726466</td>\n",
       "      <td>0</td>\n",
       "      <td>4567</td>\n",
       "      <td>0</td>\n",
       "      <td>100.0</td>\n",
       "      <td>147.36</td>\n",
       "      <td></td>\n",
       "      <td></td>\n",
       "      <td>0.0</td>\n",
       "      <td></td>\n",
       "      <td>2</td>\n",
       "    </tr>\n",
       "    <tr>\n",
       "      <th>4</th>\n",
       "      <td>0000dc8f.663c5964.01.01</td>\n",
       "      <td>2024-05-09 17:35:01+00:00</td>\n",
       "      <td>DU7351505</td>\n",
       "      <td>IBKRATS</td>\n",
       "      <td>BOT</td>\n",
       "      <td>100.0</td>\n",
       "      <td>147.63</td>\n",
       "      <td>1822726469</td>\n",
       "      <td>0</td>\n",
       "      <td>4571</td>\n",
       "      <td>0</td>\n",
       "      <td>100.0</td>\n",
       "      <td>147.63</td>\n",
       "      <td></td>\n",
       "      <td></td>\n",
       "      <td>0.0</td>\n",
       "      <td></td>\n",
       "      <td>2</td>\n",
       "    </tr>\n",
       "    <tr>\n",
       "      <th>5</th>\n",
       "      <td>0000e0d5.663cabd2.01.01</td>\n",
       "      <td>2024-05-09 17:35:02+00:00</td>\n",
       "      <td>DU7351505</td>\n",
       "      <td>ISLAND</td>\n",
       "      <td>BOT</td>\n",
       "      <td>100.0</td>\n",
       "      <td>147.63</td>\n",
       "      <td>1822726472</td>\n",
       "      <td>0</td>\n",
       "      <td>4574</td>\n",
       "      <td>0</td>\n",
       "      <td>100.0</td>\n",
       "      <td>147.63</td>\n",
       "      <td></td>\n",
       "      <td></td>\n",
       "      <td>0.0</td>\n",
       "      <td></td>\n",
       "      <td>2</td>\n",
       "    </tr>\n",
       "    <tr>\n",
       "      <th>6</th>\n",
       "      <td>0000e0d5.663cabd7.01.01</td>\n",
       "      <td>2024-05-09 17:35:03+00:00</td>\n",
       "      <td>DU7351505</td>\n",
       "      <td>ISLAND</td>\n",
       "      <td>BOT</td>\n",
       "      <td>100.0</td>\n",
       "      <td>147.63</td>\n",
       "      <td>1822726475</td>\n",
       "      <td>0</td>\n",
       "      <td>4577</td>\n",
       "      <td>0</td>\n",
       "      <td>100.0</td>\n",
       "      <td>147.63</td>\n",
       "      <td></td>\n",
       "      <td></td>\n",
       "      <td>0.0</td>\n",
       "      <td></td>\n",
       "      <td>2</td>\n",
       "    </tr>\n",
       "    <tr>\n",
       "      <th>7</th>\n",
       "      <td>0000dc8f.663c598f.01.01</td>\n",
       "      <td>2024-05-09 17:40:02+00:00</td>\n",
       "      <td>DU7351505</td>\n",
       "      <td>IBKRATS</td>\n",
       "      <td>BOT</td>\n",
       "      <td>100.0</td>\n",
       "      <td>147.58</td>\n",
       "      <td>1822726478</td>\n",
       "      <td>0</td>\n",
       "      <td>4580</td>\n",
       "      <td>0</td>\n",
       "      <td>100.0</td>\n",
       "      <td>147.58</td>\n",
       "      <td></td>\n",
       "      <td></td>\n",
       "      <td>0.0</td>\n",
       "      <td></td>\n",
       "      <td>2</td>\n",
       "    </tr>\n",
       "  </tbody>\n",
       "</table>\n",
       "</div>"
      ],
      "text/plain": [
       "                    execId                      time acctNumber exchange side  \\\n",
       "0  0000e0d5.663c8b81.01.01 2024-05-09 15:24:05+00:00  DU7351505   ISLAND  BOT   \n",
       "1  0000e0d5.663ca27b.01.01 2024-05-09 17:00:23+00:00  DU7351505    EDGEA  BOT   \n",
       "2  0000e0d5.663ca27d.01.01 2024-05-09 17:00:27+00:00  DU7351505      CHX  SLD   \n",
       "3  0000dc8f.663c5881.01.01 2024-05-09 17:02:15+00:00  DU7351505  IBKRATS  BOT   \n",
       "4  0000dc8f.663c5964.01.01 2024-05-09 17:35:01+00:00  DU7351505  IBKRATS  BOT   \n",
       "5  0000e0d5.663cabd2.01.01 2024-05-09 17:35:02+00:00  DU7351505   ISLAND  BOT   \n",
       "6  0000e0d5.663cabd7.01.01 2024-05-09 17:35:03+00:00  DU7351505   ISLAND  BOT   \n",
       "7  0000dc8f.663c598f.01.01 2024-05-09 17:40:02+00:00  DU7351505  IBKRATS  BOT   \n",
       "\n",
       "   shares   price      permId  clientId  orderId  liquidation  cumQty  \\\n",
       "0   100.0  147.98  1822726460         0     4552            0   100.0   \n",
       "1   100.0  147.62  1822726463         0     4564            0   100.0   \n",
       "2   100.0  147.46  1822726465         0     4566            0   100.0   \n",
       "3   100.0  147.36  1822726466         0     4567            0   100.0   \n",
       "4   100.0  147.63  1822726469         0     4571            0   100.0   \n",
       "5   100.0  147.63  1822726472         0     4574            0   100.0   \n",
       "6   100.0  147.63  1822726475         0     4577            0   100.0   \n",
       "7   100.0  147.58  1822726478         0     4580            0   100.0   \n",
       "\n",
       "   avgPrice orderRef evRule  evMultiplier modelCode  lastLiquidity  \n",
       "0    147.98                           0.0                        2  \n",
       "1    147.62                           0.0                        2  \n",
       "2    147.46                           0.0                        2  \n",
       "3    147.36                           0.0                        2  \n",
       "4    147.63                           0.0                        2  \n",
       "5    147.63                           0.0                        2  \n",
       "6    147.63                           0.0                        2  \n",
       "7    147.58                           0.0                        2  "
      ]
     },
     "execution_count": 240,
     "metadata": {},
     "output_type": "execute_result"
    }
   ],
   "source": [
    "util.df([f.execution for f in ib.fills()])"
   ]
  },
  {
   "cell_type": "code",
   "execution_count": 241,
   "id": "0b40d01a",
   "metadata": {},
   "outputs": [
    {
     "data": {
      "text/html": [
       "<div>\n",
       "<style scoped>\n",
       "    .dataframe tbody tr th:only-of-type {\n",
       "        vertical-align: middle;\n",
       "    }\n",
       "\n",
       "    .dataframe tbody tr th {\n",
       "        vertical-align: top;\n",
       "    }\n",
       "\n",
       "    .dataframe thead th {\n",
       "        text-align: right;\n",
       "    }\n",
       "</style>\n",
       "<table border=\"1\" class=\"dataframe\">\n",
       "  <thead>\n",
       "    <tr style=\"text-align: right;\">\n",
       "      <th></th>\n",
       "      <th>orderId</th>\n",
       "      <th>clientId</th>\n",
       "      <th>permId</th>\n",
       "      <th>action</th>\n",
       "      <th>totalQuantity</th>\n",
       "      <th>orderType</th>\n",
       "      <th>lmtPrice</th>\n",
       "      <th>auxPrice</th>\n",
       "      <th>tif</th>\n",
       "      <th>activeStartTime</th>\n",
       "      <th>...</th>\n",
       "      <th>usePriceMgmtAlgo</th>\n",
       "      <th>duration</th>\n",
       "      <th>postToAts</th>\n",
       "      <th>advancedErrorOverride</th>\n",
       "      <th>manualOrderTime</th>\n",
       "      <th>minTradeQty</th>\n",
       "      <th>minCompeteSize</th>\n",
       "      <th>competeAgainstBestOffset</th>\n",
       "      <th>midOffsetAtWhole</th>\n",
       "      <th>midOffsetAtHalf</th>\n",
       "    </tr>\n",
       "  </thead>\n",
       "  <tbody>\n",
       "    <tr>\n",
       "      <th>0</th>\n",
       "      <td>4581</td>\n",
       "      <td>0</td>\n",
       "      <td>1822726479</td>\n",
       "      <td>SELL</td>\n",
       "      <td>100.0</td>\n",
       "      <td>LMT</td>\n",
       "      <td>157.9</td>\n",
       "      <td>0.0</td>\n",
       "      <td></td>\n",
       "      <td></td>\n",
       "      <td>...</td>\n",
       "      <td>False</td>\n",
       "      <td>2147483647</td>\n",
       "      <td>2147483647</td>\n",
       "      <td></td>\n",
       "      <td></td>\n",
       "      <td>2147483647</td>\n",
       "      <td>2147483647</td>\n",
       "      <td>1.797693e+308</td>\n",
       "      <td>1.797693e+308</td>\n",
       "      <td>1.797693e+308</td>\n",
       "    </tr>\n",
       "    <tr>\n",
       "      <th>1</th>\n",
       "      <td>4582</td>\n",
       "      <td>0</td>\n",
       "      <td>1822726480</td>\n",
       "      <td>SELL</td>\n",
       "      <td>100.0</td>\n",
       "      <td>STP</td>\n",
       "      <td>0.0</td>\n",
       "      <td>101.4</td>\n",
       "      <td></td>\n",
       "      <td></td>\n",
       "      <td>...</td>\n",
       "      <td>False</td>\n",
       "      <td>2147483647</td>\n",
       "      <td>2147483647</td>\n",
       "      <td></td>\n",
       "      <td></td>\n",
       "      <td>2147483647</td>\n",
       "      <td>2147483647</td>\n",
       "      <td>1.797693e+308</td>\n",
       "      <td>1.797693e+308</td>\n",
       "      <td>1.797693e+308</td>\n",
       "    </tr>\n",
       "  </tbody>\n",
       "</table>\n",
       "<p>2 rows × 139 columns</p>\n",
       "</div>"
      ],
      "text/plain": [
       "   orderId  clientId      permId action  totalQuantity orderType  lmtPrice  \\\n",
       "0     4581         0  1822726479   SELL          100.0       LMT     157.9   \n",
       "1     4582         0  1822726480   SELL          100.0       STP       0.0   \n",
       "\n",
       "   auxPrice tif activeStartTime  ... usePriceMgmtAlgo    duration   postToAts  \\\n",
       "0       0.0                      ...            False  2147483647  2147483647   \n",
       "1     101.4                      ...            False  2147483647  2147483647   \n",
       "\n",
       "  advancedErrorOverride  manualOrderTime  minTradeQty  minCompeteSize  \\\n",
       "0                                          2147483647      2147483647   \n",
       "1                                          2147483647      2147483647   \n",
       "\n",
       "   competeAgainstBestOffset  midOffsetAtWhole  midOffsetAtHalf  \n",
       "0             1.797693e+308     1.797693e+308    1.797693e+308  \n",
       "1             1.797693e+308     1.797693e+308    1.797693e+308  \n",
       "\n",
       "[2 rows x 139 columns]"
      ]
     },
     "execution_count": 241,
     "metadata": {},
     "output_type": "execute_result"
    },
    {
     "name": "stderr",
     "output_type": "stream",
     "text": [
      "Peer closed connection.\n"
     ]
    }
   ],
   "source": [
    "util.df(ib.openOrders())"
   ]
  },
  {
   "cell_type": "code",
   "execution_count": 236,
   "id": "b51472f8",
   "metadata": {},
   "outputs": [],
   "source": [
    "for order in ib.openOrders():\n",
    "    ib.cancelOrder(order)"
   ]
  },
  {
   "cell_type": "code",
   "execution_count": null,
   "id": "749ee2ae",
   "metadata": {},
   "outputs": [],
   "source": []
  }
 ],
 "metadata": {
  "kernelspec": {
   "display_name": "py310",
   "language": "python",
   "name": "py310"
  },
  "language_info": {
   "codemirror_mode": {
    "name": "ipython",
    "version": 3
   },
   "file_extension": ".py",
   "mimetype": "text/x-python",
   "name": "python",
   "nbconvert_exporter": "python",
   "pygments_lexer": "ipython3",
   "version": "3.10.13"
  }
 },
 "nbformat": 4,
 "nbformat_minor": 5
}
