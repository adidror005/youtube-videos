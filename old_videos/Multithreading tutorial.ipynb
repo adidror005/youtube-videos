{
 "cells": [
  {
   "cell_type": "markdown",
   "id": "861e637b",
   "metadata": {},
   "source": [
    "### Goal of this video\n",
    "* If you have multiple accounts with multiple users how to leverage python threading to get historical data much faster\n",
    "\n",
    "### Running a function in main thread blocks the code\n",
    "* Can run in seperate \"threads\" to be non blocking\n",
    "* Good for network/IO bound things\n",
    "* Not real C like threading, more like \"pseudo-threading\" moving between tasks due to GIL (global interpreter lock) "
   ]
  },
  {
   "cell_type": "code",
   "execution_count": 2,
   "id": "8ca5dd3f",
   "metadata": {},
   "outputs": [],
   "source": [
    "import threading\n",
    "import time\n",
    "def print_data(name,limit):\n",
    "    global stop\n",
    "    stop=False\n",
    "    for i in range(limit):\n",
    "        if stop:\n",
    "            break\n",
    "        time.sleep(1)\n",
    "        print(f\"{name} {i}\")"
   ]
  },
  {
   "cell_type": "code",
   "execution_count": 2,
   "id": "3697dce7",
   "metadata": {},
   "outputs": [
    {
     "name": "stdout",
     "output_type": "stream",
     "text": [
      "ADI 0\n",
      "ADI 1\n",
      "ADI 2\n",
      "ADI 3\n",
      "ADI 4\n",
      "ADI 5\n",
      "ADI 6\n",
      "ADI 7\n",
      "ADI 8\n",
      "ADI 9\n"
     ]
    }
   ],
   "source": [
    "print_data(\"ADI\",10)"
   ]
  },
  {
   "cell_type": "code",
   "execution_count": 3,
   "id": "249b3268",
   "metadata": {},
   "outputs": [],
   "source": [
    "t100 = threading.Thread(target=print_data,args=('adi',100))\n",
    "t10 =  threading.Thread(target=print_data,args=('bob',10))"
   ]
  },
  {
   "cell_type": "code",
   "execution_count": 4,
   "id": "6b39b525",
   "metadata": {},
   "outputs": [],
   "source": [
    "t100.start()\n",
    "t10.start()"
   ]
  },
  {
   "cell_type": "code",
   "execution_count": null,
   "id": "1bc32ef3",
   "metadata": {},
   "outputs": [
    {
     "name": "stdout",
     "output_type": "stream",
     "text": [
      "bob 0adi 0\n",
      "\n",
      "adi 1\n",
      "bob 1\n",
      "bob 2\n",
      "adi 2\n",
      "bob 3\n",
      "adi 3\n",
      "bob 4adi 4\n",
      "\n",
      "bob 5adi 5\n",
      "\n",
      "bob 6adi 6\n",
      "\n",
      "adi 7bob 7\n",
      "\n",
      "adi 8\n",
      "bob 8\n",
      "adi 9\n",
      "bob 9\n",
      "adi 10\n",
      "adi 11\n",
      "adi 12\n",
      "adi 13\n",
      "adi 14\n",
      "adi 15\n",
      "adi 16\n",
      "adi 17\n",
      "adi 18\n",
      "adi 19\n",
      "adi 20\n",
      "adi 21\n",
      "adi 22\n",
      "adi 23\n",
      "adi 24\n",
      "adi 25\n",
      "adi 26\n",
      "adi 27\n",
      "adi 28\n",
      "adi 29\n",
      "adi 30\n",
      "adi 31\n",
      "adi 32\n",
      "adi 33\n",
      "adi 34\n",
      "adi 35\n",
      "adi 36\n",
      "adi 37\n",
      "adi 38\n",
      "adi 39\n",
      "adi 40\n",
      "adi 41\n",
      "adi 42\n",
      "adi 43\n",
      "adi 44\n",
      "adi 45\n"
     ]
    }
   ],
   "source": [
    "t100.join()\n",
    "t10.join()"
   ]
  },
  {
   "cell_type": "markdown",
   "id": "cd83346a",
   "metadata": {},
   "source": [
    "* Use .start() to start thread\n",
    "* Can use .join to block future execucution. \n",
    "* Deamon threads are threads that run in the background and don't stop the program from exiting."
   ]
  },
  {
   "cell_type": "code",
   "execution_count": 3,
   "id": "53d42649",
   "metadata": {},
   "outputs": [],
   "source": [
    "import pandas as pd\n",
    "import datetime\n",
    "\n",
    "### Nasdaq 100 Symbols\n",
    "\n",
    "import pandas as pd\n",
    "nasdaq_100=pd.read_html(\"https://en.wikipedia.org/wiki/Nasdaq-100\")[4]\n",
    "nasdaq_100_symbols=nasdaq_100.Ticker.tolist()\n",
    "\n",
    "### S&P 500 Symbols\n",
    "\n",
    "sp500=pd.read_html(\"https://en.wikipedia.org/wiki/List_of_S%26P_500_companies\")[0]\n",
    "sp500_symbols = sp500.Symbol.tolist()\n",
    "\n",
    "### Russell 1000\n",
    "\n",
    "russell=pd.read_html(\"https://en.wikipedia.org/wiki/Russell_1000_Index\")[2]\n",
    "russell_symbols=russell.Ticker.tolist()\n",
    "\n",
    "### Combined all ticker symbols\n",
    "\n",
    "symbol_list = list(set(nasdaq_100_symbols+sp500_symbols+russell_symbols))"
   ]
  },
  {
   "cell_type": "markdown",
   "id": "b8ed7f68",
   "metadata": {},
   "source": [
    "##### Need to split this symbol_list into multiple parts accross ports (accounts)\n",
    "* will also split across clients, but i don't think this improves performance due to IB limitations.\n"
   ]
  },
  {
   "cell_type": "code",
   "execution_count": 4,
   "id": "9ab1e4e2",
   "metadata": {},
   "outputs": [],
   "source": [
    "port_ids = [4001,4002,4003,4004]\n",
    "client_ids = [0,1]\n",
    "NUM_PORTS = len(port_ids)\n",
    "NUM_CLIENTS = len(client_ids)\n",
    "interval_size = len(symbol_list)//NUM_CLIENTS//NUM_PORTS\n",
    "symbol_list_split={(port_ids[i],client_ids[j]):\n",
    "                   symbol_list[(i*NUM_CLIENTS+j)*interval_size:(i*NUM_CLIENTS+j+1)*interval_size]\n",
    "                   for i in range(NUM_PORTS) for j in range(NUM_CLIENTS)\n",
    "                  \n",
    "                  }"
   ]
  },
  {
   "cell_type": "markdown",
   "id": "89e4fcc5",
   "metadata": {},
   "source": [
    "### Create function for Port/Client Combo to do work"
   ]
  },
  {
   "cell_type": "code",
   "execution_count": 5,
   "id": "0c83d36b",
   "metadata": {},
   "outputs": [],
   "source": [
    "from data_utils import get_historical_1m_data_fast"
   ]
  },
  {
   "cell_type": "code",
   "execution_count": 6,
   "id": "17db8b86",
   "metadata": {},
   "outputs": [
    {
     "ename": "FileExistsError",
     "evalue": "[WinError 183] Cannot create a file when that file already exists: 'data'",
     "output_type": "error",
     "traceback": [
      "\u001b[1;31m---------------------------------------------------------------------------\u001b[0m",
      "\u001b[1;31mFileExistsError\u001b[0m                           Traceback (most recent call last)",
      "Cell \u001b[1;32mIn[6], line 2\u001b[0m\n\u001b[0;32m      1\u001b[0m \u001b[38;5;28;01mimport\u001b[39;00m \u001b[38;5;21;01mos\u001b[39;00m\n\u001b[1;32m----> 2\u001b[0m \u001b[43mos\u001b[49m\u001b[38;5;241;43m.\u001b[39;49m\u001b[43mmkdir\u001b[49m\u001b[43m(\u001b[49m\u001b[38;5;124;43m'\u001b[39;49m\u001b[38;5;124;43mdata\u001b[39;49m\u001b[38;5;124;43m'\u001b[39;49m\u001b[43m)\u001b[49m\n",
      "\u001b[1;31mFileExistsError\u001b[0m: [WinError 183] Cannot create a file when that file already exists: 'data'"
     ]
    }
   ],
   "source": [
    "import os\n",
    "os.mkdir('data')"
   ]
  },
  {
   "cell_type": "code",
   "execution_count": 7,
   "id": "7b1b33c9",
   "metadata": {},
   "outputs": [],
   "source": [
    "import asyncio\n",
    "from ib_insync import *\n",
    "def get_data(port_id,client_id):\n",
    "    loop = asyncio.new_event_loop()\n",
    "    asyncio.set_event_loop(loop)\n",
    "    ib = IB()\n",
    "    ib.connect(port=port_id,clientId=client_id)\n",
    "    try:\n",
    "        for symbol in symbol_list_split[(port_id,client_id)]:\n",
    "            print(f\"Getting data using port {port_id} and clientId {client_id}\")\n",
    "            df=get_historical_1m_data_fast(ib,symbol,'20231101','20231201')\n",
    "            df.to_csv(f'data/{symbol}_1_mins.csv')\n",
    "    except Exception as e:\n",
    "        print(e)\n",
    "    ib.disconnect()\n"
   ]
  },
  {
   "cell_type": "code",
   "execution_count": 8,
   "id": "ff6cd481",
   "metadata": {},
   "outputs": [
    {
     "name": "stdout",
     "output_type": "stream",
     "text": [
      "Getting data using port 4001 and clientId 0\n",
      "Getting data using port 4001 and clientId 1\n",
      "Getting data using port 4002 and clientId 0\n",
      "Getting data using port 4004 and clientId 0\n",
      "Getting data using port 4003 and clientId 0\n",
      "Getting data using port 4002 and clientId 1\n"
     ]
    }
   ],
   "source": [
    "threads = []\n",
    "\n",
    "for port_id in port_ids:\n",
    "    for client_id in client_ids:\n",
    "        thread = threading.Thread(target=get_data,args=(port_id,client_id))\n",
    "        threads.append(thread)\n",
    "        thread.start()\n",
    "        "
   ]
  },
  {
   "cell_type": "code",
   "execution_count": null,
   "id": "2e2f6445",
   "metadata": {},
   "outputs": [
    {
     "name": "stdout",
     "output_type": "stream",
     "text": [
      "Getting data using port 4003 and clientId 1\n",
      "Getting data using port 4004 and clientId 1\n",
      "Retrieving data for  BPOP  for  2023-12-01\n",
      "Retrieving data for  SPR  for  2023-12-01\n",
      "Retrieving data for  HPE  for  2023-12-01\n",
      "Retrieving data for  MPW  for  2023-12-01\n",
      "Retrieving data for  PODD  for  2023-12-01\n",
      "Retrieving data for  DLB  for  2023-12-01\n",
      "Retrieving data for  CAG  for  2023-12-01\n",
      "Retrieving data for  CARR  for  2023-12-01\n",
      "Retrieving data for  SPR  for  2023-11-24\n",
      "Retrieving data for  HPE  for  2023-11-24\n",
      "Retrieving data for  BPOP  for  2023-11-24\n",
      "Retrieving data for  PODD  for  2023-11-24\n",
      "Retrieving data for  CAG  for  2023-11-24\n",
      "Retrieving data for  MPW  for  2023-11-24\n",
      "Retrieving data for  CARR  for  2023-11-24\n",
      "Retrieving data for  PODD  for  2023-11-17\n",
      "Retrieving data for  MPW  for  2023-11-17\n",
      "Retrieving data for  CAG  for  2023-11-17\n",
      "Retrieving data for  SPR  for  2023-11-17\n",
      "Retrieving data for  HPE  for  2023-11-17\n",
      "Retrieving data for  CARR  for  2023-11-17\n",
      "Retrieving data for  PODD  for  2023-11-10\n",
      "Retrieving data for  BPOP  for  2023-11-17\n",
      "Retrieving data for  DLB  for  2023-11-24\n",
      "Retrieving data for  MPW  for  2023-11-10\n",
      "Retrieving data for  SPR  for  2023-11-10\n",
      "Retrieving data for  CARR  for  2023-11-10\n",
      "Retrieving data for  BPOP  for  2023-11-10\n",
      "Retrieving data for  DLB  for  2023-11-17\n",
      "Retrieving data for  CAG  for  2023-11-10\n",
      "Retrieving data for  PODD  for  2023-11-03\n",
      "Retrieving data for  MPW  for  2023-11-03\n",
      "Retrieving data for  CARR  for  2023-11-03\n",
      "Retrieving data for  HPE  for  2023-11-10\n",
      "Retrieving data for  SPR  for  2023-11-03\n",
      "Retrieving data for  HPE  for  2023-11-03\n",
      "Retrieving data for  BPOP  for  2023-11-03\n",
      "Retrieving data for  CAG  for  2023-11-03\n",
      "Getting data using port 4002 and clientId 1\n",
      "Getting data using port 4002 and clientId 0\n",
      "Retrieving data for  ADP  for  2023-12-01\n",
      "Retrieving data for  AN  for  2023-12-01\n",
      "Getting data using port 4004 and clientId 1\n",
      "Retrieving data for  PCTY  for  2023-12-01\n",
      "Retrieving data for  DLB  for  2023-11-10\n",
      "Getting data using port 4003 and clientId 0\n",
      "Retrieving data for  FCNCA  for  2023-12-01\n",
      "Retrieving data for  DLB  for  2023-11-03\n",
      "Retrieving data for  AN  for  2023-11-24\n",
      "Retrieving data for  FCNCA  for  2023-11-24\n",
      "Getting data using port 4004 and clientId 0\n",
      "Retrieving data for  QDEL  for  2023-12-01\n",
      "Retrieving data for  ADP  for  2023-11-24\n",
      "Retrieving data for  PCTY  for  2023-11-24\n",
      "Getting data using port 4001 and clientId 0\n",
      "Retrieving data for  GRMN  for  2023-12-01\n",
      "Getting data using port 4003 and clientId 1\n",
      "Retrieving data for  CNHI  for  2023-12-01\n",
      "Retrieving data for  FCNCA  for  2023-11-17\n",
      "Retrieving data for  AN  for  2023-11-17\n",
      "Retrieving data for  QDEL  for  2023-11-24\n",
      "Getting data using port 4001 and clientId 1\n",
      "Retrieving data for  BBWI  for  2023-12-01\n",
      "Retrieving data for  ADP  for  2023-11-17\n",
      "Retrieving data for  GRMN  for  2023-11-24\n",
      "Retrieving data for  CNHI  for  2023-11-24\n",
      "Retrieving data for  PCTY  for  2023-11-17\n",
      "Retrieving data for  QDEL  for  2023-11-17\n",
      "Retrieving data for  GRMN  for  2023-11-17\n",
      "Retrieving data for  CNHI  for  2023-11-17\n",
      "Retrieving data for  FCNCA  for  2023-11-10\n",
      "Retrieving data for  ADP  for  2023-11-10\n",
      "Retrieving data for  AN  for  2023-11-10\n",
      "Retrieving data for  PCTY  for  2023-11-10\n",
      "Retrieving data for  BBWI  for  2023-11-24\n",
      "Retrieving data for  ADP  for  2023-11-03\n",
      "Retrieving data for  PCTY  for  2023-11-03\n",
      "Retrieving data for  BBWI  for  2023-11-17\n",
      "Retrieving data for  CNHI  for  2023-11-10\n",
      "Retrieving data for  AN  for  2023-11-03\n",
      "Retrieving data for  GRMN  for  2023-11-10\n",
      "Retrieving data for  BBWI  for  2023-11-10\n",
      "Retrieving data for  FCNCA  for  2023-11-03\n"
     ]
    },
    {
     "name": "stderr",
     "output_type": "stream",
     "text": [
      "reqHistoricalData: Timeout for Stock(conId=564701585, symbol='QDEL', exchange='SMART', primaryExchange='NASDAQ', currency='USD', localSymbol='QDEL', tradingClass='NMS')\n",
      "Error 162, reqId 2959: Historical Market Data Service error message:API historical data query cancelled: 2959, contract: Stock(conId=564701585, symbol='QDEL', exchange='SMART', primaryExchange='NASDAQ', currency='USD', localSymbol='QDEL', tradingClass='NMS')\n"
     ]
    },
    {
     "name": "stdout",
     "output_type": "stream",
     "text": [
      "'NoneType' object has no attribute 'set_index'\n",
      "No data for  2023-11-17\n",
      "Retrieving data for  QDEL  for  2023-11-16\n"
     ]
    },
    {
     "name": "stderr",
     "output_type": "stream",
     "text": [
      "Error 162, reqId 332: Historical Market Data Service error message:Trading TWS session is connected from a different IP address, contract: Stock(conId=269174, symbol='FCNCA', exchange='SMART', primaryExchange='NASDAQ', currency='USD', localSymbol='FCNCA', tradingClass='NMS')\n",
      "Error 162, reqId 103: Historical Market Data Service error message:Trading TWS session is connected from a different IP address, contract: Stock(conId=135330258, symbol='CNHI', exchange='SMART', primaryExchange='NYSE', currency='USD', localSymbol='CNHI', tradingClass='CNHI')\n"
     ]
    },
    {
     "name": "stdout",
     "output_type": "stream",
     "text": [
      "Getting data using port 4004 and clientId 1\n",
      "'NoneType' object has no attribute 'set_index'\n",
      "No data for  2023-11-03\n",
      "Retrieving data for  FCNCA  for  2023-11-02\n",
      "'NoneType' object has no attribute 'set_index'\n",
      "No data for  2023-11-10\n",
      "Retrieving data for  CNHI  for  2023-11-09\n"
     ]
    },
    {
     "name": "stderr",
     "output_type": "stream",
     "text": [
      "Error 162, reqId 333: Historical Market Data Service error message:Trading TWS session is connected from a different IP address, contract: Stock(conId=269174, symbol='FCNCA', exchange='SMART', primaryExchange='NASDAQ', currency='USD', localSymbol='FCNCA', tradingClass='NMS')\n",
      "Error 162, reqId 104: Historical Market Data Service error message:Trading TWS session is connected from a different IP address, contract: Stock(conId=135330258, symbol='CNHI', exchange='SMART', primaryExchange='NYSE', currency='USD', localSymbol='CNHI', tradingClass='CNHI')\n"
     ]
    },
    {
     "name": "stdout",
     "output_type": "stream",
     "text": [
      "'NoneType' object has no attribute 'set_index'\n",
      "No data for  2023-11-02\n",
      "Getting data using port 4003 and clientId 0\n",
      "'NoneType' object has no attribute 'set_index'\n",
      "No data for  2023-11-09\n",
      "Retrieving data for  CB  for  2023-12-01\n",
      "Getting data using port 4003 and clientId 1\n",
      "Retrieving data for  FBIN  for  2023-12-01\n",
      "Retrieving data for  AIRC  for  2023-12-01\n"
     ]
    },
    {
     "name": "stderr",
     "output_type": "stream",
     "text": [
      "Error 162, reqId 335: Historical Market Data Service error message:Trading TWS session is connected from a different IP address, contract: Stock(conId=94078796, symbol='FBIN', exchange='SMART', primaryExchange='NYSE', currency='USD', localSymbol='FBIN', tradingClass='FBIN')\n",
      "Error 162, reqId 106: Historical Market Data Service error message:Trading TWS session is connected from a different IP address, contract: Stock(conId=458022306, symbol='AIRC', exchange='SMART', primaryExchange='NYSE', currency='USD', localSymbol='AIRC', tradingClass='AIRC')\n"
     ]
    },
    {
     "name": "stdout",
     "output_type": "stream",
     "text": [
      "'NoneType' object has no attribute 'set_index'\n",
      "No data for  2023-12-01\n",
      "Retrieving data for  FBIN  for  2023-11-30\n",
      "'NoneType' object has no attribute 'set_index'\n",
      "No data for  2023-12-01\n",
      "Retrieving data for  AIRC  for  2023-11-30\n"
     ]
    },
    {
     "name": "stderr",
     "output_type": "stream",
     "text": [
      "Error 162, reqId 336: Historical Market Data Service error message:Trading TWS session is connected from a different IP address, contract: Stock(conId=94078796, symbol='FBIN', exchange='SMART', primaryExchange='NYSE', currency='USD', localSymbol='FBIN', tradingClass='FBIN')\n",
      "Error 162, reqId 107: Historical Market Data Service error message:Trading TWS session is connected from a different IP address, contract: Stock(conId=458022306, symbol='AIRC', exchange='SMART', primaryExchange='NYSE', currency='USD', localSymbol='AIRC', tradingClass='AIRC')\n"
     ]
    },
    {
     "name": "stdout",
     "output_type": "stream",
     "text": [
      "'NoneType' object has no attribute 'set_index'\n",
      "No data for  2023-11-30\n",
      "No objects to concatenate\n",
      "'NoneType' object has no attribute 'set_index'\n",
      "No data for  2023-11-30\n",
      "No objects to concatenate\n",
      "Getting data using port 4002 and clientId 0\n",
      "Getting data using port 4002 and clientId 1\n",
      "Retrieving data for  FTNT  for  2023-12-01\n",
      "Retrieving data for  YUM  for  2023-12-01\n",
      "Retrieving data for  QDEL  for  2023-11-09\n",
      "Retrieving data for  GRMN  for  2023-11-03\n",
      "Retrieving data for  CB  for  2023-11-24\n",
      "Retrieving data for  BBWI  for  2023-11-03\n",
      "Getting data using port 4001 and clientId 1\n",
      "Retrieving data for  TECH  for  2023-12-01\n",
      "Retrieving data for  YUM  for  2023-11-24\n",
      "Retrieving data for  FTNT  for  2023-11-24\n",
      "Retrieving data for  CB  for  2023-11-17\n",
      "Retrieving data for  QDEL  for  2023-11-02\n",
      "Retrieving data for  YUM  for  2023-11-17\n",
      "Getting data using port 4001 and clientId 0\n",
      "Retrieving data for  WAL  for  2023-12-01\n",
      "Retrieving data for  FTNT  for  2023-11-17\n",
      "Retrieving data for  TECH  for  2023-11-24\n",
      "Getting data using port 4004 and clientId 0\n",
      "Retrieving data for  GGG  for  2023-12-01\n",
      "Retrieving data for  CB  for  2023-11-10\n",
      "Retrieving data for  YUM  for  2023-11-10\n",
      "Retrieving data for  WAL  for  2023-11-24\n",
      "Retrieving data for  CB  for  2023-11-03\n",
      "Retrieving data for  TECH  for  2023-11-17\n",
      "Retrieving data for  WAL  for  2023-11-17\n",
      "Retrieving data for  YUM  for  2023-11-03\n",
      "Retrieving data for  FTNT  for  2023-11-10\n",
      "Retrieving data for  GGG  for  2023-11-24\n",
      "Getting data using port 4004 and clientId 1\n",
      "Retrieving data for  AVGO  for  2023-12-01\n",
      "Retrieving data for  WAL  for  2023-11-10\n",
      "Retrieving data for  FTNT  for  2023-11-03\n",
      "Retrieving data for  GGG  for  2023-11-17\n",
      "Retrieving data for  TECH  for  2023-11-10\n",
      "Retrieving data for  WAL  for  2023-11-03\n",
      "Getting data using port 4002 and clientId 1\n",
      "Getting data using port 4002 and clientId 0\n",
      "Retrieving data for  VFC  for  2023-12-01\n",
      "Retrieving data for  BIIB  for  2023-12-01\n",
      "Retrieving data for  GGG  for  2023-11-10\n",
      "Retrieving data for  AVGO  for  2023-11-24\n",
      "Retrieving data for  VFC  for  2023-11-24\n",
      "Retrieving data for  TECH  for  2023-11-03\n",
      "Getting data using port 4001 and clientId 0\n",
      "Retrieving data for  ZG  for  2023-12-01\n",
      "Retrieving data for  GGG  for  2023-11-03\n",
      "Retrieving data for  ZG  for  2023-11-24\n",
      "Retrieving data for  VFC  for  2023-11-17\n",
      "Retrieving data for  BIIB  for  2023-11-24\n",
      "Retrieving data for  AVGO  for  2023-11-17\n",
      "Getting data using port 4004 and clientId 0\n",
      "Retrieving data for  T  for  2023-12-01\n"
     ]
    }
   ],
   "source": [
    "for thread in threads:\n",
    "    thread.join()"
   ]
  },
  {
   "cell_type": "code",
   "execution_count": null,
   "id": "8076d2c0",
   "metadata": {},
   "outputs": [],
   "source": []
  }
 ],
 "metadata": {
  "kernelspec": {
   "display_name": "py310",
   "language": "python",
   "name": "py310"
  },
  "language_info": {
   "codemirror_mode": {
    "name": "ipython",
    "version": 3
   },
   "file_extension": ".py",
   "mimetype": "text/x-python",
   "name": "python",
   "nbconvert_exporter": "python",
   "pygments_lexer": "ipython3",
   "version": "3.10.13"
  }
 },
 "nbformat": 4,
 "nbformat_minor": 5
}
