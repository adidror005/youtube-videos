{
  "nbformat": 4,
  "nbformat_minor": 0,
  "metadata": {
    "colab": {
      "provenance": [],
      "authorship_tag": "ABX9TyPi70VL6FTSdLgEXH8tjX4m",
      "include_colab_link": true
    },
    "kernelspec": {
      "name": "python3",
      "display_name": "Python 3"
    },
    "language_info": {
      "name": "python"
    }
  },
  "cells": [
    {
      "cell_type": "markdown",
      "metadata": {
        "id": "view-in-github",
        "colab_type": "text"
      },
      "source": [
        "<a href=\"https://colab.research.google.com/github/adidror005/youtube-videos/blob/main/Embeddings.ipynb\" target=\"_parent\"><img src=\"https://colab.research.google.com/assets/colab-badge.svg\" alt=\"Open In Colab\"/></a>"
      ]
    },
    {
      "cell_type": "markdown",
      "source": [
        "# Goal of Video\n",
        "#### 1. Embeddings Overview:\n",
        "\n",
        "* Embeddings represent data as points in a space where the locations are semantically meaningful.\n",
        "\n",
        "#### 2. Show Mininimal RAG (Retrieval-Augmented Generation) application of embeddings\n",
        "* RAG enhances the accuracy and reliability of LLMs by incorporating facts from external sources. LLMs are only trained up to a certain point and lack real-time information, as well as access to external news or documents necessary for precise answers.\n",
        "\n",
        "#### 3. Visualize Embeddings in 2D with PCE\n",
        "\n",
        "#### 4. Apply Embeddings to sentiment analysis text classification on the alpha vantage dataset used in my other videos and compare model with Naive Bayes baseline.\n",
        "\n",
        "* There are many embedding models available open source and closed source usually called from a hosted API.\n",
        "\n",
        "* Will use voyageai embeddings for Parts 1-3 since they are #1 in the Hugging face leaderboard! https://huggingface.co/spaces/mteb/leaderboard\n",
        "* We will use an LLM from Open AI\n",
        "* We will use openai embeddings for Part 4.\n",
        "\n",
        "* In future videos I will talk about google's gemeni embeddings in the context of google's Vertex AI and also open source embeddings on HuggingFace.\n",
        "\n"
      ],
      "metadata": {
        "id": "7eKVe7lbqSDX"
      }
    },
    {
      "cell_type": "markdown",
      "source": [
        "### Embeddings\n",
        "\n",
        "#### Overview\n",
        "\n",
        "* Sentence/document embeddings are vector representations of text that capture semantic meaning, enabling efficient comparison and analysis of linguistic content.\n",
        "\n",
        "* Semantics is the study of meaning in language.\n",
        "\n",
        "* The pairwise distance of similar documents or sentences is smaller.\n",
        "\n",
        "Example: The pairwise distance between \"Judge nixes Elon Musk's compenation package\" and \"Elon musk loses 56 billion dollars\" should me more similary to eachother than to \"Meta to release Llama 3\".\n",
        "\n",
        "### Critical Use in RAG:\n",
        "* Retrieval-Augmented Generation (RAG) optimizes large language model (LLM) output by referencing authoritative external knowledge bases before generating responses, with embeddings being crucial for accurately matching queries to relevant documents, enhancing relevance, accuracy, and usefulness without needing retraining.\n",
        "\n",
        "* When a query is received, its embedding is compared to the precomputed document embeddings using similarity metrics such as cosine similarity.\n",
        "\n",
        "###### Typical Rag Stack (credit to voyagai)\n",
        "![img](https://files.readme.io/62f4950-rag.png)\n",
        "\n",
        "\n",
        "### How are sentence embeddings computed?\n",
        "\n",
        "* Simple old method: Sum/mean individual word embeddings (word2vec, GloVe, etc.). Not so great since order matters.\n",
        "\n",
        "* This isn't ideal since say a work like \"stock\" can refer to a piece of a company or inventory, depending on the sentence and context of surrounding words.\n",
        "\n",
        "* Modern method: Use Transformer neural networks to learn context-aware representations of each word and then take an average of these context-aware embeddings.\n",
        "\n",
        "### How are sentence embeddings learned?\n",
        "\n",
        "**Contrastive Learning**.\n",
        "* Pretrain a transformer on a large amount of unlabeled text data from the internet or other sources.\n",
        "* Find a dataset of similar sentences and tune the neural network to move the embeddings of similar sentences together and move dissimilar sentences apart.\n",
        "* If the goal is a QA system, you can also declare that the question and its corresponding answer are similar. This causes the neural network to push the answer embedding closer to the embedding of the question. Dissimilar pairs are randomly selected pairs of sentences. This is still an active topic and improving every few months.\n",
        "* Embeddings are computed for each subword or token/byte level as opposed to word level. This helps the algorithm work for novel and misspelled words.\n",
        "\n",
        "### How is performance measured?\n",
        "\n",
        "* Performance of sentence embeddings is typically measured by evaluating their ability to perform well on various downstream tasks, such as\n",
        "  - semantic similarity\n",
        "  - sentence classification\n",
        "  - question answering.\n",
        "* For semantic similarity, a common evaluation metric is Spearman's rank correlation coefficient between the cosine similarity of sentence embeddings and human judgments.\n",
        "\n",
        "### Some other applications of embeddings:\n",
        "* Classification\n",
        "* Clustering\n",
        "* Outlier Detection\n",
        "* Semantic Search\n",
        "* Recommendations\n"
      ],
      "metadata": {
        "id": "7_Lr1N0md0Jl"
      }
    },
    {
      "cell_type": "markdown",
      "source": [
        "## Installs"
      ],
      "metadata": {
        "id": "KZ8nPkIt9_-c"
      }
    },
    {
      "cell_type": "code",
      "source": [
        "!pip install voyageai openai"
      ],
      "metadata": {
        "colab": {
          "base_uri": "https://localhost:8080/"
        },
        "id": "y1-4TqlH-EFN",
        "outputId": "84a04933-e815-4230-a8d5-f11337629c47"
      },
      "execution_count": null,
      "outputs": [
        {
          "output_type": "stream",
          "name": "stdout",
          "text": [
            "Requirement already satisfied: voyageai in /usr/local/lib/python3.10/dist-packages (0.2.2)\n",
            "Requirement already satisfied: openai in /usr/local/lib/python3.10/dist-packages (1.30.1)\n",
            "Requirement already satisfied: aiohttp<4.0,>=3.5 in /usr/local/lib/python3.10/dist-packages (from voyageai) (3.9.5)\n",
            "Requirement already satisfied: aiolimiter<2.0.0,>=1.1.0 in /usr/local/lib/python3.10/dist-packages (from voyageai) (1.1.0)\n",
            "Requirement already satisfied: numpy>=1.11 in /usr/local/lib/python3.10/dist-packages (from voyageai) (1.25.2)\n",
            "Requirement already satisfied: requests<3.0,>=2.20 in /usr/local/lib/python3.10/dist-packages (from voyageai) (2.31.0)\n",
            "Requirement already satisfied: tenacity>=8.0.1 in /usr/local/lib/python3.10/dist-packages (from voyageai) (8.3.0)\n",
            "Requirement already satisfied: anyio<5,>=3.5.0 in /usr/local/lib/python3.10/dist-packages (from openai) (3.7.1)\n",
            "Requirement already satisfied: distro<2,>=1.7.0 in /usr/lib/python3/dist-packages (from openai) (1.7.0)\n",
            "Requirement already satisfied: httpx<1,>=0.23.0 in /usr/local/lib/python3.10/dist-packages (from openai) (0.27.0)\n",
            "Requirement already satisfied: pydantic<3,>=1.9.0 in /usr/local/lib/python3.10/dist-packages (from openai) (2.7.1)\n",
            "Requirement already satisfied: sniffio in /usr/local/lib/python3.10/dist-packages (from openai) (1.3.1)\n",
            "Requirement already satisfied: tqdm>4 in /usr/local/lib/python3.10/dist-packages (from openai) (4.66.4)\n",
            "Requirement already satisfied: typing-extensions<5,>=4.7 in /usr/local/lib/python3.10/dist-packages (from openai) (4.11.0)\n",
            "Requirement already satisfied: aiosignal>=1.1.2 in /usr/local/lib/python3.10/dist-packages (from aiohttp<4.0,>=3.5->voyageai) (1.3.1)\n",
            "Requirement already satisfied: attrs>=17.3.0 in /usr/local/lib/python3.10/dist-packages (from aiohttp<4.0,>=3.5->voyageai) (23.2.0)\n",
            "Requirement already satisfied: frozenlist>=1.1.1 in /usr/local/lib/python3.10/dist-packages (from aiohttp<4.0,>=3.5->voyageai) (1.4.1)\n",
            "Requirement already satisfied: multidict<7.0,>=4.5 in /usr/local/lib/python3.10/dist-packages (from aiohttp<4.0,>=3.5->voyageai) (6.0.5)\n",
            "Requirement already satisfied: yarl<2.0,>=1.0 in /usr/local/lib/python3.10/dist-packages (from aiohttp<4.0,>=3.5->voyageai) (1.9.4)\n",
            "Requirement already satisfied: async-timeout<5.0,>=4.0 in /usr/local/lib/python3.10/dist-packages (from aiohttp<4.0,>=3.5->voyageai) (4.0.3)\n",
            "Requirement already satisfied: idna>=2.8 in /usr/local/lib/python3.10/dist-packages (from anyio<5,>=3.5.0->openai) (3.7)\n",
            "Requirement already satisfied: exceptiongroup in /usr/local/lib/python3.10/dist-packages (from anyio<5,>=3.5.0->openai) (1.2.1)\n",
            "Requirement already satisfied: certifi in /usr/local/lib/python3.10/dist-packages (from httpx<1,>=0.23.0->openai) (2024.2.2)\n",
            "Requirement already satisfied: httpcore==1.* in /usr/local/lib/python3.10/dist-packages (from httpx<1,>=0.23.0->openai) (1.0.5)\n",
            "Requirement already satisfied: h11<0.15,>=0.13 in /usr/local/lib/python3.10/dist-packages (from httpcore==1.*->httpx<1,>=0.23.0->openai) (0.14.0)\n",
            "Requirement already satisfied: annotated-types>=0.4.0 in /usr/local/lib/python3.10/dist-packages (from pydantic<3,>=1.9.0->openai) (0.6.0)\n",
            "Requirement already satisfied: pydantic-core==2.18.2 in /usr/local/lib/python3.10/dist-packages (from pydantic<3,>=1.9.0->openai) (2.18.2)\n",
            "Requirement already satisfied: charset-normalizer<4,>=2 in /usr/local/lib/python3.10/dist-packages (from requests<3.0,>=2.20->voyageai) (3.3.2)\n",
            "Requirement already satisfied: urllib3<3,>=1.21.1 in /usr/local/lib/python3.10/dist-packages (from requests<3.0,>=2.20->voyageai) (2.0.7)\n"
          ]
        }
      ]
    },
    {
      "cell_type": "markdown",
      "source": [
        "### **Imports**"
      ],
      "metadata": {
        "id": "5QRMgp_voM2h"
      }
    },
    {
      "cell_type": "code",
      "source": [
        "## Keras for NN classfication model\n",
        "import keras\n",
        "import numpy as np\n",
        "import pandas as pd\n",
        "from keras import layers\n",
        "\n",
        "\n",
        "# Used to securely store your API key\n",
        "from google.colab import userdata\n",
        "\n",
        "\n",
        "# Plotting Library\n",
        "import matplotlib.pyplot as plt\n",
        "import plotly.express as px\n",
        "\n",
        "# Sklearn PCA library for vizualizing the embeddings\n",
        "from sklearn.decomposition import PCA\n",
        "\n",
        "# Sklearn cosine similarity for finding similar embeddings/documents similar to queries\n",
        "from sklearn.metrics.pairwise import cosine_similarity\n",
        "\n",
        "# Sklearn Evaluation Metrics\n",
        "from sklearn.metrics import confusion_matrix\n",
        "import sklearn.metrics as skmetrics\n",
        "from sklearn.metrics import classification_report, accuracy_score,balanced_accuracy_score\n",
        "\n",
        "# Naive Bayes for Baseline Classification Model Comparison\n",
        "from sklearn.feature_extraction.text import CountVectorizer\n",
        "from sklearn.naive_bayes import MultinomialNB\n",
        "from sklearn.pipeline import Pipeline\n",
        "\n",
        "# We will use openai for the LLM and voyageai + openai for the embeddings\n",
        "import voyageai\n",
        "from openai import OpenAI\n",
        "\n",
        "# For displaying the youtube video\n",
        "from IPython.display import YouTubeVideo\n"
      ],
      "metadata": {
        "id": "QP6OJK3doJ89"
      },
      "execution_count": null,
      "outputs": []
    },
    {
      "cell_type": "markdown",
      "source": [
        "### Get Voyageai API Key\n",
        "* https://dash.voyageai.com\n"
      ],
      "metadata": {
        "id": "NJddELPgMB6E"
      }
    },
    {
      "cell_type": "code",
      "source": [
        "voyageai_api_key = userdata.get('VOYAGEAI_API_KEY')\n",
        "vo = voyageai.Client(api_key=voyageai_api_key)"
      ],
      "metadata": {
        "id": "95jMB6PKMKGt"
      },
      "execution_count": null,
      "outputs": []
    },
    {
      "cell_type": "markdown",
      "source": [
        "### Documents"
      ],
      "metadata": {
        "id": "68YNMRnxT07y"
      }
    },
    {
      "cell_type": "code",
      "source": [
        "documents  = [\"Tesla Bull Gary Black Says 'Likely' Approval Of Elon Musk's $56B Pay Package Is 'Next Major Catalyst' For The Company\",\n",
        " \"'In Tesla Autopilot probe, US prosecutors focus on securities, wire fraud' -Reuters\",\n",
        " \"Elon Musk Dispatches Tesla's 'Fireman' To China Amid Slowing Sales; Tom Zhu, One Of The Three Executives Named On Tesla's Website, Comes Back To China As Carmaker Seeks To Launch Autopilot Features There\",\n",
        " 'Thanks To Apple, This Analyst Is Optimistic On ARM, Microchip Technology And More Ahead Of Earnings',\n",
        " \"Tesla's Top HR Executive Allie Arebalo Has Left The Company\",\n",
        " \"Tesla Says 'We recently undertook a cost-cutting exercise to increase operational efficiency. We also remain committed to company-wide cost reduction, including reducing COGS per vehicle.'\",\n",
        " \"'Tesla aims to cut 400 jobs in Germany via voluntary program' -Reuters\",\n",
        " 'PepsiCo Executive Says Put 36 Tesla Semis On The Road To Haul Chips And Soda, Had Planned To Have 100 In Use By 2023; Spokesperson Says Tesla Semi Plans Can Shift When Technology And The Need To Establish Infrastructure Is Involved',\n",
        " \"Tesla Board's Credibility At Stake With $56B Elon Musk Pay Package Vote, Says Ross Gerber: 'Super Grateful For Tesla As An Investment'\",\n",
        " 'Citron Research Posts On X \"$TSLA If Elon Musk deserves $47 bil for a job well done and the Musk premium on the stock...than which high profile CEO deserves to give back his G550, Yacht, and egrigous pay package for being the worst CEO of the past 10 years?  If this CEO stepped down his stock would be up 50% in one day?  Hint...a former Citron short\"',\n",
        " \"Microsoft's custom Cobalt chips will come to Azure next week - TechCrunch\",\n",
        " 'Recursion Pharmaceuticals Stock Surges 10% As Nvidia-Powered Supercomputer Completion Sparks Investor Optimism',\n",
        " 'Recursion Announces Completion of NVIDIA-Powered BioHive-2 AI Pharma Supercomputer',\n",
        " 'NVIDIA Launches Nine Grace Hopper-Powered Supercomputers Globally, Advancing Scientific Research',\n",
        " \"'US to revoke licences for supply of chips to China's Huawei' -Financial Times\",\n",
        " \"Nvidia Executive Meets Vietnam's Minister On Cooperation\",\n",
        " \"Nvidia Joins Forces with Japan's Tech Institute for Hybrid Supercomputer Project\",\n",
        " 'Rivian Automotive shares are trading lower after the company reported worse-than-expected Q1 EPS results',\n",
        " 'Rivian shares are trading higher following a report suggesting Apple is mulling a potential partnership with the company.',\n",
        " \"Amazon's Smashing Q1 Financials Show The Power Of A Good And Well Executed Strategy\",\n",
        " 'Bernstein Maintains Outperform on Meta Platforms, Lowers Price Target to $565',\n",
        " 'Rosenblatt Maintains Buy on Meta Platforms, Raises Price Target to $562',\n",
        " \"Meta: 'We anticipate our full-year 2024 capital expenditures will be in the range of $35-40 billion, increased from our prior range of $30-37 billion as we continue to accelerate our infrastructure investments to support our artificial intelligence (AI) roadmap. '\",\n",
        " 'Meta Platforms Q1 2024 GAAP EPS $4.71 Beats $4.33 Estimate, Sales $36.455B Beat $36.156B Estimate',\n",
        " 'Microsoft Boosts AI Arsenal With Former Meta Executive Jason Taylor',\n",
        " \"Jack Ma Backed Ant Group's Alipay+ Broadens Payment Reach Across Continents: How It's Shaping Global Commerce?\",\n",
        " \"Mastercard Targets Over a Billion Users in China - Joins with Alibaba's Ant Group Affiliate Alipay for Instant Cross-Border Payments\",\n",
        " \"Amazon's Smashing Q1 Financials Show The Power Of A Good And Well Executed Strategy\",\n",
        " 'Microsoft Boosts AI Arsenal With Former Meta Executive Jason Taylor',\n",
        " 'Reuters Reported Google, Intel, Qualcomm Executives Say They Plan To Battle Nvidia AI Dominance Through UXL Foundation']"
      ],
      "metadata": {
        "id": "mibni1ROT3vO"
      },
      "execution_count": null,
      "outputs": []
    },
    {
      "cell_type": "markdown",
      "source": [
        "### Vectorize/embed the documents\n",
        "* For document use input_type = 'document'\n",
        "* For query use input_type = 'query'"
      ],
      "metadata": {
        "id": "Psgz5yKTNMeG"
      }
    },
    {
      "cell_type": "code",
      "source": [
        "document_embeddings=vo.embed(documents,model='voyage-large-2-instruct',input_type='document').embeddings"
      ],
      "metadata": {
        "id": "VSGgBASrNMTC"
      },
      "execution_count": null,
      "outputs": []
    },
    {
      "cell_type": "code",
      "source": [
        "len(document_embeddings)"
      ],
      "metadata": {
        "colab": {
          "base_uri": "https://localhost:8080/"
        },
        "id": "s7HkS6DPDwIB",
        "outputId": "3d7dcf17-3081-423b-d8cd-4b4328fa0796"
      },
      "execution_count": null,
      "outputs": [
        {
          "output_type": "execute_result",
          "data": {
            "text/plain": [
              "30"
            ]
          },
          "metadata": {},
          "execution_count": 63
        }
      ]
    },
    {
      "cell_type": "code",
      "source": [
        "len(document_embeddings[0])"
      ],
      "metadata": {
        "colab": {
          "base_uri": "https://localhost:8080/"
        },
        "id": "Da4yvtJuD1Vp",
        "outputId": "2bb3b7fa-af53-4418-ce96-1d8cbd14fe9f"
      },
      "execution_count": null,
      "outputs": [
        {
          "output_type": "execute_result",
          "data": {
            "text/plain": [
              "1024"
            ]
          },
          "metadata": {},
          "execution_count": 66
        }
      ]
    },
    {
      "cell_type": "markdown",
      "source": [
        "# A minimalist retrieval system\n",
        "\n",
        "The main feature of the embeddings is that the cosine similarity between two embeddings captures the semantic relatedness of the corresponding original passages. This allows us to use the embeddings to do semantic retrieval / search.\n",
        "\n",
        "Suppose the user sends a \"query\" (e.g., a question or a comment) to the chatbot:"
      ],
      "metadata": {
        "id": "cKe0eJ2GNMJ5"
      }
    },
    {
      "cell_type": "code",
      "source": [
        "query = \"What is the status of Elon's 2018 comp plan?\""
      ],
      "metadata": {
        "id": "NpwZm0G_NLv1"
      },
      "execution_count": null,
      "outputs": []
    },
    {
      "cell_type": "markdown",
      "source": [
        "# Get the embedding of the query\n",
        "* input_type = 'query'!\n",
        "* Make sure you use same model. If you use different model it gives bad results."
      ],
      "metadata": {
        "id": "KDSKDbCMOCa4"
      }
    },
    {
      "cell_type": "code",
      "source": [
        "query_embedding = vo.embed([query], model=\"voyage-large-2-instruct\", input_type=\"query\").embeddings[0]"
      ],
      "metadata": {
        "id": "WFKtqVmzN8I0"
      },
      "execution_count": null,
      "outputs": []
    },
    {
      "cell_type": "markdown",
      "source": [
        "**Cosine similarity** can beused to measure the similarity between two vectors like the query embedding and the document embedding. It measures the cosine of the angle between two vectors, indicating their directional alignment.\n",
        "\n",
        "\n",
        "**Nearest neighbor Search:** We can find a few closest embeddings in the documents embeddings based on the cosine similarity, and retrieve the corresponding document using the nearest_neighbors function.\n",
        "\n",
        "\n",
        "\n"
      ],
      "metadata": {
        "id": "NJclvUQFN8Aa"
      }
    },
    {
      "cell_type": "code",
      "source": [
        "def k_nearest_neighbors(query_embedding, documents_embeddings, k=5):\n",
        "  query_embedding = np.array(query_embedding) # convert to numpy array\n",
        "  documents_embeddings = np.array(documents_embeddings) # convert to numpy array\n",
        "\n",
        "  # Reshape the query vector embedding to a matrix of shape (1, n) to make it compatible with cosine_similarity\n",
        "  query_embedding = query_embedding.reshape(1, -1)\n",
        "\n",
        "  # Calculate the similarity for each item in data\n",
        "  cosine_sim = cosine_similarity(query_embedding, documents_embeddings)\n",
        "\n",
        "  # Sort the data by similarity in descending order and take the top k items\n",
        "  sorted_indices = np.argsort(cosine_sim[0])[::-1]\n",
        "\n",
        "  # Take the top k related embeddings\n",
        "  top_k_related_indices = sorted_indices[:k]\n",
        "  top_k_related_embeddings = documents_embeddings[sorted_indices[:k]]\n",
        "  top_k_related_embeddings = [list(row[:]) for row in top_k_related_embeddings] # convert to list\n",
        "\n",
        "  return top_k_related_embeddings, top_k_related_indices"
      ],
      "metadata": {
        "id": "gknXF346N7yY"
      },
      "execution_count": null,
      "outputs": []
    },
    {
      "cell_type": "markdown",
      "source": [
        "#### Use the nearest neighbor algorithm to find the documents with the highest similarity\n"
      ],
      "metadata": {
        "id": "QqiidBZSOjUw"
      }
    },
    {
      "cell_type": "code",
      "source": [
        "retrieved_embd, retrieved_embd_index = k_nearest_neighbors(query_embedding, document_embeddings, k=5)"
      ],
      "metadata": {
        "id": "vlpg3wy-N7pR"
      },
      "execution_count": null,
      "outputs": []
    },
    {
      "cell_type": "code",
      "source": [
        "retrieved_docs = [documents[index] for index in retrieved_embd_index]\n",
        "\n",
        "for i,doc in enumerate(retrieved_docs):\n",
        "    print(f\"Document {i+1}: {doc}\")"
      ],
      "metadata": {
        "colab": {
          "base_uri": "https://localhost:8080/"
        },
        "id": "_V16vKndUB4W",
        "outputId": "723c5b2c-dbd8-415d-f0ea-469b018a65e4"
      },
      "execution_count": null,
      "outputs": [
        {
          "output_type": "stream",
          "name": "stdout",
          "text": [
            "Document 1: Tesla Board's Credibility At Stake With $56B Elon Musk Pay Package Vote, Says Ross Gerber: 'Super Grateful For Tesla As An Investment'\n",
            "Document 2: Citron Research Posts On X \"$TSLA If Elon Musk deserves $47 bil for a job well done and the Musk premium on the stock...than which high profile CEO deserves to give back his G550, Yacht, and egrigous pay package for being the worst CEO of the past 10 years?  If this CEO stepped down his stock would be up 50% in one day?  Hint...a former Citron short\"\n",
            "Document 3: Tesla Bull Gary Black Says 'Likely' Approval Of Elon Musk's $56B Pay Package Is 'Next Major Catalyst' For The Company\n",
            "Document 4: Tesla's Top HR Executive Allie Arebalo Has Left The Company\n",
            "Document 5: Tesla Says 'We recently undertook a cost-cutting exercise to increase operational efficiency. We also remain committed to company-wide cost reduction, including reducing COGS per vehicle.'\n"
          ]
        }
      ]
    },
    {
      "cell_type": "markdown",
      "source": [
        "### Rerankers\n",
        "\n",
        "We can improve our embedding-based retrieval by using rerankers. After the retriever pulls documents from the vector store, the reranker assesses and orders these documents based on their semantic relevance to the query. This process results in a smaller, more relevant set of documents for the generative model.\n",
        "\n",
        "\n",
        "##### Key Differences with Retriever\n",
        "\n",
        "###### Speed vs. Precision:\n",
        "- The retriever is optimized for speed, ensuring that the initial filtering process is quick.\n",
        "- The reranker focuses on precision, spending more computational resources to fine-tune the relevance of the documents.\n",
        "\n",
        "###### Breadth vs. Depth:\n",
        "- The retriever casts a wide net to capture all potentially relevant documents.\n",
        "- The reranker dives deeper into the content to ensure the selected documents are highly relevant.\n",
        "\n",
        "###### Model Complexity:\n",
        "- The retriever often uses simpler models (e.g., nearest neighbor search in embedding space).\n",
        "- The reranker uses more complex models (e.g., BERT, RoBERTa) that understand context and semantics better.\n",
        "\n",
        "\n",
        "![img](https://files.readme.io/d6f03ee-rag-reranker.png) (From voyagai)"
      ],
      "metadata": {
        "id": "ADnFcxtCUHSQ"
      }
    },
    {
      "cell_type": "code",
      "source": [
        "documents_reranked = vo.rerank(query, retrieved_docs, model=\"rerank-lite-1\", top_k=3)"
      ],
      "metadata": {
        "id": "hL4_yPBBUkaj"
      },
      "execution_count": null,
      "outputs": []
    },
    {
      "cell_type": "code",
      "source": [
        "for r in documents_reranked.results:\n",
        "    print(f\"Document: {r.document}\")\n",
        "    print(f\"Relevance Score: {r.relevance_score}\")\n",
        "    print(f\"Index: {r.index}\")\n",
        "    print()\n"
      ],
      "metadata": {
        "colab": {
          "base_uri": "https://localhost:8080/"
        },
        "id": "fwR33_aSUOW3",
        "outputId": "bb41bd9d-ee76-4d59-9154-299c09628efb"
      },
      "execution_count": null,
      "outputs": [
        {
          "output_type": "stream",
          "name": "stdout",
          "text": [
            "Document: Tesla Bull Gary Black Says 'Likely' Approval Of Elon Musk's $56B Pay Package Is 'Next Major Catalyst' For The Company\n",
            "Relevance Score: 0.5234375\n",
            "Index: 2\n",
            "\n",
            "Document: Tesla Says 'We recently undertook a cost-cutting exercise to increase operational efficiency. We also remain committed to company-wide cost reduction, including reducing COGS per vehicle.'\n",
            "Relevance Score: 0.421875\n",
            "Index: 4\n",
            "\n",
            "Document: Tesla Board's Credibility At Stake With $56B Elon Musk Pay Package Vote, Says Ross Gerber: 'Super Grateful For Tesla As An Investment'\n",
            "Relevance Score: 0.4140625\n",
            "Index: 0\n",
            "\n"
          ]
        }
      ]
    },
    {
      "cell_type": "markdown",
      "source": [
        "### A Minimalist RAG Chatbot\n",
        "\n",
        "- **Overview**: The Retrieval-Augmented Generation (RAG) chatbot merges retrieval-based and generative methods for enhanced responses.\n",
        "- **Functionality**:\n",
        "  - **Retrieval**: Utilizes large text corpora to find relevant documents.\n",
        "  - **Generation**: Uses language models like GPT-4 to generate tailored replies based on retrieved documents.\n",
        "- **Process**:\n",
        "  - Implement a semantic search system (with or without a reranker).\n",
        "  - Retrieve the most relevant document (retrieved_doc).\n",
        "  - Use a text generation model (e.g., GPT-4) to craft a response based on the query and retrieved document.\n"
      ],
      "metadata": {
        "id": "5GSqVTmIcIsH"
      }
    },
    {
      "cell_type": "markdown",
      "source": [
        "### Get openai api key: (NOTE API CALLS COST MONEY!)\n",
        "https://platform.openai.com/api-keys"
      ],
      "metadata": {
        "id": "OE3b2Oo2whDY"
      }
    },
    {
      "cell_type": "markdown",
      "source": [
        "##### Load openai api key"
      ],
      "metadata": {
        "id": "nCnvUbX1wKzg"
      }
    },
    {
      "cell_type": "code",
      "source": [
        "api_key=userdata.get('OPEN_AI_KEY')"
      ],
      "metadata": {
        "id": "nBqc9a-hwO2Q"
      },
      "execution_count": null,
      "outputs": []
    },
    {
      "cell_type": "markdown",
      "source": [
        "##### Initialize OpenAI client\n"
      ],
      "metadata": {
        "id": "g6k0DvJPwQD4"
      }
    },
    {
      "cell_type": "code",
      "source": [
        "client = OpenAI(api_key=api_key)"
      ],
      "metadata": {
        "id": "Y5wRsSTUwZ3r"
      },
      "execution_count": null,
      "outputs": []
    },
    {
      "cell_type": "markdown",
      "source": [
        "#### Take the retrieved document and use it as a prompt for the text generation model\n"
      ],
      "metadata": {
        "id": "C6gxVVbywcM1"
      }
    },
    {
      "cell_type": "code",
      "source": [
        "documents_reranked.results[0].document"
      ],
      "metadata": {
        "colab": {
          "base_uri": "https://localhost:8080/",
          "height": 35
        },
        "id": "ijy-Jg0yF63-",
        "outputId": "c3412dc1-551a-4c25-c98b-c6340d29b784"
      },
      "execution_count": null,
      "outputs": [
        {
          "output_type": "execute_result",
          "data": {
            "text/plain": [
              "\"Tesla Bull Gary Black Says 'Likely' Approval Of Elon Musk's $56B Pay Package Is 'Next Major Catalyst' For The Company\""
            ],
            "application/vnd.google.colaboratory.intrinsic+json": {
              "type": "string"
            }
          },
          "metadata": {},
          "execution_count": 82
        }
      ]
    },
    {
      "cell_type": "code",
      "source": [
        "prompt = f\"Based on the information: '{documents_reranked.results[0].document}', generate a response of {query}\"\n",
        "\n",
        "response = client.chat.completions.create(\n",
        "    model=\"gpt-4-1106-preview\",\n",
        "    messages=[\n",
        "        {\"role\": \"system\", \"content\": \"You are a helpful assistant.\"},\n",
        "        {\"role\": \"user\", \"content\": prompt},\n",
        "    ],\n",
        ")\n",
        "\n",
        "print(response.choices[0].message.content)"
      ],
      "metadata": {
        "colab": {
          "base_uri": "https://localhost:8080/"
        },
        "id": "25rCPQcLbKyY",
        "outputId": "1f44c385-4a8c-4ea7-d5ac-fd82be4acd78"
      },
      "execution_count": null,
      "outputs": [
        {
          "output_type": "stream",
          "name": "stdout",
          "text": [
            "Based on the information provided, it appears that Gary Black, known for his bullish stance on Tesla, suggests that the likely approval of Elon Musk's compensation package is expected to be a significant positive event for the company. However, the statement provided does not indicate the current status of Elon Musk's 2018 compensation plan.\n",
            "\n",
            "Typically, high-profile compensation packages like Musk's are subject to approval by shareholders and may involve numerous performance milestones that the executive must meet to receive the full benefit of the package. Since the statement references a 'likely' approval, one can infer that the package has either not been fully approved or that certain conditions are expected to be met in the near future.\n",
            "\n",
            "To know the exact status of Elon Musk's 2018 compensation plan, one would need to refer to official Tesla company announcements, SEC filings, or credible news reports from the time around your knowledge cutoff date. These sources would be able to offer a detailed and accurate update on whether the package had been approved by the shareholders, if all the performance milestones were met, and what the implications might be for both Musk and Tesla as a company.\n"
          ]
        }
      ]
    },
    {
      "cell_type": "markdown",
      "source": [
        "### Visualize Embeddings\n",
        "* In 2D with PCA\n",
        "* Can use TSNE or something more sophisticated, but this is ok for now"
      ],
      "metadata": {
        "id": "_avWkpcGVLhM"
      }
    },
    {
      "cell_type": "markdown",
      "source": [
        "### Perform PCA for 2D visualization\n"
      ],
      "metadata": {
        "id": "wz_98YNdV1oF"
      }
    },
    {
      "cell_type": "code",
      "source": [
        "PCA_model = PCA(n_components = 2)\n",
        "PCA_model.fit(document_embeddings)\n",
        "new_values = PCA_model.transform(document_embeddings)"
      ],
      "metadata": {
        "id": "txuFx7VPVR3R"
      },
      "execution_count": null,
      "outputs": []
    },
    {
      "cell_type": "markdown",
      "source": [
        "#### Vizualize with Plotly"
      ],
      "metadata": {
        "id": "kvQw9Zh2V-50"
      }
    },
    {
      "cell_type": "code",
      "source": [
        "new_values_df=pd.DataFrame(new_values,columns=['x','y'])\n",
        "new_values_df['text']=documents\n",
        "px.scatter(new_values_df,x='x',y='y',hover_name='text')"
      ],
      "metadata": {
        "colab": {
          "base_uri": "https://localhost:8080/",
          "height": 542
        },
        "id": "VTBSW7TwV4ND",
        "outputId": "1bfeb575-2dd2-49f4-fadd-ae7dbdacd05e"
      },
      "execution_count": null,
      "outputs": [
        {
          "output_type": "display_data",
          "data": {
            "text/html": [
              "<html>\n",
              "<head><meta charset=\"utf-8\" /></head>\n",
              "<body>\n",
              "    <div>            <script src=\"https://cdnjs.cloudflare.com/ajax/libs/mathjax/2.7.5/MathJax.js?config=TeX-AMS-MML_SVG\"></script><script type=\"text/javascript\">if (window.MathJax && window.MathJax.Hub && window.MathJax.Hub.Config) {window.MathJax.Hub.Config({SVG: {font: \"STIX-Web\"}});}</script>                <script type=\"text/javascript\">window.PlotlyConfig = {MathJaxConfig: 'local'};</script>\n",
              "        <script charset=\"utf-8\" src=\"https://cdn.plot.ly/plotly-2.24.1.min.js\"></script>                <div id=\"3d4b73b3-a69e-4f85-bf4d-861d04082f73\" class=\"plotly-graph-div\" style=\"height:525px; width:100%;\"></div>            <script type=\"text/javascript\">                                    window.PLOTLYENV=window.PLOTLYENV || {};                                    if (document.getElementById(\"3d4b73b3-a69e-4f85-bf4d-861d04082f73\")) {                    Plotly.newPlot(                        \"3d4b73b3-a69e-4f85-bf4d-861d04082f73\",                        [{\"hovertemplate\":\"\\u003cb\\u003e%{hovertext}\\u003c\\u002fb\\u003e\\u003cbr\\u003e\\u003cbr\\u003ex=%{x}\\u003cbr\\u003ey=%{y}\\u003cextra\\u003e\\u003c\\u002fextra\\u003e\",\"hovertext\":[\"Tesla Bull Gary Black Says 'Likely' Approval Of Elon Musk's $56B Pay Package Is 'Next Major Catalyst' For The Company\",\"'In Tesla Autopilot probe, US prosecutors focus on securities, wire fraud' -Reuters\",\"Elon Musk Dispatches Tesla's 'Fireman' To China Amid Slowing Sales; Tom Zhu, One Of The Three Executives Named On Tesla's Website, Comes Back To China As Carmaker Seeks To Launch Autopilot Features There\",\"Thanks To Apple, This Analyst Is Optimistic On ARM, Microchip Technology And More Ahead Of Earnings\",\"Tesla's Top HR Executive Allie Arebalo Has Left The Company\",\"Tesla Says 'We recently undertook a cost-cutting exercise to increase operational efficiency. We also remain committed to company-wide cost reduction, including reducing COGS per vehicle.'\",\"'Tesla aims to cut 400 jobs in Germany via voluntary program' -Reuters\",\"PepsiCo Executive Says Put 36 Tesla Semis On The Road To Haul Chips And Soda, Had Planned To Have 100 In Use By 2023; Spokesperson Says Tesla Semi Plans Can Shift When Technology And The Need To Establish Infrastructure Is Involved\",\"Tesla Board's Credibility At Stake With $56B Elon Musk Pay Package Vote, Says Ross Gerber: 'Super Grateful For Tesla As An Investment'\",\"Citron Research Posts On X \\\"$TSLA If Elon Musk deserves $47 bil for a job well done and the Musk premium on the stock...than which high profile CEO deserves to give back his G550, Yacht, and egrigous pay package for being the worst CEO of the past 10 years?  If this CEO stepped down his stock would be up 50% in one day?  Hint...a former Citron short\\\"\",\"Microsoft's custom Cobalt chips will come to Azure next week - TechCrunch\",\"Recursion Pharmaceuticals Stock Surges 10% As Nvidia-Powered Supercomputer Completion Sparks Investor Optimism\",\"Recursion Announces Completion of NVIDIA-Powered BioHive-2 AI Pharma Supercomputer\",\"NVIDIA Launches Nine Grace Hopper-Powered Supercomputers Globally, Advancing Scientific Research\",\"'US to revoke licences for supply of chips to China's Huawei' -Financial Times\",\"Nvidia Executive Meets Vietnam's Minister On Cooperation\",\"Nvidia Joins Forces with Japan's Tech Institute for Hybrid Supercomputer Project\",\"Rivian Automotive shares are trading lower after the company reported worse-than-expected Q1 EPS results\",\"Rivian shares are trading higher following a report suggesting Apple is mulling a potential partnership with the company.\",\"Amazon's Smashing Q1 Financials Show The Power Of A Good And Well Executed Strategy\",\"Bernstein Maintains Outperform on Meta Platforms, Lowers Price Target to $565\",\"Rosenblatt Maintains Buy on Meta Platforms, Raises Price Target to $562\",\"Meta: 'We anticipate our full-year 2024 capital expenditures will be in the range of $35-40 billion, increased from our prior range of $30-37 billion as we continue to accelerate our infrastructure investments to support our artificial intelligence (AI) roadmap. '\",\"Meta Platforms Q1 2024 GAAP EPS $4.71 Beats $4.33 Estimate, Sales $36.455B Beat $36.156B Estimate\",\"Microsoft Boosts AI Arsenal With Former Meta Executive Jason Taylor\",\"Jack Ma Backed Ant Group's Alipay+ Broadens Payment Reach Across Continents: How It's Shaping Global Commerce?\",\"Mastercard Targets Over a Billion Users in China - Joins with Alibaba's Ant Group Affiliate Alipay for Instant Cross-Border Payments\",\"Amazon's Smashing Q1 Financials Show The Power Of A Good And Well Executed Strategy\",\"Microsoft Boosts AI Arsenal With Former Meta Executive Jason Taylor\",\"Reuters Reported Google, Intel, Qualcomm Executives Say They Plan To Battle Nvidia AI Dominance Through UXL Foundation\"],\"legendgroup\":\"\",\"marker\":{\"color\":\"#636efa\",\"symbol\":\"circle\"},\"mode\":\"markers\",\"name\":\"\",\"orientation\":\"v\",\"showlegend\":false,\"x\":[-0.28324512278371355,-0.19863884628812595,-0.229248665977199,0.028661037846729763,-0.23331493513149137,-0.27667434830033455,-0.2868055120126951,-0.19272904626081347,-0.3190305682785944,-0.2730072882501143,0.2602932073285815,0.21733016614480988,0.3870438827246719,0.38688913806097147,0.0837930505049434,0.28958198071355595,0.38184982546771307,-0.20444474572649943,-0.17918944165828857,-0.05627932460595016,-0.05618151642679889,-0.03457206270612945,0.10465749564342605,-0.02901356822646264,0.21488536830653754,0.04217838798629282,0.0669737440264834,-0.05627932460595016,0.21488536830653754,0.22963166417790626],\"xaxis\":\"x\",\"y\":[-0.04229682128394227,-0.2615630950602127,-0.22013780057729704,0.15880972674238053,-0.1961695266863004,-0.16449204218748367,-0.23970160782973698,-0.2119055953160357,-0.10875008321319633,0.04305681625933124,-0.09973631401242304,-0.04065517464984681,-0.14712804228484938,-0.23639651873337453,-0.10305580838212453,-0.20526349299686575,-0.2402897642743298,0.03558572857250922,0.014212920178820638,0.2484799116001598,0.3615352539849189,0.3680385011332353,0.27672355621715145,0.44928715184609624,0.1725118910569086,0.05281192769582737,0.01103379184095674,0.2484799116001598,0.1725118910569086,-0.09553729229734559],\"yaxis\":\"y\",\"type\":\"scatter\"}],                        {\"template\":{\"data\":{\"histogram2dcontour\":[{\"type\":\"histogram2dcontour\",\"colorbar\":{\"outlinewidth\":0,\"ticks\":\"\"},\"colorscale\":[[0.0,\"#0d0887\"],[0.1111111111111111,\"#46039f\"],[0.2222222222222222,\"#7201a8\"],[0.3333333333333333,\"#9c179e\"],[0.4444444444444444,\"#bd3786\"],[0.5555555555555556,\"#d8576b\"],[0.6666666666666666,\"#ed7953\"],[0.7777777777777778,\"#fb9f3a\"],[0.8888888888888888,\"#fdca26\"],[1.0,\"#f0f921\"]]}],\"choropleth\":[{\"type\":\"choropleth\",\"colorbar\":{\"outlinewidth\":0,\"ticks\":\"\"}}],\"histogram2d\":[{\"type\":\"histogram2d\",\"colorbar\":{\"outlinewidth\":0,\"ticks\":\"\"},\"colorscale\":[[0.0,\"#0d0887\"],[0.1111111111111111,\"#46039f\"],[0.2222222222222222,\"#7201a8\"],[0.3333333333333333,\"#9c179e\"],[0.4444444444444444,\"#bd3786\"],[0.5555555555555556,\"#d8576b\"],[0.6666666666666666,\"#ed7953\"],[0.7777777777777778,\"#fb9f3a\"],[0.8888888888888888,\"#fdca26\"],[1.0,\"#f0f921\"]]}],\"heatmap\":[{\"type\":\"heatmap\",\"colorbar\":{\"outlinewidth\":0,\"ticks\":\"\"},\"colorscale\":[[0.0,\"#0d0887\"],[0.1111111111111111,\"#46039f\"],[0.2222222222222222,\"#7201a8\"],[0.3333333333333333,\"#9c179e\"],[0.4444444444444444,\"#bd3786\"],[0.5555555555555556,\"#d8576b\"],[0.6666666666666666,\"#ed7953\"],[0.7777777777777778,\"#fb9f3a\"],[0.8888888888888888,\"#fdca26\"],[1.0,\"#f0f921\"]]}],\"heatmapgl\":[{\"type\":\"heatmapgl\",\"colorbar\":{\"outlinewidth\":0,\"ticks\":\"\"},\"colorscale\":[[0.0,\"#0d0887\"],[0.1111111111111111,\"#46039f\"],[0.2222222222222222,\"#7201a8\"],[0.3333333333333333,\"#9c179e\"],[0.4444444444444444,\"#bd3786\"],[0.5555555555555556,\"#d8576b\"],[0.6666666666666666,\"#ed7953\"],[0.7777777777777778,\"#fb9f3a\"],[0.8888888888888888,\"#fdca26\"],[1.0,\"#f0f921\"]]}],\"contourcarpet\":[{\"type\":\"contourcarpet\",\"colorbar\":{\"outlinewidth\":0,\"ticks\":\"\"}}],\"contour\":[{\"type\":\"contour\",\"colorbar\":{\"outlinewidth\":0,\"ticks\":\"\"},\"colorscale\":[[0.0,\"#0d0887\"],[0.1111111111111111,\"#46039f\"],[0.2222222222222222,\"#7201a8\"],[0.3333333333333333,\"#9c179e\"],[0.4444444444444444,\"#bd3786\"],[0.5555555555555556,\"#d8576b\"],[0.6666666666666666,\"#ed7953\"],[0.7777777777777778,\"#fb9f3a\"],[0.8888888888888888,\"#fdca26\"],[1.0,\"#f0f921\"]]}],\"surface\":[{\"type\":\"surface\",\"colorbar\":{\"outlinewidth\":0,\"ticks\":\"\"},\"colorscale\":[[0.0,\"#0d0887\"],[0.1111111111111111,\"#46039f\"],[0.2222222222222222,\"#7201a8\"],[0.3333333333333333,\"#9c179e\"],[0.4444444444444444,\"#bd3786\"],[0.5555555555555556,\"#d8576b\"],[0.6666666666666666,\"#ed7953\"],[0.7777777777777778,\"#fb9f3a\"],[0.8888888888888888,\"#fdca26\"],[1.0,\"#f0f921\"]]}],\"mesh3d\":[{\"type\":\"mesh3d\",\"colorbar\":{\"outlinewidth\":0,\"ticks\":\"\"}}],\"scatter\":[{\"fillpattern\":{\"fillmode\":\"overlay\",\"size\":10,\"solidity\":0.2},\"type\":\"scatter\"}],\"parcoords\":[{\"type\":\"parcoords\",\"line\":{\"colorbar\":{\"outlinewidth\":0,\"ticks\":\"\"}}}],\"scatterpolargl\":[{\"type\":\"scatterpolargl\",\"marker\":{\"colorbar\":{\"outlinewidth\":0,\"ticks\":\"\"}}}],\"bar\":[{\"error_x\":{\"color\":\"#2a3f5f\"},\"error_y\":{\"color\":\"#2a3f5f\"},\"marker\":{\"line\":{\"color\":\"#E5ECF6\",\"width\":0.5},\"pattern\":{\"fillmode\":\"overlay\",\"size\":10,\"solidity\":0.2}},\"type\":\"bar\"}],\"scattergeo\":[{\"type\":\"scattergeo\",\"marker\":{\"colorbar\":{\"outlinewidth\":0,\"ticks\":\"\"}}}],\"scatterpolar\":[{\"type\":\"scatterpolar\",\"marker\":{\"colorbar\":{\"outlinewidth\":0,\"ticks\":\"\"}}}],\"histogram\":[{\"marker\":{\"pattern\":{\"fillmode\":\"overlay\",\"size\":10,\"solidity\":0.2}},\"type\":\"histogram\"}],\"scattergl\":[{\"type\":\"scattergl\",\"marker\":{\"colorbar\":{\"outlinewidth\":0,\"ticks\":\"\"}}}],\"scatter3d\":[{\"type\":\"scatter3d\",\"line\":{\"colorbar\":{\"outlinewidth\":0,\"ticks\":\"\"}},\"marker\":{\"colorbar\":{\"outlinewidth\":0,\"ticks\":\"\"}}}],\"scattermapbox\":[{\"type\":\"scattermapbox\",\"marker\":{\"colorbar\":{\"outlinewidth\":0,\"ticks\":\"\"}}}],\"scatterternary\":[{\"type\":\"scatterternary\",\"marker\":{\"colorbar\":{\"outlinewidth\":0,\"ticks\":\"\"}}}],\"scattercarpet\":[{\"type\":\"scattercarpet\",\"marker\":{\"colorbar\":{\"outlinewidth\":0,\"ticks\":\"\"}}}],\"carpet\":[{\"aaxis\":{\"endlinecolor\":\"#2a3f5f\",\"gridcolor\":\"white\",\"linecolor\":\"white\",\"minorgridcolor\":\"white\",\"startlinecolor\":\"#2a3f5f\"},\"baxis\":{\"endlinecolor\":\"#2a3f5f\",\"gridcolor\":\"white\",\"linecolor\":\"white\",\"minorgridcolor\":\"white\",\"startlinecolor\":\"#2a3f5f\"},\"type\":\"carpet\"}],\"table\":[{\"cells\":{\"fill\":{\"color\":\"#EBF0F8\"},\"line\":{\"color\":\"white\"}},\"header\":{\"fill\":{\"color\":\"#C8D4E3\"},\"line\":{\"color\":\"white\"}},\"type\":\"table\"}],\"barpolar\":[{\"marker\":{\"line\":{\"color\":\"#E5ECF6\",\"width\":0.5},\"pattern\":{\"fillmode\":\"overlay\",\"size\":10,\"solidity\":0.2}},\"type\":\"barpolar\"}],\"pie\":[{\"automargin\":true,\"type\":\"pie\"}]},\"layout\":{\"autotypenumbers\":\"strict\",\"colorway\":[\"#636efa\",\"#EF553B\",\"#00cc96\",\"#ab63fa\",\"#FFA15A\",\"#19d3f3\",\"#FF6692\",\"#B6E880\",\"#FF97FF\",\"#FECB52\"],\"font\":{\"color\":\"#2a3f5f\"},\"hovermode\":\"closest\",\"hoverlabel\":{\"align\":\"left\"},\"paper_bgcolor\":\"white\",\"plot_bgcolor\":\"#E5ECF6\",\"polar\":{\"bgcolor\":\"#E5ECF6\",\"angularaxis\":{\"gridcolor\":\"white\",\"linecolor\":\"white\",\"ticks\":\"\"},\"radialaxis\":{\"gridcolor\":\"white\",\"linecolor\":\"white\",\"ticks\":\"\"}},\"ternary\":{\"bgcolor\":\"#E5ECF6\",\"aaxis\":{\"gridcolor\":\"white\",\"linecolor\":\"white\",\"ticks\":\"\"},\"baxis\":{\"gridcolor\":\"white\",\"linecolor\":\"white\",\"ticks\":\"\"},\"caxis\":{\"gridcolor\":\"white\",\"linecolor\":\"white\",\"ticks\":\"\"}},\"coloraxis\":{\"colorbar\":{\"outlinewidth\":0,\"ticks\":\"\"}},\"colorscale\":{\"sequential\":[[0.0,\"#0d0887\"],[0.1111111111111111,\"#46039f\"],[0.2222222222222222,\"#7201a8\"],[0.3333333333333333,\"#9c179e\"],[0.4444444444444444,\"#bd3786\"],[0.5555555555555556,\"#d8576b\"],[0.6666666666666666,\"#ed7953\"],[0.7777777777777778,\"#fb9f3a\"],[0.8888888888888888,\"#fdca26\"],[1.0,\"#f0f921\"]],\"sequentialminus\":[[0.0,\"#0d0887\"],[0.1111111111111111,\"#46039f\"],[0.2222222222222222,\"#7201a8\"],[0.3333333333333333,\"#9c179e\"],[0.4444444444444444,\"#bd3786\"],[0.5555555555555556,\"#d8576b\"],[0.6666666666666666,\"#ed7953\"],[0.7777777777777778,\"#fb9f3a\"],[0.8888888888888888,\"#fdca26\"],[1.0,\"#f0f921\"]],\"diverging\":[[0,\"#8e0152\"],[0.1,\"#c51b7d\"],[0.2,\"#de77ae\"],[0.3,\"#f1b6da\"],[0.4,\"#fde0ef\"],[0.5,\"#f7f7f7\"],[0.6,\"#e6f5d0\"],[0.7,\"#b8e186\"],[0.8,\"#7fbc41\"],[0.9,\"#4d9221\"],[1,\"#276419\"]]},\"xaxis\":{\"gridcolor\":\"white\",\"linecolor\":\"white\",\"ticks\":\"\",\"title\":{\"standoff\":15},\"zerolinecolor\":\"white\",\"automargin\":true,\"zerolinewidth\":2},\"yaxis\":{\"gridcolor\":\"white\",\"linecolor\":\"white\",\"ticks\":\"\",\"title\":{\"standoff\":15},\"zerolinecolor\":\"white\",\"automargin\":true,\"zerolinewidth\":2},\"scene\":{\"xaxis\":{\"backgroundcolor\":\"#E5ECF6\",\"gridcolor\":\"white\",\"linecolor\":\"white\",\"showbackground\":true,\"ticks\":\"\",\"zerolinecolor\":\"white\",\"gridwidth\":2},\"yaxis\":{\"backgroundcolor\":\"#E5ECF6\",\"gridcolor\":\"white\",\"linecolor\":\"white\",\"showbackground\":true,\"ticks\":\"\",\"zerolinecolor\":\"white\",\"gridwidth\":2},\"zaxis\":{\"backgroundcolor\":\"#E5ECF6\",\"gridcolor\":\"white\",\"linecolor\":\"white\",\"showbackground\":true,\"ticks\":\"\",\"zerolinecolor\":\"white\",\"gridwidth\":2}},\"shapedefaults\":{\"line\":{\"color\":\"#2a3f5f\"}},\"annotationdefaults\":{\"arrowcolor\":\"#2a3f5f\",\"arrowhead\":0,\"arrowwidth\":1},\"geo\":{\"bgcolor\":\"white\",\"landcolor\":\"#E5ECF6\",\"subunitcolor\":\"white\",\"showland\":true,\"showlakes\":true,\"lakecolor\":\"white\"},\"title\":{\"x\":0.05},\"mapbox\":{\"style\":\"light\"}}},\"xaxis\":{\"anchor\":\"y\",\"domain\":[0.0,1.0],\"title\":{\"text\":\"x\"}},\"yaxis\":{\"anchor\":\"x\",\"domain\":[0.0,1.0],\"title\":{\"text\":\"y\"}},\"legend\":{\"tracegroupgap\":0},\"margin\":{\"t\":60}},                        {\"responsive\": true}                    ).then(function(){\n",
              "                            \n",
              "var gd = document.getElementById('3d4b73b3-a69e-4f85-bf4d-861d04082f73');\n",
              "var x = new MutationObserver(function (mutations, observer) {{\n",
              "        var display = window.getComputedStyle(gd).display;\n",
              "        if (!display || display === 'none') {{\n",
              "            console.log([gd, 'removed!']);\n",
              "            Plotly.purge(gd);\n",
              "            observer.disconnect();\n",
              "        }}\n",
              "}});\n",
              "\n",
              "// Listen for the removal of the full notebook cells\n",
              "var notebookContainer = gd.closest('#notebook-container');\n",
              "if (notebookContainer) {{\n",
              "    x.observe(notebookContainer, {childList: true});\n",
              "}}\n",
              "\n",
              "// Listen for the clearing of the current output cell\n",
              "var outputEl = gd.closest('.output');\n",
              "if (outputEl) {{\n",
              "    x.observe(outputEl, {childList: true});\n",
              "}}\n",
              "\n",
              "                        })                };                            </script>        </div>\n",
              "</body>\n",
              "</html>"
            ]
          },
          "metadata": {}
        }
      ]
    },
    {
      "cell_type": "markdown",
      "source": [
        "### Can also use the Embeddings for Clustering/Classification.\n",
        "\n",
        "Let's do sentiment analysis classification"
      ],
      "metadata": {
        "id": "kSpWFoTIVChW"
      }
    },
    {
      "cell_type": "markdown",
      "source": [
        "### Youtube Video Describing How to get Dataset\n",
        "* Only really need first 3 mins of video"
      ],
      "metadata": {
        "id": "pTSojPeHXybc"
      }
    },
    {
      "cell_type": "code",
      "source": [
        "YouTubeVideo('ascf3y7zSaY')"
      ],
      "metadata": {
        "colab": {
          "base_uri": "https://localhost:8080/",
          "height": 321
        },
        "id": "iarwbshJX3vm",
        "outputId": "46237ed9-c388-412f-992d-6fd00c027cf3"
      },
      "execution_count": null,
      "outputs": [
        {
          "output_type": "execute_result",
          "data": {
            "text/plain": [
              "<IPython.lib.display.YouTubeVideo at 0x783daa4d59f0>"
            ],
            "text/html": [
              "\n",
              "        <iframe\n",
              "            width=\"400\"\n",
              "            height=\"300\"\n",
              "            src=\"https://www.youtube.com/embed/ascf3y7zSaY\"\n",
              "            frameborder=\"0\"\n",
              "            allowfullscreen\n",
              "            \n",
              "        ></iframe>\n",
              "        "
            ],
            "image/jpeg": "[encoded data removed]"
          },
          "metadata": {},
          "execution_count": 55
        }
      ]
    },
    {
      "cell_type": "markdown",
      "source": [
        "#### Load Alpha vantage labeled sentiment dataset with Pandas\n",
        "* Encode label as integer since this is needed for ML classification algorithms\n"
      ],
      "metadata": {
        "id": "Ii-TMjxvxOCB"
      }
    },
    {
      "cell_type": "code",
      "execution_count": null,
      "metadata": {
        "id": "x_N4PdoTkB0J"
      },
      "outputs": [],
      "source": [
        "df = pd.read_csv('tsla_sentiment_new.csv')\n",
        "df['label']=df['label'].astype('category')\n",
        "df['target']=df['label'].cat.codes\n"
      ]
    },
    {
      "cell_type": "markdown",
      "source": [
        "#### Create map from Integer Encoded Labels to Text Labels\n",
        "* For later visualization"
      ],
      "metadata": {
        "id": "8Nsh18puxoVT"
      }
    },
    {
      "cell_type": "code",
      "source": [
        "display_labels={i:l for i,l in enumerate(df['label'].cat.categories)}"
      ],
      "metadata": {
        "id": "cgmsbqK-xudP"
      },
      "execution_count": null,
      "outputs": []
    },
    {
      "cell_type": "markdown",
      "source": [
        "#### Embed the summary column with OpenAI ADA embedding\n",
        "* We already defined and authenticated openai api client above."
      ],
      "metadata": {
        "id": "GWgu_Ks2kZuH"
      }
    },
    {
      "cell_type": "code",
      "source": [
        "def get_embedding(text, model=\"text-embedding-3-small\"):\n",
        "   text = text.replace(\"\\n\", \" \")\n",
        "   return client.embeddings.create(input = [text], model=model).data[0].embedding"
      ],
      "metadata": {
        "id": "_ex_w8YakfCJ"
      },
      "execution_count": null,
      "outputs": []
    },
    {
      "cell_type": "code",
      "source": [
        "df['ada_embedding'] = df.summary.apply(lambda x: get_embedding(x, model='text-embedding-3-small'))"
      ],
      "metadata": {
        "id": "cPM322q_kp-w"
      },
      "execution_count": null,
      "outputs": []
    },
    {
      "cell_type": "code",
      "source": [
        "df['ada_embedding']"
      ],
      "metadata": {
        "colab": {
          "base_uri": "https://localhost:8080/"
        },
        "id": "ESTKG7S5H5oX",
        "outputId": "942a2676-f019-4466-c641-1d20e4527b61"
      },
      "execution_count": null,
      "outputs": [
        {
          "output_type": "execute_result",
          "data": {
            "text/plain": [
              "0       [0.049987971782684326, -0.027003755792975426, ...\n",
              "1       [0.013754896819591522, 0.017763862386345863, -...\n",
              "2       [0.007476717699319124, -0.056496426463127136, ...\n",
              "3       [0.041611988097429276, -0.007007290609180927, ...\n",
              "4       [0.011668876744806767, -0.0468851663172245, -0...\n",
              "                              ...                        \n",
              "5158    [0.03744158893823624, -0.05438670143485069, -0...\n",
              "5159    [-0.013495557010173798, -0.018925994634628296,...\n",
              "5160    [0.020004956051707268, -0.03857302665710449, -...\n",
              "5161    [-0.05978287756443024, -0.01372792012989521, -...\n",
              "5162    [-0.011097131296992302, -0.00625822925940156, ...\n",
              "Name: ada_embedding, Length: 5163, dtype: object"
            ]
          },
          "metadata": {},
          "execution_count": 88
        }
      ]
    },
    {
      "cell_type": "code",
      "source": [
        "len(df['ada_embedding'].iloc[0])"
      ],
      "metadata": {
        "colab": {
          "base_uri": "https://localhost:8080/"
        },
        "id": "J0RW4x0qH9hG",
        "outputId": "ce624e26-d759-4a27-af9d-7534a9e97482"
      },
      "execution_count": null,
      "outputs": [
        {
          "output_type": "execute_result",
          "data": {
            "text/plain": [
              "1536"
            ]
          },
          "metadata": {},
          "execution_count": 89
        }
      ]
    },
    {
      "cell_type": "markdown",
      "source": [
        "### Can save the embeddings with rest of dataframe to CSV"
      ],
      "metadata": {
        "id": "76zOUSBqWHwZ"
      }
    },
    {
      "cell_type": "code",
      "source": [
        "df.to_csv('tsla_sentiment_with_embeddings_new.csv',index=False)"
      ],
      "metadata": {
        "id": "IHi48XKao-vJ"
      },
      "execution_count": null,
      "outputs": []
    },
    {
      "cell_type": "markdown",
      "source": [
        "### If already computed embeddings an load from csv can do this to load"
      ],
      "metadata": {
        "id": "evPrZywBWLxf"
      }
    },
    {
      "cell_type": "code",
      "source": [
        "df_reloaded = pd.read_csv(\"tsla_sentiment_with_embeddings_new.csv\")\n",
        "df_reloaded['ada_embedding'] = df_reloaded['ada_embedding'].apply(eval).apply(np.array)"
      ],
      "metadata": {
        "id": "3hs9f9grXcyE"
      },
      "execution_count": null,
      "outputs": []
    },
    {
      "cell_type": "markdown",
      "source": [
        "### Split into train/val/test over time as in my other LLM videos\n",
        "* First 60 pct train\n",
        "* Next 20 pct val\n",
        "* Last 20 pct test"
      ],
      "metadata": {
        "id": "ZzE8NVCKWeFd"
      }
    },
    {
      "cell_type": "code",
      "source": [
        "train_end_point = int(df.shape[0]*0.6)\n",
        "val_end_point = int(df.shape[0]*0.8)\n",
        "df_train = df.iloc[:train_end_point,:]\n",
        "df_val = df.iloc[train_end_point:val_end_point,:]\n",
        "df_test = df.iloc[val_end_point:,:]\n",
        "print(df_train.shape, df_test.shape, df_val.shape)\n",
        "\n"
      ],
      "metadata": {
        "colab": {
          "base_uri": "https://localhost:8080/"
        },
        "id": "4bbuUjz3npDW",
        "outputId": "5c8e283f-0001-41c4-f87a-6ad2ca1e8201",
        "collapsed": true
      },
      "execution_count": null,
      "outputs": [
        {
          "output_type": "stream",
          "name": "stdout",
          "text": [
            "(3097, 19) (1033, 19) (1033, 19)\n"
          ]
        }
      ]
    },
    {
      "cell_type": "markdown",
      "source": [
        "#### Fit a Simple Multi-Layer Perceptron Neural Network with Keras with\n",
        "* Inputs: embeddings\n",
        "* Outputs: sentiment of Bearish, Bullish,or Neutral"
      ],
      "metadata": {
        "id": "sZMbAwcjWhHC"
      }
    },
    {
      "cell_type": "markdown",
      "source": [
        "#### First Split the x and y components of the train, validation, and test subsets.\n"
      ],
      "metadata": {
        "id": "zD18-ngx-kQf"
      }
    },
    {
      "cell_type": "code",
      "source": [
        "# Split the x and y components of the train and validation subsets.\n",
        "y_train = df_train['target']\n",
        "x_train = np.stack(df_train['ada_embedding'])\n",
        "\n",
        "y_val = df_val['target']\n",
        "x_val = np.stack(df_val['ada_embedding'])\n",
        "\n",
        "y_test = df_test['target']\n",
        "x_test = np.stack(df_test['ada_embedding'])\n",
        "\n"
      ],
      "metadata": {
        "id": "IdlvCRxW87cA"
      },
      "execution_count": null,
      "outputs": []
    },
    {
      "cell_type": "code",
      "source": [
        "x_train.shape"
      ],
      "metadata": {
        "colab": {
          "base_uri": "https://localhost:8080/"
        },
        "id": "Ue6QOF9MIqIj",
        "outputId": "2a1b6526-85ec-4c1d-d4f8-07e11ab7ebea"
      },
      "execution_count": null,
      "outputs": [
        {
          "output_type": "execute_result",
          "data": {
            "text/plain": [
              "(3097, 1536)"
            ]
          },
          "metadata": {},
          "execution_count": 93
        }
      ]
    },
    {
      "cell_type": "markdown",
      "source": [
        "#### Define the Neural Network in Keras with Hyperparams"
      ],
      "metadata": {
        "id": "TEq5y-G4-qOB"
      }
    },
    {
      "cell_type": "code",
      "source": [
        "NUM_EPOCHS = 20\n",
        "BATCH_SIZE = 32\n",
        "\n",
        "model = keras.Sequential([layers.Dense(32, activation='relu'),\n",
        "                          layers.Dropout(.2),\n",
        "                          layers.Dense(3, activation='sigmoid')])\n",
        "\n",
        "\n",
        "model.compile(loss = keras.losses.SparseCategoricalCrossentropy(from_logits=True),\n",
        "                   optimizer = keras.optimizers.Adam(learning_rate=0.001),\n",
        "                   metrics=['accuracy'])\n",
        "\n",
        "# Train the model for the desired number of epochs.\n",
        "callback = keras.callbacks.EarlyStopping(monitor='accuracy', patience=3)\n",
        "\n",
        "history = model.fit(x=x_train,\n",
        "                         y=y_train,\n",
        "                         validation_data=(x_val, y_val),\n",
        "                         callbacks=[callback],\n",
        "                         batch_size=BATCH_SIZE,\n",
        "                         epochs=NUM_EPOCHS,)"
      ],
      "metadata": {
        "id": "sp2pCfCem1SO",
        "colab": {
          "base_uri": "https://localhost:8080/"
        },
        "collapsed": true,
        "outputId": "e038b719-3b43-4230-fed2-010df887c40c"
      },
      "execution_count": null,
      "outputs": [
        {
          "output_type": "stream",
          "name": "stdout",
          "text": [
            "Epoch 1/20\n"
          ]
        },
        {
          "output_type": "stream",
          "name": "stderr",
          "text": [
            "/usr/local/lib/python3.10/dist-packages/keras/src/backend.py:5727: UserWarning:\n",
            "\n",
            "\"`sparse_categorical_crossentropy` received `from_logits=True`, but the `output` argument was produced by a Softmax activation and thus does not represent logits. Was this intended?\n",
            "\n"
          ]
        },
        {
          "output_type": "stream",
          "name": "stdout",
          "text": [
            "97/97 [==============================] - 1s 5ms/step - loss: 1.0050 - accuracy: 0.4759 - val_loss: 0.9340 - val_accuracy: 0.5460\n",
            "Epoch 2/20\n",
            "97/97 [==============================] - 0s 4ms/step - loss: 0.9219 - accuracy: 0.5563 - val_loss: 0.8827 - val_accuracy: 0.5924\n",
            "Epoch 3/20\n",
            "97/97 [==============================] - 0s 3ms/step - loss: 0.8845 - accuracy: 0.5706 - val_loss: 0.8646 - val_accuracy: 0.5934\n",
            "Epoch 4/20\n",
            "97/97 [==============================] - 0s 3ms/step - loss: 0.8593 - accuracy: 0.5938 - val_loss: 0.8654 - val_accuracy: 0.6060\n",
            "Epoch 5/20\n",
            "97/97 [==============================] - 0s 3ms/step - loss: 0.8427 - accuracy: 0.6135 - val_loss: 0.8680 - val_accuracy: 0.5828\n",
            "Epoch 6/20\n",
            "97/97 [==============================] - 0s 3ms/step - loss: 0.8251 - accuracy: 0.6122 - val_loss: 0.8680 - val_accuracy: 0.5895\n",
            "Epoch 7/20\n",
            "97/97 [==============================] - 0s 3ms/step - loss: 0.8163 - accuracy: 0.6280 - val_loss: 0.8597 - val_accuracy: 0.5954\n",
            "Epoch 8/20\n",
            "97/97 [==============================] - 0s 3ms/step - loss: 0.7986 - accuracy: 0.6313 - val_loss: 0.8608 - val_accuracy: 0.5857\n",
            "Epoch 9/20\n",
            "97/97 [==============================] - 0s 3ms/step - loss: 0.7752 - accuracy: 0.6432 - val_loss: 0.8649 - val_accuracy: 0.5973\n",
            "Epoch 10/20\n",
            "97/97 [==============================] - 0s 4ms/step - loss: 0.7602 - accuracy: 0.6590 - val_loss: 0.8735 - val_accuracy: 0.5963\n",
            "Epoch 11/20\n",
            "97/97 [==============================] - 0s 5ms/step - loss: 0.7480 - accuracy: 0.6681 - val_loss: 0.8674 - val_accuracy: 0.5905\n",
            "Epoch 12/20\n",
            "97/97 [==============================] - 1s 6ms/step - loss: 0.7418 - accuracy: 0.6736 - val_loss: 0.8789 - val_accuracy: 0.5828\n",
            "Epoch 13/20\n",
            "97/97 [==============================] - 1s 5ms/step - loss: 0.7215 - accuracy: 0.6800 - val_loss: 0.8766 - val_accuracy: 0.5963\n",
            "Epoch 14/20\n",
            "97/97 [==============================] - 1s 7ms/step - loss: 0.7114 - accuracy: 0.6849 - val_loss: 0.8798 - val_accuracy: 0.5905\n",
            "Epoch 15/20\n",
            "97/97 [==============================] - 1s 7ms/step - loss: 0.6884 - accuracy: 0.7062 - val_loss: 0.8868 - val_accuracy: 0.5905\n",
            "Epoch 16/20\n",
            "97/97 [==============================] - 1s 6ms/step - loss: 0.6774 - accuracy: 0.7084 - val_loss: 0.9124 - val_accuracy: 0.5789\n",
            "Epoch 17/20\n",
            "97/97 [==============================] - 1s 6ms/step - loss: 0.6688 - accuracy: 0.7126 - val_loss: 0.9131 - val_accuracy: 0.5615\n",
            "Epoch 18/20\n",
            "97/97 [==============================] - 1s 7ms/step - loss: 0.6532 - accuracy: 0.7175 - val_loss: 0.9232 - val_accuracy: 0.5673\n",
            "Epoch 19/20\n",
            "97/97 [==============================] - 1s 6ms/step - loss: 0.6510 - accuracy: 0.7284 - val_loss: 0.9243 - val_accuracy: 0.5721\n",
            "Epoch 20/20\n",
            "97/97 [==============================] - 1s 7ms/step - loss: 0.6332 - accuracy: 0.7362 - val_loss: 0.9243 - val_accuracy: 0.5547\n"
          ]
        }
      ]
    },
    {
      "cell_type": "markdown",
      "source": [
        "#### Plot the training history along with validation metrics after each epoch"
      ],
      "metadata": {
        "id": "GGoz35jMlWzH"
      }
    },
    {
      "cell_type": "code",
      "source": [
        "def plot_history(history):\n",
        "  \"\"\"\n",
        "    Plotting training and validation learning curves.\n",
        "\n",
        "    Args:\n",
        "      history: model history with all the metric measures\n",
        "  \"\"\"\n",
        "  fig, (ax1, ax2) = plt.subplots(1,2)\n",
        "  fig.set_size_inches(20, 8)\n",
        "\n",
        "  # Plot loss\n",
        "  ax1.set_title('Loss')\n",
        "  ax1.plot(history.history['loss'], label = 'train')\n",
        "  ax1.plot(history.history['val_loss'], label = 'test')\n",
        "  ax1.set_ylabel('Loss')\n",
        "\n",
        "  ax1.set_xlabel('Epoch')\n",
        "  ax1.legend(['Train', 'Validation'])\n",
        "\n",
        "  # Plot accuracy\n",
        "  ax2.set_title('Accuracy')\n",
        "  ax2.plot(history.history['accuracy'],  label = 'train')\n",
        "  ax2.plot(history.history['val_accuracy'], label = 'test')\n",
        "  ax2.set_ylabel('Accuracy')\n",
        "  ax2.set_xlabel('Epoch')\n",
        "  ax2.legend(['Train', 'Validation'])\n",
        "\n",
        "  plt.show()\n",
        "\n",
        "plot_history(history)"
      ],
      "metadata": {
        "colab": {
          "base_uri": "https://localhost:8080/",
          "height": 490
        },
        "id": "W4x9T-Z5oOBF",
        "outputId": "93c2a611-7c2d-4858-8241-bc388bd33573"
      },
      "execution_count": null,
      "outputs": [
        {
          "output_type": "display_data",
          "data": {
            "text/plain": [
              "<Figure size 2000x800 with 2 Axes>"
            ],
            "image/png": "[encoded data removed]"
          },
          "metadata": {}
        }
      ]
    },
    {
      "cell_type": "markdown",
      "source": [
        "### Make Predictions on the test set and then evaluate the model and compute the confusion matrix"
      ],
      "metadata": {
        "id": "_eRm0gmKllDq"
      }
    },
    {
      "cell_type": "code",
      "source": [
        "model.predict(x_test)"
      ],
      "metadata": {
        "colab": {
          "base_uri": "https://localhost:8080/"
        },
        "id": "iT7FJMUFJcYd",
        "outputId": "457f3c91-a806-4b96-d49a-511d56eff9f6"
      },
      "execution_count": null,
      "outputs": [
        {
          "output_type": "stream",
          "name": "stdout",
          "text": [
            "33/33 [==============================] - 1s 11ms/step\n"
          ]
        },
        {
          "output_type": "execute_result",
          "data": {
            "text/plain": [
              "array([[0.4210343 , 0.7009009 , 0.20527358],\n",
              "       [0.21364644, 0.8818012 , 0.15804496],\n",
              "       [0.07908794, 0.5403781 , 0.78258854],\n",
              "       ...,\n",
              "       [0.17192541, 0.6249924 , 0.5914362 ],\n",
              "       [0.4970439 , 0.4659392 , 0.37192106],\n",
              "       [0.21582529, 0.50841206, 0.55981785]], dtype=float32)"
            ]
          },
          "metadata": {},
          "execution_count": 97
        }
      ]
    },
    {
      "cell_type": "code",
      "source": [
        "y_hat=model.predict(x_test).argmax(axis=1)"
      ],
      "metadata": {
        "colab": {
          "base_uri": "https://localhost:8080/"
        },
        "id": "g0XxP31yoYT4",
        "outputId": "0bb30433-0522-42fd-ec6d-5e7d37651235"
      },
      "execution_count": null,
      "outputs": [
        {
          "output_type": "stream",
          "name": "stdout",
          "text": [
            "33/33 [==============================] - 0s 2ms/step\n"
          ]
        }
      ]
    },
    {
      "cell_type": "markdown",
      "source": [
        "### Evaluate the model"
      ],
      "metadata": {
        "id": "9QF4S47pmLSQ"
      }
    },
    {
      "cell_type": "code",
      "source": [
        "print(f\"Accuracy: {accuracy_score(y_test, y_hat)}\")\n",
        "print(f\"Balanced Accuracy: {balanced_accuracy_score(y_test, y_hat)}\")\n",
        "print(classification_report(y_test, y_hat, target_names=display_labels.values()))"
      ],
      "metadata": {
        "id": "vTUs9XalmJ4e",
        "colab": {
          "base_uri": "https://localhost:8080/"
        },
        "outputId": "ab0e6e22-ea6f-415a-f308-b5fa9559aece"
      },
      "execution_count": null,
      "outputs": [
        {
          "output_type": "stream",
          "name": "stdout",
          "text": [
            "Accuracy: 0.5314617618586641\n",
            "Balanced Accuracy: 0.5100301055858405\n",
            "              precision    recall  f1-score   support\n",
            "\n",
            "    Negative       0.45      0.34      0.39       179\n",
            "     Neutral       0.58      0.46      0.51       499\n",
            "    Positive       0.52      0.73      0.61       355\n",
            "\n",
            "    accuracy                           0.53      1033\n",
            "   macro avg       0.52      0.51      0.50      1033\n",
            "weighted avg       0.53      0.53      0.52      1033\n",
            "\n"
          ]
        }
      ]
    },
    {
      "cell_type": "code",
      "source": [
        "cm = confusion_matrix(y_test, y_hat)\n",
        "cm"
      ],
      "metadata": {
        "colab": {
          "base_uri": "https://localhost:8080/"
        },
        "id": "1yLqzWDqY7qx",
        "outputId": "49c0ddf7-1235-4e3d-a3f8-d4c5fe640ad9"
      },
      "execution_count": null,
      "outputs": [
        {
          "output_type": "execute_result",
          "data": {
            "text/plain": [
              "array([[ 61,  86,  32],\n",
              "       [ 60, 228, 211],\n",
              "       [ 14,  81, 260]])"
            ]
          },
          "metadata": {},
          "execution_count": 100
        }
      ]
    },
    {
      "cell_type": "markdown",
      "source": [
        "### Display the confusion Matrix in a Pretty Way"
      ],
      "metadata": {
        "id": "t4MPrfagl37c"
      }
    },
    {
      "cell_type": "code",
      "source": [
        "disp = skmetrics.ConfusionMatrixDisplay(confusion_matrix=cm,\n",
        "                              display_labels=display_labels.values())\n",
        "disp.plot(xticks_rotation='vertical')\n",
        "plt.title('Confusion matrix for newsgroup test dataset');\n",
        "plt.grid(False)"
      ],
      "metadata": {
        "id": "jjT_lTHdoVDV",
        "colab": {
          "base_uri": "https://localhost:8080/",
          "height": 520
        },
        "outputId": "21e98b36-5d4e-451c-c31a-ccd96ddebd7e"
      },
      "execution_count": null,
      "outputs": [
        {
          "output_type": "display_data",
          "data": {
            "text/plain": [
              "<Figure size 640x480 with 2 Axes>"
            ],
            "image/png": "[encoded data removed]"
          },
          "metadata": {}
        }
      ]
    },
    {
      "cell_type": "markdown",
      "source": [
        "### Compare to a Naive Bayes Benchmark"
      ],
      "metadata": {
        "id": "GlVLnyhSXEyX"
      }
    },
    {
      "cell_type": "code",
      "source": [
        "pipeline = Pipeline([\n",
        "    ('vect', CountVectorizer()),  # Convert text to a matrix of token counts\n",
        "    ('clf', MultinomialNB())  # Naive Bayes classifier\n",
        "])\n",
        "\n",
        "# Train the model\n",
        "pipeline.fit(df_train['summary'],df_train['target'])\n",
        "\n",
        "# Predict the test set\n",
        "y_hat = pipeline.predict(df_test['summary'])\n",
        "y_test = df_test.target\n",
        "# Evaluate the model\n",
        "print(f\"Accuracy: {accuracy_score(y_test, y_hat)}\")\n",
        "print(f\"Balanced Accuracy: {balanced_accuracy_score(y_test, y_hat)}\")\n",
        "print(classification_report(y_test, y_hat, target_names=display_labels.values()))\n",
        "\n",
        "cm = confusion_matrix(y_test, y_hat)\n",
        "\n",
        "disp = skmetrics.ConfusionMatrixDisplay(confusion_matrix=cm,\n",
        "                              display_labels=display_labels)\n",
        "disp.plot(xticks_rotation='vertical')\n",
        "plt.title('Confusion matrix for newsgroup test dataset');\n",
        "plt.grid(False)"
      ],
      "metadata": {
        "id": "E1kxElnTmztn",
        "colab": {
          "base_uri": "https://localhost:8080/",
          "height": 675
        },
        "collapsed": true,
        "outputId": "b573dc04-9d22-4a23-e6c4-2990831c4ee9"
      },
      "execution_count": null,
      "outputs": [
        {
          "output_type": "stream",
          "name": "stdout",
          "text": [
            "Accuracy: 0.48693126815101645\n",
            "Balanced Accuracy: 0.41494531539539325\n",
            "              precision    recall  f1-score   support\n",
            "\n",
            "    Negative       0.34      0.10      0.16       179\n",
            "     Neutral       0.52      0.55      0.53       499\n",
            "    Positive       0.46      0.60      0.52       355\n",
            "\n",
            "    accuracy                           0.49      1033\n",
            "   macro avg       0.44      0.41      0.40      1033\n",
            "weighted avg       0.47      0.49      0.46      1033\n",
            "\n"
          ]
        },
        {
          "output_type": "display_data",
          "data": {
            "text/plain": [
              "<Figure size 640x480 with 2 Axes>"
            ],
            "image/png": "[encoded data removed]"
          },
          "metadata": {}
        }
      ]
    },
    {
      "cell_type": "markdown",
      "source": [
        "### Reference\n",
        "* https://www.deeplearning.ai/\n",
        "* https://docs.voyageai.com/docs/quickstart-tutorial"
      ],
      "metadata": {
        "id": "3MfYpexI22Lo"
      }
    }
  ]
}