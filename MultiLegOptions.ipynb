{
  "nbformat": 4,
  "nbformat_minor": 0,
  "metadata": {
    "colab": {
      "provenance": [],
      "authorship_tag": "ABX9TyPJWsC73WKyt7//clFAGj+W",
      "include_colab_link": true
    },
    "kernelspec": {
      "name": "python3",
      "display_name": "Python 3"
    },
    "language_info": {
      "name": "python"
    }
  },
  "cells": [
    {
      "cell_type": "markdown",
      "metadata": {
        "id": "view-in-github",
        "colab_type": "text"
      },
      "source": [
        "<a href=\"https://colab.research.google.com/github/adidror005/youtube-videos/blob/main/MultiLegOptions.ipynb\" target=\"_parent\"><img src=\"https://colab.research.google.com/assets/colab-badge.svg\" alt=\"Open In Colab\"/></a>"
      ]
    },
    {
      "cell_type": "code",
      "execution_count": 3,
      "metadata": {
        "id": "o5D5DZyJmI3g",
        "colab": {
          "base_uri": "https://localhost:8080/"
        },
        "outputId": "11a6c4ac-55a7-4d0b-b21a-9489c426ae12"
      },
      "outputs": [
        {
          "output_type": "stream",
          "name": "stdout",
          "text": [
            "Requirement already satisfied: alpaca-py in /usr/local/lib/python3.11/dist-packages (0.40.1)\n",
            "Requirement already satisfied: msgpack<2.0.0,>=1.0.3 in /usr/local/lib/python3.11/dist-packages (from alpaca-py) (1.1.0)\n",
            "Requirement already satisfied: pandas>=1.5.3 in /usr/local/lib/python3.11/dist-packages (from alpaca-py) (2.2.2)\n",
            "Requirement already satisfied: pydantic<3.0.0,>=2.0.3 in /usr/local/lib/python3.11/dist-packages (from alpaca-py) (2.11.4)\n",
            "Requirement already satisfied: requests<3.0.0,>=2.30.0 in /usr/local/lib/python3.11/dist-packages (from alpaca-py) (2.32.3)\n",
            "Requirement already satisfied: sseclient-py<2.0.0,>=1.7.2 in /usr/local/lib/python3.11/dist-packages (from alpaca-py) (1.8.0)\n",
            "Requirement already satisfied: websockets>=10.4 in /usr/local/lib/python3.11/dist-packages (from alpaca-py) (15.0.1)\n",
            "Requirement already satisfied: numpy>=1.23.2 in /usr/local/lib/python3.11/dist-packages (from pandas>=1.5.3->alpaca-py) (2.0.2)\n",
            "Requirement already satisfied: python-dateutil>=2.8.2 in /usr/local/lib/python3.11/dist-packages (from pandas>=1.5.3->alpaca-py) (2.9.0.post0)\n",
            "Requirement already satisfied: pytz>=2020.1 in /usr/local/lib/python3.11/dist-packages (from pandas>=1.5.3->alpaca-py) (2025.2)\n",
            "Requirement already satisfied: tzdata>=2022.7 in /usr/local/lib/python3.11/dist-packages (from pandas>=1.5.3->alpaca-py) (2025.2)\n",
            "Requirement already satisfied: annotated-types>=0.6.0 in /usr/local/lib/python3.11/dist-packages (from pydantic<3.0.0,>=2.0.3->alpaca-py) (0.7.0)\n",
            "Requirement already satisfied: pydantic-core==2.33.2 in /usr/local/lib/python3.11/dist-packages (from pydantic<3.0.0,>=2.0.3->alpaca-py) (2.33.2)\n",
            "Requirement already satisfied: typing-extensions>=4.12.2 in /usr/local/lib/python3.11/dist-packages (from pydantic<3.0.0,>=2.0.3->alpaca-py) (4.13.2)\n",
            "Requirement already satisfied: typing-inspection>=0.4.0 in /usr/local/lib/python3.11/dist-packages (from pydantic<3.0.0,>=2.0.3->alpaca-py) (0.4.0)\n",
            "Requirement already satisfied: charset-normalizer<4,>=2 in /usr/local/lib/python3.11/dist-packages (from requests<3.0.0,>=2.30.0->alpaca-py) (3.4.2)\n",
            "Requirement already satisfied: idna<4,>=2.5 in /usr/local/lib/python3.11/dist-packages (from requests<3.0.0,>=2.30.0->alpaca-py) (3.10)\n",
            "Requirement already satisfied: urllib3<3,>=1.21.1 in /usr/local/lib/python3.11/dist-packages (from requests<3.0.0,>=2.30.0->alpaca-py) (2.4.0)\n",
            "Requirement already satisfied: certifi>=2017.4.17 in /usr/local/lib/python3.11/dist-packages (from requests<3.0.0,>=2.30.0->alpaca-py) (2025.4.26)\n",
            "Requirement already satisfied: six>=1.5 in /usr/local/lib/python3.11/dist-packages (from python-dateutil>=2.8.2->pandas>=1.5.3->alpaca-py) (1.17.0)\n"
          ]
        }
      ],
      "source": [
        "!pip install alpaca-py\n",
        "from google.colab import userdata\n",
        "from alpaca.trading.client import TradingClient\n",
        "ALPACA_API_KEY = userdata.get('ALPACA_API_KEY')\n",
        "ALPACA_API_SECRET = userdata.get('ALPACA_API_SECRET')\n",
        "\n",
        "trading_client = TradingClient(ALPACA_API_KEY, ALPACA_API_SECRET, paper=True)"
      ]
    },
    {
      "cell_type": "markdown",
      "source": [
        "### Look at Open Orders"
      ],
      "metadata": {
        "id": "lfu4mb92mV8G"
      }
    },
    {
      "cell_type": "code",
      "source": [
        "trading_client.get_orders()"
      ],
      "metadata": {
        "colab": {
          "base_uri": "https://localhost:8080/"
        },
        "id": "DlftJqFKmX7U",
        "outputId": "df9a7eeb-1232-4f4c-d668-e8c302ece857"
      },
      "execution_count": 4,
      "outputs": [
        {
          "output_type": "execute_result",
          "data": {
            "text/plain": [
              "[]"
            ]
          },
          "metadata": {},
          "execution_count": 4
        }
      ]
    },
    {
      "cell_type": "markdown",
      "source": [
        "# Utility Function to Get Option Symbols"
      ],
      "metadata": {
        "id": "KsOd91Ch4gl2"
      }
    },
    {
      "cell_type": "code",
      "source": [
        "from alpaca.trading.requests import GetOptionContractsRequest\n",
        "from alpaca.trading.enums import ContractType\n",
        "def get_option_symbol(symbol, expiry, strike, option_type):\n",
        "    option_contracts = trading_client.get_option_contracts(\n",
        "        GetOptionContractsRequest(\n",
        "            underlying_symbols=[symbol],\n",
        "            expiration_date=expiry,\n",
        "            strike_price_gte=str(strike),\n",
        "            strike_price_lte=str(strike),\n",
        "            type=option_type\n",
        "        )\n",
        "    ).option_contracts\n",
        "\n",
        "    if len(option_contracts) != 1:\n",
        "        raise ValueError(\"Did not find exactly 1 unique contract.\")\n",
        "    return option_contracts[0].symbol\n",
        "get_option_symbol('AMD','2025-05-30',100,ContractType.CALL),get_option_symbol('NVDA','2025-05-23',120,ContractType.CALL)"
      ],
      "metadata": {
        "colab": {
          "base_uri": "https://localhost:8080/"
        },
        "id": "b37TUz5upGq3",
        "outputId": "a9166f45-2bb0-426e-cbc7-08e4f3b4ea44"
      },
      "execution_count": 13,
      "outputs": [
        {
          "output_type": "execute_result",
          "data": {
            "text/plain": [
              "('AMD250530C00100000', 'NVDA250523C00120000')"
            ]
          },
          "metadata": {},
          "execution_count": 13
        }
      ]
    },
    {
      "cell_type": "markdown",
      "source": [
        "### Define The Legs of the Contract (i.e. for Diagonal Call Spread)\n",
        "* symbol\n",
        "* side\n",
        "* ratio_qty\n"
      ],
      "metadata": {
        "id": "66FnxP6zmpFp"
      }
    },
    {
      "cell_type": "code",
      "source": [
        "from alpaca.trading.requests import OptionLegRequest\n",
        "from alpaca.trading.enums import OrderSide\n",
        "legs = [\n",
        "OptionLegRequest(\n",
        "        symbol='AMD250523C00100000',\n",
        "        side=OrderSide.BUY,\n",
        "        ratio_qty=1\n",
        "    ),\n",
        "OptionLegRequest(\n",
        "        symbol='AMD250523C00120000',\n",
        "        side=OrderSide.SELL,\n",
        "        ratio_qty=1\n",
        "    )\n",
        "]\n"
      ],
      "metadata": {
        "id": "c8vAKd6dokxt"
      },
      "execution_count": 19,
      "outputs": []
    },
    {
      "cell_type": "markdown",
      "source": [
        "### Define Order Request and Submit Order\n",
        "* order_class = OrderClass.MLEG\n",
        "* legs = list[OptionLegRequest]\n",
        "* Note: what is cool is we can define our own id via the *client_id* so we can manage IDs ourselves.\n"
      ],
      "metadata": {
        "id": "7dspLo8k5zUx"
      }
    },
    {
      "cell_type": "code",
      "source": [
        "from alpaca.trading.requests import LimitOrderRequest, MarketOrderRequest\n",
        "from alpaca.trading.enums import OrderSide, OrderClass, TimeInForce\n",
        "from alpaca.trading.client import TradingClient\n",
        "# Order for the iron condor\n",
        "req = LimitOrderRequest(\n",
        "    qty=1,\n",
        "    order_class=OrderClass.MLEG,\n",
        "    time_in_force=TimeInForce.DAY,\n",
        "    legs=legs,\n",
        "    limit_price=5,  # i.e., for a net price of 0\n",
        "    client_order_id = 'example50'\n",
        ")\n",
        "res = trading_client.submit_order(req)\n",
        "res"
      ],
      "metadata": {
        "colab": {
          "base_uri": "https://localhost:8080/",
          "height": 421
        },
        "id": "fcsdaffpmtXD",
        "outputId": "5f4ebba7-4976-4c5f-a830-cd06c77dd201"
      },
      "execution_count": 20,
      "outputs": [
        {
          "output_type": "error",
          "ename": "APIError",
          "evalue": "{\"code\":42210000,\"message\":\"equity legs are allowed only with a corresponding amount of call contracts\"}",
          "traceback": [
            "\u001b[0;31m---------------------------------------------------------------------------\u001b[0m",
            "\u001b[0;31mHTTPError\u001b[0m                                 Traceback (most recent call last)",
            "\u001b[0;32m/usr/local/lib/python3.11/dist-packages/alpaca/common/rest.py\u001b[0m in \u001b[0;36m_one_request\u001b[0;34m(self, method, url, opts, retry)\u001b[0m\n\u001b[1;32m    197\u001b[0m         \u001b[0;32mtry\u001b[0m\u001b[0;34m:\u001b[0m\u001b[0;34m\u001b[0m\u001b[0;34m\u001b[0m\u001b[0m\n\u001b[0;32m--> 198\u001b[0;31m             \u001b[0mresponse\u001b[0m\u001b[0;34m.\u001b[0m\u001b[0mraise_for_status\u001b[0m\u001b[0;34m(\u001b[0m\u001b[0;34m)\u001b[0m\u001b[0;34m\u001b[0m\u001b[0;34m\u001b[0m\u001b[0m\n\u001b[0m\u001b[1;32m    199\u001b[0m         \u001b[0;32mexcept\u001b[0m \u001b[0mHTTPError\u001b[0m \u001b[0;32mas\u001b[0m \u001b[0mhttp_error\u001b[0m\u001b[0;34m:\u001b[0m\u001b[0;34m\u001b[0m\u001b[0;34m\u001b[0m\u001b[0m\n",
            "\u001b[0;32m/usr/local/lib/python3.11/dist-packages/requests/models.py\u001b[0m in \u001b[0;36mraise_for_status\u001b[0;34m(self)\u001b[0m\n\u001b[1;32m   1023\u001b[0m         \u001b[0;32mif\u001b[0m \u001b[0mhttp_error_msg\u001b[0m\u001b[0;34m:\u001b[0m\u001b[0;34m\u001b[0m\u001b[0;34m\u001b[0m\u001b[0m\n\u001b[0;32m-> 1024\u001b[0;31m             \u001b[0;32mraise\u001b[0m \u001b[0mHTTPError\u001b[0m\u001b[0;34m(\u001b[0m\u001b[0mhttp_error_msg\u001b[0m\u001b[0;34m,\u001b[0m \u001b[0mresponse\u001b[0m\u001b[0;34m=\u001b[0m\u001b[0mself\u001b[0m\u001b[0;34m)\u001b[0m\u001b[0;34m\u001b[0m\u001b[0;34m\u001b[0m\u001b[0m\n\u001b[0m\u001b[1;32m   1025\u001b[0m \u001b[0;34m\u001b[0m\u001b[0m\n",
            "\u001b[0;31mHTTPError\u001b[0m: 422 Client Error: Unprocessable Entity for url: https://paper-api.alpaca.markets/v2/orders",
            "\nDuring handling of the above exception, another exception occurred:\n",
            "\u001b[0;31mAPIError\u001b[0m                                  Traceback (most recent call last)",
            "\u001b[0;32m<ipython-input-20-fef6f5cb8815>\u001b[0m in \u001b[0;36m<cell line: 0>\u001b[0;34m()\u001b[0m\n\u001b[1;32m     11\u001b[0m     \u001b[0mclient_order_id\u001b[0m \u001b[0;34m=\u001b[0m \u001b[0;34m'example50'\u001b[0m\u001b[0;34m\u001b[0m\u001b[0;34m\u001b[0m\u001b[0m\n\u001b[1;32m     12\u001b[0m )\n\u001b[0;32m---> 13\u001b[0;31m \u001b[0mres\u001b[0m \u001b[0;34m=\u001b[0m \u001b[0mtrading_client\u001b[0m\u001b[0;34m.\u001b[0m\u001b[0msubmit_order\u001b[0m\u001b[0;34m(\u001b[0m\u001b[0mreq\u001b[0m\u001b[0;34m)\u001b[0m\u001b[0;34m\u001b[0m\u001b[0;34m\u001b[0m\u001b[0m\n\u001b[0m\u001b[1;32m     14\u001b[0m \u001b[0mres\u001b[0m\u001b[0;34m\u001b[0m\u001b[0;34m\u001b[0m\u001b[0m\n",
            "\u001b[0;32m/usr/local/lib/python3.11/dist-packages/alpaca/trading/client.py\u001b[0m in \u001b[0;36msubmit_order\u001b[0;34m(self, order_data)\u001b[0m\n\u001b[1;32m     98\u001b[0m         \"\"\"\n\u001b[1;32m     99\u001b[0m         \u001b[0mdata\u001b[0m \u001b[0;34m=\u001b[0m \u001b[0morder_data\u001b[0m\u001b[0;34m.\u001b[0m\u001b[0mto_request_fields\u001b[0m\u001b[0;34m(\u001b[0m\u001b[0;34m)\u001b[0m\u001b[0;34m\u001b[0m\u001b[0;34m\u001b[0m\u001b[0m\n\u001b[0;32m--> 100\u001b[0;31m         \u001b[0mresponse\u001b[0m \u001b[0;34m=\u001b[0m \u001b[0mself\u001b[0m\u001b[0;34m.\u001b[0m\u001b[0mpost\u001b[0m\u001b[0;34m(\u001b[0m\u001b[0;34m\"/orders\"\u001b[0m\u001b[0;34m,\u001b[0m \u001b[0mdata\u001b[0m\u001b[0;34m)\u001b[0m\u001b[0;34m\u001b[0m\u001b[0;34m\u001b[0m\u001b[0m\n\u001b[0m\u001b[1;32m    101\u001b[0m \u001b[0;34m\u001b[0m\u001b[0m\n\u001b[1;32m    102\u001b[0m         \u001b[0;32mif\u001b[0m \u001b[0mself\u001b[0m\u001b[0;34m.\u001b[0m\u001b[0m_use_raw_data\u001b[0m\u001b[0;34m:\u001b[0m\u001b[0;34m\u001b[0m\u001b[0;34m\u001b[0m\u001b[0m\n",
            "\u001b[0;32m/usr/local/lib/python3.11/dist-packages/alpaca/common/rest.py\u001b[0m in \u001b[0;36mpost\u001b[0;34m(self, path, data)\u001b[0m\n\u001b[1;32m    238\u001b[0m             \u001b[0mdict\u001b[0m\u001b[0;34m:\u001b[0m \u001b[0mThe\u001b[0m \u001b[0mresponse\u001b[0m\u001b[0;34m\u001b[0m\u001b[0;34m\u001b[0m\u001b[0m\n\u001b[1;32m    239\u001b[0m         \"\"\"\n\u001b[0;32m--> 240\u001b[0;31m         \u001b[0;32mreturn\u001b[0m \u001b[0mself\u001b[0m\u001b[0;34m.\u001b[0m\u001b[0m_request\u001b[0m\u001b[0;34m(\u001b[0m\u001b[0;34m\"POST\"\u001b[0m\u001b[0;34m,\u001b[0m \u001b[0mpath\u001b[0m\u001b[0;34m,\u001b[0m \u001b[0mdata\u001b[0m\u001b[0;34m)\u001b[0m\u001b[0;34m\u001b[0m\u001b[0;34m\u001b[0m\u001b[0m\n\u001b[0m\u001b[1;32m    241\u001b[0m \u001b[0;34m\u001b[0m\u001b[0m\n\u001b[1;32m    242\u001b[0m     \u001b[0;32mdef\u001b[0m \u001b[0mput\u001b[0m\u001b[0;34m(\u001b[0m\u001b[0mself\u001b[0m\u001b[0;34m,\u001b[0m \u001b[0mpath\u001b[0m\u001b[0;34m:\u001b[0m \u001b[0mstr\u001b[0m\u001b[0;34m,\u001b[0m \u001b[0mdata\u001b[0m\u001b[0;34m:\u001b[0m \u001b[0mOptional\u001b[0m\u001b[0;34m[\u001b[0m\u001b[0mdict\u001b[0m\u001b[0;34m]\u001b[0m \u001b[0;34m=\u001b[0m \u001b[0;32mNone\u001b[0m\u001b[0;34m)\u001b[0m \u001b[0;34m->\u001b[0m \u001b[0mdict\u001b[0m\u001b[0;34m:\u001b[0m\u001b[0;34m\u001b[0m\u001b[0;34m\u001b[0m\u001b[0m\n",
            "\u001b[0;32m/usr/local/lib/python3.11/dist-packages/alpaca/common/rest.py\u001b[0m in \u001b[0;36m_request\u001b[0;34m(self, method, path, data, base_url, api_version)\u001b[0m\n\u001b[1;32m    129\u001b[0m         \u001b[0;32mwhile\u001b[0m \u001b[0mretry\u001b[0m \u001b[0;34m>=\u001b[0m \u001b[0;36m0\u001b[0m\u001b[0;34m:\u001b[0m\u001b[0;34m\u001b[0m\u001b[0;34m\u001b[0m\u001b[0m\n\u001b[1;32m    130\u001b[0m             \u001b[0;32mtry\u001b[0m\u001b[0;34m:\u001b[0m\u001b[0;34m\u001b[0m\u001b[0;34m\u001b[0m\u001b[0m\n\u001b[0;32m--> 131\u001b[0;31m                 \u001b[0;32mreturn\u001b[0m \u001b[0mself\u001b[0m\u001b[0;34m.\u001b[0m\u001b[0m_one_request\u001b[0m\u001b[0;34m(\u001b[0m\u001b[0mmethod\u001b[0m\u001b[0;34m,\u001b[0m \u001b[0murl\u001b[0m\u001b[0;34m,\u001b[0m \u001b[0mopts\u001b[0m\u001b[0;34m,\u001b[0m \u001b[0mretry\u001b[0m\u001b[0;34m)\u001b[0m\u001b[0;34m\u001b[0m\u001b[0;34m\u001b[0m\u001b[0m\n\u001b[0m\u001b[1;32m    132\u001b[0m             \u001b[0;32mexcept\u001b[0m \u001b[0mRetryException\u001b[0m\u001b[0;34m:\u001b[0m\u001b[0;34m\u001b[0m\u001b[0;34m\u001b[0m\u001b[0m\n\u001b[1;32m    133\u001b[0m                 \u001b[0mtime\u001b[0m\u001b[0;34m.\u001b[0m\u001b[0msleep\u001b[0m\u001b[0;34m(\u001b[0m\u001b[0mself\u001b[0m\u001b[0;34m.\u001b[0m\u001b[0m_retry_wait\u001b[0m\u001b[0;34m)\u001b[0m\u001b[0;34m\u001b[0m\u001b[0;34m\u001b[0m\u001b[0m\n",
            "\u001b[0;32m/usr/local/lib/python3.11/dist-packages/alpaca/common/rest.py\u001b[0m in \u001b[0;36m_one_request\u001b[0;34m(self, method, url, opts, retry)\u001b[0m\n\u001b[1;32m    205\u001b[0m             \u001b[0merror\u001b[0m \u001b[0;34m=\u001b[0m \u001b[0mresponse\u001b[0m\u001b[0;34m.\u001b[0m\u001b[0mtext\u001b[0m\u001b[0;34m\u001b[0m\u001b[0;34m\u001b[0m\u001b[0m\n\u001b[1;32m    206\u001b[0m \u001b[0;34m\u001b[0m\u001b[0m\n\u001b[0;32m--> 207\u001b[0;31m             \u001b[0;32mraise\u001b[0m \u001b[0mAPIError\u001b[0m\u001b[0;34m(\u001b[0m\u001b[0merror\u001b[0m\u001b[0;34m,\u001b[0m \u001b[0mhttp_error\u001b[0m\u001b[0;34m)\u001b[0m\u001b[0;34m\u001b[0m\u001b[0;34m\u001b[0m\u001b[0m\n\u001b[0m\u001b[1;32m    208\u001b[0m \u001b[0;34m\u001b[0m\u001b[0m\n\u001b[1;32m    209\u001b[0m         \u001b[0;32mif\u001b[0m \u001b[0mresponse\u001b[0m\u001b[0;34m.\u001b[0m\u001b[0mtext\u001b[0m \u001b[0;34m!=\u001b[0m \u001b[0;34m\"\"\u001b[0m\u001b[0;34m:\u001b[0m\u001b[0;34m\u001b[0m\u001b[0;34m\u001b[0m\u001b[0m\n",
            "\u001b[0;31mAPIError\u001b[0m: {\"code\":42210000,\"message\":\"equity legs are allowed only with a corresponding amount of call contracts\"}"
          ]
        }
      ]
    },
    {
      "cell_type": "markdown",
      "source": [
        "### Get Order By Client Id"
      ],
      "metadata": {
        "id": "h8tofRBt6U-U"
      }
    },
    {
      "cell_type": "code",
      "source": [],
      "metadata": {
        "id": "Mo0JMSsb6U3C"
      },
      "execution_count": null,
      "outputs": []
    },
    {
      "cell_type": "markdown",
      "source": [
        "### Cancel Orders if Necessary"
      ],
      "metadata": {
        "id": "FmWxe-s86Iyo"
      }
    },
    {
      "cell_type": "code",
      "source": [
        "trading_client.cancel_orders()"
      ],
      "metadata": {
        "colab": {
          "base_uri": "https://localhost:8080/"
        },
        "id": "wBrhQZ1QqHMJ",
        "outputId": "913102e9-7ddf-4770-c346-a976a2e7b377"
      },
      "execution_count": null,
      "outputs": [
        {
          "output_type": "execute_result",
          "data": {
            "text/plain": [
              "[{   'body': None,\n",
              "     'id': UUID('265ac2ec-e75d-4214-b6dd-f7cb752d0e4c'),\n",
              "     'status': 200},\n",
              " {   'body': None,\n",
              "     'id': UUID('7910d7db-d4cd-4699-8b11-c2bb58165d52'),\n",
              "     'status': 200},\n",
              " {   'body': None,\n",
              "     'id': UUID('b5687e32-ec46-476d-b60d-0a773d5fef82'),\n",
              "     'status': 200}]"
            ]
          },
          "metadata": {},
          "execution_count": 7
        }
      ]
    },
    {
      "cell_type": "code",
      "source": [
        "trading_client.get_order_by_client_id('example4')"
      ],
      "metadata": {
        "colab": {
          "base_uri": "https://localhost:8080/"
        },
        "id": "x2z6pD1Zqbp-",
        "outputId": "997a86f8-2a2e-4539-8286-15ff85328c76"
      },
      "execution_count": null,
      "outputs": [
        {
          "output_type": "execute_result",
          "data": {
            "text/plain": [
              "{   'asset_class': None,\n",
              "    'asset_id': None,\n",
              "    'canceled_at': None,\n",
              "    'client_order_id': 'example4',\n",
              "    'created_at': datetime.datetime(2025, 5, 20, 17, 43, 46, 421211, tzinfo=TzInfo(UTC)),\n",
              "    'expired_at': None,\n",
              "    'expires_at': None,\n",
              "    'extended_hours': False,\n",
              "    'failed_at': None,\n",
              "    'filled_at': None,\n",
              "    'filled_avg_price': None,\n",
              "    'filled_qty': '0',\n",
              "    'hwm': None,\n",
              "    'id': UUID('70e6f55d-7c9a-4d5b-83ed-d3959595c89c'),\n",
              "    'legs': [   {   'asset_class': <AssetClass.US_OPTION: 'us_option'>,\n",
              "                    'asset_id': UUID('4504feaf-117a-479d-b51c-3ff0a539f207'),\n",
              "                    'canceled_at': None,\n",
              "                    'client_order_id': 'f63a24e3-c82f-4970-aee1-c12ad81b5083',\n",
              "                    'created_at': datetime.datetime(2025, 5, 20, 17, 43, 46, 421211, tzinfo=TzInfo(UTC)),\n",
              "                    'expired_at': None,\n",
              "                    'expires_at': datetime.datetime(2025, 5, 20, 20, 0, tzinfo=TzInfo(UTC)),\n",
              "                    'extended_hours': False,\n",
              "                    'failed_at': None,\n",
              "                    'filled_at': None,\n",
              "                    'filled_avg_price': None,\n",
              "                    'filled_qty': '0',\n",
              "                    'hwm': None,\n",
              "                    'id': UUID('f60355c9-f293-4485-9847-d87243afc89b'),\n",
              "                    'legs': None,\n",
              "                    'limit_price': None,\n",
              "                    'notional': None,\n",
              "                    'order_class': <OrderClass.MLEG: 'mleg'>,\n",
              "                    'order_type': <OrderType.LIMIT: 'limit'>,\n",
              "                    'position_intent': <PositionIntent.BUY_TO_OPEN: 'buy_to_open'>,\n",
              "                    'qty': '1',\n",
              "                    'ratio_qty': '1',\n",
              "                    'replaced_at': datetime.datetime(2025, 5, 20, 17, 48, 21, 345765, tzinfo=TzInfo(UTC)),\n",
              "                    'replaced_by': UUID('f232aa1a-c8df-4bc8-8278-00d5bdad7b01'),\n",
              "                    'replaces': None,\n",
              "                    'side': <OrderSide.BUY: 'buy'>,\n",
              "                    'status': <OrderStatus.REPLACED: 'replaced'>,\n",
              "                    'stop_price': None,\n",
              "                    'submitted_at': datetime.datetime(2025, 5, 20, 17, 43, 46, 427682, tzinfo=TzInfo(UTC)),\n",
              "                    'symbol': 'AMD250523C00100000',\n",
              "                    'time_in_force': <TimeInForce.DAY: 'day'>,\n",
              "                    'trail_percent': None,\n",
              "                    'trail_price': None,\n",
              "                    'type': <OrderType.LIMIT: 'limit'>,\n",
              "                    'updated_at': datetime.datetime(2025, 5, 20, 17, 48, 21, 347650, tzinfo=TzInfo(UTC))},\n",
              "                {   'asset_class': <AssetClass.US_OPTION: 'us_option'>,\n",
              "                    'asset_id': UUID('270ee072-721c-4936-a40e-7eb80572dffa'),\n",
              "                    'canceled_at': None,\n",
              "                    'client_order_id': '0f7761a4-8555-46b7-888a-8127374bb589',\n",
              "                    'created_at': datetime.datetime(2025, 5, 20, 17, 43, 46, 421211, tzinfo=TzInfo(UTC)),\n",
              "                    'expired_at': None,\n",
              "                    'expires_at': datetime.datetime(2025, 5, 20, 20, 0, tzinfo=TzInfo(UTC)),\n",
              "                    'extended_hours': False,\n",
              "                    'failed_at': None,\n",
              "                    'filled_at': None,\n",
              "                    'filled_avg_price': None,\n",
              "                    'filled_qty': '0',\n",
              "                    'hwm': None,\n",
              "                    'id': UUID('7f2bfbcb-f71f-432b-9195-9c74697d472c'),\n",
              "                    'legs': None,\n",
              "                    'limit_price': None,\n",
              "                    'notional': None,\n",
              "                    'order_class': <OrderClass.MLEG: 'mleg'>,\n",
              "                    'order_type': <OrderType.LIMIT: 'limit'>,\n",
              "                    'position_intent': <PositionIntent.SELL_TO_OPEN: 'sell_to_open'>,\n",
              "                    'qty': '1',\n",
              "                    'ratio_qty': '1',\n",
              "                    'replaced_at': datetime.datetime(2025, 5, 20, 17, 48, 21, 345771, tzinfo=TzInfo(UTC)),\n",
              "                    'replaced_by': UUID('c739cf16-9b46-4d50-b47c-9a3758babeaf'),\n",
              "                    'replaces': None,\n",
              "                    'side': <OrderSide.SELL: 'sell'>,\n",
              "                    'status': <OrderStatus.REPLACED: 'replaced'>,\n",
              "                    'stop_price': None,\n",
              "                    'submitted_at': datetime.datetime(2025, 5, 20, 17, 43, 46, 429173, tzinfo=TzInfo(UTC)),\n",
              "                    'symbol': 'AMD250523C00120000',\n",
              "                    'time_in_force': <TimeInForce.DAY: 'day'>,\n",
              "                    'trail_percent': None,\n",
              "                    'trail_price': None,\n",
              "                    'type': <OrderType.LIMIT: 'limit'>,\n",
              "                    'updated_at': datetime.datetime(2025, 5, 20, 17, 48, 21, 348574, tzinfo=TzInfo(UTC))}],\n",
              "    'limit_price': '5',\n",
              "    'notional': None,\n",
              "    'order_class': <OrderClass.MLEG: 'mleg'>,\n",
              "    'order_type': <OrderType.LIMIT: 'limit'>,\n",
              "    'position_intent': None,\n",
              "    'qty': '1',\n",
              "    'ratio_qty': None,\n",
              "    'replaced_at': datetime.datetime(2025, 5, 20, 17, 48, 21, 345771, tzinfo=TzInfo(UTC)),\n",
              "    'replaced_by': UUID('783da1ff-271c-42a3-b422-1741490fa87a'),\n",
              "    'replaces': None,\n",
              "    'side': None,\n",
              "    'status': <OrderStatus.REPLACED: 'replaced'>,\n",
              "    'stop_price': None,\n",
              "    'submitted_at': datetime.datetime(2025, 5, 20, 17, 43, 46, 429173, tzinfo=TzInfo(UTC)),\n",
              "    'symbol': None,\n",
              "    'time_in_force': <TimeInForce.DAY: 'day'>,\n",
              "    'trail_percent': None,\n",
              "    'trail_price': None,\n",
              "    'type': <OrderType.LIMIT: 'limit'>,\n",
              "    'updated_at': datetime.datetime(2025, 5, 20, 17, 48, 21, 348604, tzinfo=TzInfo(UTC))}"
            ]
          },
          "metadata": {},
          "execution_count": 18
        }
      ]
    },
    {
      "cell_type": "markdown",
      "source": [
        "### Replace Order\n",
        "* Can only replace limit_price, qty--- Not individual symbols or ratios."
      ],
      "metadata": {
        "id": "EGlQiG2yrXxe"
      }
    },
    {
      "cell_type": "code",
      "source": [
        "from alpaca.trading.requests import ReplaceOrderRequest\n",
        "res_rep=trading_client.replace_order_by_id(res.id,ReplaceOrderRequest(limit_price=15,client_order_id='rep'))"
      ],
      "metadata": {
        "id": "dfVUbWo1yxsV",
        "colab": {
          "base_uri": "https://localhost:8080/",
          "height": 163
        },
        "outputId": "0834d574-1c5b-4d16-b948-92cd2ee86b81"
      },
      "execution_count": 11,
      "outputs": [
        {
          "output_type": "error",
          "ename": "NameError",
          "evalue": "name 'res' is not defined",
          "traceback": [
            "\u001b[0;31m---------------------------------------------------------------------------\u001b[0m",
            "\u001b[0;31mNameError\u001b[0m                                 Traceback (most recent call last)",
            "\u001b[0;32m<ipython-input-11-44fcc4ec1bb5>\u001b[0m in \u001b[0;36m<cell line: 0>\u001b[0;34m()\u001b[0m\n\u001b[1;32m      1\u001b[0m \u001b[0;32mfrom\u001b[0m \u001b[0malpaca\u001b[0m\u001b[0;34m.\u001b[0m\u001b[0mtrading\u001b[0m\u001b[0;34m.\u001b[0m\u001b[0mrequests\u001b[0m \u001b[0;32mimport\u001b[0m \u001b[0mReplaceOrderRequest\u001b[0m\u001b[0;34m\u001b[0m\u001b[0;34m\u001b[0m\u001b[0m\n\u001b[0;32m----> 2\u001b[0;31m \u001b[0mres_rep\u001b[0m\u001b[0;34m=\u001b[0m\u001b[0mtrading_client\u001b[0m\u001b[0;34m.\u001b[0m\u001b[0mreplace_order_by_id\u001b[0m\u001b[0;34m(\u001b[0m\u001b[0mres\u001b[0m\u001b[0;34m.\u001b[0m\u001b[0mid\u001b[0m\u001b[0;34m,\u001b[0m\u001b[0mReplaceOrderRequest\u001b[0m\u001b[0;34m(\u001b[0m\u001b[0mlimit_price\u001b[0m\u001b[0;34m=\u001b[0m\u001b[0;36m15\u001b[0m\u001b[0;34m,\u001b[0m\u001b[0mclient_order_id\u001b[0m\u001b[0;34m=\u001b[0m\u001b[0;34m'rep'\u001b[0m\u001b[0;34m)\u001b[0m\u001b[0;34m)\u001b[0m\u001b[0;34m\u001b[0m\u001b[0;34m\u001b[0m\u001b[0m\n\u001b[0m",
            "\u001b[0;31mNameError\u001b[0m: name 'res' is not defined"
          ]
        }
      ]
    },
    {
      "cell_type": "code",
      "source": [
        "trading_client.get_order_by_client_id('rep')"
      ],
      "metadata": {
        "colab": {
          "base_uri": "https://localhost:8080/"
        },
        "id": "M_ytVk2QzQ6s",
        "outputId": "b5b61cb2-d784-412f-d522-b43b0c77307a"
      },
      "execution_count": 12,
      "outputs": [
        {
          "output_type": "execute_result",
          "data": {
            "text/plain": [
              "{   'asset_class': None,\n",
              "    'asset_id': None,\n",
              "    'canceled_at': None,\n",
              "    'client_order_id': 'rep',\n",
              "    'created_at': datetime.datetime(2025, 5, 20, 17, 52, 46, 565024, tzinfo=TzInfo(UTC)),\n",
              "    'expired_at': None,\n",
              "    'expires_at': datetime.datetime(2025, 5, 20, 20, 0, tzinfo=TzInfo(UTC)),\n",
              "    'extended_hours': False,\n",
              "    'failed_at': None,\n",
              "    'filled_at': datetime.datetime(2025, 5, 20, 17, 52, 46, 614911, tzinfo=TzInfo(UTC)),\n",
              "    'filled_avg_price': '13.26',\n",
              "    'filled_qty': '1',\n",
              "    'hwm': None,\n",
              "    'id': UUID('86d9f171-ba60-45b0-89e6-a2266d2e7029'),\n",
              "    'legs': [   {   'asset_class': <AssetClass.US_OPTION: 'us_option'>,\n",
              "                    'asset_id': UUID('4504feaf-117a-479d-b51c-3ff0a539f207'),\n",
              "                    'canceled_at': None,\n",
              "                    'client_order_id': '444b6b1c-10f8-4bd1-bf28-e5307c1e00c5',\n",
              "                    'created_at': datetime.datetime(2025, 5, 20, 17, 52, 46, 565024, tzinfo=TzInfo(UTC)),\n",
              "                    'expired_at': None,\n",
              "                    'expires_at': datetime.datetime(2025, 5, 20, 20, 0, tzinfo=TzInfo(UTC)),\n",
              "                    'extended_hours': False,\n",
              "                    'failed_at': None,\n",
              "                    'filled_at': datetime.datetime(2025, 5, 20, 17, 52, 46, 614902, tzinfo=TzInfo(UTC)),\n",
              "                    'filled_avg_price': '13.5',\n",
              "                    'filled_qty': '1',\n",
              "                    'hwm': None,\n",
              "                    'id': UUID('91cba1fe-06e9-4d00-9b8c-a52c2246ae0b'),\n",
              "                    'legs': None,\n",
              "                    'limit_price': None,\n",
              "                    'notional': None,\n",
              "                    'order_class': <OrderClass.MLEG: 'mleg'>,\n",
              "                    'order_type': <OrderType.LIMIT: 'limit'>,\n",
              "                    'position_intent': <PositionIntent.BUY_TO_OPEN: 'buy_to_open'>,\n",
              "                    'qty': '1',\n",
              "                    'ratio_qty': '1',\n",
              "                    'replaced_at': None,\n",
              "                    'replaced_by': None,\n",
              "                    'replaces': UUID('07764fc3-dd44-416a-8ec9-ef8ec134c9c0'),\n",
              "                    'side': <OrderSide.BUY: 'buy'>,\n",
              "                    'status': <OrderStatus.FILLED: 'filled'>,\n",
              "                    'stop_price': None,\n",
              "                    'submitted_at': datetime.datetime(2025, 5, 20, 17, 52, 46, 573357, tzinfo=TzInfo(UTC)),\n",
              "                    'symbol': 'AMD250523C00100000',\n",
              "                    'time_in_force': <TimeInForce.DAY: 'day'>,\n",
              "                    'trail_percent': None,\n",
              "                    'trail_price': None,\n",
              "                    'type': <OrderType.LIMIT: 'limit'>,\n",
              "                    'updated_at': datetime.datetime(2025, 5, 20, 17, 52, 46, 616722, tzinfo=TzInfo(UTC))},\n",
              "                {   'asset_class': <AssetClass.US_OPTION: 'us_option'>,\n",
              "                    'asset_id': UUID('270ee072-721c-4936-a40e-7eb80572dffa'),\n",
              "                    'canceled_at': None,\n",
              "                    'client_order_id': 'bcda3721-406c-4919-bf08-62732da73d21',\n",
              "                    'created_at': datetime.datetime(2025, 5, 20, 17, 52, 46, 565024, tzinfo=TzInfo(UTC)),\n",
              "                    'expired_at': None,\n",
              "                    'expires_at': datetime.datetime(2025, 5, 20, 20, 0, tzinfo=TzInfo(UTC)),\n",
              "                    'extended_hours': False,\n",
              "                    'failed_at': None,\n",
              "                    'filled_at': datetime.datetime(2025, 5, 20, 17, 52, 46, 614911, tzinfo=TzInfo(UTC)),\n",
              "                    'filled_avg_price': '0.24',\n",
              "                    'filled_qty': '1',\n",
              "                    'hwm': None,\n",
              "                    'id': UUID('3c9f4125-b62c-4227-ac20-ccfacfc33885'),\n",
              "                    'legs': None,\n",
              "                    'limit_price': None,\n",
              "                    'notional': None,\n",
              "                    'order_class': <OrderClass.MLEG: 'mleg'>,\n",
              "                    'order_type': <OrderType.LIMIT: 'limit'>,\n",
              "                    'position_intent': <PositionIntent.SELL_TO_OPEN: 'sell_to_open'>,\n",
              "                    'qty': '1',\n",
              "                    'ratio_qty': '1',\n",
              "                    'replaced_at': None,\n",
              "                    'replaced_by': None,\n",
              "                    'replaces': UUID('e022c65b-c839-42dd-82b6-f7198d91bf47'),\n",
              "                    'side': <OrderSide.SELL: 'sell'>,\n",
              "                    'status': <OrderStatus.FILLED: 'filled'>,\n",
              "                    'stop_price': None,\n",
              "                    'submitted_at': datetime.datetime(2025, 5, 20, 17, 52, 46, 573362, tzinfo=TzInfo(UTC)),\n",
              "                    'symbol': 'AMD250523C00120000',\n",
              "                    'time_in_force': <TimeInForce.DAY: 'day'>,\n",
              "                    'trail_percent': None,\n",
              "                    'trail_price': None,\n",
              "                    'type': <OrderType.LIMIT: 'limit'>,\n",
              "                    'updated_at': datetime.datetime(2025, 5, 20, 17, 52, 46, 617956, tzinfo=TzInfo(UTC))}],\n",
              "    'limit_price': '15',\n",
              "    'notional': None,\n",
              "    'order_class': <OrderClass.MLEG: 'mleg'>,\n",
              "    'order_type': None,\n",
              "    'position_intent': None,\n",
              "    'qty': '1',\n",
              "    'ratio_qty': None,\n",
              "    'replaced_at': None,\n",
              "    'replaced_by': None,\n",
              "    'replaces': UUID('bd40bc21-f7b2-4eaf-af95-b321026512b4'),\n",
              "    'side': None,\n",
              "    'status': <OrderStatus.FILLED: 'filled'>,\n",
              "    'stop_price': None,\n",
              "    'submitted_at': datetime.datetime(2025, 5, 20, 17, 52, 46, 565024, tzinfo=TzInfo(UTC)),\n",
              "    'symbol': None,\n",
              "    'time_in_force': <TimeInForce.DAY: 'day'>,\n",
              "    'trail_percent': None,\n",
              "    'trail_price': None,\n",
              "    'type': <OrderType.LIMIT: 'limit'>,\n",
              "    'updated_at': datetime.datetime(2025, 5, 20, 17, 52, 46, 618022, tzinfo=TzInfo(UTC))}"
            ]
          },
          "metadata": {},
          "execution_count": 12
        }
      ]
    }
  ]
}