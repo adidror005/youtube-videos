{
 "cells": [
  {
   "cell_type": "code",
   "execution_count": 24,
   "id": "5b152b51-6fef-4fcd-85f9-d5a691e77c72",
   "metadata": {},
   "outputs": [
    {
     "data": {
      "text/html": [
       "\n",
       "<style>\n",
       ".container { width:100% !important; }\n",
       "</style>\n"
      ],
      "text/plain": [
       "<IPython.core.display.HTML object>"
      ]
     },
     "execution_count": 24,
     "metadata": {},
     "output_type": "execute_result"
    }
   ],
   "source": [
    "from IPython.core.display import HTML\n",
    "import requests\n",
    "import time\n",
    "import pandas as pd\n",
    "import datetime\n",
    "HTML(\"\"\"\n",
    "<style>\n",
    ".container { width:100% !important; }\n",
    "</style>\n",
    "\"\"\")"
   ]
  },
  {
   "cell_type": "markdown",
   "id": "94084960-e3aa-4d78-844a-fe596e61113e",
   "metadata": {},
   "source": [
    "### Go here to get API KEY\n",
    "* https://www.alphavantage.co/support/#api-key"
   ]
  },
  {
   "cell_type": "code",
   "execution_count": 25,
   "id": "dd9ff183-718a-4cef-a10c-4c13fb13a704",
   "metadata": {},
   "outputs": [],
   "source": [
    "api_key = PASTE_YOUR_API_KEY_HERE"
   ]
  },
  {
   "cell_type": "markdown",
   "id": "327e32ca-5ee4-4995-9221-3a7395d99afc",
   "metadata": {},
   "source": [
    "##### Helper Functions\n",
    "* _get_data: get data from alpha vantage\n",
    "* _get_label_sentiment: converts scores to numbers"
   ]
  },
  {
   "cell_type": "code",
   "execution_count": 26,
   "id": "e39698dc-5b64-4726-a832-0d23b3406806",
   "metadata": {},
   "outputs": [],
   "source": [
    "def _get_data(symbols,time_from,time_to,api_key):\n",
    "    url = f\"https://www.alphavantage.co/query?function=NEWS_SENTIMENT&tickers={symbols}&time_from={time_from}&time_to={time_to}&limit=1000&apikey={api_key}\"\n",
    "    r = requests.get(url)\n",
    "    data = r.json()\n",
    "    return data\n",
    "\n",
    "def _get_label_sentiment(x):\n",
    "    if x <= -0.35:\n",
    "        return 'Bearish','Bearish'\n",
    "    elif -0.35 < x <= -0.15:\n",
    "        return 'Somewhat-Bearish','Bearish'\n",
    "    elif -0.15 < x < 0.15:\n",
    "        return 'Neutral','Neutral'\n",
    "    elif 0.15 <= x < 0.35:\n",
    "        return 'Somewhat_Bullish','Bullish'\n",
    "    else:  # x >= 0.35\n",
    "        return 'Bullish','Bullish'"
   ]
  },
  {
   "cell_type": "markdown",
   "id": "ca488563-555f-43a9-a4cf-82bf42d04b6d",
   "metadata": {},
   "source": [
    "### Get dataset going backward in time\r\n",
    "* Initially set time_to = '' meaning till current time\r\n",
    "* Then set it to earliest time after each api call\r\n",
    "* Set a time_from very far into past\r\n",
    "* Eventually this won't work when we are done with all the data..."
   ]
  },
  {
   "cell_type": "code",
   "execution_count": 27,
   "id": "05ccd2e8-1ae1-44c9-b703-33df207233e9",
   "metadata": {},
   "outputs": [],
   "source": [
    "def get_dataset(time_from=\"20030410T0130\",\n",
    "                time_to='',\n",
    "                MAX_API_CALLS_PER_DAY = 25, # Free tier only allows 25 API calls per day\n",
    "                MAX_API_CALLS_PER_MIN = 5 # Free tier only allows 5 api calls per minute\n",
    "               ):\n",
    "    data_list=[]\n",
    "    for i in range(1,MAX_API_CALLS_PER_DAY+1): \n",
    "        if i%5==0: \n",
    "            time.sleep(60)\n",
    "        \n",
    "        data=_get_data('TSLA',time_from,time_to,api_key)\n",
    "        if 'feed' not in data:break\n",
    "        if len(data['feed'])==0: break\n",
    "        data_list.append(data)\n",
    "        time_to=data['feed'][-1]['time_published'][:-2] # Take all the way up to last 2 since api only takes minute level granularity\n",
    "    df=pd.concat([pd.DataFrame(data['feed']) for data in data_list])\n",
    "    # Extract TSLA specific relevance (we didn't use it in video)\n",
    "    df['ticker_relevance_TSLA']=df['ticker_sentiment'].apply(lambda l:[el for el in l if el['ticker']=='TSLA'][0]['relevance_score']).astype(float)\n",
    "    # Extract TSLA specific sentiment\n",
    "    df['ticker_sentiment_TSLA']=df['ticker_sentiment'].apply(lambda l:[el for el in l if el['ticker']=='TSLA'][0]['ticker_sentiment_score']).astype(float)\n",
    "    # Only take tickers with TSLA in headline \n",
    "    df=df[df.title.str.contains('tsla|tesla',case=False)]\n",
    "    # Extract # of tickers\n",
    "    df['num_tickers']=df.ticker_sentiment.apply(lambda l:len(l))\n",
    "    # Only take when # of tickers = 1\n",
    "    df = df[df.num_tickers==1]\n",
    "    # Applying the function and creating two new columns\n",
    "    df[['detailed_original_label','label']] = df.apply(lambda row: _get_label_sentiment(row['ticker_sentiment_TSLA']), axis=1, result_type='expand')\n",
    "    # Drop duplicates..\n",
    "    df.drop_duplicates(subset=['summary'],inplace=True,keep='first')\n",
    "    # Set index to time published\n",
    "    df.set_index('time_published',inplace=True)\n",
    "    # Sort by time published\n",
    "    df.sort_index(inplace=True)\n",
    "    return df\n",
    "    \n",
    "        "
   ]
  },
  {
   "cell_type": "markdown",
   "id": "99734d07-98ee-4dbf-a2cf-a738cc80f569",
   "metadata": {},
   "source": [
    "### Run this to get dataset and save to CSV file\n",
    "* Takes 5 mins LOL!\n",
    "* You can stop here after saving the CSV and can run the colab notebook..."
   ]
  },
  {
   "cell_type": "code",
   "execution_count": 28,
   "id": "8b889865-e4e9-4f17-a5ce-25dfe5018678",
   "metadata": {},
   "outputs": [],
   "source": [
    "df = get_dataset(time_to='')\n",
    "df.to_csv('tsla_sentiment.csv')"
   ]
  },
  {
   "cell_type": "code",
   "execution_count": 29,
   "id": "39151e23-0bff-47bb-a09c-17e54a80cbf2",
   "metadata": {},
   "outputs": [
    {
     "data": {
      "text/html": [
       "<div>\n",
       "<style scoped>\n",
       "    .dataframe tbody tr th:only-of-type {\n",
       "        vertical-align: middle;\n",
       "    }\n",
       "\n",
       "    .dataframe tbody tr th {\n",
       "        vertical-align: top;\n",
       "    }\n",
       "\n",
       "    .dataframe thead th {\n",
       "        text-align: right;\n",
       "    }\n",
       "</style>\n",
       "<table border=\"1\" class=\"dataframe\">\n",
       "  <thead>\n",
       "    <tr style=\"text-align: right;\">\n",
       "      <th></th>\n",
       "      <th>title</th>\n",
       "      <th>url</th>\n",
       "      <th>authors</th>\n",
       "      <th>summary</th>\n",
       "      <th>banner_image</th>\n",
       "      <th>source</th>\n",
       "      <th>category_within_source</th>\n",
       "      <th>source_domain</th>\n",
       "      <th>topics</th>\n",
       "      <th>overall_sentiment_score</th>\n",
       "      <th>overall_sentiment_label</th>\n",
       "      <th>ticker_sentiment</th>\n",
       "      <th>ticker_relevance_TSLA</th>\n",
       "      <th>ticker_sentiment_TSLA</th>\n",
       "      <th>num_tickers</th>\n",
       "      <th>detailed_original_label</th>\n",
       "      <th>label</th>\n",
       "    </tr>\n",
       "    <tr>\n",
       "      <th>time_published</th>\n",
       "      <th></th>\n",
       "      <th></th>\n",
       "      <th></th>\n",
       "      <th></th>\n",
       "      <th></th>\n",
       "      <th></th>\n",
       "      <th></th>\n",
       "      <th></th>\n",
       "      <th></th>\n",
       "      <th></th>\n",
       "      <th></th>\n",
       "      <th></th>\n",
       "      <th></th>\n",
       "      <th></th>\n",
       "      <th></th>\n",
       "      <th></th>\n",
       "      <th></th>\n",
       "    </tr>\n",
       "  </thead>\n",
       "  <tbody>\n",
       "    <tr>\n",
       "      <th>20240424T132555</th>\n",
       "      <td>Tesla Sent a Clear Message to Wall Street on T...</td>\n",
       "      <td>https://www.fool.com/investing/2024/04/24/tesl...</td>\n",
       "      <td>[Neil Rozenbaum]</td>\n",
       "      <td>The year will be a defining moment for Tesla a...</td>\n",
       "      <td>https://g.foolcdn.com/editorial/images/774113/...</td>\n",
       "      <td>Motley Fool</td>\n",
       "      <td>n/a</td>\n",
       "      <td>www.fool.com</td>\n",
       "      <td>[{'topic': 'Earnings', 'relevance_score': '0.3...</td>\n",
       "      <td>0.211311</td>\n",
       "      <td>Somewhat-Bullish</td>\n",
       "      <td>[{'ticker': 'TSLA', 'relevance_score': '0.9470...</td>\n",
       "      <td>0.947069</td>\n",
       "      <td>0.510862</td>\n",
       "      <td>1</td>\n",
       "      <td>Bullish</td>\n",
       "      <td>Bullish</td>\n",
       "    </tr>\n",
       "    <tr>\n",
       "      <th>20240424T134400</th>\n",
       "      <td>Tesla stock soars 14% after Elon Musk commits ...</td>\n",
       "      <td>https://markets.businessinsider.com/news/stock...</td>\n",
       "      <td>[Matthew Fox]</td>\n",
       "      <td>Tesla Stock Price up 14% on Q1 Earnings, Musk ...</td>\n",
       "      <td>None</td>\n",
       "      <td>Business Insider</td>\n",
       "      <td>GoogleRSS</td>\n",
       "      <td>markets.businessinsider.com</td>\n",
       "      <td>[{'topic': 'Earnings', 'relevance_score': '0.9...</td>\n",
       "      <td>0.069328</td>\n",
       "      <td>Neutral</td>\n",
       "      <td>[{'ticker': 'TSLA', 'relevance_score': '0.8078...</td>\n",
       "      <td>0.807885</td>\n",
       "      <td>0.081196</td>\n",
       "      <td>1</td>\n",
       "      <td>Neutral</td>\n",
       "      <td>Neutral</td>\n",
       "    </tr>\n",
       "    <tr>\n",
       "      <th>20240424T140000</th>\n",
       "      <td>Tesla Rises on Future EV Plans Despite Q1 Miss...</td>\n",
       "      <td>https://www.zacks.com/stock/news/2261222/tesla...</td>\n",
       "      <td>[Sweta Killa]</td>\n",
       "      <td>Tesla (TSLA) misses estimates on both earnings...</td>\n",
       "      <td>https://staticx-tuner.zacks.com/images/article...</td>\n",
       "      <td>Zacks Commentary</td>\n",
       "      <td>n/a</td>\n",
       "      <td>www.zacks.com</td>\n",
       "      <td>[{'topic': 'Earnings', 'relevance_score': '0.8...</td>\n",
       "      <td>0.121240</td>\n",
       "      <td>Neutral</td>\n",
       "      <td>[{'ticker': 'TSLA', 'relevance_score': '0.4535...</td>\n",
       "      <td>0.453501</td>\n",
       "      <td>0.200087</td>\n",
       "      <td>1</td>\n",
       "      <td>Somewhat_Bullish</td>\n",
       "      <td>Bullish</td>\n",
       "    </tr>\n",
       "    <tr>\n",
       "      <th>20240424T140700</th>\n",
       "      <td>Tesla is headed for a new growth phase as Elon...</td>\n",
       "      <td>https://markets.businessinsider.com/news/stock...</td>\n",
       "      <td>[Jennifer Sor]</td>\n",
       "      <td>Elon Musk Finally the 'Adult in the Room,' Tes...</td>\n",
       "      <td>None</td>\n",
       "      <td>Business Insider</td>\n",
       "      <td>GoogleRSS</td>\n",
       "      <td>markets.businessinsider.com</td>\n",
       "      <td>[{'topic': 'Earnings', 'relevance_score': '0.6...</td>\n",
       "      <td>0.230267</td>\n",
       "      <td>Somewhat-Bullish</td>\n",
       "      <td>[{'ticker': 'TSLA', 'relevance_score': '0.5197...</td>\n",
       "      <td>0.519739</td>\n",
       "      <td>0.292953</td>\n",
       "      <td>1</td>\n",
       "      <td>Somewhat_Bullish</td>\n",
       "      <td>Bullish</td>\n",
       "    </tr>\n",
       "    <tr>\n",
       "      <th>20240424T150314</th>\n",
       "      <td>Electric car Tesla may set up manufacturing pl...</td>\n",
       "      <td>https://www.business-standard.com/industry/aut...</td>\n",
       "      <td>[Surajeet Das Gupta]</td>\n",
       "      <td>Tesla's plan to manufacture its affordable ele...</td>\n",
       "      <td>https://bsmedia.business-standard.com/_media/b...</td>\n",
       "      <td>Business Standard</td>\n",
       "      <td>GoogleRSS</td>\n",
       "      <td>www.business-standard.com</td>\n",
       "      <td>[{'topic': 'Earnings', 'relevance_score': '0.4...</td>\n",
       "      <td>0.081131</td>\n",
       "      <td>Neutral</td>\n",
       "      <td>[{'ticker': 'TSLA', 'relevance_score': '0.2743...</td>\n",
       "      <td>0.274320</td>\n",
       "      <td>0.055671</td>\n",
       "      <td>1</td>\n",
       "      <td>Neutral</td>\n",
       "      <td>Neutral</td>\n",
       "    </tr>\n",
       "    <tr>\n",
       "      <th>...</th>\n",
       "      <td>...</td>\n",
       "      <td>...</td>\n",
       "      <td>...</td>\n",
       "      <td>...</td>\n",
       "      <td>...</td>\n",
       "      <td>...</td>\n",
       "      <td>...</td>\n",
       "      <td>...</td>\n",
       "      <td>...</td>\n",
       "      <td>...</td>\n",
       "      <td>...</td>\n",
       "      <td>...</td>\n",
       "      <td>...</td>\n",
       "      <td>...</td>\n",
       "      <td>...</td>\n",
       "      <td>...</td>\n",
       "      <td>...</td>\n",
       "    </tr>\n",
       "    <tr>\n",
       "      <th>20240505T070604</th>\n",
       "      <td>$299 Tesla Model 3 'Too Good' Lease Makes It C...</td>\n",
       "      <td>https://www.forbes.com/sites/brookecrothers/20...</td>\n",
       "      <td>[Brooke Crothers]</td>\n",
       "      <td>Tesla is offering curiously cheap leases on it...</td>\n",
       "      <td>https://imageio.forbes.com/specials-images/ima...</td>\n",
       "      <td>Forbes</td>\n",
       "      <td>n/a</td>\n",
       "      <td>www.forbes.com</td>\n",
       "      <td>[{'topic': 'Earnings', 'relevance_score': '0.1...</td>\n",
       "      <td>0.178528</td>\n",
       "      <td>Somewhat-Bullish</td>\n",
       "      <td>[{'ticker': 'TSLA', 'relevance_score': '0.5372...</td>\n",
       "      <td>0.537213</td>\n",
       "      <td>0.309625</td>\n",
       "      <td>1</td>\n",
       "      <td>Somewhat_Bullish</td>\n",
       "      <td>Bullish</td>\n",
       "    </tr>\n",
       "    <tr>\n",
       "      <th>20240505T081048</th>\n",
       "      <td>Indian EV startup extends offer to Tesla inter...</td>\n",
       "      <td>https://www.business-standard.com/india-news/i...</td>\n",
       "      <td>[Press Trust of India]</td>\n",
       "      <td>Bengaluru-based electric vehicle startup Prava...</td>\n",
       "      <td>https://bsmedia.business-standard.com/_media/b...</td>\n",
       "      <td>Business Standard</td>\n",
       "      <td>GoogleRSS</td>\n",
       "      <td>www.business-standard.com</td>\n",
       "      <td>[{'topic': 'Manufacturing', 'relevance_score':...</td>\n",
       "      <td>0.149167</td>\n",
       "      <td>Neutral</td>\n",
       "      <td>[{'ticker': 'TSLA', 'relevance_score': '0.7232...</td>\n",
       "      <td>0.723234</td>\n",
       "      <td>0.185315</td>\n",
       "      <td>1</td>\n",
       "      <td>Somewhat_Bullish</td>\n",
       "      <td>Bullish</td>\n",
       "    </tr>\n",
       "    <tr>\n",
       "      <th>20240505T133014</th>\n",
       "      <td>Russian Troops Enter US Military Base In Niger...</td>\n",
       "      <td>https://www.benzinga.com/news/24/05/38632362/r...</td>\n",
       "      <td>[Benzinga Neuro]</td>\n",
       "      <td>The weekend was filled with intriguing stories...</td>\n",
       "      <td>https://cdn.benzinga.com/files/images/story/20...</td>\n",
       "      <td>Benzinga</td>\n",
       "      <td>News</td>\n",
       "      <td>www.benzinga.com</td>\n",
       "      <td>[{'topic': 'Manufacturing', 'relevance_score':...</td>\n",
       "      <td>0.007254</td>\n",
       "      <td>Neutral</td>\n",
       "      <td>[{'ticker': 'TSLA', 'relevance_score': '0.1595...</td>\n",
       "      <td>0.159569</td>\n",
       "      <td>-0.168038</td>\n",
       "      <td>1</td>\n",
       "      <td>Somewhat-Bearish</td>\n",
       "      <td>Bearish</td>\n",
       "    </tr>\n",
       "    <tr>\n",
       "      <th>20240505T172611</th>\n",
       "      <td>Tesla pullback puts onus on other firms to bui...</td>\n",
       "      <td>https://www.business-standard.com/world-news/t...</td>\n",
       "      <td>[NYT]</td>\n",
       "      <td>Another charging company is likely to take ove...</td>\n",
       "      <td>https://bsmedia.business-standard.com/_media/b...</td>\n",
       "      <td>Business Standard</td>\n",
       "      <td>GoogleRSS</td>\n",
       "      <td>www.business-standard.com</td>\n",
       "      <td>[{'topic': 'Manufacturing', 'relevance_score':...</td>\n",
       "      <td>0.004840</td>\n",
       "      <td>Neutral</td>\n",
       "      <td>[{'ticker': 'TSLA', 'relevance_score': '0.6184...</td>\n",
       "      <td>0.618426</td>\n",
       "      <td>0.093125</td>\n",
       "      <td>1</td>\n",
       "      <td>Neutral</td>\n",
       "      <td>Neutral</td>\n",
       "    </tr>\n",
       "    <tr>\n",
       "      <th>20240505T180600</th>\n",
       "      <td>Is Tesla Stock Going to $230? 1 Wall Street An...</td>\n",
       "      <td>https://www.fool.com/investing/2024/05/05/is-t...</td>\n",
       "      <td>[Howard Smith]</td>\n",
       "      <td>One Wall Street analyst paints scenarios where...</td>\n",
       "      <td>https://g.foolcdn.com/editorial/images/775542/...</td>\n",
       "      <td>Motley Fool</td>\n",
       "      <td>n/a</td>\n",
       "      <td>www.fool.com</td>\n",
       "      <td>[{'topic': 'Financial Markets', 'relevance_sco...</td>\n",
       "      <td>0.216818</td>\n",
       "      <td>Somewhat-Bullish</td>\n",
       "      <td>[{'ticker': 'TSLA', 'relevance_score': '0.8522...</td>\n",
       "      <td>0.852206</td>\n",
       "      <td>0.365422</td>\n",
       "      <td>1</td>\n",
       "      <td>Bullish</td>\n",
       "      <td>Bullish</td>\n",
       "    </tr>\n",
       "  </tbody>\n",
       "</table>\n",
       "<p>115 rows × 17 columns</p>\n",
       "</div>"
      ],
      "text/plain": [
       "                                                             title  \\\n",
       "time_published                                                       \n",
       "20240424T132555  Tesla Sent a Clear Message to Wall Street on T...   \n",
       "20240424T134400  Tesla stock soars 14% after Elon Musk commits ...   \n",
       "20240424T140000  Tesla Rises on Future EV Plans Despite Q1 Miss...   \n",
       "20240424T140700  Tesla is headed for a new growth phase as Elon...   \n",
       "20240424T150314  Electric car Tesla may set up manufacturing pl...   \n",
       "...                                                            ...   \n",
       "20240505T070604  $299 Tesla Model 3 'Too Good' Lease Makes It C...   \n",
       "20240505T081048  Indian EV startup extends offer to Tesla inter...   \n",
       "20240505T133014  Russian Troops Enter US Military Base In Niger...   \n",
       "20240505T172611  Tesla pullback puts onus on other firms to bui...   \n",
       "20240505T180600  Is Tesla Stock Going to $230? 1 Wall Street An...   \n",
       "\n",
       "                                                               url  \\\n",
       "time_published                                                       \n",
       "20240424T132555  https://www.fool.com/investing/2024/04/24/tesl...   \n",
       "20240424T134400  https://markets.businessinsider.com/news/stock...   \n",
       "20240424T140000  https://www.zacks.com/stock/news/2261222/tesla...   \n",
       "20240424T140700  https://markets.businessinsider.com/news/stock...   \n",
       "20240424T150314  https://www.business-standard.com/industry/aut...   \n",
       "...                                                            ...   \n",
       "20240505T070604  https://www.forbes.com/sites/brookecrothers/20...   \n",
       "20240505T081048  https://www.business-standard.com/india-news/i...   \n",
       "20240505T133014  https://www.benzinga.com/news/24/05/38632362/r...   \n",
       "20240505T172611  https://www.business-standard.com/world-news/t...   \n",
       "20240505T180600  https://www.fool.com/investing/2024/05/05/is-t...   \n",
       "\n",
       "                                authors  \\\n",
       "time_published                            \n",
       "20240424T132555        [Neil Rozenbaum]   \n",
       "20240424T134400           [Matthew Fox]   \n",
       "20240424T140000           [Sweta Killa]   \n",
       "20240424T140700          [Jennifer Sor]   \n",
       "20240424T150314    [Surajeet Das Gupta]   \n",
       "...                                 ...   \n",
       "20240505T070604       [Brooke Crothers]   \n",
       "20240505T081048  [Press Trust of India]   \n",
       "20240505T133014        [Benzinga Neuro]   \n",
       "20240505T172611                   [NYT]   \n",
       "20240505T180600          [Howard Smith]   \n",
       "\n",
       "                                                           summary  \\\n",
       "time_published                                                       \n",
       "20240424T132555  The year will be a defining moment for Tesla a...   \n",
       "20240424T134400  Tesla Stock Price up 14% on Q1 Earnings, Musk ...   \n",
       "20240424T140000  Tesla (TSLA) misses estimates on both earnings...   \n",
       "20240424T140700  Elon Musk Finally the 'Adult in the Room,' Tes...   \n",
       "20240424T150314  Tesla's plan to manufacture its affordable ele...   \n",
       "...                                                            ...   \n",
       "20240505T070604  Tesla is offering curiously cheap leases on it...   \n",
       "20240505T081048  Bengaluru-based electric vehicle startup Prava...   \n",
       "20240505T133014  The weekend was filled with intriguing stories...   \n",
       "20240505T172611  Another charging company is likely to take ove...   \n",
       "20240505T180600  One Wall Street analyst paints scenarios where...   \n",
       "\n",
       "                                                      banner_image  \\\n",
       "time_published                                                       \n",
       "20240424T132555  https://g.foolcdn.com/editorial/images/774113/...   \n",
       "20240424T134400                                               None   \n",
       "20240424T140000  https://staticx-tuner.zacks.com/images/article...   \n",
       "20240424T140700                                               None   \n",
       "20240424T150314  https://bsmedia.business-standard.com/_media/b...   \n",
       "...                                                            ...   \n",
       "20240505T070604  https://imageio.forbes.com/specials-images/ima...   \n",
       "20240505T081048  https://bsmedia.business-standard.com/_media/b...   \n",
       "20240505T133014  https://cdn.benzinga.com/files/images/story/20...   \n",
       "20240505T172611  https://bsmedia.business-standard.com/_media/b...   \n",
       "20240505T180600  https://g.foolcdn.com/editorial/images/775542/...   \n",
       "\n",
       "                            source category_within_source  \\\n",
       "time_published                                              \n",
       "20240424T132555        Motley Fool                    n/a   \n",
       "20240424T134400   Business Insider              GoogleRSS   \n",
       "20240424T140000   Zacks Commentary                    n/a   \n",
       "20240424T140700   Business Insider              GoogleRSS   \n",
       "20240424T150314  Business Standard              GoogleRSS   \n",
       "...                            ...                    ...   \n",
       "20240505T070604             Forbes                    n/a   \n",
       "20240505T081048  Business Standard              GoogleRSS   \n",
       "20240505T133014           Benzinga                   News   \n",
       "20240505T172611  Business Standard              GoogleRSS   \n",
       "20240505T180600        Motley Fool                    n/a   \n",
       "\n",
       "                               source_domain  \\\n",
       "time_published                                 \n",
       "20240424T132555                 www.fool.com   \n",
       "20240424T134400  markets.businessinsider.com   \n",
       "20240424T140000                www.zacks.com   \n",
       "20240424T140700  markets.businessinsider.com   \n",
       "20240424T150314    www.business-standard.com   \n",
       "...                                      ...   \n",
       "20240505T070604               www.forbes.com   \n",
       "20240505T081048    www.business-standard.com   \n",
       "20240505T133014             www.benzinga.com   \n",
       "20240505T172611    www.business-standard.com   \n",
       "20240505T180600                 www.fool.com   \n",
       "\n",
       "                                                            topics  \\\n",
       "time_published                                                       \n",
       "20240424T132555  [{'topic': 'Earnings', 'relevance_score': '0.3...   \n",
       "20240424T134400  [{'topic': 'Earnings', 'relevance_score': '0.9...   \n",
       "20240424T140000  [{'topic': 'Earnings', 'relevance_score': '0.8...   \n",
       "20240424T140700  [{'topic': 'Earnings', 'relevance_score': '0.6...   \n",
       "20240424T150314  [{'topic': 'Earnings', 'relevance_score': '0.4...   \n",
       "...                                                            ...   \n",
       "20240505T070604  [{'topic': 'Earnings', 'relevance_score': '0.1...   \n",
       "20240505T081048  [{'topic': 'Manufacturing', 'relevance_score':...   \n",
       "20240505T133014  [{'topic': 'Manufacturing', 'relevance_score':...   \n",
       "20240505T172611  [{'topic': 'Manufacturing', 'relevance_score':...   \n",
       "20240505T180600  [{'topic': 'Financial Markets', 'relevance_sco...   \n",
       "\n",
       "                 overall_sentiment_score overall_sentiment_label  \\\n",
       "time_published                                                     \n",
       "20240424T132555                 0.211311        Somewhat-Bullish   \n",
       "20240424T134400                 0.069328                 Neutral   \n",
       "20240424T140000                 0.121240                 Neutral   \n",
       "20240424T140700                 0.230267        Somewhat-Bullish   \n",
       "20240424T150314                 0.081131                 Neutral   \n",
       "...                                  ...                     ...   \n",
       "20240505T070604                 0.178528        Somewhat-Bullish   \n",
       "20240505T081048                 0.149167                 Neutral   \n",
       "20240505T133014                 0.007254                 Neutral   \n",
       "20240505T172611                 0.004840                 Neutral   \n",
       "20240505T180600                 0.216818        Somewhat-Bullish   \n",
       "\n",
       "                                                  ticker_sentiment  \\\n",
       "time_published                                                       \n",
       "20240424T132555  [{'ticker': 'TSLA', 'relevance_score': '0.9470...   \n",
       "20240424T134400  [{'ticker': 'TSLA', 'relevance_score': '0.8078...   \n",
       "20240424T140000  [{'ticker': 'TSLA', 'relevance_score': '0.4535...   \n",
       "20240424T140700  [{'ticker': 'TSLA', 'relevance_score': '0.5197...   \n",
       "20240424T150314  [{'ticker': 'TSLA', 'relevance_score': '0.2743...   \n",
       "...                                                            ...   \n",
       "20240505T070604  [{'ticker': 'TSLA', 'relevance_score': '0.5372...   \n",
       "20240505T081048  [{'ticker': 'TSLA', 'relevance_score': '0.7232...   \n",
       "20240505T133014  [{'ticker': 'TSLA', 'relevance_score': '0.1595...   \n",
       "20240505T172611  [{'ticker': 'TSLA', 'relevance_score': '0.6184...   \n",
       "20240505T180600  [{'ticker': 'TSLA', 'relevance_score': '0.8522...   \n",
       "\n",
       "                 ticker_relevance_TSLA  ticker_sentiment_TSLA  num_tickers  \\\n",
       "time_published                                                               \n",
       "20240424T132555               0.947069               0.510862            1   \n",
       "20240424T134400               0.807885               0.081196            1   \n",
       "20240424T140000               0.453501               0.200087            1   \n",
       "20240424T140700               0.519739               0.292953            1   \n",
       "20240424T150314               0.274320               0.055671            1   \n",
       "...                                ...                    ...          ...   \n",
       "20240505T070604               0.537213               0.309625            1   \n",
       "20240505T081048               0.723234               0.185315            1   \n",
       "20240505T133014               0.159569              -0.168038            1   \n",
       "20240505T172611               0.618426               0.093125            1   \n",
       "20240505T180600               0.852206               0.365422            1   \n",
       "\n",
       "                detailed_original_label    label  \n",
       "time_published                                    \n",
       "20240424T132555                 Bullish  Bullish  \n",
       "20240424T134400                 Neutral  Neutral  \n",
       "20240424T140000        Somewhat_Bullish  Bullish  \n",
       "20240424T140700        Somewhat_Bullish  Bullish  \n",
       "20240424T150314                 Neutral  Neutral  \n",
       "...                                 ...      ...  \n",
       "20240505T070604        Somewhat_Bullish  Bullish  \n",
       "20240505T081048        Somewhat_Bullish  Bullish  \n",
       "20240505T133014        Somewhat-Bearish  Bearish  \n",
       "20240505T172611                 Neutral  Neutral  \n",
       "20240505T180600                 Bullish  Bullish  \n",
       "\n",
       "[115 rows x 17 columns]"
      ]
     },
     "execution_count": 29,
     "metadata": {},
     "output_type": "execute_result"
    }
   ],
   "source": [
    "df"
   ]
  },
  {
   "cell_type": "markdown",
   "id": "f38ef993-0e0f-4b61-9459-dbf667794235",
   "metadata": {},
   "source": [
    "### If you want more data you can run this the next day starting at earliest publish date and going backwards in time.\n",
    "* Load dataset so far \n",
    "* Find earliest published time\n",
    "* Can give you duplicates when you are done with data. I didn't handle it in this code so drop duplicates maybe by URL,published_time,summary..."
   ]
  },
  {
   "cell_type": "code",
   "execution_count": 32,
   "id": "3eb4469c-dab4-49d6-9e1b-6a9a509da85b",
   "metadata": {},
   "outputs": [
    {
     "data": {
      "text/plain": [
       "'20240424T132555'"
      ]
     },
     "execution_count": 32,
     "metadata": {},
     "output_type": "execute_result"
    }
   ],
   "source": [
    "df = pd.read_csv('tsla_sentiment.csv',index_col='time_published').sort_index()\n",
    "earliest_time_published = df.index[0]\n",
    "earliest_time_published"
   ]
  },
  {
   "cell_type": "markdown",
   "id": "ce3167dc-6209-4b2d-966d-b4d4f6c0d668",
   "metadata": {},
   "source": [
    "#### Get more data"
   ]
  },
  {
   "cell_type": "code",
   "execution_count": 33,
   "id": "30c59a26-a72d-4b6c-a815-7afcaa6b47b7",
   "metadata": {},
   "outputs": [],
   "source": [
    "df_new = get_dataset(time_to=earliest_time_published[:-2])"
   ]
  },
  {
   "cell_type": "markdown",
   "id": "3a5ac118-3f41-463d-912c-8c67e8287c72",
   "metadata": {},
   "source": [
    "### Combine the dataframes and save to a csv"
   ]
  },
  {
   "cell_type": "code",
   "execution_count": 34,
   "id": "a39b637f-19c0-47cc-98b5-aee5da822146",
   "metadata": {},
   "outputs": [],
   "source": [
    "df = pd.concat([df_new,df])\n",
    "df.drop_duplicates(subset=['summary'],inplace=True,keep='first')\n",
    "df.to_csv('tsla_sentiment.csv')"
   ]
  },
  {
   "cell_type": "markdown",
   "id": "87a641ee-691b-4075-92fa-86b698c05a1a",
   "metadata": {},
   "source": [
    "### When we run out of dates or want to add new articles we don't have we can now go forward in time from latest published time. WE can run this like every day or every few days and we should have mostly everything\n",
    "* Find latest time\n",
    "* We take nearest minute forward not backwards as we did when going backwards in time\n",
    "* We set the time_from to this..."
   ]
  },
  {
   "cell_type": "code",
   "execution_count": null,
   "id": "29e05636-dbd0-44ee-af01-4bc315250f18",
   "metadata": {},
   "outputs": [],
   "source": [
    "df = pd.read_csv('tsla_sentiment.csv',index_col='time_published').sort_index()\n",
    "\n",
    "latest_time_published = df.index[-1]\n",
    "\n",
    "# Parse the timestamp string into a datetime object\n",
    "dt = datetime.datetime.strptime(latest_time_published[:-2], '%Y%m%dT%H%M')\n",
    "\n",
    "# Round the datetime to the nearest second\n",
    "rounded_dt = dt + datetime.timedelta(minutes=1)\n",
    "\n",
    "# Format the rounded datetime back to the string format\n",
    "next_timestamp = rounded_dt.strftime('%Y%m%dT%H%M')\n",
    " "
   ]
  },
  {
   "cell_type": "markdown",
   "id": "5b2f7a01-7c5e-456f-b593-dc5051400e13",
   "metadata": {},
   "source": [
    "### Combine the dataframes and save to a csv"
   ]
  },
  {
   "cell_type": "code",
   "execution_count": null,
   "id": "ba1ade7e-d657-4e76-968a-86f6f54aff16",
   "metadata": {},
   "outputs": [],
   "source": [
    "df_new = get_dataset(time_from=next_timestamp,time_to='')"
   ]
  },
  {
   "cell_type": "markdown",
   "id": "d72cfe53-c146-46f1-bfc9-6659a343ff32",
   "metadata": {},
   "source": [
    "### Combine the dataframes and save to a csv"
   ]
  },
  {
   "cell_type": "code",
   "execution_count": null,
   "id": "dc334416-2f20-4959-96a9-9a3b9fff2338",
   "metadata": {},
   "outputs": [],
   "source": [
    "df=pd.concat([df,df_new])\n",
    "df.drop_duplicates(subset=['summary'],inplace=True,keep='first')\n",
    "df.to_csv('tsla_sentiment.csv')"
   ]
  },
  {
   "cell_type": "markdown",
   "id": "87e36875-3a8a-42a5-8c17-aa8f7995cebb",
   "metadata": {},
   "source": [
    "### Explanation"
   ]
  },
  {
   "cell_type": "code",
   "execution_count": 36,
   "id": "dd361557-b3e5-45da-98fb-21d4c6e6cb43",
   "metadata": {},
   "outputs": [],
   "source": [
    "data=_get_data('TSLA',\"20030410T0130\",\"\",api_key)"
   ]
  },
  {
   "cell_type": "code",
   "execution_count": 38,
   "id": "44e510c4-5ae4-4534-bf9c-60bb8bea01d1",
   "metadata": {},
   "outputs": [
    {
     "data": {
      "text/plain": [
       "dict_keys(['items', 'sentiment_score_definition', 'relevance_score_definition', 'feed'])"
      ]
     },
     "execution_count": 38,
     "metadata": {},
     "output_type": "execute_result"
    }
   ],
   "source": [
    "data.keys()"
   ]
  },
  {
   "cell_type": "code",
   "execution_count": 39,
   "id": "07333587-54fc-429d-a5b4-a222315af500",
   "metadata": {},
   "outputs": [
    {
     "data": {
      "text/plain": [
       "'692'"
      ]
     },
     "execution_count": 39,
     "metadata": {},
     "output_type": "execute_result"
    }
   ],
   "source": [
    "data['items']"
   ]
  },
  {
   "cell_type": "code",
   "execution_count": 40,
   "id": "62b05aad-9afc-4da8-87a9-6176c6f377e6",
   "metadata": {},
   "outputs": [
    {
     "data": {
      "text/plain": [
       "'x <= -0.35: Bearish; -0.35 < x <= -0.15: Somewhat-Bearish; -0.15 < x < 0.15: Neutral; 0.15 <= x < 0.35: Somewhat_Bullish; x >= 0.35: Bullish'"
      ]
     },
     "execution_count": 40,
     "metadata": {},
     "output_type": "execute_result"
    }
   ],
   "source": [
    "data['sentiment_score_definition']"
   ]
  },
  {
   "cell_type": "code",
   "execution_count": 41,
   "id": "ea9de4b3-46c4-411f-97b4-a5e76215ad2a",
   "metadata": {},
   "outputs": [
    {
     "data": {
      "text/plain": [
       "'0 < x <= 1, with a higher score indicating higher relevance.'"
      ]
     },
     "execution_count": 41,
     "metadata": {},
     "output_type": "execute_result"
    }
   ],
   "source": [
    "data['relevance_score_definition']"
   ]
  },
  {
   "cell_type": "code",
   "execution_count": 44,
   "id": "9ab9d5d9-d5d4-41c7-8c98-502c8f7881d7",
   "metadata": {},
   "outputs": [],
   "source": [
    "df=pd.DataFrame(data['feed'])"
   ]
  },
  {
   "cell_type": "code",
   "execution_count": 47,
   "id": "b8c9d99b-2d0e-47c7-aea9-cb33bad96835",
   "metadata": {},
   "outputs": [
    {
     "data": {
      "text/plain": [
       "[{'ticker': 'TSLA',\n",
       "  'relevance_score': '0.055236',\n",
       "  'ticker_sentiment_score': '-0.023999',\n",
       "  'ticker_sentiment_label': 'Neutral'},\n",
       " {'ticker': 'CRYPTO:BTC',\n",
       "  'relevance_score': '0.164656',\n",
       "  'ticker_sentiment_score': '-0.0489',\n",
       "  'ticker_sentiment_label': 'Neutral'},\n",
       " {'ticker': 'CRYPTO:DOGE',\n",
       "  'relevance_score': '0.110209',\n",
       "  'ticker_sentiment_score': '-0.026718',\n",
       "  'ticker_sentiment_label': 'Neutral'},\n",
       " {'ticker': 'CRYPTO:SOL',\n",
       "  'relevance_score': '0.055236',\n",
       "  'ticker_sentiment_score': '0.215945',\n",
       "  'ticker_sentiment_label': 'Somewhat-Bullish'}]"
      ]
     },
     "execution_count": 47,
     "metadata": {},
     "output_type": "execute_result"
    }
   ],
   "source": [
    "df['ticker_sentiment'].iloc[0]"
   ]
  }
 ],
 "metadata": {
  "kernelspec": {
   "display_name": "Python 3 (ipykernel)",
   "language": "python",
   "name": "python3"
  },
  "language_info": {
   "codemirror_mode": {
    "name": "ipython",
    "version": 3
   },
   "file_extension": ".py",
   "mimetype": "text/x-python",
   "name": "python",
   "nbconvert_exporter": "python",
   "pygments_lexer": "ipython3",
   "version": "3.10.13"
  }
 },
 "nbformat": 4,
 "nbformat_minor": 5
}
