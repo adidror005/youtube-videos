{
  "cells": [
    {
      "cell_type": "markdown",
      "metadata": {
        "id": "view-in-github",
        "colab_type": "text"
      },
      "source": [
        "<a href=\"https://colab.research.google.com/github/adidror005/youtube-videos/blob/main/TradingStream.ipynb\" target=\"_parent\"><img src=\"https://colab.research.google.com/assets/colab-badge.svg\" alt=\"Open In Colab\"/></a>"
      ]
    },
    {
      "cell_type": "markdown",
      "metadata": {
        "id": "WBFiHh7B4i6Q"
      },
      "source": [
        "# Setup\n",
        "\n",
        "### Install Python SDK\n"
      ]
    },
    {
      "cell_type": "code",
      "execution_count": 1,
      "metadata": {
        "colab": {
          "base_uri": "https://localhost:8080/"
        },
        "id": "hOR_HPraHxRC",
        "outputId": "2b805523-9344-4ca1-89c2-0f3f89fc19eb"
      },
      "outputs": [
        {
          "output_type": "stream",
          "name": "stdout",
          "text": [
            "Collecting alpaca-py\n",
            "  Downloading alpaca_py-0.40.0-py3-none-any.whl.metadata (13 kB)\n",
            "Requirement already satisfied: msgpack<2.0.0,>=1.0.3 in /usr/local/lib/python3.11/dist-packages (from alpaca-py) (1.1.0)\n",
            "Requirement already satisfied: pandas>=1.5.3 in /usr/local/lib/python3.11/dist-packages (from alpaca-py) (2.2.2)\n",
            "Requirement already satisfied: pydantic<3.0.0,>=2.0.3 in /usr/local/lib/python3.11/dist-packages (from alpaca-py) (2.11.4)\n",
            "Requirement already satisfied: requests<3.0.0,>=2.30.0 in /usr/local/lib/python3.11/dist-packages (from alpaca-py) (2.32.3)\n",
            "Collecting sseclient-py<2.0.0,>=1.7.2 (from alpaca-py)\n",
            "  Downloading sseclient_py-1.8.0-py2.py3-none-any.whl.metadata (2.0 kB)\n",
            "Requirement already satisfied: websockets>=10.4 in /usr/local/lib/python3.11/dist-packages (from alpaca-py) (15.0.1)\n",
            "Requirement already satisfied: numpy>=1.23.2 in /usr/local/lib/python3.11/dist-packages (from pandas>=1.5.3->alpaca-py) (2.0.2)\n",
            "Requirement already satisfied: python-dateutil>=2.8.2 in /usr/local/lib/python3.11/dist-packages (from pandas>=1.5.3->alpaca-py) (2.9.0.post0)\n",
            "Requirement already satisfied: pytz>=2020.1 in /usr/local/lib/python3.11/dist-packages (from pandas>=1.5.3->alpaca-py) (2025.2)\n",
            "Requirement already satisfied: tzdata>=2022.7 in /usr/local/lib/python3.11/dist-packages (from pandas>=1.5.3->alpaca-py) (2025.2)\n",
            "Requirement already satisfied: annotated-types>=0.6.0 in /usr/local/lib/python3.11/dist-packages (from pydantic<3.0.0,>=2.0.3->alpaca-py) (0.7.0)\n",
            "Requirement already satisfied: pydantic-core==2.33.2 in /usr/local/lib/python3.11/dist-packages (from pydantic<3.0.0,>=2.0.3->alpaca-py) (2.33.2)\n",
            "Requirement already satisfied: typing-extensions>=4.12.2 in /usr/local/lib/python3.11/dist-packages (from pydantic<3.0.0,>=2.0.3->alpaca-py) (4.13.2)\n",
            "Requirement already satisfied: typing-inspection>=0.4.0 in /usr/local/lib/python3.11/dist-packages (from pydantic<3.0.0,>=2.0.3->alpaca-py) (0.4.0)\n",
            "Requirement already satisfied: charset-normalizer<4,>=2 in /usr/local/lib/python3.11/dist-packages (from requests<3.0.0,>=2.30.0->alpaca-py) (3.4.2)\n",
            "Requirement already satisfied: idna<4,>=2.5 in /usr/local/lib/python3.11/dist-packages (from requests<3.0.0,>=2.30.0->alpaca-py) (3.10)\n",
            "Requirement already satisfied: urllib3<3,>=1.21.1 in /usr/local/lib/python3.11/dist-packages (from requests<3.0.0,>=2.30.0->alpaca-py) (2.4.0)\n",
            "Requirement already satisfied: certifi>=2017.4.17 in /usr/local/lib/python3.11/dist-packages (from requests<3.0.0,>=2.30.0->alpaca-py) (2025.4.26)\n",
            "Requirement already satisfied: six>=1.5 in /usr/local/lib/python3.11/dist-packages (from python-dateutil>=2.8.2->pandas>=1.5.3->alpaca-py) (1.17.0)\n",
            "Downloading alpaca_py-0.40.0-py3-none-any.whl (121 kB)\n",
            "\u001b[2K   \u001b[90m━━━━━━━━━━━━━━━━━━━━━━━━━━━━━━━━━━━━━━━━\u001b[0m \u001b[32m121.7/121.7 kB\u001b[0m \u001b[31m5.0 MB/s\u001b[0m eta \u001b[36m0:00:00\u001b[0m\n",
            "\u001b[?25hDownloading sseclient_py-1.8.0-py2.py3-none-any.whl (8.8 kB)\n",
            "Installing collected packages: sseclient-py, alpaca-py\n",
            "Successfully installed alpaca-py-0.40.0 sseclient-py-1.8.0\n"
          ]
        }
      ],
      "source": [
        "!pip install alpaca-py"
      ]
    },
    {
      "cell_type": "markdown",
      "metadata": {
        "id": "YksmyNWk45op"
      },
      "source": [
        "### Grab API key and Secret"
      ]
    },
    {
      "cell_type": "code",
      "execution_count": 1,
      "metadata": {
        "id": "gNadZhiAH0Cz"
      },
      "outputs": [],
      "source": [
        "from google.colab import userdata\n",
        "ALPACA_API_KEY = userdata.get('ALPACA_API_KEY')\n",
        "ALPACA_API_SECRET = userdata.get('ALPACA_API_SECRET')"
      ]
    },
    {
      "cell_type": "markdown",
      "metadata": {
        "id": "sHtVhd4248FR"
      },
      "source": [
        "### Connect to Trading Client"
      ]
    },
    {
      "cell_type": "code",
      "execution_count": 2,
      "metadata": {
        "id": "S-1nNEljH3Kw"
      },
      "outputs": [],
      "source": [
        "from alpaca.trading.client import TradingClient\n",
        "trading_client = TradingClient(ALPACA_API_KEY, ALPACA_API_SECRET, paper=True)"
      ]
    },
    {
      "cell_type": "markdown",
      "metadata": {
        "id": "Kg8RLXy74shB"
      },
      "source": [
        "### Helper Function to View Respones as DataFrames"
      ]
    },
    {
      "cell_type": "code",
      "execution_count": 3,
      "metadata": {
        "id": "DV8DlO2l4sLZ"
      },
      "outputs": [],
      "source": [
        "import pandas as pd\n",
        "\n",
        "class Util:\n",
        "    @staticmethod\n",
        "    def to_dataframe(data):\n",
        "        if isinstance(data, list):\n",
        "            return pd.DataFrame([item.__dict__ for item in data])\n",
        "        return pd.DataFrame(data, columns=['tag', 'value']).set_index('tag')"
      ]
    },
    {
      "cell_type": "markdown",
      "metadata": {
        "id": "zTKCQC8_GP9P"
      },
      "source": [
        "### Nest_Asnycio\n",
        "* Needed for running asyncio in Jupyter Credit Ewald De Wit!"
      ]
    },
    {
      "cell_type": "code",
      "execution_count": 4,
      "metadata": {
        "id": "6IppPUq9D2kD"
      },
      "outputs": [],
      "source": [
        "import nest_asyncio\n",
        "nest_asyncio.apply()\n"
      ]
    },
    {
      "cell_type": "markdown",
      "metadata": {
        "id": "P88J6XKN64m4"
      },
      "source": [
        "# Trading Stream\n",
        "\n",
        "### Where we can handle events related to orders we placed.\n",
        "For example,\n",
        "* New Order\n",
        "* Replaced Order\n",
        "* Filled Ordre\n",
        "\n",
        "### Initialize Trading Stream"
      ]
    },
    {
      "cell_type": "code",
      "execution_count": 5,
      "metadata": {
        "id": "0W6B5FfP66yw"
      },
      "outputs": [],
      "source": [
        "from alpaca.trading.stream import TradingStream\n",
        "trading_stream = TradingStream(ALPACA_API_KEY, ALPACA_API_SECRET)"
      ]
    },
    {
      "cell_type": "markdown",
      "metadata": {
        "id": "7c2Ia5CBXiqv"
      },
      "source": [
        "### Example 1: Very Basic Example of TradingStream Couroutine"
      ]
    },
    {
      "cell_type": "code",
      "execution_count": 6,
      "metadata": {
        "id": "fI31jt3-E9eB"
      },
      "outputs": [],
      "source": [
        "from alpaca.trading.models import TradeUpdate\n",
        "from alpaca.trading.enums import OrderStatus\n"
      ]
    },
    {
      "cell_type": "markdown",
      "metadata": {
        "id": "kmVE3zILdWxh"
      },
      "source": [
        "### Subscribe to \"Trade\" Updates\n",
        "**Note** I wish they could rename it because this can be confusing from market data trade updates..."
      ]
    },
    {
      "cell_type": "code",
      "execution_count": 7,
      "metadata": {
        "id": "Or_NSauUGMsM"
      },
      "outputs": [],
      "source": [
        "async def on_order_update(trade_event:TradeUpdate):\n",
        "    status = trade_event.order.status\n",
        "    side = trade_event.order.side\n",
        "    qty_filled = trade_event.qty\n",
        "    price_filled = trade_event.price\n",
        "    cum_filled = trade_event.order.filled_qty\n",
        "    total_qty = trade_event.order.qty\n",
        "    symbol = trade_event.order.symbol\n",
        "    print(f\"Update for order {trade_event.order.id}\")\n",
        "    print(f\"Order Status: {status}\")\n",
        "    print(f\"Filled: {side} {qty_filled} {symbol} at {price_filled}\")\n",
        "    print(f\"Total Filled: {cum_filled}/{total_qty} {symbol}\")\n"
      ]
    },
    {
      "cell_type": "markdown",
      "metadata": {
        "id": "xGFI0T168t4_"
      },
      "source": [
        "### Run the Websocket Stream\n",
        "* This is blocking later we can try the \"non-blocking\" version."
      ]
    },
    {
      "cell_type": "code",
      "execution_count": 8,
      "metadata": {
        "colab": {
          "base_uri": "https://localhost:8080/"
        },
        "id": "02c7vxdHGNDI",
        "outputId": "963c76a9-d853-4101-ff38-0364707df29f"
      },
      "outputs": [
        {
          "output_type": "stream",
          "name": "stdout",
          "text": [
            "Update for order d81e3b6d-2c35-43db-857e-8619cc49486e\n",
            "Order Status: OrderStatus.PENDING_NEW\n",
            "Filled: OrderSide.BUY None AMD at None\n",
            "Total Filled: 0/None AMD\n",
            "Update for order d81e3b6d-2c35-43db-857e-8619cc49486e\n",
            "Order Status: OrderStatus.NEW\n",
            "Filled: OrderSide.BUY None AMD at None\n",
            "Total Filled: 0/None AMD\n",
            "keyboard interrupt, bye\n"
          ]
        }
      ],
      "source": [
        "trading_stream.subscribe_trade_updates(on_order_update)\n",
        "trading_stream.run()"
      ]
    },
    {
      "cell_type": "markdown",
      "metadata": {
        "id": "aoJNXUs8GEOn"
      },
      "source": [
        "### Let's trigger a take profit 1% Higher after a buy fill"
      ]
    },
    {
      "cell_type": "code",
      "execution_count": 10,
      "metadata": {
        "id": "gIcOTp1oJsM6"
      },
      "outputs": [],
      "source": [
        "from alpaca.trading.models import TradeUpdate\n",
        "from alpaca.trading.enums import OrderStatus, OrderSide\n",
        "from alpaca.trading.requests import LimitOrderRequest\n",
        "from alpaca.trading.enums import TimeInForce\n",
        "import numpy as np\n",
        "\n",
        "trading_stream = TradingStream(ALPACA_API_KEY, ALPACA_API_SECRET)\n",
        "tp_pct = 0.01\n",
        "\n",
        "\n",
        "async def on_order_update(trade_event:TradeUpdate):\n",
        "    status = trade_event.order.status\n",
        "    side = trade_event.order.side\n",
        "    qty_filled = trade_event.qty\n",
        "    price_filled = trade_event.price\n",
        "    cum_filled = trade_event.order.filled_qty\n",
        "    total_qty = trade_event.order.qty\n",
        "    symbol = trade_event.order.symbol\n",
        "    print(f\"Update for order {trade_event.order.id}\")\n",
        "    print(f\"Order Status: {status}\")\n",
        "    if status in [OrderStatus.FILLED,OrderStatus.PARTIALLY_FILLED] and side == OrderSide.BUY:\n",
        "        print(f\"Filled: {side} {qty_filled} {symbol} at {price_filled}\")\n",
        "        print(f\"Total Filled: {cum_filled}/{total_qty} {symbol}\")\n",
        "        tp_price = np.round((1+tp_pct)*price_filled,2)\n",
        "        tp_order = LimitOrderRequest(\n",
        "            symbol=symbol,\n",
        "            qty=qty_filled,\n",
        "            side=OrderSide.SELL,\n",
        "            limit_price=tp_price,\n",
        "            time_in_force=TimeInForce.DAY,\n",
        "            extended_hours=True)\n",
        "        tp_order = trading_client.submit_order(tp_order)\n",
        "        print(f\"Submit Take Profit {OrderSide.SELL} Order for {symbol} with ID {trade_event.order.id} at {tp_price}\")\n",
        "\n",
        "\n",
        "\n",
        "\n",
        "\n"
      ]
    },
    {
      "cell_type": "code",
      "execution_count": null,
      "metadata": {
        "colab": {
          "base_uri": "https://localhost:8080/"
        },
        "id": "UtjG2IxcKyE1",
        "outputId": "e6effa8d-3d85-46b2-e486-8f68585dedc9"
      },
      "outputs": [
        {
          "output_type": "stream",
          "name": "stdout",
          "text": [
            "Update for order 5bc81d43-5341-4ad4-acc5-58d0bb48fb45\n",
            "Order Status: OrderStatus.PENDING_NEW\n",
            "Update for order 5bc81d43-5341-4ad4-acc5-58d0bb48fb45\n",
            "Order Status: OrderStatus.NEW\n",
            "Update for order d81e3b6d-2c35-43db-857e-8619cc49486e\n",
            "Order Status: OrderStatus.PARTIALLY_FILLED\n",
            "Filled: OrderSide.BUY 1.751969193 AMD at 114.26\n",
            "Total Filled: 1.751969193/None AMD\n",
            "Submit Take Profit OrderSide.SELL Order for AMD with ID d81e3b6d-2c35-43db-857e-8619cc49486e at 115.4\n",
            "Update for order d81e3b6d-2c35-43db-857e-8619cc49486e\n",
            "Order Status: OrderStatus.FILLED\n",
            "Filled: OrderSide.BUY 7.0 AMD at 114.26\n",
            "Total Filled: 8.751969193/None AMD\n",
            "Submit Take Profit OrderSide.SELL Order for AMD with ID d81e3b6d-2c35-43db-857e-8619cc49486e at 115.4\n",
            "Update for order b8d2fd31-5cf1-4caa-b94d-aff9d7ab3787\n",
            "Order Status: OrderStatus.PARTIALLY_FILLED\n",
            "Filled: OrderSide.BUY 1.751969193 AMD at 114.26\n",
            "Total Filled: 1.751969193/None AMD\n",
            "Submit Take Profit OrderSide.SELL Order for AMD with ID b8d2fd31-5cf1-4caa-b94d-aff9d7ab3787 at 115.4\n",
            "Update for order b8d2fd31-5cf1-4caa-b94d-aff9d7ab3787\n",
            "Order Status: OrderStatus.FILLED\n",
            "Filled: OrderSide.BUY 7.0 AMD at 114.26\n",
            "Total Filled: 8.751969193/None AMD\n",
            "Submit Take Profit OrderSide.SELL Order for AMD with ID b8d2fd31-5cf1-4caa-b94d-aff9d7ab3787 at 115.4\n",
            "Update for order 46f50a27-83bf-4b9b-b15f-7adfa1647111\n",
            "Order Status: OrderStatus.PARTIALLY_FILLED\n",
            "Filled: OrderSide.BUY 5.0 AMD at 114.26\n",
            "Total Filled: 5/None AMD\n",
            "Submit Take Profit OrderSide.SELL Order for AMD with ID 46f50a27-83bf-4b9b-b15f-7adfa1647111 at 115.4\n",
            "Update for order 3979759d-fbc3-4a92-bf6d-aea3851cd137\n",
            "Order Status: OrderStatus.PARTIALLY_FILLED\n",
            "Filled: OrderSide.BUY 2.0 AMD at 114.26\n",
            "Total Filled: 2/None AMD\n",
            "Submit Take Profit OrderSide.SELL Order for AMD with ID 3979759d-fbc3-4a92-bf6d-aea3851cd137 at 115.4\n",
            "Update for order 2bfd6cdf-d62f-4ad5-818e-6748af04914c\n",
            "Order Status: OrderStatus.PENDING_NEW\n",
            "Update for order 5bc81d43-5341-4ad4-acc5-58d0bb48fb45\n",
            "Order Status: OrderStatus.PARTIALLY_FILLED\n",
            "Filled: OrderSide.BUY 1.751969193 AMD at 114.26\n",
            "Total Filled: 1.751969193/None AMD\n",
            "Submit Take Profit OrderSide.SELL Order for AMD with ID 5bc81d43-5341-4ad4-acc5-58d0bb48fb45 at 115.4\n",
            "Update for order 5bc81d43-5341-4ad4-acc5-58d0bb48fb45\n",
            "Order Status: OrderStatus.FILLED\n",
            "Filled: OrderSide.BUY 7.0 AMD at 114.26\n",
            "Total Filled: 8.751969193/None AMD\n",
            "Submit Take Profit OrderSide.SELL Order for AMD with ID 5bc81d43-5341-4ad4-acc5-58d0bb48fb45 at 115.4\n",
            "Update for order 2bfd6cdf-d62f-4ad5-818e-6748af04914c\n",
            "Order Status: OrderStatus.NEW\n",
            "Update for order f372cd0a-0e2b-4d88-8dff-12c7496ffee7\n",
            "Order Status: OrderStatus.PENDING_NEW\n",
            "Update for order f372cd0a-0e2b-4d88-8dff-12c7496ffee7\n",
            "Order Status: OrderStatus.NEW\n",
            "Update for order a546144a-4c17-4964-ae17-9d6ee2e6bdc3\n",
            "Order Status: OrderStatus.PENDING_NEW\n",
            "Update for order a546144a-4c17-4964-ae17-9d6ee2e6bdc3\n",
            "Order Status: OrderStatus.NEW\n",
            "Update for order c60fecbc-2e44-4bf6-9478-81ed667e2a77\n",
            "Order Status: OrderStatus.PENDING_NEW\n",
            "Update for order c60fecbc-2e44-4bf6-9478-81ed667e2a77\n",
            "Order Status: OrderStatus.NEW\n",
            "Update for order 50e2444c-fd05-4180-900b-521c05a01cdc\n",
            "Order Status: OrderStatus.PENDING_NEW\n",
            "Update for order 50e2444c-fd05-4180-900b-521c05a01cdc\n",
            "Order Status: OrderStatus.NEW\n",
            "Update for order 2bf69d86-e30a-4ea3-9dc3-23f4cf728a84\n",
            "Order Status: OrderStatus.PENDING_NEW\n",
            "Update for order 2bf69d86-e30a-4ea3-9dc3-23f4cf728a84\n",
            "Order Status: OrderStatus.NEW\n",
            "Update for order 8d77508e-4e98-45f1-8091-47ee1e35a581\n",
            "Order Status: OrderStatus.PENDING_NEW\n",
            "Update for order 8d77508e-4e98-45f1-8091-47ee1e35a581\n",
            "Order Status: OrderStatus.NEW\n",
            "Update for order 60ee551a-2911-456a-a65a-f60eb8bfe802\n",
            "Order Status: OrderStatus.PENDING_NEW\n",
            "Update for order 60ee551a-2911-456a-a65a-f60eb8bfe802\n",
            "Order Status: OrderStatus.NEW\n",
            "Update for order 46f50a27-83bf-4b9b-b15f-7adfa1647111\n",
            "Order Status: OrderStatus.PARTIALLY_FILLED\n",
            "Filled: OrderSide.BUY 1.751969193 AMD at 114.26\n",
            "Total Filled: 6.751969193/None AMD\n",
            "Submit Take Profit OrderSide.SELL Order for AMD with ID 46f50a27-83bf-4b9b-b15f-7adfa1647111 at 115.4\n",
            "Update for order 46f50a27-83bf-4b9b-b15f-7adfa1647111\n",
            "Order Status: OrderStatus.FILLED\n",
            "Filled: OrderSide.BUY 2.0 AMD at 114.26\n",
            "Total Filled: 8.751969193/None AMD\n",
            "Submit Take Profit OrderSide.SELL Order for AMD with ID 46f50a27-83bf-4b9b-b15f-7adfa1647111 at 115.4\n",
            "Update for order 3979759d-fbc3-4a92-bf6d-aea3851cd137\n",
            "Order Status: OrderStatus.PARTIALLY_FILLED\n",
            "Filled: OrderSide.BUY 3.0 AMD at 114.26\n",
            "Total Filled: 5/None AMD\n",
            "Submit Take Profit OrderSide.SELL Order for AMD with ID 3979759d-fbc3-4a92-bf6d-aea3851cd137 at 115.4\n",
            "Update for order 6aa3a551-e278-4dba-a357-0ea834d3edb3\n",
            "Order Status: OrderStatus.PENDING_NEW\n",
            "Update for order 6aa3a551-e278-4dba-a357-0ea834d3edb3\n",
            "Order Status: OrderStatus.NEW\n",
            "Update for order f7e0bedf-06e2-4148-b083-b5e674d8b578\n",
            "Order Status: OrderStatus.PENDING_NEW\n",
            "Update for order f7e0bedf-06e2-4148-b083-b5e674d8b578\n",
            "Order Status: OrderStatus.NEW\n",
            "Update for order 4ac3d8a3-2868-4049-9e03-f13cf13bec19\n",
            "Order Status: OrderStatus.PENDING_NEW\n",
            "Update for order 4ac3d8a3-2868-4049-9e03-f13cf13bec19\n",
            "Order Status: OrderStatus.NEW\n",
            "Update for order 3979759d-fbc3-4a92-bf6d-aea3851cd137\n",
            "Order Status: OrderStatus.PARTIALLY_FILLED\n",
            "Filled: OrderSide.BUY 1.0 AMD at 114.26\n",
            "Total Filled: 6/None AMD\n",
            "Submit Take Profit OrderSide.SELL Order for AMD with ID 3979759d-fbc3-4a92-bf6d-aea3851cd137 at 115.4\n",
            "Update for order 3979759d-fbc3-4a92-bf6d-aea3851cd137\n",
            "Order Status: OrderStatus.PARTIALLY_FILLED\n",
            "Filled: OrderSide.BUY 1.751969193 AMD at 114.26\n",
            "Total Filled: 7.751969193/None AMD\n",
            "Submit Take Profit OrderSide.SELL Order for AMD with ID 3979759d-fbc3-4a92-bf6d-aea3851cd137 at 115.4\n",
            "Update for order 3979759d-fbc3-4a92-bf6d-aea3851cd137\n",
            "Order Status: OrderStatus.FILLED\n",
            "Filled: OrderSide.BUY 1.0 AMD at 114.26\n",
            "Total Filled: 8.751969193/None AMD\n",
            "Submit Take Profit OrderSide.SELL Order for AMD with ID 3979759d-fbc3-4a92-bf6d-aea3851cd137 at 115.4\n",
            "Update for order aa477682-6970-4017-a754-d9ad11631db7\n",
            "Order Status: OrderStatus.PENDING_NEW\n",
            "Update for order aa477682-6970-4017-a754-d9ad11631db7\n",
            "Order Status: OrderStatus.NEW\n",
            "Update for order e4d6b646-de5c-49a4-8064-578c9fd05ec7\n",
            "Order Status: OrderStatus.PENDING_NEW\n",
            "Update for order e4d6b646-de5c-49a4-8064-578c9fd05ec7\n",
            "Order Status: OrderStatus.NEW\n",
            "Update for order 52de0e33-30c1-4cfb-9f39-dbbc762c7250\n",
            "Order Status: OrderStatus.PENDING_NEW\n",
            "Update for order 52de0e33-30c1-4cfb-9f39-dbbc762c7250\n",
            "Order Status: OrderStatus.NEW\n",
            "Update for order 636e5c83-35aa-4149-a65f-769d04345d48\n",
            "Order Status: OrderStatus.PENDING_NEW\n",
            "Update for order 636e5c83-35aa-4149-a65f-769d04345d48\n",
            "Order Status: OrderStatus.NEW\n",
            "Update for order 636e5c83-35aa-4149-a65f-769d04345d48\n",
            "Order Status: OrderStatus.PARTIALLY_FILLED\n",
            "Filled: OrderSide.BUY 3.0 AMD at 114.26\n",
            "Total Filled: 3/None AMD\n",
            "Submit Take Profit OrderSide.SELL Order for AMD with ID 636e5c83-35aa-4149-a65f-769d04345d48 at 115.4\n",
            "Update for order 636e5c83-35aa-4149-a65f-769d04345d48\n",
            "Order Status: OrderStatus.PARTIALLY_FILLED\n",
            "Filled: OrderSide.BUY 1.0 AMD at 114.26\n",
            "Total Filled: 4/None AMD\n",
            "Submit Take Profit OrderSide.SELL Order for AMD with ID 636e5c83-35aa-4149-a65f-769d04345d48 at 115.4\n",
            "Update for order 87ecb470-5b0c-4783-9f0e-08a381230d39\n",
            "Order Status: OrderStatus.PENDING_NEW\n",
            "Update for order 87ecb470-5b0c-4783-9f0e-08a381230d39\n",
            "Order Status: OrderStatus.NEW\n",
            "Update for order c939bc9b-09b9-42d0-9976-d1b463689b1a\n",
            "Order Status: OrderStatus.PENDING_NEW\n",
            "Update for order c939bc9b-09b9-42d0-9976-d1b463689b1a\n",
            "Order Status: OrderStatus.NEW\n",
            "Update for order 636e5c83-35aa-4149-a65f-769d04345d48\n",
            "Order Status: OrderStatus.PARTIALLY_FILLED\n",
            "Filled: OrderSide.BUY 1.0 AMD at 114.3\n",
            "Total Filled: 5/None AMD\n",
            "Submit Take Profit OrderSide.SELL Order for AMD with ID 636e5c83-35aa-4149-a65f-769d04345d48 at 115.44\n",
            "Update for order 636e5c83-35aa-4149-a65f-769d04345d48\n",
            "Order Status: OrderStatus.PARTIALLY_FILLED\n",
            "Filled: OrderSide.BUY 1.0 AMD at 114.3\n",
            "Total Filled: 6/None AMD\n",
            "Submit Take Profit OrderSide.SELL Order for AMD with ID 636e5c83-35aa-4149-a65f-769d04345d48 at 115.44\n",
            "Update for order 8615ef0e-6563-4cff-b965-b8a83f17880a\n",
            "Order Status: OrderStatus.PENDING_NEW\n",
            "Update for order 8615ef0e-6563-4cff-b965-b8a83f17880a\n",
            "Order Status: OrderStatus.NEW\n",
            "Update for order daf2c5c3-2210-4825-a6b7-e7264b83f99e\n",
            "Order Status: OrderStatus.PENDING_NEW\n",
            "Update for order daf2c5c3-2210-4825-a6b7-e7264b83f99e\n",
            "Order Status: OrderStatus.NEW\n",
            "Update for order 636e5c83-35aa-4149-a65f-769d04345d48\n",
            "Order Status: OrderStatus.PARTIALLY_FILLED\n",
            "Filled: OrderSide.BUY 1.750306211 AMD at 114.3\n",
            "Total Filled: 7.750306211/None AMD\n",
            "Submit Take Profit OrderSide.SELL Order for AMD with ID 636e5c83-35aa-4149-a65f-769d04345d48 at 115.44\n",
            "Update for order 636e5c83-35aa-4149-a65f-769d04345d48\n",
            "Order Status: OrderStatus.FILLED\n",
            "Filled: OrderSide.BUY 1.0 AMD at 114.3\n",
            "Total Filled: 8.750306211/None AMD\n",
            "Submit Take Profit OrderSide.SELL Order for AMD with ID 636e5c83-35aa-4149-a65f-769d04345d48 at 115.44\n",
            "Update for order 60d082e7-b063-452c-a080-f339f244d304\n",
            "Order Status: OrderStatus.PENDING_NEW\n",
            "Update for order 60d082e7-b063-452c-a080-f339f244d304\n",
            "Order Status: OrderStatus.NEW\n",
            "Update for order 7d77065f-910c-4464-a959-d66ddab930a3\n",
            "Order Status: OrderStatus.PENDING_NEW\n",
            "Update for order 7d77065f-910c-4464-a959-d66ddab930a3\n",
            "Order Status: OrderStatus.NEW\n"
          ]
        }
      ],
      "source": [
        "trading_stream.subscribe_trade_updates(on_order_update)\n",
        "trading_stream.run()"
      ]
    },
    {
      "cell_type": "markdown",
      "metadata": {
        "id": "gsm_GB7EGWdj"
      },
      "source": [
        "# Example 3"
      ]
    },
    {
      "cell_type": "markdown",
      "metadata": {
        "id": "4LYjRhMMK9SU"
      },
      "source": [
        "### Now Let's Combine TradingStream + StockDataStream\n",
        "* With a less rigid takeProfit meaning one that can be flexible based on some trade logic and not just 1 pct\n",
        "Let's make a dummy strategy where we will\n",
        "* Market Buy with a 2% take profit on second 1-minute bar\n",
        "* Market Buy with a 3% take profit on third 1-minute dollar bar\n",
        "* No buy orders after :)\n",
        "**IMPORTANT** Due to Fact OrderIds are Replaced for \"Replaced/Modified\" Orders This should be Handled with Care in Those Cases!!!!\n",
        "-- Perhaps a possible solution is to link it back up the orderID chain!"
      ]
    },
    {
      "cell_type": "code",
      "execution_count": null,
      "metadata": {
        "id": "eP9uCMko0zAv"
      },
      "outputs": [],
      "source": [
        "import asyncio\n",
        "import numpy as np\n",
        "from alpaca.trading.models import TradeUpdate\n",
        "from alpaca.trading.enums import OrderStatus, OrderSide\n",
        "from alpaca.trading.requests import LimitOrderRequest\n",
        "from alpaca.trading.enums import TimeInForce\n",
        "\n",
        "trading_stream = TradingStream(ALPACA_API_KEY, ALPACA_API_SECRET)\n",
        "\n",
        "orders_to_tp_pct  = {}\n",
        "bar_number  = 0\n",
        "\n",
        "async def on_order_update(trade_event:TradeUpdate):\n",
        "    global orders_to_tp_pct\n",
        "    global bar_number\n",
        "    order_id = trade_event.order.id\n",
        "    status = trade_event.order.status\n",
        "    side = trade_event.order.side\n",
        "    qty_filled = trade_event.qty\n",
        "    price_filled = trade_event.price\n",
        "    cum_filled = trade_event.order.filled_qty\n",
        "    total_qty = trade_event.order.qty\n",
        "    symbol = trade_event.order.symbol\n",
        "    print(f\"Update for order {trade_event.order.id}\")\n",
        "    print(f\"Order Status: {status}\")\n",
        "    if status in [OrderStatus.FILLED,OrderStatus.PARTIALLY_FILLED] and side == OrderSide.BUY:\n",
        "        print(f\"Filled: {side} {qty_filled} {symbol} at {price_filled}\")\n",
        "        print(f\"Total Filled: {cum_filled}/{total_qty} {symbol}\")\n",
        "        tp_price = np.round((1+orders_to_tp_pct[order_id])*price_filled,2)\n",
        "        tp_order = LimitOrderRequest(\n",
        "            symbol=symbol,\n",
        "            qty=qty_filled,\n",
        "            side=OrderSide.SELL,\n",
        "            limit_price=tp_price,\n",
        "            time_in_force=TimeInForce.DAY,\n",
        "            extended_hours=True)\n",
        "        tp_order = trading_client.submit_order(tp_order)\n",
        "        print(f\"Submit {tp_pct:.0%} Take Profit {OrderSide.SELL} Order for {symbol} with ID {trade_event.order.id} at {tp_price}\")\n",
        "\n",
        "\n",
        "\n",
        "\n",
        "\n",
        "\n",
        "trading_stream.subscribe_trade_updates(on_order_update)"
      ]
    },
    {
      "cell_type": "markdown",
      "metadata": {
        "id": "0lxjo5ir3sdU"
      },
      "source": [
        "### Define Stock Data Stream Part"
      ]
    },
    {
      "cell_type": "code",
      "execution_count": null,
      "metadata": {
        "id": "siNrpX7A3sWt"
      },
      "outputs": [],
      "source": [
        "from alpaca.data.live import StockDataStream\n",
        "from alpaca.data.requests import StockLatestQuoteRequest\n",
        "from alpaca.data.enums import DataFeed\n",
        "stock_data_stream  = StockDataStream(ALPACA_API_KEY, ALPACA_API_SECRET,feed=DataFeed.SIP)"
      ]
    },
    {
      "cell_type": "markdown",
      "metadata": {
        "id": "wnXsNyue3xmj"
      },
      "source": [
        "#### Couroutine"
      ]
    },
    {
      "cell_type": "code",
      "execution_count": null,
      "metadata": {
        "id": "nXGrytg34EGA"
      },
      "outputs": [],
      "source": [
        "from alpaca.trading.requests import MarketOrderRequest\n",
        "from alpaca.trading.enums import OrderSide, TimeInForce\n",
        "async def on_1min_bar(bar):\n",
        "    global orders_to_tp_pct\n",
        "    global bar_number\n",
        "    if bar_number<=10:\n",
        "      bar_number+=1\n",
        "      print(f\" Bar #:{bar_number}\")\n",
        "      print(bar)\n",
        "    if bar_number>=2 and bar_number<=3:\n",
        "        market_order_request = MarketOrderRequest(\n",
        "            symbol=\"AMD\",\n",
        "            notional=1000,\n",
        "            side=OrderSide.BUY,\n",
        "            time_in_force=TimeInForce.DAY\n",
        "        )\n",
        "        order=trading_client.submit_order(\n",
        "            order_data=market_order_request\n",
        "        )\n",
        "        orders_to_tp_pct[order.id] = bar_number/100\n",
        "\n"
      ]
    },
    {
      "cell_type": "markdown",
      "metadata": {
        "id": "ZHfFT5PbFijm"
      },
      "source": [
        "### Subscribe to 1 min bar updates"
      ]
    },
    {
      "cell_type": "code",
      "execution_count": null,
      "metadata": {
        "id": "9-omMf9VFkUO"
      },
      "outputs": [],
      "source": [
        "stock_data_stream.subscribe_bars(on_1min_bar, \"AMD\")"
      ]
    },
    {
      "cell_type": "code",
      "execution_count": null,
      "metadata": {
        "colab": {
          "background_save": true,
          "base_uri": "https://localhost:8080/"
        },
        "id": "1cbnQo2JYCp0",
        "outputId": "20015040-b9e0-403f-f7c9-ebeec5aa1111"
      },
      "outputs": [
        {
          "metadata": {
            "tags": null
          },
          "name": "stdout",
          "output_type": "stream",
          "text": [
            " Bar #:1\n",
            "symbol='AMD' timestamp=datetime.datetime(2025, 4, 28, 11, 14, tzinfo=datetime.timezone.utc) open=95.63 high=95.63 low=95.63 close=95.63 volume=212.0 trade_count=9.0 vwap=95.63\n",
            "Update for order 97b8c77f-f83b-4693-b493-3b556bba3319\n",
            "Order Status: OrderStatus.PENDING_NEW\n",
            "Update for order 97b8c77f-f83b-4693-b493-3b556bba3319\n",
            "Order Status: OrderStatus.NEW\n"
          ]
        },
        {
          "metadata": {
            "tags": null
          },
          "name": "stderr",
          "output_type": "stream",
          "text": [
            "ERROR:alpaca.trading.stream:error during websocket communication: UUID('97b8c77f-f83b-4693-b493-3b556bba3319')\n",
            "Traceback (most recent call last):\n",
            "  File \"/usr/local/lib/python3.11/dist-packages/alpaca/trading/stream.py\", line 173, in _run_forever\n",
            "    await self._consume()\n",
            "  File \"/usr/local/lib/python3.11/dist-packages/alpaca/trading/stream.py\", line 146, in _consume\n",
            "    await self._dispatch(msg)\n",
            "  File \"/usr/local/lib/python3.11/dist-packages/alpaca/trading/stream.py\", line 90, in _dispatch\n",
            "    await self._trade_updates_handler(self._cast(msg))\n",
            "  File \"<ipython-input-12-16ce78ef2267>\", line 29, in on_order_update\n",
            "    tp_price = np.round((1+orders_to_tp_pct[order_id])*price_filled,2)\n",
            "                           ~~~~~~~~~~~~~~~~^^^^^^^^^^\n",
            "KeyError: UUID('97b8c77f-f83b-4693-b493-3b556bba3319')\n"
          ]
        },
        {
          "metadata": {
            "tags": null
          },
          "name": "stdout",
          "output_type": "stream",
          "text": [
            "Update for order 97b8c77f-f83b-4693-b493-3b556bba3319\n",
            "Order Status: OrderStatus.PARTIALLY_FILLED\n",
            "Filled: OrderSide.BUY 6.0 AMD at 95.69\n",
            "Total Filled: 6/None AMD\n",
            " Bar #:2\n",
            "symbol='AMD' timestamp=datetime.datetime(2025, 4, 28, 11, 15, tzinfo=datetime.timezone.utc) open=95.6 high=95.6 low=95.6 close=95.6 volume=1056.0 trade_count=11.0 vwap=95.6\n",
            " Bar #:3\n",
            "symbol='AMD' timestamp=datetime.datetime(2025, 4, 28, 11, 16, tzinfo=datetime.timezone.utc) open=95.51 high=95.52 low=95.5 close=95.5 volume=2456.0 trade_count=39.0 vwap=95.505437\n",
            " Bar #:4\n",
            "symbol='AMD' timestamp=datetime.datetime(2025, 4, 28, 11, 17, tzinfo=datetime.timezone.utc) open=95.5 high=95.6 low=95.5 close=95.6 volume=2913.0 trade_count=50.0 vwap=95.506897\n",
            " Bar #:5\n",
            "symbol='AMD' timestamp=datetime.datetime(2025, 4, 28, 11, 18, tzinfo=datetime.timezone.utc) open=95.57 high=95.57 low=95.57 close=95.57 volume=1025.0 trade_count=16.0 vwap=95.57\n",
            " Bar #:6\n",
            "symbol='AMD' timestamp=datetime.datetime(2025, 4, 28, 11, 20, tzinfo=datetime.timezone.utc) open=95.51 high=95.51 low=95.45 close=95.45 volume=4277.0 trade_count=53.0 vwap=95.499002\n",
            " Bar #:7\n",
            "symbol='AMD' timestamp=datetime.datetime(2025, 4, 28, 11, 21, tzinfo=datetime.timezone.utc) open=95.44 high=95.44 low=95.44 close=95.44 volume=388.0 trade_count=16.0 vwap=95.44\n",
            " Bar #:8\n",
            "symbol='AMD' timestamp=datetime.datetime(2025, 4, 28, 11, 22, tzinfo=datetime.timezone.utc) open=95.5 high=95.5 low=95.5 close=95.5 volume=245.0 trade_count=8.0 vwap=95.5\n",
            " Bar #:9\n",
            "symbol='AMD' timestamp=datetime.datetime(2025, 4, 28, 11, 23, tzinfo=datetime.timezone.utc) open=95.49 high=95.49 low=95.49 close=95.49 volume=395.0 trade_count=13.0 vwap=95.49\n",
            " Bar #:10\n",
            "symbol='AMD' timestamp=datetime.datetime(2025, 4, 28, 11, 25, tzinfo=datetime.timezone.utc) open=95.65 high=95.69 low=95.65 close=95.69 volume=1092.0 trade_count=27.0 vwap=95.67\n",
            " Bar #:11\n",
            "symbol='AMD' timestamp=datetime.datetime(2025, 4, 28, 11, 27, tzinfo=datetime.timezone.utc) open=95.69 high=95.74 low=95.69 close=95.71 volume=507.0 trade_count=13.0 vwap=95.713125\n"
          ]
        }
      ],
      "source": [
        "import asyncio\n",
        "await asyncio.gather(*[stock_data_stream._run_forever(),trading_stream._run_forever()])"
      ]
    },
    {
      "cell_type": "code",
      "execution_count": null,
      "metadata": {
        "id": "gdv7PZBF9BVu"
      },
      "outputs": [],
      "source": [
        "import asyncio\n",
        "import numpy as np\n",
        "from alpaca.trading.models import TradeUpdate\n",
        "from alpaca.trading.enums import OrderStatus, OrderSide, TimeInForce\n",
        "from alpaca.trading.requests import LimitOrderRequest, MarketOrderRequest\n",
        "from alpaca.data.live import StockDataStream\n",
        "from alpaca.data.enums import DataFeed\n",
        "\n",
        "class SimpleTrader:\n",
        "    def __init__(self, api_key: str, api_secret: str, symbol: str = \"AMD\"):\n",
        "        from alpaca.trading.client import TradingClient\n",
        "        from alpaca.trading.stream import TradingStream\n",
        "\n",
        "        self.symbol = symbol\n",
        "        self.orders_to_tp_pct = {}\n",
        "        self.bar_number = 0\n",
        "\n",
        "        self.trading_client = TradingClient(api_key, api_secret, paper=True)\n",
        "        self.trading_stream = TradingStream(api_key, api_secret)\n",
        "        self.stock_data_stream = StockDataStream(api_key, api_secret, feed=DataFeed.SIP)\n",
        "\n",
        "    async def on_order_update(self, trade_event: TradeUpdate):\n",
        "        order_id = trade_event.order.id\n",
        "        status = trade_event.order.status\n",
        "        side = trade_event.order.side\n",
        "        qty_filled = trade_event.qty\n",
        "        price_filled = trade_event.price\n",
        "        cum_filled = trade_event.order.filled_qty\n",
        "        total_qty = trade_event.order.qty\n",
        "        symbol = trade_event.order.symbol\n",
        "\n",
        "        print(f\"Update for order {order_id}\")\n",
        "        print(f\"Order Status: {status}\")\n",
        "\n",
        "        if status in [OrderStatus.FILLED, OrderStatus.PARTIALLY_FILLED] and side == OrderSide.BUY:\n",
        "            print(f\"Filled: {side} {qty_filled} {symbol} at {price_filled}\")\n",
        "            print(f\"Total Filled: {cum_filled}/{total_qty} {symbol}\")\n",
        "\n",
        "            tp_pct = self.orders_to_tp_pct.get(order_id, 0.02)  # default 2% if not found\n",
        "            tp_price = np.round((1 + tp_pct) * price_filled, 2)\n",
        "\n",
        "            tp_order_request = LimitOrderRequest(\n",
        "                symbol=symbol,\n",
        "                qty=qty_filled,\n",
        "                side=OrderSide.SELL,\n",
        "                limit_price=tp_price,\n",
        "                time_in_force=TimeInForce.DAY,\n",
        "                extended_hours=True\n",
        "            )\n",
        "\n",
        "            self.trading_client.submit_order(tp_order_request)\n",
        "\n",
        "            print(f\"Submitted {tp_pct:.0%} Take Profit SELL Order for {symbol} at {tp_price}\")\n",
        "\n",
        "    async def on_1min_bar(self, bar):\n",
        "        if self.bar_number <= 10:\n",
        "            self.bar_number += 1\n",
        "            print(f\"Bar #{self.bar_number}\")\n",
        "            print(bar)\n",
        "\n",
        "        if 2 <= self.bar_number <= 3:\n",
        "            market_order_request = MarketOrderRequest(\n",
        "                symbol=self.symbol,\n",
        "                notional=1000,\n",
        "                side=OrderSide.BUY,\n",
        "                time_in_force=TimeInForce.DAY\n",
        "            )\n",
        "\n",
        "            order = self.trading_client.submit_order(market_order_request)\n",
        "            self.orders_to_tp_pct[order.id] = self.bar_number / 100\n",
        "\n",
        "    async def run(self):\n",
        "        self.trading_stream.subscribe_trade_updates(self.on_order_update)\n",
        "        self.stock_data_stream.subscribe_bars(self.on_1min_bar, self.symbol)\n",
        "\n",
        "        await asyncio.gather(\n",
        "            self.trading_stream._run_forever(),\n",
        "            self.stock_data_stream._run_forever()\n",
        "        )\n",
        "\n",
        "# === Usage Example ===\n",
        "\n",
        "# Replace these with your actual keys\n",
        "ALPACA_API_KEY = \"your_api_key\"\n",
        "ALPACA_API_SECRET = \"your_api_secret\"\n",
        "\n",
        "trader = SimpleTrader(ALPACA_API_KEY, ALPACA_API_SECRET)\n",
        "\n",
        "asyncio.run(trader.run())\n"
      ]
    }
  ],
  "metadata": {
    "colab": {
      "provenance": [],
      "authorship_tag": "ABX9TyOxEbBF635JdBhxnzJR8N8y",
      "include_colab_link": true
    },
    "kernelspec": {
      "display_name": "Python 3",
      "name": "python3"
    },
    "language_info": {
      "name": "python"
    }
  },
  "nbformat": 4,
  "nbformat_minor": 0
}