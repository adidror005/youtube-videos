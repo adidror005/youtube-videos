{
  "nbformat": 4,
  "nbformat_minor": 0,
  "metadata": {
    "colab": {
      "provenance": [],
      "authorship_tag": "ABX9TyOaBLUDoaLA1ii8VbwipnCP",
      "include_colab_link": true
    },
    "kernelspec": {
      "name": "python3",
      "display_name": "Python 3"
    },
    "language_info": {
      "name": "python"
    }
  },
  "cells": [
    {
      "cell_type": "markdown",
      "metadata": {
        "id": "view-in-github",
        "colab_type": "text"
      },
      "source": [
        "<a href=\"https://colab.research.google.com/github/adidror005/youtube-videos/blob/main/MultiLegOptionsYouTubeVideo.ipynb\" target=\"_parent\"><img src=\"https://colab.research.google.com/assets/colab-badge.svg\" alt=\"Open In Colab\"/></a>"
      ]
    },
    {
      "cell_type": "markdown",
      "source": [
        "# Setup\n",
        "\n",
        "\n",
        "### Install Alpaca-Py SDK"
      ],
      "metadata": {
        "id": "1ttkGrIf7jFV"
      }
    },
    {
      "cell_type": "code",
      "execution_count": 8,
      "metadata": {
        "id": "o5D5DZyJmI3g",
        "colab": {
          "base_uri": "https://localhost:8080/"
        },
        "outputId": "373e9618-8ce5-485b-8c08-f8f2d71913ce"
      },
      "outputs": [
        {
          "output_type": "stream",
          "name": "stdout",
          "text": [
            "Requirement already satisfied: alpaca-py in /usr/local/lib/python3.11/dist-packages (0.40.1)\n",
            "Requirement already satisfied: msgpack<2.0.0,>=1.0.3 in /usr/local/lib/python3.11/dist-packages (from alpaca-py) (1.1.0)\n",
            "Requirement already satisfied: pandas>=1.5.3 in /usr/local/lib/python3.11/dist-packages (from alpaca-py) (2.2.2)\n",
            "Requirement already satisfied: pydantic<3.0.0,>=2.0.3 in /usr/local/lib/python3.11/dist-packages (from alpaca-py) (2.11.4)\n",
            "Requirement already satisfied: requests<3.0.0,>=2.30.0 in /usr/local/lib/python3.11/dist-packages (from alpaca-py) (2.32.3)\n",
            "Requirement already satisfied: sseclient-py<2.0.0,>=1.7.2 in /usr/local/lib/python3.11/dist-packages (from alpaca-py) (1.8.0)\n",
            "Requirement already satisfied: websockets>=10.4 in /usr/local/lib/python3.11/dist-packages (from alpaca-py) (15.0.1)\n",
            "Requirement already satisfied: numpy>=1.23.2 in /usr/local/lib/python3.11/dist-packages (from pandas>=1.5.3->alpaca-py) (2.0.2)\n",
            "Requirement already satisfied: python-dateutil>=2.8.2 in /usr/local/lib/python3.11/dist-packages (from pandas>=1.5.3->alpaca-py) (2.9.0.post0)\n",
            "Requirement already satisfied: pytz>=2020.1 in /usr/local/lib/python3.11/dist-packages (from pandas>=1.5.3->alpaca-py) (2025.2)\n",
            "Requirement already satisfied: tzdata>=2022.7 in /usr/local/lib/python3.11/dist-packages (from pandas>=1.5.3->alpaca-py) (2025.2)\n",
            "Requirement already satisfied: annotated-types>=0.6.0 in /usr/local/lib/python3.11/dist-packages (from pydantic<3.0.0,>=2.0.3->alpaca-py) (0.7.0)\n",
            "Requirement already satisfied: pydantic-core==2.33.2 in /usr/local/lib/python3.11/dist-packages (from pydantic<3.0.0,>=2.0.3->alpaca-py) (2.33.2)\n",
            "Requirement already satisfied: typing-extensions>=4.12.2 in /usr/local/lib/python3.11/dist-packages (from pydantic<3.0.0,>=2.0.3->alpaca-py) (4.13.2)\n",
            "Requirement already satisfied: typing-inspection>=0.4.0 in /usr/local/lib/python3.11/dist-packages (from pydantic<3.0.0,>=2.0.3->alpaca-py) (0.4.1)\n",
            "Requirement already satisfied: charset-normalizer<4,>=2 in /usr/local/lib/python3.11/dist-packages (from requests<3.0.0,>=2.30.0->alpaca-py) (3.4.2)\n",
            "Requirement already satisfied: idna<4,>=2.5 in /usr/local/lib/python3.11/dist-packages (from requests<3.0.0,>=2.30.0->alpaca-py) (3.10)\n",
            "Requirement already satisfied: urllib3<3,>=1.21.1 in /usr/local/lib/python3.11/dist-packages (from requests<3.0.0,>=2.30.0->alpaca-py) (2.4.0)\n",
            "Requirement already satisfied: certifi>=2017.4.17 in /usr/local/lib/python3.11/dist-packages (from requests<3.0.0,>=2.30.0->alpaca-py) (2025.4.26)\n",
            "Requirement already satisfied: six>=1.5 in /usr/local/lib/python3.11/dist-packages (from python-dateutil>=2.8.2->pandas>=1.5.3->alpaca-py) (1.17.0)\n"
          ]
        }
      ],
      "source": [
        "!pip install alpaca-py"
      ]
    },
    {
      "cell_type": "markdown",
      "source": [
        "### Grab API Key + API Secret"
      ],
      "metadata": {
        "id": "IRC-UoT-7qPk"
      }
    },
    {
      "cell_type": "code",
      "source": [
        "from google.colab import userdata\n",
        "ALPACA_API_KEY=userdata.get('ALPACA_API_KEY')\n",
        "ALPACA_SECRET_KEY=userdata.get('ALPACA_API_SECRET')"
      ],
      "metadata": {
        "id": "GXuztYit6s9_"
      },
      "execution_count": 9,
      "outputs": []
    },
    {
      "cell_type": "markdown",
      "source": [
        "### Initialize Trading Client"
      ],
      "metadata": {
        "id": "j99IJqoB7tM2"
      }
    },
    {
      "cell_type": "code",
      "source": [
        "from alpaca.trading.client import TradingClient\n",
        "trading_client = TradingClient(ALPACA_API_KEY, ALPACA_SECRET_KEY,paper=True)"
      ],
      "metadata": {
        "id": "7ZfgrYG56pbb"
      },
      "execution_count": 11,
      "outputs": []
    },
    {
      "cell_type": "markdown",
      "source": [
        "### Look at Open Orders"
      ],
      "metadata": {
        "id": "lfu4mb92mV8G"
      }
    },
    {
      "cell_type": "code",
      "source": [
        "trading_client.get_orders()"
      ],
      "metadata": {
        "id": "DlftJqFKmX7U",
        "colab": {
          "base_uri": "https://localhost:8080/"
        },
        "outputId": "735e07f5-4ee9-40be-c036-283249639dd3"
      },
      "execution_count": 12,
      "outputs": [
        {
          "output_type": "execute_result",
          "data": {
            "text/plain": [
              "[]"
            ]
          },
          "metadata": {},
          "execution_count": 12
        }
      ]
    },
    {
      "cell_type": "markdown",
      "source": [
        "# Utility Function to Get Option Symbols"
      ],
      "metadata": {
        "id": "KsOd91Ch4gl2"
      }
    },
    {
      "cell_type": "code",
      "source": [
        "from alpaca.trading.requests import GetOptionContractsRequest\n",
        "from alpaca.trading.enums import ContractType\n",
        "def get_option_symbol(underlying_symbol, expiry, strike, option_type):\n",
        "    option_contracts = trading_client.get_option_contracts(\n",
        "        GetOptionContractsRequest(\n",
        "            underlying_symbols=[underlying_symbol],\n",
        "            expiration_date=expiry,\n",
        "            strike_price_gte=str(strike),\n",
        "            strike_price_lte=str(strike),\n",
        "            type=option_type\n",
        "        )\n",
        "    ).option_contracts\n",
        "\n",
        "    if len(option_contracts) != 1:\n",
        "        raise ValueError(\"Did not find exactly 1 unique contract.\")\n",
        "    return option_contracts[0].symbol\n",
        "get_option_symbol(\"AMD\",\"2025-05-30\",120,\"call\"),get_option_symbol(\"AMD\",\"2025-06-06\",100,\"call\")"
      ],
      "metadata": {
        "colab": {
          "base_uri": "https://localhost:8080/"
        },
        "id": "b37TUz5upGq3",
        "outputId": "0b5edf0b-f62a-46a1-ab02-2bf6dbf8b477"
      },
      "execution_count": 15,
      "outputs": [
        {
          "output_type": "execute_result",
          "data": {
            "text/plain": [
              "('AMD250530C00120000', 'AMD250606C00100000')"
            ]
          },
          "metadata": {},
          "execution_count": 15
        }
      ]
    },
    {
      "cell_type": "markdown",
      "source": [
        "### Define The Legs of the Contract (i.e. for Diagonal Call Spread)\n",
        "* symbol\n",
        "* side\n",
        "* ratio_qty\n"
      ],
      "metadata": {
        "id": "66FnxP6zmpFp"
      }
    },
    {
      "cell_type": "code",
      "source": [
        "from alpaca.trading.requests import OptionLegRequest\n",
        "from alpaca.trading.enums import OrderSide\n",
        "\n",
        "legs = [OptionLegRequest(symbol='AMD250606C00100000',\n",
        "                         ratio_qty=1,side=OrderSide.BUY),\n",
        "        OptionLegRequest(symbol='AMD250530C00120000',\n",
        "                         ratio_qty=1,side=OrderSide.SELL)]\n",
        "\n",
        ""
      ],
      "metadata": {
        "id": "c8vAKd6dokxt"
      },
      "execution_count": 21,
      "outputs": []
    },
    {
      "cell_type": "markdown",
      "source": [
        "### Define Order Request and Submit Order\n",
        "* order_class = OrderClass.MLEG\n",
        "* legs = list[OptionLegRequest]\n",
        "* Note: what is cool is we can define our own id via the *client_id* so we can manage IDs ourselves.\n"
      ],
      "metadata": {
        "id": "7dspLo8k5zUx"
      }
    },
    {
      "cell_type": "code",
      "source": [
        "from alpaca.trading.requests import LimitOrderRequest, MarketOrderRequest\n",
        "from alpaca.trading.enums import OrderSide, OrderClass, TimeInForce\n",
        "\n",
        "limit_order_request = LimitOrderRequest(\n",
        "    qty=1,\n",
        "    order_class = OrderClass.MLEG,\n",
        "    legs=legs,\n",
        "    time_in_force=TimeInForce.DAY,\n",
        "    limit_price = 5,\n",
        "    )\n",
        "\n",
        "order=trading_client.submit_order(\n",
        "    order_data=limit_order_request\n",
        ")"
      ],
      "metadata": {
        "id": "fcsdaffpmtXD"
      },
      "execution_count": 43,
      "outputs": []
    },
    {
      "cell_type": "code",
      "source": [
        "order.id"
      ],
      "metadata": {
        "id": "JewdyqkM9-B3",
        "outputId": "d1901935-1075-4fcc-99a5-c48dee2296ee",
        "colab": {
          "base_uri": "https://localhost:8080/"
        }
      },
      "execution_count": 45,
      "outputs": [
        {
          "output_type": "execute_result",
          "data": {
            "text/plain": [
              "UUID('6397e245-2626-4ac5-a712-b2c4c1ec4494')"
            ]
          },
          "metadata": {},
          "execution_count": 45
        }
      ]
    },
    {
      "cell_type": "markdown",
      "source": [
        "## Get Order By Id"
      ],
      "metadata": {
        "id": "V3-ofqPw-Bac"
      }
    },
    {
      "cell_type": "code",
      "source": [
        "trading_client.get_order_by_id(order.id)"
      ],
      "metadata": {
        "id": "zWbAwfJF-BSq",
        "outputId": "25151fa0-e260-460e-ad8a-ba18894d75cf",
        "colab": {
          "base_uri": "https://localhost:8080/"
        }
      },
      "execution_count": 48,
      "outputs": [
        {
          "output_type": "execute_result",
          "data": {
            "text/plain": [
              "{   'asset_class': None,\n",
              "    'asset_id': None,\n",
              "    'canceled_at': None,\n",
              "    'client_order_id': 'f79a8a3e-eda8-4254-9f67-53c9219419ae',\n",
              "    'created_at': datetime.datetime(2025, 5, 29, 16, 54, 53, 916329, tzinfo=TzInfo(UTC)),\n",
              "    'expired_at': None,\n",
              "    'expires_at': None,\n",
              "    'extended_hours': False,\n",
              "    'failed_at': None,\n",
              "    'filled_at': None,\n",
              "    'filled_avg_price': None,\n",
              "    'filled_qty': '0',\n",
              "    'hwm': None,\n",
              "    'id': UUID('6397e245-2626-4ac5-a712-b2c4c1ec4494'),\n",
              "    'legs': [   {   'asset_class': <AssetClass.US_OPTION: 'us_option'>,\n",
              "                    'asset_id': UUID('cccb90a8-170b-447a-ac02-a5a1ef74c088'),\n",
              "                    'canceled_at': None,\n",
              "                    'client_order_id': 'a2a737fd-e3ce-4253-9857-1d50e1a14cb6',\n",
              "                    'created_at': datetime.datetime(2025, 5, 29, 16, 54, 53, 916329, tzinfo=TzInfo(UTC)),\n",
              "                    'expired_at': None,\n",
              "                    'expires_at': datetime.datetime(2025, 5, 29, 20, 0, tzinfo=TzInfo(UTC)),\n",
              "                    'extended_hours': False,\n",
              "                    'failed_at': None,\n",
              "                    'filled_at': None,\n",
              "                    'filled_avg_price': None,\n",
              "                    'filled_qty': '0',\n",
              "                    'hwm': None,\n",
              "                    'id': UUID('d1b96477-879d-4801-8cb4-1c1cf376c4c1'),\n",
              "                    'legs': None,\n",
              "                    'limit_price': None,\n",
              "                    'notional': None,\n",
              "                    'order_class': <OrderClass.MLEG: 'mleg'>,\n",
              "                    'order_type': <OrderType.LIMIT: 'limit'>,\n",
              "                    'position_intent': <PositionIntent.BUY_TO_OPEN: 'buy_to_open'>,\n",
              "                    'qty': '1',\n",
              "                    'ratio_qty': '1',\n",
              "                    'replaced_at': datetime.datetime(2025, 5, 29, 16, 57, 51, 701415, tzinfo=TzInfo(UTC)),\n",
              "                    'replaced_by': UUID('dab17ad8-c2e9-46d2-ad01-de9bcce03fe4'),\n",
              "                    'replaces': None,\n",
              "                    'side': <OrderSide.BUY: 'buy'>,\n",
              "                    'status': <OrderStatus.REPLACED: 'replaced'>,\n",
              "                    'stop_price': None,\n",
              "                    'submitted_at': datetime.datetime(2025, 5, 29, 16, 54, 53, 922744, tzinfo=TzInfo(UTC)),\n",
              "                    'symbol': 'AMD250606C00100000',\n",
              "                    'time_in_force': <TimeInForce.DAY: 'day'>,\n",
              "                    'trail_percent': None,\n",
              "                    'trail_price': None,\n",
              "                    'type': <OrderType.LIMIT: 'limit'>,\n",
              "                    'updated_at': datetime.datetime(2025, 5, 29, 16, 57, 51, 703188, tzinfo=TzInfo(UTC))},\n",
              "                {   'asset_class': <AssetClass.US_OPTION: 'us_option'>,\n",
              "                    'asset_id': UUID('c2c8bf22-b941-4ba3-81cb-fbb948110ca6'),\n",
              "                    'canceled_at': None,\n",
              "                    'client_order_id': '958815cb-d6c0-41ba-840b-8b7fea80a33f',\n",
              "                    'created_at': datetime.datetime(2025, 5, 29, 16, 54, 53, 916329, tzinfo=TzInfo(UTC)),\n",
              "                    'expired_at': None,\n",
              "                    'expires_at': datetime.datetime(2025, 5, 29, 20, 0, tzinfo=TzInfo(UTC)),\n",
              "                    'extended_hours': False,\n",
              "                    'failed_at': None,\n",
              "                    'filled_at': None,\n",
              "                    'filled_avg_price': None,\n",
              "                    'filled_qty': '0',\n",
              "                    'hwm': None,\n",
              "                    'id': UUID('db306dbf-6997-4970-8c71-54e459d7df05'),\n",
              "                    'legs': None,\n",
              "                    'limit_price': None,\n",
              "                    'notional': None,\n",
              "                    'order_class': <OrderClass.MLEG: 'mleg'>,\n",
              "                    'order_type': <OrderType.LIMIT: 'limit'>,\n",
              "                    'position_intent': <PositionIntent.SELL_TO_OPEN: 'sell_to_open'>,\n",
              "                    'qty': '1',\n",
              "                    'ratio_qty': '1',\n",
              "                    'replaced_at': datetime.datetime(2025, 5, 29, 16, 57, 51, 701426, tzinfo=TzInfo(UTC)),\n",
              "                    'replaced_by': UUID('20b5477e-853d-42bf-8e5f-abcd7599625c'),\n",
              "                    'replaces': None,\n",
              "                    'side': <OrderSide.SELL: 'sell'>,\n",
              "                    'status': <OrderStatus.REPLACED: 'replaced'>,\n",
              "                    'stop_price': None,\n",
              "                    'submitted_at': datetime.datetime(2025, 5, 29, 16, 54, 53, 924832, tzinfo=TzInfo(UTC)),\n",
              "                    'symbol': 'AMD250530C00120000',\n",
              "                    'time_in_force': <TimeInForce.DAY: 'day'>,\n",
              "                    'trail_percent': None,\n",
              "                    'trail_price': None,\n",
              "                    'type': <OrderType.LIMIT: 'limit'>,\n",
              "                    'updated_at': datetime.datetime(2025, 5, 29, 16, 57, 51, 704088, tzinfo=TzInfo(UTC))}],\n",
              "    'limit_price': '5',\n",
              "    'notional': None,\n",
              "    'order_class': <OrderClass.MLEG: 'mleg'>,\n",
              "    'order_type': <OrderType.LIMIT: 'limit'>,\n",
              "    'position_intent': None,\n",
              "    'qty': '1',\n",
              "    'ratio_qty': None,\n",
              "    'replaced_at': datetime.datetime(2025, 5, 29, 16, 57, 51, 701426, tzinfo=TzInfo(UTC)),\n",
              "    'replaced_by': UUID('ff72110d-bab0-4544-b064-b8dfa63b5438'),\n",
              "    'replaces': None,\n",
              "    'side': None,\n",
              "    'status': <OrderStatus.REPLACED: 'replaced'>,\n",
              "    'stop_price': None,\n",
              "    'submitted_at': datetime.datetime(2025, 5, 29, 16, 54, 53, 924832, tzinfo=TzInfo(UTC)),\n",
              "    'symbol': None,\n",
              "    'time_in_force': <TimeInForce.DAY: 'day'>,\n",
              "    'trail_percent': None,\n",
              "    'trail_price': None,\n",
              "    'type': <OrderType.LIMIT: 'limit'>,\n",
              "    'updated_at': datetime.datetime(2025, 5, 29, 16, 57, 51, 704117, tzinfo=TzInfo(UTC))}"
            ]
          },
          "metadata": {},
          "execution_count": 48
        }
      ]
    },
    {
      "cell_type": "markdown",
      "source": [
        "### Get Order By Client Id"
      ],
      "metadata": {
        "id": "h8tofRBt6U-U"
      }
    },
    {
      "cell_type": "code",
      "source": [
        "trading_client.get_order_by_client_id('test100')"
      ],
      "metadata": {
        "id": "Mo0JMSsb6U3C",
        "colab": {
          "base_uri": "https://localhost:8080/"
        },
        "outputId": "c700af84-a5f0-477e-ac5b-be8e3ebaf932"
      },
      "execution_count": 42,
      "outputs": [
        {
          "output_type": "execute_result",
          "data": {
            "text/plain": [
              "{   'asset_class': None,\n",
              "    'asset_id': None,\n",
              "    'canceled_at': datetime.datetime(2025, 5, 29, 16, 53, 52, 656606, tzinfo=TzInfo(UTC)),\n",
              "    'client_order_id': 'test100',\n",
              "    'created_at': datetime.datetime(2025, 5, 29, 16, 53, 9, 538329, tzinfo=TzInfo(UTC)),\n",
              "    'expired_at': None,\n",
              "    'expires_at': None,\n",
              "    'extended_hours': False,\n",
              "    'failed_at': None,\n",
              "    'filled_at': None,\n",
              "    'filled_avg_price': None,\n",
              "    'filled_qty': '0',\n",
              "    'hwm': None,\n",
              "    'id': UUID('281b53d3-144d-4d1e-ae6f-8795d6e4a34c'),\n",
              "    'legs': [   {   'asset_class': <AssetClass.US_OPTION: 'us_option'>,\n",
              "                    'asset_id': UUID('cccb90a8-170b-447a-ac02-a5a1ef74c088'),\n",
              "                    'canceled_at': datetime.datetime(2025, 5, 29, 16, 53, 52, 656603, tzinfo=TzInfo(UTC)),\n",
              "                    'client_order_id': 'c789a666-9433-46ba-a04d-f22e6a805359',\n",
              "                    'created_at': datetime.datetime(2025, 5, 29, 16, 53, 9, 538329, tzinfo=TzInfo(UTC)),\n",
              "                    'expired_at': None,\n",
              "                    'expires_at': datetime.datetime(2025, 5, 29, 20, 0, tzinfo=TzInfo(UTC)),\n",
              "                    'extended_hours': False,\n",
              "                    'failed_at': None,\n",
              "                    'filled_at': None,\n",
              "                    'filled_avg_price': None,\n",
              "                    'filled_qty': '0',\n",
              "                    'hwm': None,\n",
              "                    'id': UUID('ae1f9e60-2210-483a-8718-e8da541e0767'),\n",
              "                    'legs': None,\n",
              "                    'limit_price': None,\n",
              "                    'notional': None,\n",
              "                    'order_class': <OrderClass.MLEG: 'mleg'>,\n",
              "                    'order_type': <OrderType.LIMIT: 'limit'>,\n",
              "                    'position_intent': <PositionIntent.BUY_TO_OPEN: 'buy_to_open'>,\n",
              "                    'qty': '1',\n",
              "                    'ratio_qty': '1',\n",
              "                    'replaced_at': None,\n",
              "                    'replaced_by': None,\n",
              "                    'replaces': None,\n",
              "                    'side': <OrderSide.BUY: 'buy'>,\n",
              "                    'status': <OrderStatus.CANCELED: 'canceled'>,\n",
              "                    'stop_price': None,\n",
              "                    'submitted_at': datetime.datetime(2025, 5, 29, 16, 53, 9, 545014, tzinfo=TzInfo(UTC)),\n",
              "                    'symbol': 'AMD250606C00100000',\n",
              "                    'time_in_force': <TimeInForce.DAY: 'day'>,\n",
              "                    'trail_percent': None,\n",
              "                    'trail_price': None,\n",
              "                    'type': <OrderType.LIMIT: 'limit'>,\n",
              "                    'updated_at': datetime.datetime(2025, 5, 29, 16, 53, 52, 658473, tzinfo=TzInfo(UTC))},\n",
              "                {   'asset_class': <AssetClass.US_OPTION: 'us_option'>,\n",
              "                    'asset_id': UUID('c2c8bf22-b941-4ba3-81cb-fbb948110ca6'),\n",
              "                    'canceled_at': datetime.datetime(2025, 5, 29, 16, 53, 52, 656606, tzinfo=TzInfo(UTC)),\n",
              "                    'client_order_id': 'a199d47e-d9aa-4d3e-b2f6-79a917b413b1',\n",
              "                    'created_at': datetime.datetime(2025, 5, 29, 16, 53, 9, 538329, tzinfo=TzInfo(UTC)),\n",
              "                    'expired_at': None,\n",
              "                    'expires_at': datetime.datetime(2025, 5, 29, 20, 0, tzinfo=TzInfo(UTC)),\n",
              "                    'extended_hours': False,\n",
              "                    'failed_at': None,\n",
              "                    'filled_at': None,\n",
              "                    'filled_avg_price': None,\n",
              "                    'filled_qty': '0',\n",
              "                    'hwm': None,\n",
              "                    'id': UUID('e68cb7cf-ce78-4877-95c1-9d81fe8542b0'),\n",
              "                    'legs': None,\n",
              "                    'limit_price': None,\n",
              "                    'notional': None,\n",
              "                    'order_class': <OrderClass.MLEG: 'mleg'>,\n",
              "                    'order_type': <OrderType.LIMIT: 'limit'>,\n",
              "                    'position_intent': <PositionIntent.SELL_TO_OPEN: 'sell_to_open'>,\n",
              "                    'qty': '1',\n",
              "                    'ratio_qty': '1',\n",
              "                    'replaced_at': None,\n",
              "                    'replaced_by': None,\n",
              "                    'replaces': None,\n",
              "                    'side': <OrderSide.SELL: 'sell'>,\n",
              "                    'status': <OrderStatus.CANCELED: 'canceled'>,\n",
              "                    'stop_price': None,\n",
              "                    'submitted_at': datetime.datetime(2025, 5, 29, 16, 53, 9, 547012, tzinfo=TzInfo(UTC)),\n",
              "                    'symbol': 'AMD250530C00120000',\n",
              "                    'time_in_force': <TimeInForce.DAY: 'day'>,\n",
              "                    'trail_percent': None,\n",
              "                    'trail_price': None,\n",
              "                    'type': <OrderType.LIMIT: 'limit'>,\n",
              "                    'updated_at': datetime.datetime(2025, 5, 29, 16, 53, 52, 659456, tzinfo=TzInfo(UTC))}],\n",
              "    'limit_price': '5',\n",
              "    'notional': None,\n",
              "    'order_class': <OrderClass.MLEG: 'mleg'>,\n",
              "    'order_type': <OrderType.LIMIT: 'limit'>,\n",
              "    'position_intent': None,\n",
              "    'qty': '1',\n",
              "    'ratio_qty': None,\n",
              "    'replaced_at': None,\n",
              "    'replaced_by': None,\n",
              "    'replaces': None,\n",
              "    'side': None,\n",
              "    'status': <OrderStatus.CANCELED: 'canceled'>,\n",
              "    'stop_price': None,\n",
              "    'submitted_at': datetime.datetime(2025, 5, 29, 16, 53, 9, 547012, tzinfo=TzInfo(UTC)),\n",
              "    'symbol': None,\n",
              "    'time_in_force': <TimeInForce.DAY: 'day'>,\n",
              "    'trail_percent': None,\n",
              "    'trail_price': None,\n",
              "    'type': <OrderType.LIMIT: 'limit'>,\n",
              "    'updated_at': datetime.datetime(2025, 5, 29, 16, 53, 52, 659507, tzinfo=TzInfo(UTC))}"
            ]
          },
          "metadata": {},
          "execution_count": 42
        }
      ]
    },
    {
      "cell_type": "markdown",
      "source": [
        "### Cancel Orders if Necessary"
      ],
      "metadata": {
        "id": "FmWxe-s86Iyo"
      }
    },
    {
      "cell_type": "code",
      "source": [
        "trading_client.cancel_order_by_id(order.id)"
      ],
      "metadata": {
        "id": "wBrhQZ1QqHMJ"
      },
      "execution_count": 41,
      "outputs": []
    },
    {
      "cell_type": "markdown",
      "source": [
        "### Replace Order By ID\n",
        "* Can only replace limit_price, qty--- Not individual symbols or ratios."
      ],
      "metadata": {
        "id": "EGlQiG2yrXxe"
      }
    },
    {
      "cell_type": "code",
      "source": [
        "from alpaca.trading.requests import ReplaceOrderRequest\n",
        "replaced_order=trading_client.replace_order_by_id(order.id,ReplaceOrderRequest(limit_price=20,qty=2))"
      ],
      "metadata": {
        "id": "dfVUbWo1yxsV"
      },
      "execution_count": 47,
      "outputs": []
    },
    {
      "cell_type": "code",
      "source": [
        "replaced_order.id,replaced_order.replaces,order.id"
      ],
      "metadata": {
        "id": "GuvihkVY-1xk",
        "outputId": "d9bcfd4c-8ba6-4efd-adfc-4e588a0a641f",
        "colab": {
          "base_uri": "https://localhost:8080/"
        }
      },
      "execution_count": 52,
      "outputs": [
        {
          "output_type": "execute_result",
          "data": {
            "text/plain": [
              "(UUID('ff72110d-bab0-4544-b064-b8dfa63b5438'),\n",
              " UUID('6397e245-2626-4ac5-a712-b2c4c1ec4494'),\n",
              " UUID('6397e245-2626-4ac5-a712-b2c4c1ec4494'))"
            ]
          },
          "metadata": {},
          "execution_count": 52
        }
      ]
    },
    {
      "cell_type": "code",
      "source": [
        "trading_client.get_order_by_id(replaced_order.id)"
      ],
      "metadata": {
        "id": "5blxlycZ-thm",
        "outputId": "637e486e-ad25-4faa-acf7-a4b339c25e0d",
        "colab": {
          "base_uri": "https://localhost:8080/"
        }
      },
      "execution_count": 49,
      "outputs": [
        {
          "output_type": "execute_result",
          "data": {
            "text/plain": [
              "{   'asset_class': None,\n",
              "    'asset_id': None,\n",
              "    'canceled_at': None,\n",
              "    'client_order_id': 'ffec686b-288d-44cc-8501-c3aa576c09e5',\n",
              "    'created_at': datetime.datetime(2025, 5, 29, 16, 57, 51, 694313, tzinfo=TzInfo(UTC)),\n",
              "    'expired_at': None,\n",
              "    'expires_at': None,\n",
              "    'extended_hours': False,\n",
              "    'failed_at': None,\n",
              "    'filled_at': datetime.datetime(2025, 5, 29, 16, 57, 51, 772112, tzinfo=TzInfo(UTC)),\n",
              "    'filled_avg_price': '13.76',\n",
              "    'filled_qty': '2',\n",
              "    'hwm': None,\n",
              "    'id': UUID('ff72110d-bab0-4544-b064-b8dfa63b5438'),\n",
              "    'legs': [   {   'asset_class': <AssetClass.US_OPTION: 'us_option'>,\n",
              "                    'asset_id': UUID('cccb90a8-170b-447a-ac02-a5a1ef74c088'),\n",
              "                    'canceled_at': None,\n",
              "                    'client_order_id': '6f007834-75ea-4909-9431-5ddd91467d45',\n",
              "                    'created_at': datetime.datetime(2025, 5, 29, 16, 57, 51, 694313, tzinfo=TzInfo(UTC)),\n",
              "                    'expired_at': None,\n",
              "                    'expires_at': datetime.datetime(2025, 5, 29, 20, 0, tzinfo=TzInfo(UTC)),\n",
              "                    'extended_hours': False,\n",
              "                    'failed_at': None,\n",
              "                    'filled_at': datetime.datetime(2025, 5, 29, 16, 57, 51, 772100, tzinfo=TzInfo(UTC)),\n",
              "                    'filled_avg_price': '13.8',\n",
              "                    'filled_qty': '2',\n",
              "                    'hwm': None,\n",
              "                    'id': UUID('dab17ad8-c2e9-46d2-ad01-de9bcce03fe4'),\n",
              "                    'legs': None,\n",
              "                    'limit_price': None,\n",
              "                    'notional': None,\n",
              "                    'order_class': <OrderClass.MLEG: 'mleg'>,\n",
              "                    'order_type': <OrderType.LIMIT: 'limit'>,\n",
              "                    'position_intent': <PositionIntent.BUY_TO_OPEN: 'buy_to_open'>,\n",
              "                    'qty': '2',\n",
              "                    'ratio_qty': '1',\n",
              "                    'replaced_at': None,\n",
              "                    'replaced_by': None,\n",
              "                    'replaces': UUID('d1b96477-879d-4801-8cb4-1c1cf376c4c1'),\n",
              "                    'side': <OrderSide.BUY: 'buy'>,\n",
              "                    'status': <OrderStatus.FILLED: 'filled'>,\n",
              "                    'stop_price': None,\n",
              "                    'submitted_at': datetime.datetime(2025, 5, 29, 16, 57, 51, 701415, tzinfo=TzInfo(UTC)),\n",
              "                    'symbol': 'AMD250606C00100000',\n",
              "                    'time_in_force': <TimeInForce.DAY: 'day'>,\n",
              "                    'trail_percent': None,\n",
              "                    'trail_price': None,\n",
              "                    'type': <OrderType.LIMIT: 'limit'>,\n",
              "                    'updated_at': datetime.datetime(2025, 5, 29, 16, 57, 51, 774303, tzinfo=TzInfo(UTC))},\n",
              "                {   'asset_class': <AssetClass.US_OPTION: 'us_option'>,\n",
              "                    'asset_id': UUID('c2c8bf22-b941-4ba3-81cb-fbb948110ca6'),\n",
              "                    'canceled_at': None,\n",
              "                    'client_order_id': '48bec655-9514-4ebf-b660-9a4c7e1087da',\n",
              "                    'created_at': datetime.datetime(2025, 5, 29, 16, 57, 51, 694313, tzinfo=TzInfo(UTC)),\n",
              "                    'expired_at': None,\n",
              "                    'expires_at': datetime.datetime(2025, 5, 29, 20, 0, tzinfo=TzInfo(UTC)),\n",
              "                    'extended_hours': False,\n",
              "                    'failed_at': None,\n",
              "                    'filled_at': datetime.datetime(2025, 5, 29, 16, 57, 51, 772112, tzinfo=TzInfo(UTC)),\n",
              "                    'filled_avg_price': '0.04',\n",
              "                    'filled_qty': '2',\n",
              "                    'hwm': None,\n",
              "                    'id': UUID('20b5477e-853d-42bf-8e5f-abcd7599625c'),\n",
              "                    'legs': None,\n",
              "                    'limit_price': None,\n",
              "                    'notional': None,\n",
              "                    'order_class': <OrderClass.MLEG: 'mleg'>,\n",
              "                    'order_type': <OrderType.LIMIT: 'limit'>,\n",
              "                    'position_intent': <PositionIntent.SELL_TO_OPEN: 'sell_to_open'>,\n",
              "                    'qty': '2',\n",
              "                    'ratio_qty': '1',\n",
              "                    'replaced_at': None,\n",
              "                    'replaced_by': None,\n",
              "                    'replaces': UUID('db306dbf-6997-4970-8c71-54e459d7df05'),\n",
              "                    'side': <OrderSide.SELL: 'sell'>,\n",
              "                    'status': <OrderStatus.FILLED: 'filled'>,\n",
              "                    'stop_price': None,\n",
              "                    'submitted_at': datetime.datetime(2025, 5, 29, 16, 57, 51, 701426, tzinfo=TzInfo(UTC)),\n",
              "                    'symbol': 'AMD250530C00120000',\n",
              "                    'time_in_force': <TimeInForce.DAY: 'day'>,\n",
              "                    'trail_percent': None,\n",
              "                    'trail_price': None,\n",
              "                    'type': <OrderType.LIMIT: 'limit'>,\n",
              "                    'updated_at': datetime.datetime(2025, 5, 29, 16, 57, 51, 775567, tzinfo=TzInfo(UTC))}],\n",
              "    'limit_price': '20',\n",
              "    'notional': None,\n",
              "    'order_class': <OrderClass.MLEG: 'mleg'>,\n",
              "    'order_type': <OrderType.LIMIT: 'limit'>,\n",
              "    'position_intent': None,\n",
              "    'qty': '2',\n",
              "    'ratio_qty': None,\n",
              "    'replaced_at': None,\n",
              "    'replaced_by': None,\n",
              "    'replaces': UUID('6397e245-2626-4ac5-a712-b2c4c1ec4494'),\n",
              "    'side': None,\n",
              "    'status': <OrderStatus.FILLED: 'filled'>,\n",
              "    'stop_price': None,\n",
              "    'submitted_at': datetime.datetime(2025, 5, 29, 16, 57, 51, 694313, tzinfo=TzInfo(UTC)),\n",
              "    'symbol': None,\n",
              "    'time_in_force': <TimeInForce.DAY: 'day'>,\n",
              "    'trail_percent': None,\n",
              "    'trail_price': None,\n",
              "    'type': <OrderType.LIMIT: 'limit'>,\n",
              "    'updated_at': datetime.datetime(2025, 5, 29, 16, 57, 51, 775611, tzinfo=TzInfo(UTC))}"
            ]
          },
          "metadata": {},
          "execution_count": 49
        }
      ]
    },
    {
      "cell_type": "markdown",
      "source": [
        "### Good References"
      ],
      "metadata": {
        "id": "M_ytVk2QzQ6s"
      }
    },
    {
      "cell_type": "markdown",
      "source": [
        "* Alpaca-Py Github: https://github.com/alpacahq/alpaca-py.git\n",
        "* Multi-leg Options: https://github.com/alpacahq/alpaca-py/tree/master/examples/options\n",
        "* My YouTube Channel: https://www.youtube.com/channel/UCZHN0IOGmmvY6JtquMoEn9w\n",
        "  - Checkout Alpaca Playlist\n",
        "  - Ultimate Getting Started with Alpaca Tutorial"
      ],
      "metadata": {
        "id": "0nkFkaMi90sG"
      }
    }
  ]
}