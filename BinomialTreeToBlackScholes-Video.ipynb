{
 "cells": [
  {
   "cell_type": "code",
   "execution_count": 27,
   "id": "c4ac1925",
   "metadata": {},
   "outputs": [
    {
     "data": {
      "text/html": [
       "\n",
       "<style>\n",
       ".container { width:100% !important; }\n",
       "</style>\n"
      ],
      "text/plain": [
       "<IPython.core.display.HTML object>"
      ]
     },
     "execution_count": 27,
     "metadata": {},
     "output_type": "execute_result"
    }
   ],
   "source": [
    "from IPython.core.display import HTML\n",
    "HTML(\"\"\"\n",
    "<style>\n",
    ".container { width:100% !important; }\n",
    "</style>\n",
    "\"\"\")"
   ]
  },
  {
   "cell_type": "markdown",
   "id": "5da8efb2",
   "metadata": {},
   "source": [
    "### Goal of this video\n",
    "* Convince you guys emperically that the CRR Binomial Tree Model for European options converges to the Black Scholes Formula as $n\\rightarrow\\infty$\n",
    "* Note we can actually show this mathematically (If I get enough comments I can show you)\n",
    "    \n",
    "    **Hints**\n",
    "    - Central limit theorom -> Binomial Distribution becomes Normal as n gets large\n",
    "    - Expand the risk neutral probability with Taylor Series\n",
    "  "
   ]
  },
  {
   "cell_type": "markdown",
   "id": "f43493af",
   "metadata": {},
   "source": [
    "Let's start off where we left off in the previous video with the binomial tree model and show the value for various $n$ steps"
   ]
  },
  {
   "cell_type": "markdown",
   "id": "c4f88437",
   "metadata": {},
   "source": [
    "#### Imports"
   ]
  },
  {
   "cell_type": "code",
   "execution_count": 28,
   "id": "138da028",
   "metadata": {},
   "outputs": [],
   "source": [
    "import numpy as np"
   ]
  },
  {
   "cell_type": "markdown",
   "id": "03e5928f",
   "metadata": {},
   "source": [
    "### Inputs"
   ]
  },
  {
   "cell_type": "code",
   "execution_count": 31,
   "id": "194ed07a",
   "metadata": {},
   "outputs": [],
   "source": [
    "S = 100\n",
    "K = 105\n",
    "sigma = 0.2\n",
    "r = 0.05\n",
    "T = 1\n",
    "n = 100\n",
    "kind = 'call'\n",
    "style = 'European'"
   ]
  },
  {
   "cell_type": "markdown",
   "id": "13d2d092",
   "metadata": {},
   "source": [
    "### Binomial Tree Model"
   ]
  },
  {
   "cell_type": "code",
   "execution_count": 30,
   "id": "0e097765",
   "metadata": {},
   "outputs": [],
   "source": [
    "def intrinsic_value(S,K,kind):\n",
    "    assert kind in ['call','put'],\"Must be call or put\"\n",
    "    return max(S-K,0) if kind == 'call' else max(K-S,0)\n",
    "    \n",
    "def binomial_tree_price(S,K,sigma,r,T,n,kind='call',style='European'):\n",
    "    assert kind in ['call','put'],\"Must be call or put\"\n",
    "    assert style in ['European','American'],\"Must be European or American\"\n",
    "    \n",
    "    h = T/n\n",
    "    u = np.exp(sigma*np.sqrt(h))\n",
    "    d = 1/u\n",
    "    p_rn = (np.exp(r*h)-d)/(u-d)\n",
    "    discount_factor = np.exp(-r*h)\n",
    "    \n",
    "    V = np.zeros(shape=(n+1,n+1))\n",
    "    \n",
    "    # At expiry (j=n) we know the option values\n",
    "    for i in range(n+1):\n",
    "        V[i,n]=intrinsic_value(S*u**i*d**(n-i),K,kind)\n",
    "    # Go backwords in time\n",
    "    for j in range(n-1,-1,-1):\n",
    "        for i in range(j+1):\n",
    "            continuation_value=discount_factor*(p_rn*V[i+1,j+1]+(1-p_rn)*V[i,j+1])\n",
    "            if style == 'American':\n",
    "                early_exercise_value = intrinsic_value(S*u**i*d**(j-i),K,kind=kind)\n",
    "                V[i,j]=max(early_exercise_value,continuation_value)\n",
    "            else:\n",
    "                V[i,j]=continuation_value\n",
    "    return V[0,0]\n",
    "            \n",
    "    \n",
    "        \n",
    "        \n",
    "    \n",
    "    "
   ]
  },
  {
   "cell_type": "code",
   "execution_count": 32,
   "id": "5b8417de",
   "metadata": {},
   "outputs": [
    {
     "data": {
      "text/plain": [
       "8.026229025058432"
      ]
     },
     "execution_count": 32,
     "metadata": {},
     "output_type": "execute_result"
    }
   ],
   "source": [
    "binomial_tree_price(S,K,sigma,r,T,n,kind='call',style='European')"
   ]
  },
  {
   "cell_type": "code",
   "execution_count": 33,
   "id": "3ac3c9f6",
   "metadata": {},
   "outputs": [
    {
     "data": {
      "text/plain": [
       "8.026229025058432"
      ]
     },
     "execution_count": 33,
     "metadata": {},
     "output_type": "execute_result"
    }
   ],
   "source": [
    "binomial_tree_price(S,K,sigma,r,T,n,kind='call',style='American')"
   ]
  },
  {
   "cell_type": "code",
   "execution_count": 34,
   "id": "68288d4a",
   "metadata": {},
   "outputs": [
    {
     "data": {
      "text/plain": [
       "8.747558705041387"
      ]
     },
     "execution_count": 34,
     "metadata": {},
     "output_type": "execute_result"
    }
   ],
   "source": [
    "binomial_tree_price(S,K,sigma,r,T,n,kind='put',style='American')"
   ]
  },
  {
   "cell_type": "code",
   "execution_count": 35,
   "id": "cddaaf6e",
   "metadata": {},
   "outputs": [
    {
     "data": {
      "text/plain": [
       "7.90531859763425"
      ]
     },
     "execution_count": 35,
     "metadata": {},
     "output_type": "execute_result"
    }
   ],
   "source": [
    "binomial_tree_price(S,K,sigma,r,T,n,kind='put',style='European')"
   ]
  },
  {
   "cell_type": "markdown",
   "id": "8046ece9",
   "metadata": {},
   "source": [
    "##### Binomial Tree European value for various n steps\n",
    "* For call and put options\n",
    "* n = 100,200,500,1000,10000\n",
    "* Let's also round to nearest 4 decimal places to better convince you guys"
   ]
  },
  {
   "cell_type": "code",
   "execution_count": 37,
   "id": "b1e4124a",
   "metadata": {},
   "outputs": [],
   "source": [
    "binomial_call_prices = {}\n",
    "for n in [100,200,500,1000,10000]:\n",
    "    binomial_call_prices[n] = binomial_tree_price(S,K,sigma,r,T,n,kind='call',style='European')"
   ]
  },
  {
   "cell_type": "code",
   "execution_count": 39,
   "id": "90a03cba",
   "metadata": {},
   "outputs": [
    {
     "data": {
      "text/plain": [
       "{100: 8.026229025058432,\n",
       " 200: 8.02600008453047,\n",
       " 500: 8.023175991863205,\n",
       " 1000: 8.02106028769686,\n",
       " 10000: 8.021380371469782}"
      ]
     },
     "execution_count": 39,
     "metadata": {},
     "output_type": "execute_result"
    }
   ],
   "source": [
    "binomial_call_prices"
   ]
  },
  {
   "cell_type": "code",
   "execution_count": 41,
   "id": "63d9c636",
   "metadata": {},
   "outputs": [],
   "source": [
    "binomial_put_prices = {}\n",
    "for n in [100,200,500,1000,10000,20000]:\n",
    "    binomial_put_prices[n] = binomial_tree_price(S,K,sigma,r,T,n,kind='put',style='European')"
   ]
  },
  {
   "cell_type": "code",
   "execution_count": 42,
   "id": "ebfcbfb6",
   "metadata": {},
   "outputs": [
    {
     "data": {
      "text/plain": [
       "{100: 7.90531859763425,\n",
       " 200: 7.905089657104705,\n",
       " 500: 7.9022655644360125,\n",
       " 1000: 7.900149860269342,\n",
       " 10000: 7.900469944031665,\n",
       " 20000: 7.900478840722425}"
      ]
     },
     "execution_count": 42,
     "metadata": {},
     "output_type": "execute_result"
    }
   ],
   "source": [
    "binomial_put_prices"
   ]
  },
  {
   "cell_type": "markdown",
   "id": "6c871f40",
   "metadata": {},
   "source": [
    "## Black Scholes Formula\n",
    "\n",
    "**Black-Scholes Formula**\n",
    "\n",
    "The Black-Scholes formula is a cornerstone in options pricing, providing a theoretical value for European-style options. It relies on several key assumptions about market behavior and the underlying asset.\n",
    "\n",
    "**Mathematical Representation**\n",
    "\n",
    "$$\n",
    "C = S_0 N(d_1) - K e^{-rT} N(d_2)\n",
    "$$\n",
    "\n",
    "$$\n",
    "P = K e^{-rT} N(-d_2) - S_0 N(-d_1)\n",
    "$$\n",
    "\n",
    "where:\n",
    "\n",
    "*   $C$: Call option price\n",
    "*   $P$: Put option price\n",
    "*   $S_0$: Current price of the underlying asset\n",
    "*   $K$: Strike price of the option\n",
    "*   $r$: Risk-free interest rate\n",
    "*   $T$: Time to expiration (in years)\n",
    "*   $N(x)$: Cumulative standard normal distribution function\n",
    "*   $d_1 = \\frac{\\ln(\\frac{S_0}{K}) + (r + \\frac{\\sigma^2}{2})T}{\\sigma \\sqrt{T}}$\n",
    "*   $d_2 = d_1 - \\sigma \\sqrt{T}$\n",
    "*   $\\sigma$: Volatility of the underlying asset's returns\n",
    "\n",
    "**Interpretation**\n",
    "\n",
    "*   The formula calculates the fair price of a call or put option based on the interplay of factors like the current stock price, strike price, time to expiration, risk-free rate, and volatility. \n",
    "*   $N(d_1)$ and $N(d_2)$ represent the probabilities that the option will expire in-the-money under the risk-neutral measure.\n",
    "\n",
    "**Assumptions**\n",
    "\n",
    "*   The underlying asset follows a geometric Brownian motion (constant volatility).\n",
    "*   No dividends are paid on the underlying asset during the option's life.\n",
    "*   No transaction costs or taxes.\n",
    "*   Markets are frictionless (no arbitrage opportunities).\n",
    "*   The risk-free interest rate is constant.\n"
   ]
  },
  {
   "cell_type": "code",
   "execution_count": 43,
   "id": "69a5abfb",
   "metadata": {},
   "outputs": [],
   "source": [
    "from scipy.stats import norm\n",
    "N = norm.cdf\n",
    "def bs_price(S,K,sigma,r,T,n,kind='call'):\n",
    "    assert kind in ['call','put']\n",
    "    d1 = (np.log(S/K)+(r+sigma**2/2)*T)/sigma/np.sqrt(T)\n",
    "    d2 = d1 - sigma*np.sqrt(T)\n",
    "    return S*N(d1)-K*np.exp(-r*T)*N(d2) if kind == 'call' else K*np.exp(-r*T)*N(-d2)-S*N(-d1)"
   ]
  },
  {
   "cell_type": "code",
   "execution_count": 45,
   "id": "e9780aec",
   "metadata": {},
   "outputs": [],
   "source": [
    "bs_call_price = bs_price(S,K,sigma,r,T,n,kind='call')"
   ]
  },
  {
   "cell_type": "code",
   "execution_count": 44,
   "id": "91e257c5",
   "metadata": {},
   "outputs": [],
   "source": [
    "bs_put_price = bs_price(S,K,sigma,r,T,n,kind='put')"
   ]
  },
  {
   "cell_type": "markdown",
   "id": "6724b134",
   "metadata": {},
   "source": [
    "##### Compare Binomial to BS Call Prices"
   ]
  },
  {
   "cell_type": "code",
   "execution_count": 49,
   "id": "d0b9cc1b",
   "metadata": {},
   "outputs": [
    {
     "name": "stdout",
     "output_type": "stream",
     "text": [
      "Num steps 100,Price 8.0262\n",
      "Num steps 200,Price 8.026\n",
      "Num steps 500,Price 8.0232\n",
      "Num steps 1000,Price 8.0211\n",
      "Num steps 10000,Price 8.0214\n",
      "BS Price 8.0214\n"
     ]
    }
   ],
   "source": [
    "for n_steps,option_price in binomial_call_prices.items():\n",
    "    print(f\"Num steps {n_steps},Price {np.round(option_price,4)}\")\n",
    "print(\"BS Price\",np.round(bs_call_price,4))"
   ]
  },
  {
   "cell_type": "markdown",
   "id": "a1e69866",
   "metadata": {},
   "source": [
    "##### Compare Binomial to BS Put Prices"
   ]
  },
  {
   "cell_type": "code",
   "execution_count": 51,
   "id": "24fc37ea",
   "metadata": {},
   "outputs": [
    {
     "name": "stdout",
     "output_type": "stream",
     "text": [
      "Num steps 100,Price 7.9053\n",
      "Num steps 200,Price 7.9051\n",
      "Num steps 500,Price 7.9023\n",
      "Num steps 1000,Price 7.9001\n",
      "Num steps 10000,Price 7.9005\n",
      "Num steps 20000,Price 7.9005\n",
      "BS Price 7.9004\n"
     ]
    }
   ],
   "source": [
    "for n_steps,option_price in binomial_put_prices.items():\n",
    "    print(f\"Num steps {n_steps},Price {np.round(option_price,4)}\")\n",
    "print(\"BS Price\",np.round(bs_put_price,4))"
   ]
  },
  {
   "cell_type": "code",
   "execution_count": null,
   "id": "ba4e7acd",
   "metadata": {},
   "outputs": [],
   "source": []
  },
  {
   "cell_type": "code",
   "execution_count": null,
   "id": "4b225497",
   "metadata": {},
   "outputs": [],
   "source": []
  }
 ],
 "metadata": {
  "kernelspec": {
   "display_name": "py310",
   "language": "python",
   "name": "py310"
  },
  "language_info": {
   "codemirror_mode": {
    "name": "ipython",
    "version": 3
   },
   "file_extension": ".py",
   "mimetype": "text/x-python",
   "name": "python",
   "nbconvert_exporter": "python",
   "pygments_lexer": "ipython3",
   "version": "3.10.13"
  }
 },
 "nbformat": 4,
 "nbformat_minor": 5
}
