{
  "nbformat": 4,
  "nbformat_minor": 0,
  "metadata": {
    "colab": {
      "provenance": [],
      "authorship_tag": "ABX9TyOwuo4wRiVcZMoUv5U8JBtb",
      "include_colab_link": true
    },
    "kernelspec": {
      "name": "python3",
      "display_name": "Python 3"
    },
    "language_info": {
      "name": "python"
    }
  },
  "cells": [
    {
      "cell_type": "markdown",
      "metadata": {
        "id": "view-in-github",
        "colab_type": "text"
      },
      "source": [
        "<a href=\"https://colab.research.google.com/github/adidror005/youtube-videos/blob/main/MultiLegOptionsYouTubeVideo.ipynb\" target=\"_parent\"><img src=\"https://colab.research.google.com/assets/colab-badge.svg\" alt=\"Open In Colab\"/></a>"
      ]
    },
    {
      "cell_type": "markdown",
      "source": [
        "# Setup\n",
        "\n",
        "\n",
        "### Install Alpaca-Py SDK"
      ],
      "metadata": {
        "id": "1ttkGrIf7jFV"
      }
    },
    {
      "cell_type": "code",
      "execution_count": null,
      "metadata": {
        "id": "o5D5DZyJmI3g"
      },
      "outputs": [],
      "source": []
    },
    {
      "cell_type": "markdown",
      "source": [
        "### Grab API Key + API Secret"
      ],
      "metadata": {
        "id": "IRC-UoT-7qPk"
      }
    },
    {
      "cell_type": "code",
      "source": [],
      "metadata": {
        "id": "07CKn52Q7qEv"
      },
      "execution_count": null,
      "outputs": []
    },
    {
      "cell_type": "markdown",
      "source": [
        "### Initialize Trading Client"
      ],
      "metadata": {
        "id": "j99IJqoB7tM2"
      }
    },
    {
      "cell_type": "code",
      "source": [],
      "metadata": {
        "id": "irjR4eh27wi5"
      },
      "execution_count": null,
      "outputs": []
    },
    {
      "cell_type": "markdown",
      "source": [
        "### Look at Open Orders"
      ],
      "metadata": {
        "id": "lfu4mb92mV8G"
      }
    },
    {
      "cell_type": "code",
      "source": [],
      "metadata": {
        "id": "DlftJqFKmX7U"
      },
      "execution_count": null,
      "outputs": []
    },
    {
      "cell_type": "markdown",
      "source": [
        "# Utility Function to Get Option Symbols"
      ],
      "metadata": {
        "id": "KsOd91Ch4gl2"
      }
    },
    {
      "cell_type": "code",
      "source": [
        "from alpaca.trading.requests import GetOptionContractsRequest\n",
        "from alpaca.trading.enums import ContractType\n",
        "def get_option_symbol(symbol, expiry, strike, option_type):\n",
        "    option_contracts = trading_client.get_option_contracts(\n",
        "        GetOptionContractsRequest(\n",
        "            underlying_symbols=[symbol],\n",
        "            expiration_date=expiry,\n",
        "            strike_price_gte=str(strike),\n",
        "            strike_price_lte=str(strike),\n",
        "            type=option_type\n",
        "        )\n",
        "    ).option_contracts\n",
        "\n",
        "    if len(option_contracts) != 1:\n",
        "        raise ValueError(\"Did not find exactly 1 unique contract.\")\n",
        "    return option_contracts[0].symbol"
      ],
      "metadata": {
        "colab": {
          "base_uri": "https://localhost:8080/"
        },
        "id": "b37TUz5upGq3",
        "outputId": "3fcb7abe-185a-4be5-8d15-6e6421a8e0a9"
      },
      "execution_count": null,
      "outputs": [
        {
          "output_type": "execute_result",
          "data": {
            "text/plain": [
              "('AMD250530C00100000', 'AMD250606C00120000')"
            ]
          },
          "metadata": {},
          "execution_count": 10
        }
      ]
    },
    {
      "cell_type": "markdown",
      "source": [
        "### Define The Legs of the Contract (i.e. for Diagonal Call Spread)\n",
        "* symbol\n",
        "* side\n",
        "* ratio_qty\n"
      ],
      "metadata": {
        "id": "66FnxP6zmpFp"
      }
    },
    {
      "cell_type": "code",
      "source": [
        "from alpaca.trading.requests import OptionLegRequest\n",
        "from alpaca.trading.enums import OrderSide\n",
        "\n",
        ""
      ],
      "metadata": {
        "id": "c8vAKd6dokxt"
      },
      "execution_count": null,
      "outputs": []
    },
    {
      "cell_type": "markdown",
      "source": [
        "### Define Order Request and Submit Order\n",
        "* order_class = OrderClass.MLEG\n",
        "* legs = list[OptionLegRequest]\n",
        "* Note: what is cool is we can define our own id via the *client_id* so we can manage IDs ourselves.\n"
      ],
      "metadata": {
        "id": "7dspLo8k5zUx"
      }
    },
    {
      "cell_type": "code",
      "source": [
        "from alpaca.trading.requests import LimitOrderRequest, MarketOrderRequest\n",
        "from alpaca.trading.enums import OrderSide, OrderClass, TimeInForce\n"
      ],
      "metadata": {
        "id": "fcsdaffpmtXD"
      },
      "execution_count": null,
      "outputs": []
    },
    {
      "cell_type": "markdown",
      "source": [
        "### Get Order By Client Id"
      ],
      "metadata": {
        "id": "h8tofRBt6U-U"
      }
    },
    {
      "cell_type": "code",
      "source": [],
      "metadata": {
        "id": "Mo0JMSsb6U3C"
      },
      "execution_count": null,
      "outputs": []
    },
    {
      "cell_type": "markdown",
      "source": [
        "### Cancel Orders if Necessary"
      ],
      "metadata": {
        "id": "FmWxe-s86Iyo"
      }
    },
    {
      "cell_type": "code",
      "source": [],
      "metadata": {
        "id": "wBrhQZ1QqHMJ"
      },
      "execution_count": null,
      "outputs": []
    },
    {
      "cell_type": "markdown",
      "source": [
        "### Replace Order By ID\n",
        "* Can only replace limit_price, qty--- Not individual symbols or ratios."
      ],
      "metadata": {
        "id": "EGlQiG2yrXxe"
      }
    },
    {
      "cell_type": "code",
      "source": [
        "from alpaca.trading.requests import ReplaceOrderRequest\n"
      ],
      "metadata": {
        "id": "dfVUbWo1yxsV"
      },
      "execution_count": null,
      "outputs": []
    },
    {
      "cell_type": "markdown",
      "source": [
        "### Good References"
      ],
      "metadata": {
        "id": "M_ytVk2QzQ6s"
      }
    },
    {
      "cell_type": "markdown",
      "source": [
        "* Alpaca-Py Github: https://github.com/alpacahq/alpaca-py.git\n",
        "* Multi-leg Options: https://github.com/alpacahq/alpaca-py/tree/master/examples/options\n",
        "* My YouTube Channel: https://www.youtube.com/channel/UCZHN0IOGmmvY6JtquMoEn9w\n",
        "  - Checkout Alpaca Playlist\n",
        "  - Ultimate Getting Started with Alpaca Tutorial"
      ],
      "metadata": {
        "id": "0nkFkaMi90sG"
      }
    }
  ]
}