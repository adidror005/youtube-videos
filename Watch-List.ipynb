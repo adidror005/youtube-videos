{
 "cells": [
  {
   "cell_type": "code",
   "execution_count": 1,
   "id": "9c39c7cd",
   "metadata": {},
   "outputs": [
    {
     "name": "stderr",
     "output_type": "stream",
     "text": [
      "C:\\Users\\adidr\\AppData\\Local\\Temp\\ipykernel_35296\\233690474.py:1: DeprecationWarning: Importing display from IPython.core.display is deprecated since IPython 7.14, please import from IPython display\n",
      "  from IPython.core.display import display, HTML\n"
     ]
    },
    {
     "data": {
      "text/html": [
       "<style>#notebook { padding-top:0px !important; } .container { width:100% !important; } .end_space { min-height:0px !important; } </style>"
      ],
      "text/plain": [
       "<IPython.core.display.HTML object>"
      ]
     },
     "metadata": {},
     "output_type": "display_data"
    }
   ],
   "source": [
    "from IPython.core.display import display, HTML\n",
    "display(HTML(\n",
    "    '<style>'\n",
    "        '#notebook { padding-top:0px !important; } ' \n",
    "        '.container { width:100% !important; } '\n",
    "        '.end_space { min-height:0px !important; } '\n",
    "    '</style>'\n",
    "))"
   ]
  },
  {
   "cell_type": "markdown",
   "id": "d9d5d6e3",
   "metadata": {},
   "source": [
    "# Goals\n",
    "1. Subscribing to real time market data\n",
    "2. Using pendingTickersEvent to handle updates\n",
    "3. Display the watchlist!"
   ]
  },
  {
   "cell_type": "markdown",
   "id": "769b2997",
   "metadata": {},
   "source": [
    "### Connect to IB"
   ]
  },
  {
   "cell_type": "code",
   "execution_count": 3,
   "id": "2852e4d9",
   "metadata": {},
   "outputs": [
    {
     "data": {
      "text/plain": [
       "<IB connected to 127.0.0.1:4001 clientId=10>"
      ]
     },
     "execution_count": 3,
     "metadata": {},
     "output_type": "execute_result"
    }
   ],
   "source": [
    "from ib_insync import *\n",
    "util.startLoop()\n",
    "ib = IB()\n",
    "ib.connect(port=4001,clientId=10)"
   ]
  },
  {
   "cell_type": "code",
   "execution_count": 4,
   "id": "80023670",
   "metadata": {},
   "outputs": [
    {
     "data": {
      "text/plain": [
       "[3, 2, 1]"
      ]
     },
     "execution_count": 4,
     "metadata": {},
     "output_type": "execute_result"
    }
   ],
   "source": [
    "a=[1,2,3]\n",
    "a[::-1]"
   ]
  },
  {
   "cell_type": "markdown",
   "id": "a9400979",
   "metadata": {},
   "source": [
    "### Subscribe to Market Data"
   ]
  },
  {
   "cell_type": "code",
   "execution_count": 5,
   "id": "b528c370",
   "metadata": {},
   "outputs": [],
   "source": [
    "contract = Stock(symbol='TSLA',exchange='SMART',currency='USD')\n",
    "ib.qualifyContracts(contract)\n",
    "ticker = ib.reqMktData(contract,\"\",False,False)"
   ]
  },
  {
   "cell_type": "code",
   "execution_count": 6,
   "id": "d17ee868",
   "metadata": {},
   "outputs": [
    {
     "data": {
      "text/plain": [
       "nan"
      ]
     },
     "execution_count": 6,
     "metadata": {},
     "output_type": "execute_result"
    }
   ],
   "source": [
    " ticker.high"
   ]
  },
  {
   "cell_type": "markdown",
   "id": "1e12989d",
   "metadata": {},
   "source": [
    "### Use PendingTickersEvent to handle ticker updates"
   ]
  },
  {
   "cell_type": "code",
   "execution_count": 7,
   "id": "95e5a973",
   "metadata": {},
   "outputs": [],
   "source": [
    "def onPendingTickers(tickers):\n",
    "    for ticker in tickers:\n",
    "        print(ticker.contract.symbol,ticker.bid,ticker.bidSize,ticker.ask,ticker.askSize,ticker.last,ticker.lastSize)"
   ]
  },
  {
   "cell_type": "markdown",
   "id": "22869363",
   "metadata": {},
   "source": [
    "### Cancel market data "
   ]
  },
  {
   "cell_type": "code",
   "execution_count": 8,
   "id": "ee87c420",
   "metadata": {},
   "outputs": [],
   "source": [
    "ib.cancelMktData(contract)"
   ]
  },
  {
   "cell_type": "markdown",
   "id": "f7467a92",
   "metadata": {},
   "source": [
    "### Symbols"
   ]
  },
  {
   "cell_type": "code",
   "execution_count": 9,
   "id": "4cc03d32",
   "metadata": {},
   "outputs": [],
   "source": [
    "symbol_list = ['TSLA','RIVN','QQQ','BABA','NVDA','META','AAPL']"
   ]
  },
  {
   "cell_type": "code",
   "execution_count": 10,
   "id": "762efc84",
   "metadata": {},
   "outputs": [],
   "source": [
    "for symbol in symbol_list:\n",
    "    contract = Stock(symbol,exchange='SMART',currency='USD')\n",
    "    ib.qualifyContracts(contract)\n",
    "    ticker = ib.reqMktData(contract,\"\",False,False)"
   ]
  },
  {
   "cell_type": "code",
   "execution_count": null,
   "id": "7822a309",
   "metadata": {},
   "outputs": [],
   "source": []
  },
  {
   "cell_type": "code",
   "execution_count": 11,
   "id": "db9633c3",
   "metadata": {},
   "outputs": [],
   "source": [
    "ib.pendingTickersEvent.clear()"
   ]
  },
  {
   "cell_type": "code",
   "execution_count": 12,
   "id": "71906f06",
   "metadata": {},
   "outputs": [],
   "source": [
    "previous_trade_prices={symbol:-1 for symbol in symbol_list}\n",
    "previous_colors={symbol:'' for symbol in symbol_list}\n",
    "def color_row(row):\n",
    "    color = previous_colors[row.name]\n",
    "    if row.name in previous_trade_prices:\n",
    "       if row['lastTradePrice']>previous_trade_prices[row.name]:\n",
    "           color = 'green'\n",
    "       elif row['lastTradePrice']<previous_trade_prices[row.name]:\n",
    "           color = 'red'\n",
    "       else:\n",
    "           color = previous_colors[row.name]\n",
    "    \n",
    "    style = f'background-color: {color}'\n",
    "    previous_trade_prices[row.name]=row['lastTradePrice']\n",
    "    previous_colors[row.name]=color\n",
    "    return [style]*len(row)"
   ]
  },
  {
   "cell_type": "code",
   "execution_count": null,
   "id": "f169a6d3",
   "metadata": {},
   "outputs": [],
   "source": []
  },
  {
   "cell_type": "code",
   "execution_count": 13,
   "id": "6f51084e",
   "metadata": {},
   "outputs": [],
   "source": [
    "import pandas as pd \n",
    "import numpy as np\n",
    "from IPython.display import display,clear_output\n",
    "df = pd.DataFrame(columns=['bid','bidSize','ask','askSize','lastTradePrice','lastTradeVolume','high','close','PCT_CHANGE'],index=symbol_list)\n",
    "def onPendingTickersWithStyle(tickers):\n",
    "    for ticker in list(tickers)[::-1]:\n",
    "        df.loc[ticker.contract.symbol]=(ticker.bid,ticker.bidSize,ticker.ask,ticker.askSize,ticker.last,ticker.lastSize,ticker.high,ticker.close,np.round((ticker.last-ticker.close)/ticker.close*100,2))\n",
    "    styled_df = df.style.apply(color_row, axis=1).set_table_styles([{'selector': 'th',\n",
    "                                          'props': [('background-color', '#ffff99'),\n",
    "                                                    ('font-size', '16px')]},  # Make header font larger\n",
    "                                         {'selector': 'td',\n",
    "                                          'props': [('font-size', '16px')]},  # Make cell font larger\n",
    "                                         {'selector': 'td:hover',\n",
    "                                          'props': [('background-color', 'cyan')]},  # Highlight cells on hover\n",
    "                                         ],\n",
    "                                        overwrite=False)\n",
    "    clear_output()\n",
    "    display(styled_df)"
   ]
  },
  {
   "cell_type": "code",
   "execution_count": 14,
   "id": "36de77a5",
   "metadata": {},
   "outputs": [],
   "source": [
    "ib.pendingTickersEvent.clear()"
   ]
  },
  {
   "cell_type": "code",
   "execution_count": 15,
   "id": "ffaa6346",
   "metadata": {},
   "outputs": [
    {
     "data": {
      "text/html": [
       "<style type=\"text/css\">\n",
       "#T_d69ab th {\n",
       "  background-color: #ffff99;\n",
       "  font-size: 16px;\n",
       "}\n",
       "#T_d69ab td {\n",
       "  font-size: 16px;\n",
       "}\n",
       "#T_d69ab td:hover {\n",
       "  background-color: cyan;\n",
       "}\n",
       "#T_d69ab_row0_col0, #T_d69ab_row0_col1, #T_d69ab_row0_col2, #T_d69ab_row0_col3, #T_d69ab_row0_col4, #T_d69ab_row0_col5, #T_d69ab_row0_col6, #T_d69ab_row0_col7, #T_d69ab_row0_col8, #T_d69ab_row3_col0, #T_d69ab_row3_col1, #T_d69ab_row3_col2, #T_d69ab_row3_col3, #T_d69ab_row3_col4, #T_d69ab_row3_col5, #T_d69ab_row3_col6, #T_d69ab_row3_col7, #T_d69ab_row3_col8, #T_d69ab_row5_col0, #T_d69ab_row5_col1, #T_d69ab_row5_col2, #T_d69ab_row5_col3, #T_d69ab_row5_col4, #T_d69ab_row5_col5, #T_d69ab_row5_col6, #T_d69ab_row5_col7, #T_d69ab_row5_col8, #T_d69ab_row6_col0, #T_d69ab_row6_col1, #T_d69ab_row6_col2, #T_d69ab_row6_col3, #T_d69ab_row6_col4, #T_d69ab_row6_col5, #T_d69ab_row6_col6, #T_d69ab_row6_col7, #T_d69ab_row6_col8 {\n",
       "  background-color: ;\n",
       "}\n",
       "#T_d69ab_row1_col0, #T_d69ab_row1_col1, #T_d69ab_row1_col2, #T_d69ab_row1_col3, #T_d69ab_row1_col4, #T_d69ab_row1_col5, #T_d69ab_row1_col6, #T_d69ab_row1_col7, #T_d69ab_row1_col8, #T_d69ab_row2_col0, #T_d69ab_row2_col1, #T_d69ab_row2_col2, #T_d69ab_row2_col3, #T_d69ab_row2_col4, #T_d69ab_row2_col5, #T_d69ab_row2_col6, #T_d69ab_row2_col7, #T_d69ab_row2_col8, #T_d69ab_row4_col0, #T_d69ab_row4_col1, #T_d69ab_row4_col2, #T_d69ab_row4_col3, #T_d69ab_row4_col4, #T_d69ab_row4_col5, #T_d69ab_row4_col6, #T_d69ab_row4_col7, #T_d69ab_row4_col8 {\n",
       "  background-color: green;\n",
       "}\n",
       "</style>\n",
       "<table id=\"T_d69ab\">\n",
       "  <thead>\n",
       "    <tr>\n",
       "      <th class=\"blank level0\" >&nbsp;</th>\n",
       "      <th id=\"T_d69ab_level0_col0\" class=\"col_heading level0 col0\" >bid</th>\n",
       "      <th id=\"T_d69ab_level0_col1\" class=\"col_heading level0 col1\" >bidSize</th>\n",
       "      <th id=\"T_d69ab_level0_col2\" class=\"col_heading level0 col2\" >ask</th>\n",
       "      <th id=\"T_d69ab_level0_col3\" class=\"col_heading level0 col3\" >askSize</th>\n",
       "      <th id=\"T_d69ab_level0_col4\" class=\"col_heading level0 col4\" >lastTradePrice</th>\n",
       "      <th id=\"T_d69ab_level0_col5\" class=\"col_heading level0 col5\" >lastTradeVolume</th>\n",
       "      <th id=\"T_d69ab_level0_col6\" class=\"col_heading level0 col6\" >high</th>\n",
       "      <th id=\"T_d69ab_level0_col7\" class=\"col_heading level0 col7\" >close</th>\n",
       "      <th id=\"T_d69ab_level0_col8\" class=\"col_heading level0 col8\" >PCT_CHANGE</th>\n",
       "    </tr>\n",
       "  </thead>\n",
       "  <tbody>\n",
       "    <tr>\n",
       "      <th id=\"T_d69ab_level0_row0\" class=\"row_heading level0 row0\" >TSLA</th>\n",
       "      <td id=\"T_d69ab_row0_col0\" class=\"data row0 col0\" >nan</td>\n",
       "      <td id=\"T_d69ab_row0_col1\" class=\"data row0 col1\" >nan</td>\n",
       "      <td id=\"T_d69ab_row0_col2\" class=\"data row0 col2\" >nan</td>\n",
       "      <td id=\"T_d69ab_row0_col3\" class=\"data row0 col3\" >nan</td>\n",
       "      <td id=\"T_d69ab_row0_col4\" class=\"data row0 col4\" >nan</td>\n",
       "      <td id=\"T_d69ab_row0_col5\" class=\"data row0 col5\" >nan</td>\n",
       "      <td id=\"T_d69ab_row0_col6\" class=\"data row0 col6\" >nan</td>\n",
       "      <td id=\"T_d69ab_row0_col7\" class=\"data row0 col7\" >nan</td>\n",
       "      <td id=\"T_d69ab_row0_col8\" class=\"data row0 col8\" >nan</td>\n",
       "    </tr>\n",
       "    <tr>\n",
       "      <th id=\"T_d69ab_level0_row1\" class=\"row_heading level0 row1\" >RIVN</th>\n",
       "      <td id=\"T_d69ab_row1_col0\" class=\"data row1 col0\" >10.970000</td>\n",
       "      <td id=\"T_d69ab_row1_col1\" class=\"data row1 col1\" >3200.000000</td>\n",
       "      <td id=\"T_d69ab_row1_col2\" class=\"data row1 col2\" >10.980000</td>\n",
       "      <td id=\"T_d69ab_row1_col3\" class=\"data row1 col3\" >6800.000000</td>\n",
       "      <td id=\"T_d69ab_row1_col4\" class=\"data row1 col4\" >10.970000</td>\n",
       "      <td id=\"T_d69ab_row1_col5\" class=\"data row1 col5\" >200.000000</td>\n",
       "      <td id=\"T_d69ab_row1_col6\" class=\"data row1 col6\" >nan</td>\n",
       "      <td id=\"T_d69ab_row1_col7\" class=\"data row1 col7\" >11.450000</td>\n",
       "      <td id=\"T_d69ab_row1_col8\" class=\"data row1 col8\" >-4.190000</td>\n",
       "    </tr>\n",
       "    <tr>\n",
       "      <th id=\"T_d69ab_level0_row2\" class=\"row_heading level0 row2\" >QQQ</th>\n",
       "      <td id=\"T_d69ab_row2_col0\" class=\"data row2 col0\" >439.800000</td>\n",
       "      <td id=\"T_d69ab_row2_col1\" class=\"data row2 col1\" >800.000000</td>\n",
       "      <td id=\"T_d69ab_row2_col2\" class=\"data row2 col2\" >439.810000</td>\n",
       "      <td id=\"T_d69ab_row2_col3\" class=\"data row2 col3\" >300.000000</td>\n",
       "      <td id=\"T_d69ab_row2_col4\" class=\"data row2 col4\" >439.800000</td>\n",
       "      <td id=\"T_d69ab_row2_col5\" class=\"data row2 col5\" >100.000000</td>\n",
       "      <td id=\"T_d69ab_row2_col6\" class=\"data row2 col6\" >nan</td>\n",
       "      <td id=\"T_d69ab_row2_col7\" class=\"data row2 col7\" >438.070000</td>\n",
       "      <td id=\"T_d69ab_row2_col8\" class=\"data row2 col8\" >0.390000</td>\n",
       "    </tr>\n",
       "    <tr>\n",
       "      <th id=\"T_d69ab_level0_row3\" class=\"row_heading level0 row3\" >BABA</th>\n",
       "      <td id=\"T_d69ab_row3_col0\" class=\"data row3 col0\" >76.300000</td>\n",
       "      <td id=\"T_d69ab_row3_col1\" class=\"data row3 col1\" >200.000000</td>\n",
       "      <td id=\"T_d69ab_row3_col2\" class=\"data row3 col2\" >76.350000</td>\n",
       "      <td id=\"T_d69ab_row3_col3\" class=\"data row3 col3\" >200.000000</td>\n",
       "      <td id=\"T_d69ab_row3_col4\" class=\"data row3 col4\" >76.310000</td>\n",
       "      <td id=\"T_d69ab_row3_col5\" class=\"data row3 col5\" >100.000000</td>\n",
       "      <td id=\"T_d69ab_row3_col6\" class=\"data row3 col6\" >nan</td>\n",
       "      <td id=\"T_d69ab_row3_col7\" class=\"data row3 col7\" >76.120000</td>\n",
       "      <td id=\"T_d69ab_row3_col8\" class=\"data row3 col8\" >0.250000</td>\n",
       "    </tr>\n",
       "    <tr>\n",
       "      <th id=\"T_d69ab_level0_row4\" class=\"row_heading level0 row4\" >NVDA</th>\n",
       "      <td id=\"T_d69ab_row4_col0\" class=\"data row4 col0\" >804.600000</td>\n",
       "      <td id=\"T_d69ab_row4_col1\" class=\"data row4 col1\" >500.000000</td>\n",
       "      <td id=\"T_d69ab_row4_col2\" class=\"data row4 col2\" >804.750000</td>\n",
       "      <td id=\"T_d69ab_row4_col3\" class=\"data row4 col3\" >200.000000</td>\n",
       "      <td id=\"T_d69ab_row4_col4\" class=\"data row4 col4\" >804.750000</td>\n",
       "      <td id=\"T_d69ab_row4_col5\" class=\"data row4 col5\" >500.000000</td>\n",
       "      <td id=\"T_d69ab_row4_col6\" class=\"data row4 col6\" >nan</td>\n",
       "      <td id=\"T_d69ab_row4_col7\" class=\"data row4 col7\" >785.380000</td>\n",
       "      <td id=\"T_d69ab_row4_col8\" class=\"data row4 col8\" >2.470000</td>\n",
       "    </tr>\n",
       "    <tr>\n",
       "      <th id=\"T_d69ab_level0_row5\" class=\"row_heading level0 row5\" >META</th>\n",
       "      <td id=\"T_d69ab_row5_col0\" class=\"data row5 col0\" >nan</td>\n",
       "      <td id=\"T_d69ab_row5_col1\" class=\"data row5 col1\" >nan</td>\n",
       "      <td id=\"T_d69ab_row5_col2\" class=\"data row5 col2\" >nan</td>\n",
       "      <td id=\"T_d69ab_row5_col3\" class=\"data row5 col3\" >nan</td>\n",
       "      <td id=\"T_d69ab_row5_col4\" class=\"data row5 col4\" >nan</td>\n",
       "      <td id=\"T_d69ab_row5_col5\" class=\"data row5 col5\" >nan</td>\n",
       "      <td id=\"T_d69ab_row5_col6\" class=\"data row5 col6\" >nan</td>\n",
       "      <td id=\"T_d69ab_row5_col7\" class=\"data row5 col7\" >nan</td>\n",
       "      <td id=\"T_d69ab_row5_col8\" class=\"data row5 col8\" >nan</td>\n",
       "    </tr>\n",
       "    <tr>\n",
       "      <th id=\"T_d69ab_level0_row6\" class=\"row_heading level0 row6\" >AAPL</th>\n",
       "      <td id=\"T_d69ab_row6_col0\" class=\"data row6 col0\" >nan</td>\n",
       "      <td id=\"T_d69ab_row6_col1\" class=\"data row6 col1\" >nan</td>\n",
       "      <td id=\"T_d69ab_row6_col2\" class=\"data row6 col2\" >nan</td>\n",
       "      <td id=\"T_d69ab_row6_col3\" class=\"data row6 col3\" >nan</td>\n",
       "      <td id=\"T_d69ab_row6_col4\" class=\"data row6 col4\" >nan</td>\n",
       "      <td id=\"T_d69ab_row6_col5\" class=\"data row6 col5\" >nan</td>\n",
       "      <td id=\"T_d69ab_row6_col6\" class=\"data row6 col6\" >nan</td>\n",
       "      <td id=\"T_d69ab_row6_col7\" class=\"data row6 col7\" >nan</td>\n",
       "      <td id=\"T_d69ab_row6_col8\" class=\"data row6 col8\" >nan</td>\n",
       "    </tr>\n",
       "  </tbody>\n",
       "</table>\n"
      ],
      "text/plain": [
       "<pandas.io.formats.style.Styler at 0x174141fdea0>"
      ]
     },
     "metadata": {},
     "output_type": "display_data"
    }
   ],
   "source": [
    "ib.pendingTickersEvent+=onPendingTickersWithStyle"
   ]
  },
  {
   "cell_type": "code",
   "execution_count": 17,
   "id": "b6360a92",
   "metadata": {
    "scrolled": true
   },
   "outputs": [
    {
     "data": {
      "text/html": [
       "<style type=\"text/css\">\n",
       "#T_dd4ab th {\n",
       "  background-color: #ffff99;\n",
       "  font-size: 16px;\n",
       "}\n",
       "#T_dd4ab td {\n",
       "  font-size: 16px;\n",
       "}\n",
       "#T_dd4ab td:hover {\n",
       "  background-color: cyan;\n",
       "}\n",
       "#T_dd4ab_row0_col0, #T_dd4ab_row0_col1, #T_dd4ab_row0_col2, #T_dd4ab_row0_col3, #T_dd4ab_row0_col4, #T_dd4ab_row0_col5, #T_dd4ab_row0_col6, #T_dd4ab_row0_col7, #T_dd4ab_row0_col8, #T_dd4ab_row1_col0, #T_dd4ab_row1_col1, #T_dd4ab_row1_col2, #T_dd4ab_row1_col3, #T_dd4ab_row1_col4, #T_dd4ab_row1_col5, #T_dd4ab_row1_col6, #T_dd4ab_row1_col7, #T_dd4ab_row1_col8, #T_dd4ab_row4_col0, #T_dd4ab_row4_col1, #T_dd4ab_row4_col2, #T_dd4ab_row4_col3, #T_dd4ab_row4_col4, #T_dd4ab_row4_col5, #T_dd4ab_row4_col6, #T_dd4ab_row4_col7, #T_dd4ab_row4_col8 {\n",
       "  background-color: green;\n",
       "}\n",
       "#T_dd4ab_row2_col0, #T_dd4ab_row2_col1, #T_dd4ab_row2_col2, #T_dd4ab_row2_col3, #T_dd4ab_row2_col4, #T_dd4ab_row2_col5, #T_dd4ab_row2_col6, #T_dd4ab_row2_col7, #T_dd4ab_row2_col8, #T_dd4ab_row3_col0, #T_dd4ab_row3_col1, #T_dd4ab_row3_col2, #T_dd4ab_row3_col3, #T_dd4ab_row3_col4, #T_dd4ab_row3_col5, #T_dd4ab_row3_col6, #T_dd4ab_row3_col7, #T_dd4ab_row3_col8, #T_dd4ab_row5_col0, #T_dd4ab_row5_col1, #T_dd4ab_row5_col2, #T_dd4ab_row5_col3, #T_dd4ab_row5_col4, #T_dd4ab_row5_col5, #T_dd4ab_row5_col6, #T_dd4ab_row5_col7, #T_dd4ab_row5_col8, #T_dd4ab_row6_col0, #T_dd4ab_row6_col1, #T_dd4ab_row6_col2, #T_dd4ab_row6_col3, #T_dd4ab_row6_col4, #T_dd4ab_row6_col5, #T_dd4ab_row6_col6, #T_dd4ab_row6_col7, #T_dd4ab_row6_col8 {\n",
       "  background-color: red;\n",
       "}\n",
       "</style>\n",
       "<table id=\"T_dd4ab\">\n",
       "  <thead>\n",
       "    <tr>\n",
       "      <th class=\"blank level0\" >&nbsp;</th>\n",
       "      <th id=\"T_dd4ab_level0_col0\" class=\"col_heading level0 col0\" >bid</th>\n",
       "      <th id=\"T_dd4ab_level0_col1\" class=\"col_heading level0 col1\" >bidSize</th>\n",
       "      <th id=\"T_dd4ab_level0_col2\" class=\"col_heading level0 col2\" >ask</th>\n",
       "      <th id=\"T_dd4ab_level0_col3\" class=\"col_heading level0 col3\" >askSize</th>\n",
       "      <th id=\"T_dd4ab_level0_col4\" class=\"col_heading level0 col4\" >lastTradePrice</th>\n",
       "      <th id=\"T_dd4ab_level0_col5\" class=\"col_heading level0 col5\" >lastTradeVolume</th>\n",
       "      <th id=\"T_dd4ab_level0_col6\" class=\"col_heading level0 col6\" >high</th>\n",
       "      <th id=\"T_dd4ab_level0_col7\" class=\"col_heading level0 col7\" >close</th>\n",
       "      <th id=\"T_dd4ab_level0_col8\" class=\"col_heading level0 col8\" >PCT_CHANGE</th>\n",
       "    </tr>\n",
       "  </thead>\n",
       "  <tbody>\n",
       "    <tr>\n",
       "      <th id=\"T_dd4ab_level0_row0\" class=\"row_heading level0 row0\" >TSLA</th>\n",
       "      <td id=\"T_dd4ab_row0_col0\" class=\"data row0 col0\" >192.270000</td>\n",
       "      <td id=\"T_dd4ab_row0_col1\" class=\"data row0 col1\" >100.000000</td>\n",
       "      <td id=\"T_dd4ab_row0_col2\" class=\"data row0 col2\" >192.290000</td>\n",
       "      <td id=\"T_dd4ab_row0_col3\" class=\"data row0 col3\" >1100.000000</td>\n",
       "      <td id=\"T_dd4ab_row0_col4\" class=\"data row0 col4\" >192.280000</td>\n",
       "      <td id=\"T_dd4ab_row0_col5\" class=\"data row0 col5\" >100.000000</td>\n",
       "      <td id=\"T_dd4ab_row0_col6\" class=\"data row0 col6\" >197.570000</td>\n",
       "      <td id=\"T_dd4ab_row0_col7\" class=\"data row0 col7\" >197.410000</td>\n",
       "      <td id=\"T_dd4ab_row0_col8\" class=\"data row0 col8\" >-2.600000</td>\n",
       "    </tr>\n",
       "    <tr>\n",
       "      <th id=\"T_dd4ab_level0_row1\" class=\"row_heading level0 row1\" >RIVN</th>\n",
       "      <td id=\"T_dd4ab_row1_col0\" class=\"data row1 col0\" >10.220000</td>\n",
       "      <td id=\"T_dd4ab_row1_col1\" class=\"data row1 col1\" >103200.000000</td>\n",
       "      <td id=\"T_dd4ab_row1_col2\" class=\"data row1 col2\" >10.230000</td>\n",
       "      <td id=\"T_dd4ab_row1_col3\" class=\"data row1 col3\" >126400.000000</td>\n",
       "      <td id=\"T_dd4ab_row1_col4\" class=\"data row1 col4\" >10.230000</td>\n",
       "      <td id=\"T_dd4ab_row1_col5\" class=\"data row1 col5\" >100.000000</td>\n",
       "      <td id=\"T_dd4ab_row1_col6\" class=\"data row1 col6\" >11.020000</td>\n",
       "      <td id=\"T_dd4ab_row1_col7\" class=\"data row1 col7\" >11.450000</td>\n",
       "      <td id=\"T_dd4ab_row1_col8\" class=\"data row1 col8\" >-10.660000</td>\n",
       "    </tr>\n",
       "    <tr>\n",
       "      <th id=\"T_dd4ab_level0_row2\" class=\"row_heading level0 row2\" >QQQ</th>\n",
       "      <td id=\"T_dd4ab_row2_col0\" class=\"data row2 col0\" >436.960000</td>\n",
       "      <td id=\"T_dd4ab_row2_col1\" class=\"data row2 col1\" >700.000000</td>\n",
       "      <td id=\"T_dd4ab_row2_col2\" class=\"data row2 col2\" >436.970000</td>\n",
       "      <td id=\"T_dd4ab_row2_col3\" class=\"data row2 col3\" >1200.000000</td>\n",
       "      <td id=\"T_dd4ab_row2_col4\" class=\"data row2 col4\" >436.960000</td>\n",
       "      <td id=\"T_dd4ab_row2_col5\" class=\"data row2 col5\" >100.000000</td>\n",
       "      <td id=\"T_dd4ab_row2_col6\" class=\"data row2 col6\" >440.590000</td>\n",
       "      <td id=\"T_dd4ab_row2_col7\" class=\"data row2 col7\" >438.070000</td>\n",
       "      <td id=\"T_dd4ab_row2_col8\" class=\"data row2 col8\" >-0.250000</td>\n",
       "    </tr>\n",
       "    <tr>\n",
       "      <th id=\"T_dd4ab_level0_row3\" class=\"row_heading level0 row3\" >BABA</th>\n",
       "      <td id=\"T_dd4ab_row3_col0\" class=\"data row3 col0\" >75.920000</td>\n",
       "      <td id=\"T_dd4ab_row3_col1\" class=\"data row3 col1\" >500.000000</td>\n",
       "      <td id=\"T_dd4ab_row3_col2\" class=\"data row3 col2\" >75.930000</td>\n",
       "      <td id=\"T_dd4ab_row3_col3\" class=\"data row3 col3\" >4200.000000</td>\n",
       "      <td id=\"T_dd4ab_row3_col4\" class=\"data row3 col4\" >75.920000</td>\n",
       "      <td id=\"T_dd4ab_row3_col5\" class=\"data row3 col5\" >100.000000</td>\n",
       "      <td id=\"T_dd4ab_row3_col6\" class=\"data row3 col6\" >76.930000</td>\n",
       "      <td id=\"T_dd4ab_row3_col7\" class=\"data row3 col7\" >76.120000</td>\n",
       "      <td id=\"T_dd4ab_row3_col8\" class=\"data row3 col8\" >-0.260000</td>\n",
       "    </tr>\n",
       "    <tr>\n",
       "      <th id=\"T_dd4ab_level0_row4\" class=\"row_heading level0 row4\" >NVDA</th>\n",
       "      <td id=\"T_dd4ab_row4_col0\" class=\"data row4 col0\" >789.880000</td>\n",
       "      <td id=\"T_dd4ab_row4_col1\" class=\"data row4 col1\" >300.000000</td>\n",
       "      <td id=\"T_dd4ab_row4_col2\" class=\"data row4 col2\" >790.090000</td>\n",
       "      <td id=\"T_dd4ab_row4_col3\" class=\"data row4 col3\" >100.000000</td>\n",
       "      <td id=\"T_dd4ab_row4_col4\" class=\"data row4 col4\" >789.980000</td>\n",
       "      <td id=\"T_dd4ab_row4_col5\" class=\"data row4 col5\" >100.000000</td>\n",
       "      <td id=\"T_dd4ab_row4_col6\" class=\"data row4 col6\" >823.940000</td>\n",
       "      <td id=\"T_dd4ab_row4_col7\" class=\"data row4 col7\" >785.380000</td>\n",
       "      <td id=\"T_dd4ab_row4_col8\" class=\"data row4 col8\" >0.590000</td>\n",
       "    </tr>\n",
       "    <tr>\n",
       "      <th id=\"T_dd4ab_level0_row5\" class=\"row_heading level0 row5\" >META</th>\n",
       "      <td id=\"T_dd4ab_row5_col0\" class=\"data row5 col0\" >483.840000</td>\n",
       "      <td id=\"T_dd4ab_row5_col1\" class=\"data row5 col1\" >300.000000</td>\n",
       "      <td id=\"T_dd4ab_row5_col2\" class=\"data row5 col2\" >483.910000</td>\n",
       "      <td id=\"T_dd4ab_row5_col3\" class=\"data row5 col3\" >400.000000</td>\n",
       "      <td id=\"T_dd4ab_row5_col4\" class=\"data row5 col4\" >483.890000</td>\n",
       "      <td id=\"T_dd4ab_row5_col5\" class=\"data row5 col5\" >100.000000</td>\n",
       "      <td id=\"T_dd4ab_row5_col6\" class=\"data row5 col6\" >494.360000</td>\n",
       "      <td id=\"T_dd4ab_row5_col7\" class=\"data row5 col7\" >486.130000</td>\n",
       "      <td id=\"T_dd4ab_row5_col8\" class=\"data row5 col8\" >-0.460000</td>\n",
       "    </tr>\n",
       "    <tr>\n",
       "      <th id=\"T_dd4ab_level0_row6\" class=\"row_heading level0 row6\" >AAPL</th>\n",
       "      <td id=\"T_dd4ab_row6_col0\" class=\"data row6 col0\" >182.590000</td>\n",
       "      <td id=\"T_dd4ab_row6_col1\" class=\"data row6 col1\" >5800.000000</td>\n",
       "      <td id=\"T_dd4ab_row6_col2\" class=\"data row6 col2\" >182.600000</td>\n",
       "      <td id=\"T_dd4ab_row6_col3\" class=\"data row6 col3\" >900.000000</td>\n",
       "      <td id=\"T_dd4ab_row6_col4\" class=\"data row6 col4\" >182.590000</td>\n",
       "      <td id=\"T_dd4ab_row6_col5\" class=\"data row6 col5\" >100.000000</td>\n",
       "      <td id=\"T_dd4ab_row6_col6\" class=\"data row6 col6\" >185.040000</td>\n",
       "      <td id=\"T_dd4ab_row6_col7\" class=\"data row6 col7\" >184.370000</td>\n",
       "      <td id=\"T_dd4ab_row6_col8\" class=\"data row6 col8\" >-0.970000</td>\n",
       "    </tr>\n",
       "  </tbody>\n",
       "</table>\n"
      ],
      "text/plain": [
       "<pandas.io.formats.style.Styler at 0x17416a19fc0>"
      ]
     },
     "metadata": {},
     "output_type": "display_data"
    }
   ],
   "source": [
    "df.style.apply(color_row,axis=1)"
   ]
  },
  {
   "cell_type": "markdown",
   "id": "d674392c",
   "metadata": {},
   "source": [
    "###### "
   ]
  },
  {
   "cell_type": "code",
   "execution_count": null,
   "id": "ac4c3f32",
   "metadata": {},
   "outputs": [],
   "source": []
  },
  {
   "cell_type": "code",
   "execution_count": null,
   "id": "1a871004",
   "metadata": {},
   "outputs": [],
   "source": []
  },
  {
   "cell_type": "code",
   "execution_count": null,
   "id": "d57fe818",
   "metadata": {},
   "outputs": [],
   "source": []
  }
 ],
 "metadata": {
  "kernelspec": {
   "display_name": "py310",
   "language": "python",
   "name": "py310"
  },
  "language_info": {
   "codemirror_mode": {
    "name": "ipython",
    "version": 3
   },
   "file_extension": ".py",
   "mimetype": "text/x-python",
   "name": "python",
   "nbconvert_exporter": "python",
   "pygments_lexer": "ipython3",
   "version": "3.10.13"
  }
 },
 "nbformat": 4,
 "nbformat_minor": 5
}
