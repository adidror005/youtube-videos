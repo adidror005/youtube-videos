{
 "cells": [
  {
   "cell_type": "markdown",
   "id": "9a60cd30",
   "metadata": {},
   "source": [
    "### Makes width larger for Jupyter notebook"
   ]
  },
  {
   "cell_type": "code",
   "execution_count": 1,
   "id": "2d6da19b",
   "metadata": {},
   "outputs": [
    {
     "data": {
      "text/html": [
       "\n",
       "<style>\n",
       ".container { width:100% !important; }\n",
       "</style>\n"
      ],
      "text/plain": [
       "<IPython.core.display.HTML object>"
      ]
     },
     "execution_count": 1,
     "metadata": {},
     "output_type": "execute_result"
    }
   ],
   "source": [
    "from IPython.core.display import HTML,Markdown\n",
    "\n",
    "HTML(\"\"\"\n",
    "<style>\n",
    ".container { width:100% !important; }\n",
    "</style>\n",
    "\"\"\")"
   ]
  },
  {
   "cell_type": "markdown",
   "id": "11371444-3f3b-4263-af4a-87388f2e41dc",
   "metadata": {},
   "source": [
    "# Goal of Video:\n",
    "* Introduce dash \n",
    "* Create a simple Yahoo finance dashboard that we will great improve in subsequent videos and eventually turn into a website"
   ]
  },
  {
   "cell_type": "markdown",
   "id": "a3c84281-010f-4cd4-ab9e-dde9b7d2dc31",
   "metadata": {},
   "source": [
    "### Dash Tutorial\n",
    "* Make sure you have latest version of dash so it will work in Jupyter\n",
    "    - !pip install --upgrade dash\n",
    "* Strong Open source + Enterprise Support\n",
    "* Limitation of JupyterDash is multipages: https://dash.plotly.com/dash-in-jupyter\n",
    "* Examples:\n",
    "    - https://plotly.com/examples/\n",
    "* App Layout\n",
    "* Dash Componenets\n",
    "    - Dash HTML Components (html)\n",
    "        - i.e. H1 + div\n",
    "    - Dash Core Components (dcc)\n",
    "        - i.e. Graph: dcc.graph\n",
    "    - Dash DataTable (dash_table)\n",
    "        - dash_table.DataTable\n",
    "* Callbacks\n",
    "#### NOTE CAN VIEW ON localhost:8050"
   ]
  },
  {
   "cell_type": "markdown",
   "id": "b1e39f93-35d5-412c-87c0-8fabc791c7b8",
   "metadata": {},
   "source": [
    "- **`<h1>` Tag:**\n",
    "  - Stands for \"Heading 1.\"\n",
    "  - Main title of the content.\n",
    "- **`<div>` Tag:**\n",
    "  - Defines a section/division.\n",
    "  - Container for HTML elements.\n",
    "  - No inherent semantic meaning.\n",
    "  - Groups elements for CSS/JS.\n"
   ]
  },
  {
   "cell_type": "markdown",
   "id": "4abdb473-16b0-49ca-8395-76594a42e9f2",
   "metadata": {
    "tags": []
   },
   "source": [
    "### App Layout\n",
    "* Some html element like a div..\n",
    "* Div has children which are its elements"
   ]
  },
  {
   "cell_type": "code",
   "execution_count": 2,
   "id": "e01f60cd-5e0f-4327-b85d-9e6cd0590ac6",
   "metadata": {
    "tags": []
   },
   "outputs": [
    {
     "data": {
      "text/html": [
       "\n",
       "        <iframe\n",
       "            width=\"100%\"\n",
       "            height=\"650\"\n",
       "            src=\"http://127.0.0.1:8050/\"\n",
       "            frameborder=\"0\"\n",
       "            allowfullscreen\n",
       "            \n",
       "        ></iframe>\n",
       "        "
      ],
      "text/plain": [
       "<IPython.lib.display.IFrame at 0x244c8add570>"
      ]
     },
     "metadata": {},
     "output_type": "display_data"
    }
   ],
   "source": [
    "from dash import html,Dash\n",
    "app = Dash()\n",
    "\n",
    "app.layout = html.Div(children=[html.H1(\"Trade Mamba\"),\n",
    "                                html.H2(\"Select a Ticker\")\n",
    "                               ])\n",
    "\n",
    "app.run()"
   ]
  },
  {
   "cell_type": "markdown",
   "id": "12e890ac-1268-496a-ae4c-5396e1d11dc9",
   "metadata": {
    "tags": []
   },
   "source": [
    "### Let's add a dropdown to select a stock \n",
    "* Use id to uniquely identify the component which is needed for callbacks"
   ]
  },
  {
   "cell_type": "code",
   "execution_count": 3,
   "id": "cf91bb26-0e4b-418f-8dcf-cfedf9a727e6",
   "metadata": {
    "tags": []
   },
   "outputs": [
    {
     "data": {
      "text/html": [
       "\n",
       "        <iframe\n",
       "            width=\"100%\"\n",
       "            height=\"650\"\n",
       "            src=\"http://127.0.0.1:8050/\"\n",
       "            frameborder=\"0\"\n",
       "            allowfullscreen\n",
       "            \n",
       "        ></iframe>\n",
       "        "
      ],
      "text/plain": [
       "<IPython.lib.display.IFrame at 0x244c8f4b010>"
      ]
     },
     "metadata": {},
     "output_type": "display_data"
    }
   ],
   "source": [
    "from dash import dcc\n",
    "symbol_list = ['TSLA','NVDA','AMD','META','RIVN','BABA','SPY','QQQ']\n",
    "\n",
    "app.layout = html.Div(children=[html.H1(\"Trade Mamba\"),\n",
    "                                html.H2(\"Select a Ticker\"),\n",
    "                                dcc.Dropdown(options=symbol_list,value='SPY',id='stock_picker')\n",
    "                               ])\n",
    "app.run()"
   ]
  },
  {
   "cell_type": "markdown",
   "id": "5e473ad7-6b0b-4b07-8cb9-ba6eb4bccf32",
   "metadata": {},
   "source": [
    "### Let's add a dummy graph\n",
    "* We will fill in the graph later via the callback"
   ]
  },
  {
   "cell_type": "code",
   "execution_count": 4,
   "id": "f0535ed1-233e-46c0-8013-cfd7cf6b133d",
   "metadata": {
    "tags": []
   },
   "outputs": [
    {
     "data": {
      "text/html": [
       "\n",
       "        <iframe\n",
       "            width=\"100%\"\n",
       "            height=\"650\"\n",
       "            src=\"http://127.0.0.1:8050/\"\n",
       "            frameborder=\"0\"\n",
       "            allowfullscreen\n",
       "            \n",
       "        ></iframe>\n",
       "        "
      ],
      "text/plain": [
       "<IPython.lib.display.IFrame at 0x244c9fac880>"
      ]
     },
     "metadata": {},
     "output_type": "display_data"
    }
   ],
   "source": [
    "from dash import dcc\n",
    "import plotly.express as px\n",
    "\n",
    "\n",
    "app.layout = html.Div(children=[html.H1(\"Trade Mamba\"),\n",
    "                                html.H2(\"Select a Ticker\"),\n",
    "                                dcc.Dropdown(options=symbol_list,value='SPY',id='stock_picker'),\n",
    "                                dcc.Graph(id='stock-plot')\n",
    "                               ])\n",
    "app.run()"
   ]
  },
  {
   "cell_type": "markdown",
   "id": "e7d48737-18e0-43b1-bafd-21b9e135dfd3",
   "metadata": {},
   "source": [
    "### Let's add dummy data table\n",
    "* We will fill in the table later via the callback"
   ]
  },
  {
   "cell_type": "code",
   "execution_count": 5,
   "id": "c6df3bfa-84cb-40ed-a32d-f47e4e03aaa6",
   "metadata": {
    "tags": []
   },
   "outputs": [
    {
     "data": {
      "text/html": [
       "\n",
       "        <iframe\n",
       "            width=\"100%\"\n",
       "            height=\"650\"\n",
       "            src=\"http://127.0.0.1:8050/\"\n",
       "            frameborder=\"0\"\n",
       "            allowfullscreen\n",
       "            \n",
       "        ></iframe>\n",
       "        "
      ],
      "text/plain": [
       "<IPython.lib.display.IFrame at 0x244c9fad030>"
      ]
     },
     "metadata": {},
     "output_type": "display_data"
    }
   ],
   "source": [
    "from dash import dash_table\n",
    "\n",
    "app.layout = html.Div(children=[html.H1(\"Trade Mamba\"),\n",
    "                                html.H2(\"Select a Ticker\"),\n",
    "                                dcc.Dropdown(options=symbol_list,value='SPY',id='stock_picker'),\n",
    "                                dcc.Graph(id='stock_plot'),\n",
    "                                dash_table.DataTable(id='data_table',page_size=20,)\n",
    "                               ])\n",
    "app.run()"
   ]
  },
  {
   "cell_type": "markdown",
   "id": "9bd80451",
   "metadata": {},
   "source": [
    "##### Asside: Datable example"
   ]
  },
  {
   "cell_type": "code",
   "execution_count": 6,
   "id": "1c0cd539",
   "metadata": {},
   "outputs": [
    {
     "data": {
      "text/html": [
       "\n",
       "        <iframe\n",
       "            width=\"100%\"\n",
       "            height=\"650\"\n",
       "            src=\"http://127.0.0.1:8050/\"\n",
       "            frameborder=\"0\"\n",
       "            allowfullscreen\n",
       "            \n",
       "        ></iframe>\n",
       "        "
      ],
      "text/plain": [
       "<IPython.lib.display.IFrame at 0x244c9fae8c0>"
      ]
     },
     "metadata": {},
     "output_type": "display_data"
    }
   ],
   "source": [
    "\n",
    "from dash import Dash, dash_table\n",
    "import pandas as pd\n",
    "\n",
    "df = pd.read_csv('https://raw.githubusercontent.com/plotly/datasets/master/solar.csv')\n",
    "\n",
    "app.layout = dash_table.DataTable(data=df.to_dict('records'), columns=[{\"name\": i, \"id\": i} for i in df.columns])\n",
    "\n",
    "app.run()\n"
   ]
  },
  {
   "cell_type": "markdown",
   "id": "ecadc9f9-e2e4-4413-8e8c-da397c03dbd8",
   "metadata": {},
   "source": [
    "### Let's add some callbacks to make this make more sense"
   ]
  },
  {
   "cell_type": "markdown",
   "id": "352110e6-b17c-479d-a9c2-bad62a304bac",
   "metadata": {},
   "source": [
    "##### Assside on getting data from Yahoo Finance with yfinance"
   ]
  },
  {
   "cell_type": "code",
   "execution_count": 7,
   "id": "f41b3166-63d5-446c-8345-bf9f7412835b",
   "metadata": {
    "tags": []
   },
   "outputs": [
    {
     "name": "stderr",
     "output_type": "stream",
     "text": [
      "[*********************100%%**********************]  1 of 1 completed\n"
     ]
    },
    {
     "data": {
      "text/html": [
       "<div>\n",
       "<style scoped>\n",
       "    .dataframe tbody tr th:only-of-type {\n",
       "        vertical-align: middle;\n",
       "    }\n",
       "\n",
       "    .dataframe tbody tr th {\n",
       "        vertical-align: top;\n",
       "    }\n",
       "\n",
       "    .dataframe thead th {\n",
       "        text-align: right;\n",
       "    }\n",
       "</style>\n",
       "<table border=\"1\" class=\"dataframe\">\n",
       "  <thead>\n",
       "    <tr style=\"text-align: right;\">\n",
       "      <th></th>\n",
       "      <th>Date</th>\n",
       "      <th>Open</th>\n",
       "      <th>High</th>\n",
       "      <th>Low</th>\n",
       "      <th>Close</th>\n",
       "      <th>Volume</th>\n",
       "    </tr>\n",
       "  </thead>\n",
       "  <tbody>\n",
       "    <tr>\n",
       "      <th>0</th>\n",
       "      <td>2010-06-29</td>\n",
       "      <td>1.266667</td>\n",
       "      <td>1.666667</td>\n",
       "      <td>1.169333</td>\n",
       "      <td>1.592667</td>\n",
       "      <td>281494500</td>\n",
       "    </tr>\n",
       "    <tr>\n",
       "      <th>1</th>\n",
       "      <td>2010-06-30</td>\n",
       "      <td>1.719333</td>\n",
       "      <td>2.028000</td>\n",
       "      <td>1.553333</td>\n",
       "      <td>1.588667</td>\n",
       "      <td>257806500</td>\n",
       "    </tr>\n",
       "    <tr>\n",
       "      <th>2</th>\n",
       "      <td>2010-07-01</td>\n",
       "      <td>1.666667</td>\n",
       "      <td>1.728000</td>\n",
       "      <td>1.351333</td>\n",
       "      <td>1.464000</td>\n",
       "      <td>123282000</td>\n",
       "    </tr>\n",
       "    <tr>\n",
       "      <th>3</th>\n",
       "      <td>2010-07-02</td>\n",
       "      <td>1.533333</td>\n",
       "      <td>1.540000</td>\n",
       "      <td>1.247333</td>\n",
       "      <td>1.280000</td>\n",
       "      <td>77097000</td>\n",
       "    </tr>\n",
       "    <tr>\n",
       "      <th>4</th>\n",
       "      <td>2010-07-06</td>\n",
       "      <td>1.333333</td>\n",
       "      <td>1.333333</td>\n",
       "      <td>1.055333</td>\n",
       "      <td>1.074000</td>\n",
       "      <td>103003500</td>\n",
       "    </tr>\n",
       "    <tr>\n",
       "      <th>...</th>\n",
       "      <td>...</td>\n",
       "      <td>...</td>\n",
       "      <td>...</td>\n",
       "      <td>...</td>\n",
       "      <td>...</td>\n",
       "      <td>...</td>\n",
       "    </tr>\n",
       "    <tr>\n",
       "      <th>3510</th>\n",
       "      <td>2024-06-10</td>\n",
       "      <td>176.059998</td>\n",
       "      <td>178.570007</td>\n",
       "      <td>173.169998</td>\n",
       "      <td>173.789993</td>\n",
       "      <td>50869700</td>\n",
       "    </tr>\n",
       "    <tr>\n",
       "      <th>3511</th>\n",
       "      <td>2024-06-11</td>\n",
       "      <td>173.919998</td>\n",
       "      <td>174.750000</td>\n",
       "      <td>167.410004</td>\n",
       "      <td>170.660004</td>\n",
       "      <td>64761900</td>\n",
       "    </tr>\n",
       "    <tr>\n",
       "      <th>3512</th>\n",
       "      <td>2024-06-12</td>\n",
       "      <td>171.119995</td>\n",
       "      <td>180.550003</td>\n",
       "      <td>169.800003</td>\n",
       "      <td>177.289993</td>\n",
       "      <td>90389400</td>\n",
       "    </tr>\n",
       "    <tr>\n",
       "      <th>3513</th>\n",
       "      <td>2024-06-13</td>\n",
       "      <td>188.389999</td>\n",
       "      <td>191.080002</td>\n",
       "      <td>181.229996</td>\n",
       "      <td>182.470001</td>\n",
       "      <td>118984100</td>\n",
       "    </tr>\n",
       "    <tr>\n",
       "      <th>3514</th>\n",
       "      <td>2024-06-14</td>\n",
       "      <td>185.800003</td>\n",
       "      <td>186.000000</td>\n",
       "      <td>176.919998</td>\n",
       "      <td>178.009995</td>\n",
       "      <td>81361700</td>\n",
       "    </tr>\n",
       "  </tbody>\n",
       "</table>\n",
       "<p>3515 rows × 6 columns</p>\n",
       "</div>"
      ],
      "text/plain": [
       "           Date        Open        High         Low       Close     Volume\n",
       "0    2010-06-29    1.266667    1.666667    1.169333    1.592667  281494500\n",
       "1    2010-06-30    1.719333    2.028000    1.553333    1.588667  257806500\n",
       "2    2010-07-01    1.666667    1.728000    1.351333    1.464000  123282000\n",
       "3    2010-07-02    1.533333    1.540000    1.247333    1.280000   77097000\n",
       "4    2010-07-06    1.333333    1.333333    1.055333    1.074000  103003500\n",
       "...         ...         ...         ...         ...         ...        ...\n",
       "3510 2024-06-10  176.059998  178.570007  173.169998  173.789993   50869700\n",
       "3511 2024-06-11  173.919998  174.750000  167.410004  170.660004   64761900\n",
       "3512 2024-06-12  171.119995  180.550003  169.800003  177.289993   90389400\n",
       "3513 2024-06-13  188.389999  191.080002  181.229996  182.470001  118984100\n",
       "3514 2024-06-14  185.800003  186.000000  176.919998  178.009995   81361700\n",
       "\n",
       "[3515 rows x 6 columns]"
      ]
     },
     "execution_count": 7,
     "metadata": {},
     "output_type": "execute_result"
    }
   ],
   "source": [
    "import yfinance as yf\n",
    "def get_data_from_yfinance(ticker):\n",
    "    data = yf.download(ticker, period='max', auto_adjust=True)\n",
    "    data.reset_index(inplace=True)\n",
    "    return data\n",
    "get_data_from_yfinance('TSLA')"
   ]
  },
  {
   "cell_type": "markdown",
   "id": "7ae49234-afe1-471d-9244-44b7492c7eae",
   "metadata": {},
   "source": [
    "### Callbacks\n",
    "* Use @app.callback \n",
    "* Must be defined after defining app=Dash()\n",
    "* Input: List of Input or Single Input\n",
    "* Output: List of Output or Single Output\n",
    "* Callback function below it\n",
    "* component_id: tells dash what element to work on via the \"id\" field\n",
    "* component_property: what property type we are changing"
   ]
  },
  {
   "cell_type": "code",
   "execution_count": 14,
   "id": "49b888b6-7aa4-4d60-8e9c-76b4380cc426",
   "metadata": {
    "tags": []
   },
   "outputs": [
    {
     "data": {
      "text/html": [
       "\n",
       "        <iframe\n",
       "            width=\"100%\"\n",
       "            height=\"650\"\n",
       "            src=\"http://127.0.0.1:8050/\"\n",
       "            frameborder=\"0\"\n",
       "            allowfullscreen\n",
       "            \n",
       "        ></iframe>\n",
       "        "
      ],
      "text/plain": [
       "<IPython.lib.display.IFrame at 0x244cd2054b0>"
      ]
     },
     "metadata": {},
     "output_type": "display_data"
    },
    {
     "name": "stderr",
     "output_type": "stream",
     "text": [
      "[*********************100%%**********************]  1 of 1 completed\n",
      "[*********************100%%**********************]  1 of 1 completed\n",
      "[*********************100%%**********************]  1 of 1 completed\n",
      "[*********************100%%**********************]  1 of 1 completed\n"
     ]
    }
   ],
   "source": [
    "from dash.dependencies import Output, Input\n",
    "\n",
    "app = Dash()\n",
    "\n",
    "@app.callback(\n",
    "    [Output(component_id='stock_plot',component_property='figure'),\n",
    "     Output(component_id='data_table',component_property='data'),\n",
    "     Output(component_id='data_table',component_property='columns')],\n",
    "    Input(component_id='stock_picker',component_property='value')\n",
    ")\n",
    "def update_graph(ticker):\n",
    "    df = get_data_from_yfinance(ticker)\n",
    "    fig = px.line(data_frame=df,x='Date',y='Close')\n",
    "    df.sort_values('Date',ascending=False,inplace=True)\n",
    "    columns=[{\"name\": i, \"id\": i} for i in df.columns]\n",
    "    data = df.to_dict('records')\n",
    "    return fig,data,columns\n",
    "    \n",
    "app.layout = html.Div(children=[html.H1(\"Trade Mamba\"),\n",
    "                                html.H2(\"Select a Ticker\"),\n",
    "                                dcc.Dropdown(options=symbol_list,value='SPY',id='stock_picker'),\n",
    "                                dcc.Graph(id='stock_plot'),\n",
    "                                dash_table.DataTable(id='data_table',page_size=20,)\n",
    "                               ])\n",
    "\n",
    "app.run()"
   ]
  },
  {
   "cell_type": "markdown",
   "id": "37f5dd3d-cc2c-4902-9cd0-524824d9f6fd",
   "metadata": {},
   "source": [
    "### Let's make tabs one for the chart and one for \n",
    "* Use dcc.Tabs\n",
    "* label is tab's name"
   ]
  },
  {
   "cell_type": "code",
   "execution_count": 16,
   "id": "431442ff-ccfa-4542-a160-2607704f70ec",
   "metadata": {
    "tags": []
   },
   "outputs": [
    {
     "data": {
      "text/html": [
       "\n",
       "        <iframe\n",
       "            width=\"100%\"\n",
       "            height=\"650\"\n",
       "            src=\"http://127.0.0.1:8050/\"\n",
       "            frameborder=\"0\"\n",
       "            allowfullscreen\n",
       "            \n",
       "        ></iframe>\n",
       "        "
      ],
      "text/plain": [
       "<IPython.lib.display.IFrame at 0x244cdc9c550>"
      ]
     },
     "metadata": {},
     "output_type": "display_data"
    },
    {
     "name": "stderr",
     "output_type": "stream",
     "text": [
      "[*********************100%%**********************]  1 of 1 completed\n",
      "[*********************100%%**********************]  1 of 1 completed\n"
     ]
    }
   ],
   "source": [
    "tabs = dcc.Tabs(children=\n",
    "               [\n",
    "                   dcc.Tab(label='Chart',children=dcc.Graph(id='stock_plot')),\n",
    "                   dcc.Tab(label='Table',children=dash_table.DataTable(id='data_table',page_size=20,))\n",
    "                   \n",
    "               ]\n",
    "               )\n",
    "app.layout = html.Div(children=[html.H1(\"Trade Mamba\"),\n",
    "                                html.H2(\"Select a Ticker\"),\n",
    "                                dcc.Dropdown(options=symbol_list,value='SPY',id='stock_picker'),\n",
    "                                tabs\n",
    "                               ])\n",
    "\n",
    "app.run()"
   ]
  },
  {
   "cell_type": "markdown",
   "id": "9cbf61a6-ab91-48db-b881-76ac696797f8",
   "metadata": {},
   "source": [
    "### Full App with Style and Color\n",
    "* label is usually text label\n",
    "* style is where we add the style. We can add it to any dash component like core and html and containers and individual elements"
   ]
  },
  {
   "cell_type": "code",
   "execution_count": 18,
   "id": "fdd1b3dd-e4ed-428e-b850-1ff3140ff795",
   "metadata": {
    "tags": []
   },
   "outputs": [
    {
     "data": {
      "text/html": [
       "\n",
       "        <iframe\n",
       "            width=\"100%\"\n",
       "            height=\"650\"\n",
       "            src=\"http://127.0.0.1:8050/\"\n",
       "            frameborder=\"0\"\n",
       "            allowfullscreen\n",
       "            \n",
       "        ></iframe>\n",
       "        "
      ],
      "text/plain": [
       "<IPython.lib.display.IFrame at 0x1fc8eb7f040>"
      ]
     },
     "metadata": {},
     "output_type": "display_data"
    },
    {
     "name": "stderr",
     "output_type": "stream",
     "text": [
      "[*********************100%%**********************]  1 of 1 completed\n"
     ]
    }
   ],
   "source": [
    "from dash import html,Dash,dcc,dash_table\n",
    "from dash.dependencies import Input, Output\n",
    "import plotly.express as px\n",
    "import yfinance as yf\n",
    "\n",
    "# Assuming get_data_from_yfinance and symbol_list are defined elsewhere\n",
    "# from some_module import get_data_from_yfinance, symbol_list\n",
    "symbol_list = ['TSLA', 'NVDA', 'AMD', 'META', 'BABA', 'SPY', 'QQQ']\n",
    "\n",
    "app = Dash()\n",
    "\n",
    "@app.callback(\n",
    "    [Output(component_id='stock_plot', component_property='figure'),\n",
    "     Output(component_id='data_table', component_property='data')],\n",
    "    [Input(component_id='ticker_selection', component_property='value')]\n",
    ")\n",
    "def update_graph(ticker):\n",
    "    dff = get_data_from_yfinance(ticker)\n",
    "    fig = px.line(dff, x='Date', y='Close')\n",
    "    fig.update_layout(\n",
    "        plot_bgcolor='#D1C4E9',  # Light purplish background for the plot area\n",
    "        paper_bgcolor='#E6B0AA',  # Light reddish-purple background for the surrounding area\n",
    "        font=dict(color='#4B0082')  # Optional: Adjust the font color for better readability\n",
    "    )\n",
    "    dff = dff.sort_values('Date', ascending=False)\n",
    "    columns = [{\"name\": i, \"id\": i} for i in dff.columns]\n",
    "    data = dff.to_dict('records')\n",
    "    return fig, data\n",
    "\n",
    "def get_data_from_yfinance(ticker):\n",
    "    data = yf.download(ticker, period='max', auto_adjust=True)\n",
    "    data.reset_index(inplace=True)\n",
    "    return data\n",
    "\n",
    "\n",
    "background_style = {\n",
    "    'backgroundColor': '#A1887F',  # Soft purplish background color\n",
    "    'padding': '20px'  # Padding around the content\n",
    "}\n",
    "\n",
    "tab_style = {\n",
    "    'backgroundColor': '#D1C4E9',  # Soft reddish-purple background color\n",
    "    'padding': '20px',  # Padding around the tab content\n",
    "    'border': 'none'\n",
    "}\n",
    "\n",
    "selected_tab_style = {\n",
    "    'backgroundColor': '#E6B0AA',  # Soft purplish background color for selected tab\n",
    "    'padding': '20px',  # Padding around the tab content\n",
    "    'border': 'none'\n",
    "}\n",
    "\n",
    "data_table_style = {\n",
    "    'backgroundColor': '#E6B0AA'  # Soft reddish-purple background color for the table\n",
    "}\n",
    "\n",
    "dropdown_style = {\n",
    "    'backgroundColor': '#F8BBD0',  # Reddish-brown background color \n",
    "    'color': '#4B2E2A',  # Text color\n",
    "    'border': 'none',  # No border\n",
    "    'padding': '10px',  # Padding inside the dropdown\n",
    "    'font-size': '16px'  # Font size\n",
    "}\n",
    "\n",
    "graph_style = {'backgroundColor': '#E0F7FA'}\n",
    "    \n",
    "\n",
    "tabs = dcc.Tabs(children=[ \n",
    "    dcc.Tab(label='Chart', children=dcc.Graph(id='stock_plot', style=graph_style), style=tab_style, selected_style=selected_tab_style),\n",
    "    dcc.Tab(\n",
    "        label='Table', \n",
    "        children=dash_table.DataTable(\n",
    "            id='data_table', \n",
    "            page_size=10, \n",
    "            style_table={'backgroundColor': '#E6B0AA'},  # Table background color\n",
    "            style_data={'backgroundColor': '#E6B0AA', 'color': '#4B0082'},  # Data cell background and text color\n",
    "            style_header={'backgroundColor': '#E0F7FA', 'color': '#4B0082'}  # Header cell background and text color\n",
    "        ), \n",
    "        style=tab_style, selected_style=selected_tab_style\n",
    "    )\n",
    "])\n",
    "\n",
    "app.layout = html.Div(style=background_style, children=[\n",
    "    html.H1(\"Yahoo Finance App\", style={'text-align': 'center'}),\n",
    "    html.Div(children=[\n",
    "        html.H2(\"Select a stock\"),\n",
    "        dcc.Dropdown(options=[{'label': sym, 'value': sym} for sym in symbol_list], id='ticker_selection', value='QQQ',style=dropdown_style),\n",
    "        tabs\n",
    "    ])\n",
    "\n",
    "])\n",
    "\n",
    "app.run()\n"
   ]
  },
  {
   "cell_type": "code",
   "execution_count": null,
   "id": "3c8b37c3-092f-4881-ac03-a128239447db",
   "metadata": {},
   "outputs": [],
   "source": []
  },
  {
   "cell_type": "code",
   "execution_count": null,
   "id": "a9628713",
   "metadata": {},
   "outputs": [],
   "source": []
  },
  {
   "cell_type": "code",
   "execution_count": null,
   "id": "807fd682",
   "metadata": {},
   "outputs": [],
   "source": []
  },
  {
   "cell_type": "code",
   "execution_count": null,
   "id": "65c6d05c",
   "metadata": {},
   "outputs": [],
   "source": []
  },
  {
   "cell_type": "code",
   "execution_count": null,
   "id": "a4d35fd5",
   "metadata": {},
   "outputs": [],
   "source": []
  },
  {
   "cell_type": "code",
   "execution_count": null,
   "id": "51ff9aee",
   "metadata": {},
   "outputs": [],
   "source": []
  }
 ],
 "metadata": {
  "kernelspec": {
   "display_name": "py310",
   "language": "python",
   "name": "py310"
  },
  "language_info": {
   "codemirror_mode": {
    "name": "ipython",
    "version": 3
   },
   "file_extension": ".py",
   "mimetype": "text/x-python",
   "name": "python",
   "nbconvert_exporter": "python",
   "pygments_lexer": "ipython3",
   "version": "3.10.13"
  }
 },
 "nbformat": 4,
 "nbformat_minor": 5
}
