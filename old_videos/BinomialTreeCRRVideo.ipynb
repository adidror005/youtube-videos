{
 "cells": [
  {
   "cell_type": "code",
   "execution_count": 49,
   "id": "c4ac1925",
   "metadata": {},
   "outputs": [
    {
     "data": {
      "text/html": [
       "\n",
       "<style>\n",
       ".container { width:100% !important; }\n",
       "</style>\n"
      ],
      "text/plain": [
       "<IPython.core.display.HTML object>"
      ]
     },
     "execution_count": 49,
     "metadata": {},
     "output_type": "execute_result"
    }
   ],
   "source": [
    "from IPython.core.display import HTML\n",
    "HTML(\"\"\"\n",
    "<style>\n",
    ".container { width:100% !important; }\n",
    "</style>\n",
    "\"\"\")"
   ]
  },
  {
   "cell_type": "markdown",
   "id": "c4f88437",
   "metadata": {},
   "source": [
    "#### Imports"
   ]
  },
  {
   "cell_type": "code",
   "execution_count": 50,
   "id": "138da028",
   "metadata": {},
   "outputs": [],
   "source": [
    "import numpy as np"
   ]
  },
  {
   "cell_type": "markdown",
   "id": "03e5928f",
   "metadata": {},
   "source": [
    "### Inputs"
   ]
  },
  {
   "cell_type": "code",
   "execution_count": 51,
   "id": "194ed07a",
   "metadata": {},
   "outputs": [],
   "source": [
    "s = 100\n",
    "K = 105\n",
    "sigma = 0.2\n",
    "r = 0.05\n",
    "T = 1\n",
    "n = 100\n",
    "kind = 'call'\n",
    "style = 'European'"
   ]
  },
  {
   "cell_type": "markdown",
   "id": "13d2d092",
   "metadata": {},
   "source": [
    "### Binomial Tree Model"
   ]
  },
  {
   "cell_type": "code",
   "execution_count": 52,
   "id": "0e097765",
   "metadata": {},
   "outputs": [],
   "source": [
    "def intrinsic_value(S,K,kind):\n",
    "    assert kind in ['call','put'],\"Must be call or put\"\n",
    "    return max(S-K,0) if kind == 'call' else max(K-S,0)\n",
    "    \n",
    "def binomial_tree_price(S,K,sigma,r,T,n,kind='call',style='European'):\n",
    "    assert kind in ['call','put'],\"Must be call or put\"\n",
    "    assert style in ['European','American'],\"Must be European or American\"\n",
    "    \n",
    "    h = T/n\n",
    "    u = np.exp(sigma*np.sqrt(h))\n",
    "    d = 1/u\n",
    "    p_rn = (np.exp(r*h)-d)/(u-d)\n",
    "    discount_factor = np.exp(-r*h)\n",
    "    \n",
    "    V = np.zeros(shape=(n+1,n+1))\n",
    "    \n",
    "    # At expiry (j=n) we know the option values\n",
    "    for i in range(n+1):\n",
    "        V[i,n]=intrinsic_value(S*u**i*d**(n-i),K,kind)\n",
    "    # Go backwords in time\n",
    "    for j in range(n-1,-1,-1):\n",
    "        for i in range(j+1):\n",
    "            continuation_value=discount_factor*(p_rn*V[i+1,j+1]+(1-p_rn)*V[i,j+1])\n",
    "            if style == 'American':\n",
    "                early_exercise_value = intrinsic_value(S*u**i*d**(j-i),K,kind=kind)\n",
    "                V[i,j]=max(early_exercise_value,continuation_value)\n",
    "            else:\n",
    "                V[i,j]=continuation_value\n",
    "    return V[0,0]\n",
    "            \n",
    "    \n",
    "        \n",
    "        \n",
    "    \n",
    "    "
   ]
  },
  {
   "cell_type": "code",
   "execution_count": 53,
   "id": "5b8417de",
   "metadata": {},
   "outputs": [
    {
     "data": {
      "text/plain": [
       "8.026229025058432"
      ]
     },
     "execution_count": 53,
     "metadata": {},
     "output_type": "execute_result"
    }
   ],
   "source": [
    "binomial_tree_price(S,K,sigma,r,T,n,kind='call',style='European')"
   ]
  },
  {
   "cell_type": "code",
   "execution_count": 54,
   "id": "3ac3c9f6",
   "metadata": {},
   "outputs": [
    {
     "data": {
      "text/plain": [
       "8.026229025058432"
      ]
     },
     "execution_count": 54,
     "metadata": {},
     "output_type": "execute_result"
    }
   ],
   "source": [
    "binomial_tree_price(S,K,sigma,r,T,n,kind='call',style='American')"
   ]
  },
  {
   "cell_type": "code",
   "execution_count": 55,
   "id": "68288d4a",
   "metadata": {},
   "outputs": [
    {
     "data": {
      "text/plain": [
       "8.747558705041387"
      ]
     },
     "execution_count": 55,
     "metadata": {},
     "output_type": "execute_result"
    }
   ],
   "source": [
    "binomial_tree_price(S,K,sigma,r,T,n,kind='put',style='American')"
   ]
  },
  {
   "cell_type": "code",
   "execution_count": 56,
   "id": "cddaaf6e",
   "metadata": {},
   "outputs": [
    {
     "data": {
      "text/plain": [
       "7.90531859763425"
      ]
     },
     "execution_count": 56,
     "metadata": {},
     "output_type": "execute_result"
    }
   ],
   "source": [
    "binomial_tree_price(S,K,sigma,r,T,n,kind='put',style='European')"
   ]
  },
  {
   "cell_type": "markdown",
   "id": "6c871f40",
   "metadata": {},
   "source": [
    "## Black Scholes Formula\n",
    "\n",
    "**Black-Scholes Formula**\n",
    "\n",
    "The Black-Scholes formula is a cornerstone in options pricing, providing a theoretical value for European-style options. It relies on several key assumptions about market behavior and the underlying asset.\n",
    "\n",
    "**Mathematical Representation**\n",
    "\n",
    "$$\n",
    "C = S_0 N(d_1) - K e^{-rT} N(d_2)\n",
    "$$\n",
    "\n",
    "$$\n",
    "P = K e^{-rT} N(-d_2) - S_0 N(-d_1)\n",
    "$$\n",
    "\n",
    "where:\n",
    "\n",
    "*   $C$: Call option price\n",
    "*   $P$: Put option price\n",
    "*   $S_0$: Current price of the underlying asset\n",
    "*   $K$: Strike price of the option\n",
    "*   $r$: Risk-free interest rate\n",
    "*   $T$: Time to expiration (in years)\n",
    "*   $N(x)$: Cumulative standard normal distribution function\n",
    "*   $d_1 = \\frac{\\ln(\\frac{S_0}{K}) + (r + \\frac{\\sigma^2}{2})T}{\\sigma \\sqrt{T}}$\n",
    "*   $d_2 = d_1 - \\sigma \\sqrt{T}$\n",
    "*   $\\sigma$: Volatility of the underlying asset's returns\n",
    "\n",
    "**Interpretation**\n",
    "\n",
    "*   The formula calculates the fair price of a call or put option based on the interplay of factors like the current stock price, strike price, time to expiration, risk-free rate, and volatility. \n",
    "*   $N(d_1)$ and $N(d_2)$ represent the probabilities that the option will expire in-the-money under the risk-neutral measure.\n",
    "\n",
    "**Assumptions**\n",
    "\n",
    "*   The underlying asset follows a geometric Brownian motion (constant volatility).\n",
    "*   No dividends are paid on the underlying asset during the option's life.\n",
    "*   No transaction costs or taxes.\n",
    "*   Markets are frictionless (no arbitrage opportunities).\n",
    "*   The risk-free interest rate is constant.\n",
    "\n",
    "**Caveats**\n",
    "\n",
    "While widely used, the Black-Scholes model has limitations. Real-world markets often exhibit features that violate its assumptions, such as jumps in prices or changing volatility. Therefore, it's crucial to understand its limitations and consider more sophisticated models when dealing with complex market dynamics.\n",
    "\n",
    "Let me know if you'd like to delve deeper into any specific aspect or explore extensions to the Black-Scholes model! \n",
    "            "
   ]
  },
  {
   "cell_type": "code",
   "execution_count": 72,
   "id": "69a5abfb",
   "metadata": {},
   "outputs": [],
   "source": [
    "from scipy.stats import norm \n",
    "N = norm.cdf\n",
    "\n",
    "def bs_price(S,K,sigma,r,T,n,kind='call'):\n",
    "    assert kind in ['call','put'],\"Must be call or put\"\n",
    "    d1 = (np.log(S/K)+(r+0.5*sigma**2)*T)/sigma/np.sqrt(T)\n",
    "    d2 = d1-sigma*np.sqrt(T)\n",
    "    return S*N(d1)-K*np.exp(-r*T)*N(d2) if kind=='call' else K*np.exp(-r*T)*N(-d2)-S*N(-d1)\n",
    "\n",
    "\n",
    "\n"
   ]
  },
  {
   "cell_type": "code",
   "execution_count": 73,
   "id": "e9780aec",
   "metadata": {},
   "outputs": [],
   "source": [
    "bs_call_price=bs_price(S,K,sigma,r,T,n,kind='call')\n",
    "bs_put_price=bs_price(S,K,sigma,r,T,n,kind='put')"
   ]
  },
  {
   "cell_type": "code",
   "execution_count": 74,
   "id": "7a9924ab",
   "metadata": {},
   "outputs": [],
   "source": [
    "binomial_call_prices={}\n",
    "for n in [100,200,500,1000,10000]:\n",
    "    binomial_call_prices[n]=binomial_tree_price(S,K,sigma,r,T,n,kind='call',style='European')"
   ]
  },
  {
   "cell_type": "code",
   "execution_count": 81,
   "id": "1bafa9af",
   "metadata": {},
   "outputs": [
    {
     "data": {
      "text/plain": [
       "({100: 8.0262, 200: 8.026, 500: 8.0232, 1000: 8.0211, 10000: 8.0214}, 8.0214)"
      ]
     },
     "execution_count": 81,
     "metadata": {},
     "output_type": "execute_result"
    }
   ],
   "source": [
    "{k:np.round(v,4) for k,v in binomial_call_prices.items()},np.round(bs_call_price,4)"
   ]
  },
  {
   "cell_type": "code",
   "execution_count": 83,
   "id": "910a021a",
   "metadata": {},
   "outputs": [],
   "source": [
    "binomial_put_prices={}\n",
    "for n in [100,200,500,1000,10000]:\n",
    "    binomial_put_prices[n]=binomial_tree_price(S,K,sigma,r,T,n,kind='put',style='European')"
   ]
  },
  {
   "cell_type": "code",
   "execution_count": 84,
   "id": "f4fd405b",
   "metadata": {},
   "outputs": [
    {
     "data": {
      "text/plain": [
       "({100: 7.9053, 200: 7.9051, 500: 7.9023, 1000: 7.9001, 10000: 7.9005}, 7.9004)"
      ]
     },
     "execution_count": 84,
     "metadata": {},
     "output_type": "execute_result"
    }
   ],
   "source": [
    "{k:np.round(v,4) for k,v in binomial_put_prices.items()},np.round(bs_put_price,4)"
   ]
  },
  {
   "cell_type": "code",
   "execution_count": null,
   "id": "97ca76f3",
   "metadata": {},
   "outputs": [],
   "source": []
  }
 ],
 "metadata": {
  "kernelspec": {
   "display_name": "py310",
   "language": "python",
   "name": "py310"
  },
  "language_info": {
   "codemirror_mode": {
    "name": "ipython",
    "version": 3
   },
   "file_extension": ".py",
   "mimetype": "text/x-python",
   "name": "python",
   "nbconvert_exporter": "python",
   "pygments_lexer": "ipython3",
   "version": "3.10.13"
  }
 },
 "nbformat": 4,
 "nbformat_minor": 5
}
