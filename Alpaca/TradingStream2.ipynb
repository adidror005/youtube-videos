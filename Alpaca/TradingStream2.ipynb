{
  "nbformat": 4,
  "nbformat_minor": 0,
  "metadata": {
    "colab": {
      "provenance": [],
      "authorship_tag": "ABX9TyNfF5OWrydpI47exQsDaEYE",
      "include_colab_link": true
    },
    "kernelspec": {
      "name": "python3",
      "display_name": "Python 3"
    },
    "language_info": {
      "name": "python"
    }
  },
  "cells": [
    {
      "cell_type": "markdown",
      "metadata": {
        "id": "view-in-github",
        "colab_type": "text"
      },
      "source": [
        "<a href=\"https://colab.research.google.com/github/adidror005/youtube-videos/blob/main/TradingStream2.ipynb\" target=\"_parent\"><img src=\"https://colab.research.google.com/assets/colab-badge.svg\" alt=\"Open In Colab\"/></a>"
      ]
    },
    {
      "cell_type": "markdown",
      "source": [
        "# Setup\n",
        "\n",
        "### Install Python SDK"
      ],
      "metadata": {
        "id": "WBFiHh7B4i6Q"
      }
    },
    {
      "cell_type": "code",
      "execution_count": null,
      "metadata": {
        "id": "hOR_HPraHxRC"
      },
      "outputs": [],
      "source": []
    },
    {
      "cell_type": "markdown",
      "source": [
        "### Grab API key and Secret"
      ],
      "metadata": {
        "id": "YksmyNWk45op"
      }
    },
    {
      "cell_type": "code",
      "source": [],
      "metadata": {
        "id": "gNadZhiAH0Cz"
      },
      "execution_count": null,
      "outputs": []
    },
    {
      "cell_type": "markdown",
      "source": [
        "### Connect to Trading Client"
      ],
      "metadata": {
        "id": "sHtVhd4248FR"
      }
    },
    {
      "cell_type": "code",
      "source": [],
      "metadata": {
        "id": "S-1nNEljH3Kw"
      },
      "execution_count": null,
      "outputs": []
    },
    {
      "cell_type": "markdown",
      "source": [
        "### Helper Function to View Respones as DataFrames"
      ],
      "metadata": {
        "id": "Kg8RLXy74shB"
      }
    },
    {
      "cell_type": "code",
      "source": [
        "import pandas as pd\n",
        "\n",
        "class Util:\n",
        "    @staticmethod\n",
        "    def to_dataframe(data):\n",
        "        if isinstance(data, list):\n",
        "            return pd.DataFrame([item.__dict__ for item in data])\n",
        "        return pd.DataFrame(data, columns=['tag', 'value']).set_index('tag')"
      ],
      "metadata": {
        "id": "DV8DlO2l4sLZ"
      },
      "execution_count": null,
      "outputs": []
    },
    {
      "cell_type": "markdown",
      "source": [
        "### Cancel all Orders"
      ],
      "metadata": {
        "id": "bIiXvr-J5LoA"
      }
    },
    {
      "cell_type": "code",
      "source": [
        ""
      ],
      "metadata": {
        "id": "rQXPJafC5NgT"
      },
      "execution_count": 1,
      "outputs": []
    },
    {
      "cell_type": "markdown",
      "source": [
        "# Make a Buy Order for 1000$ of AMD"
      ],
      "metadata": {
        "id": "ft3grI-4fpin"
      }
    },
    {
      "cell_type": "code",
      "source": [
        "from alpaca.trading.requests import MarketOrderRequest,TakeProfitRequest,LimitOrderRequest\n",
        "from alpaca.trading.enums import OrderSide, TimeInForce, OrderClass\n",
        "\n",
        "\n"
      ],
      "metadata": {
        "id": "Qe-mebjvH_sv"
      },
      "execution_count": 1,
      "outputs": []
    },
    {
      "cell_type": "markdown",
      "source": [
        "## Let's look at open orders"
      ],
      "metadata": {
        "id": "xEM6fWiNGwfD"
      }
    },
    {
      "cell_type": "code",
      "source": [
        "from alpaca.trading.enums import QueryOrderStatus\n",
        "from alpaca.trading.requests import GetOrdersRequest\n",
        "Util.to_dataframe(trading_client.get_orders(GetOrdersRequest(status=QueryOrderStatus.OPEN)))"
      ],
      "metadata": {
        "colab": {
          "base_uri": "https://localhost:8080/",
          "height": 182
        },
        "id": "kxrhs-HZIMc4",
        "outputId": "956f466d-9bd8-4c9b-ec88-780d2817463b"
      },
      "execution_count": null,
      "outputs": [
        {
          "output_type": "execute_result",
          "data": {
            "text/plain": [
              "                                     id                       client_order_id  \\\n",
              "0  4954b422-9158-4974-8e8c-0b04dd54b29e  3bbe2ed9-fa9d-4629-acdb-db757d2950a2   \n",
              "\n",
              "                        created_at                       updated_at  \\\n",
              "0 2025-05-12 09:35:06.355465+00:00 2025-05-12 09:35:06.365818+00:00   \n",
              "\n",
              "                      submitted_at filled_at expired_at  \\\n",
              "0 2025-05-12 09:35:06.364437+00:00      None       None   \n",
              "\n",
              "                 expires_at canceled_at failed_at  ... limit_price stop_price  \\\n",
              "0 2025-05-13 00:00:00+00:00        None      None  ...       114.3       None   \n",
              "\n",
              "            status extended_hours  legs trail_percent trail_price   hwm  \\\n",
              "0  OrderStatus.NEW           True  None          None        None  None   \n",
              "\n",
              "              position_intent ratio_qty  \n",
              "0  PositionIntent.BUY_TO_OPEN      None  \n",
              "\n",
              "[1 rows x 35 columns]"
            ],
            "text/html": [
              "\n",
              "  <div id=\"df-5321ac70-a8a8-4efb-a933-c228501ca46f\" class=\"colab-df-container\">\n",
              "    <div>\n",
              "<style scoped>\n",
              "    .dataframe tbody tr th:only-of-type {\n",
              "        vertical-align: middle;\n",
              "    }\n",
              "\n",
              "    .dataframe tbody tr th {\n",
              "        vertical-align: top;\n",
              "    }\n",
              "\n",
              "    .dataframe thead th {\n",
              "        text-align: right;\n",
              "    }\n",
              "</style>\n",
              "<table border=\"1\" class=\"dataframe\">\n",
              "  <thead>\n",
              "    <tr style=\"text-align: right;\">\n",
              "      <th></th>\n",
              "      <th>id</th>\n",
              "      <th>client_order_id</th>\n",
              "      <th>created_at</th>\n",
              "      <th>updated_at</th>\n",
              "      <th>submitted_at</th>\n",
              "      <th>filled_at</th>\n",
              "      <th>expired_at</th>\n",
              "      <th>expires_at</th>\n",
              "      <th>canceled_at</th>\n",
              "      <th>failed_at</th>\n",
              "      <th>...</th>\n",
              "      <th>limit_price</th>\n",
              "      <th>stop_price</th>\n",
              "      <th>status</th>\n",
              "      <th>extended_hours</th>\n",
              "      <th>legs</th>\n",
              "      <th>trail_percent</th>\n",
              "      <th>trail_price</th>\n",
              "      <th>hwm</th>\n",
              "      <th>position_intent</th>\n",
              "      <th>ratio_qty</th>\n",
              "    </tr>\n",
              "  </thead>\n",
              "  <tbody>\n",
              "    <tr>\n",
              "      <th>0</th>\n",
              "      <td>4954b422-9158-4974-8e8c-0b04dd54b29e</td>\n",
              "      <td>3bbe2ed9-fa9d-4629-acdb-db757d2950a2</td>\n",
              "      <td>2025-05-12 09:35:06.355465+00:00</td>\n",
              "      <td>2025-05-12 09:35:06.365818+00:00</td>\n",
              "      <td>2025-05-12 09:35:06.364437+00:00</td>\n",
              "      <td>None</td>\n",
              "      <td>None</td>\n",
              "      <td>2025-05-13 00:00:00+00:00</td>\n",
              "      <td>None</td>\n",
              "      <td>None</td>\n",
              "      <td>...</td>\n",
              "      <td>114.3</td>\n",
              "      <td>None</td>\n",
              "      <td>OrderStatus.NEW</td>\n",
              "      <td>True</td>\n",
              "      <td>None</td>\n",
              "      <td>None</td>\n",
              "      <td>None</td>\n",
              "      <td>None</td>\n",
              "      <td>PositionIntent.BUY_TO_OPEN</td>\n",
              "      <td>None</td>\n",
              "    </tr>\n",
              "  </tbody>\n",
              "</table>\n",
              "<p>1 rows × 35 columns</p>\n",
              "</div>\n",
              "    <div class=\"colab-df-buttons\">\n",
              "\n",
              "  <div class=\"colab-df-container\">\n",
              "    <button class=\"colab-df-convert\" onclick=\"convertToInteractive('df-5321ac70-a8a8-4efb-a933-c228501ca46f')\"\n",
              "            title=\"Convert this dataframe to an interactive table.\"\n",
              "            style=\"display:none;\">\n",
              "\n",
              "  <svg xmlns=\"http://www.w3.org/2000/svg\" height=\"24px\" viewBox=\"0 -960 960 960\">\n",
              "    <path d=\"M120-120v-720h720v720H120Zm60-500h600v-160H180v160Zm220 220h160v-160H400v160Zm0 220h160v-160H400v160ZM180-400h160v-160H180v160Zm440 0h160v-160H620v160ZM180-180h160v-160H180v160Zm440 0h160v-160H620v160Z\"/>\n",
              "  </svg>\n",
              "    </button>\n",
              "\n",
              "  <style>\n",
              "    .colab-df-container {\n",
              "      display:flex;\n",
              "      gap: 12px;\n",
              "    }\n",
              "\n",
              "    .colab-df-convert {\n",
              "      background-color: #E8F0FE;\n",
              "      border: none;\n",
              "      border-radius: 50%;\n",
              "      cursor: pointer;\n",
              "      display: none;\n",
              "      fill: #1967D2;\n",
              "      height: 32px;\n",
              "      padding: 0 0 0 0;\n",
              "      width: 32px;\n",
              "    }\n",
              "\n",
              "    .colab-df-convert:hover {\n",
              "      background-color: #E2EBFA;\n",
              "      box-shadow: 0px 1px 2px rgba(60, 64, 67, 0.3), 0px 1px 3px 1px rgba(60, 64, 67, 0.15);\n",
              "      fill: #174EA6;\n",
              "    }\n",
              "\n",
              "    .colab-df-buttons div {\n",
              "      margin-bottom: 4px;\n",
              "    }\n",
              "\n",
              "    [theme=dark] .colab-df-convert {\n",
              "      background-color: #3B4455;\n",
              "      fill: #D2E3FC;\n",
              "    }\n",
              "\n",
              "    [theme=dark] .colab-df-convert:hover {\n",
              "      background-color: #434B5C;\n",
              "      box-shadow: 0px 1px 3px 1px rgba(0, 0, 0, 0.15);\n",
              "      filter: drop-shadow(0px 1px 2px rgba(0, 0, 0, 0.3));\n",
              "      fill: #FFFFFF;\n",
              "    }\n",
              "  </style>\n",
              "\n",
              "    <script>\n",
              "      const buttonEl =\n",
              "        document.querySelector('#df-5321ac70-a8a8-4efb-a933-c228501ca46f button.colab-df-convert');\n",
              "      buttonEl.style.display =\n",
              "        google.colab.kernel.accessAllowed ? 'block' : 'none';\n",
              "\n",
              "      async function convertToInteractive(key) {\n",
              "        const element = document.querySelector('#df-5321ac70-a8a8-4efb-a933-c228501ca46f');\n",
              "        const dataTable =\n",
              "          await google.colab.kernel.invokeFunction('convertToInteractive',\n",
              "                                                    [key], {});\n",
              "        if (!dataTable) return;\n",
              "\n",
              "        const docLinkHtml = 'Like what you see? Visit the ' +\n",
              "          '<a target=\"_blank\" href=https://colab.research.google.com/notebooks/data_table.ipynb>data table notebook</a>'\n",
              "          + ' to learn more about interactive tables.';\n",
              "        element.innerHTML = '';\n",
              "        dataTable['output_type'] = 'display_data';\n",
              "        await google.colab.output.renderOutput(dataTable, element);\n",
              "        const docLink = document.createElement('div');\n",
              "        docLink.innerHTML = docLinkHtml;\n",
              "        element.appendChild(docLink);\n",
              "      }\n",
              "    </script>\n",
              "  </div>\n",
              "\n",
              "\n",
              "    </div>\n",
              "  </div>\n"
            ],
            "application/vnd.google.colaboratory.intrinsic+json": {
              "type": "dataframe"
            }
          },
          "metadata": {},
          "execution_count": 7
        }
      ]
    }
  ]
}