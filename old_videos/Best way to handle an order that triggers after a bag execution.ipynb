{
 "cells": [
  {
   "cell_type": "markdown",
   "id": "d049cc49",
   "metadata": {},
   "source": [
    "# WARNING THIS WILL DO REAL ORDERS!!!!!!!!!!!!!!!!!!!!!!!!!!"
   ]
  },
  {
   "cell_type": "code",
   "execution_count": 17,
   "id": "d6020b18",
   "metadata": {},
   "outputs": [
    {
     "data": {
      "text/html": [
       "\n",
       "<style>\n",
       ".container { width:100% !important; }\n",
       "</style>\n"
      ],
      "text/plain": [
       "<IPython.core.display.HTML object>"
      ]
     },
     "execution_count": 17,
     "metadata": {},
     "output_type": "execute_result"
    }
   ],
   "source": [
    "from IPython.core.display import HTML\n",
    "HTML(\"\"\"\n",
    "<style>\n",
    ".container { width:100% !important; }\n",
    "</style>\n",
    "\"\"\")\n"
   ]
  },
  {
   "cell_type": "code",
   "execution_count": 2,
   "id": "14234094",
   "metadata": {},
   "outputs": [
    {
     "data": {
      "text/plain": [
       "<IB connected to 127.0.0.1:4001 clientId=1>"
      ]
     },
     "execution_count": 2,
     "metadata": {},
     "output_type": "execute_result"
    }
   ],
   "source": [
    "from ib_insync import *\n",
    "ib = IB()\n",
    "util.startLoop()\n",
    "ib.connect(port=4001,clientId=1)"
   ]
  },
  {
   "cell_type": "markdown",
   "id": "7edb5647",
   "metadata": {},
   "source": [
    "### Combo Creater Format\n",
    "* Input: List of Dicts with following values\n",
    "    * sec_type in ['option','stock']\n",
    "    * If sec_type == 'option':\n",
    "        * strike\n",
    "        * expiry\n",
    "    * ratio\n",
    "* Output: Bag Contract type for IB-Insync\n",
    "[{'sec_type':'option','right':'call','strike':190,'expiry':'20240322','ratio':1},{'sec_type':'option','right':'call','strike':200,'expiry':'20240322','ratio':-1}])"
   ]
  },
  {
   "cell_type": "code",
   "execution_count": 26,
   "id": "08f98842",
   "metadata": {},
   "outputs": [],
   "source": [
    "bull_call_leg_dict_list=[{'sec_type':'option','right':'call','strike':190,'expiry':'20240322','ratio':1},\n",
    "           {'sec_type':'option','right':'call','strike':200,'expiry':'20240322','ratio':-1}]\n",
    "covered_call_leg_dict_list = [{'sec_type':'stock','ratio':100},\n",
    "           {'sec_type':'option','right':'call','strike':200,'expiry':'20240322','ratio':-1}]"
   ]
  },
  {
   "cell_type": "code",
   "execution_count": 27,
   "id": "2397195c",
   "metadata": {},
   "outputs": [],
   "source": [
    "from typing import Tuple,Union\n",
    "\n",
    "def get_option_contract_from_option_dict(symbol, option_dict):\n",
    "    option_right = option_dict['right']  # Fixed variable name to match context\n",
    "    right = 'C' if option_right == 'call' else 'P'\n",
    "    strike = option_dict['strike']\n",
    "    expiry = option_dict['expiry']\n",
    "    # Removed ratio as it's not used in constructing the Option object\n",
    "    option = Option(symbol=symbol, lastTradeDateOrContractMonth=expiry, strike=strike, right=right, exchange='SMART', currency='USD')\n",
    "    if ib is not None:\n",
    "        ib.qualifyContracts(option)\n",
    "    return option\n",
    "\n",
    "def get_contract_from_leg_dict(symbol, leg_dict):\n",
    "    sec_type = leg_dict['sec_type']\n",
    "    if sec_type == 'option':\n",
    "        return get_option_contract_from_option_dict(symbol, leg_dict)  # Passed leg_dict directly\n",
    "    elif sec_type == 'stock':\n",
    "        stock = Stock(symbol=symbol, exchange='SMART', currency='USD')\n",
    "        if ib is not None:\n",
    "            ib.qualifyContracts(stock)\n",
    "        return stock\n",
    "    else:\n",
    "        raise ValueError(\"sec_type must be 'stock' or 'option'\")  # Raises an error if sec_type is not recognized\n",
    "\n",
    "        \n",
    "def get_combo_from_contract_ratio_list(symbol, contract_ratio_list: list[Tuple[Contract, int]]) -> Bag:\n",
    "    conid_action_ratio_list: list[tuple[int, str, int]] = [(contract.conId,'BUY' if ratio>0 else 'SELL', abs(ratio)) for contract,ratio in contract_ratio_list]\n",
    "    combo_legs: list[ComboLeg] = [ComboLeg(conId=conId,action=action,ratio=ratio,exchange='SMART') for conId,action,ratio in conid_action_ratio_list]\n",
    "    combo: Bag = Bag(symbol=symbol,conId=-1,comboLegs=combo_legs,exchange='SMART',currency='USD')\n",
    "    combo_conId = get_combo_conId(combo)\n",
    "    combo.combo_conId = combo_conId\n",
    "    return combo\n",
    "\n",
    "def get_combo_conId(combo:Bag):\n",
    "    combo_legs = combo.comboLegs\n",
    "    return \"_\".join([str(leg.conId) for leg in combo_legs])\n",
    "\n",
    "def get_combo(symbol, leg_dict_list: list[dict]):\n",
    "    contract_ratio_list = [(get_contract_from_leg_dict(symbol, leg_dict), leg_dict['ratio']) for leg_dict in\n",
    "                           leg_dict_list]\n",
    "    return get_combo_from_contract_ratio_list(symbol, contract_ratio_list)\n"
   ]
  },
  {
   "cell_type": "code",
   "execution_count": 28,
   "id": "9e25cef9",
   "metadata": {},
   "outputs": [
    {
     "data": {
      "text/plain": [
       "Bag(conId=-1, symbol='TSLA', exchange='SMART', currency='USD', comboLegs=[ComboLeg(conId=681737225, ratio=1, action='BUY', exchange='SMART', openClose=0, shortSaleSlot=0, designatedLocation='', exemptCode=-1), ComboLeg(conId=681737259, ratio=1, action='SELL', exchange='SMART', openClose=0, shortSaleSlot=0, designatedLocation='', exemptCode=-1)])"
      ]
     },
     "execution_count": 28,
     "metadata": {},
     "output_type": "execute_result"
    }
   ],
   "source": [
    "bull_call=get_combo(symbol=\"TSLA\",leg_dict_list=bull_call_leg_dict_list)\n",
    "bull_call"
   ]
  },
  {
   "cell_type": "code",
   "execution_count": 29,
   "id": "e8c186d4",
   "metadata": {},
   "outputs": [],
   "source": [
    "ticker_bull_call = ib.reqMktData(bull_call,\"\",False,False)"
   ]
  },
  {
   "cell_type": "code",
   "execution_count": 45,
   "id": "8c8d1403",
   "metadata": {},
   "outputs": [
    {
     "data": {
      "text/plain": [
       "1.685"
      ]
     },
     "execution_count": 45,
     "metadata": {},
     "output_type": "execute_result"
    }
   ],
   "source": [
    "ticker_bull_call.marketPrice()"
   ]
  },
  {
   "cell_type": "markdown",
   "id": "0b6307fe",
   "metadata": {},
   "source": [
    "### You can just use trade.fillEvent"
   ]
  },
  {
   "cell_type": "code",
   "execution_count": 35,
   "id": "159cfa61",
   "metadata": {},
   "outputs": [],
   "source": [
    "def on_fill_event(trade:Trade,fill:Fill):\n",
    "    print(\"ON TRADE FILL EVENT\")\n",
    "    print(\"TRADE ORDER STATUS\",trade.orderStatus.status)\n",
    "    print(\"TRADE CONTRACT\",trade.contract)\n",
    "    print(\"FILL CONTRACT\",fill.contract)\n",
    "    print(\"PERM ID\",fill.execution.permId)\n",
    "    print(\"SHARES\",fill.execution.shares)\n",
    "    print(\"SIDE\",fill.execution.side)\n",
    "    print(\"PRICE\",fill.execution.price)\n",
    "    print(\" \")\n",
    "    print(\" \")\n",
    "    \n",
    "def on_filled_event(trade:Trade):\n",
    "    print(\"ON TRADE FILLED EVENT\")\n",
    "    print(\"TRADE CONTRACT\",trade.contract)\n",
    "    print(\"TRADE ORDER STATUS\",trade.orderStatus.status)\n",
    "    print(\" \")\n",
    "    print(\" \")\n",
    "    \n",
    " \n",
    "def on_execution_details(trade,fill):\n",
    "    print(\"ON EXECUTION DETAILS EVENT\")\n",
    "    print(\"STATUS\",trade.orderStatus.status)\n",
    "    print(\"FILL CONTRACT\",fill.contract)\n",
    "    print(\"SHARES\",fill.execution.shares)\n",
    "    print(\"SIDE\",fill.execution.side)\n",
    "    print(\" \")\n",
    "    print(\" \")\n",
    "    \n",
    "\n",
    "    \n",
    "\n",
    "def place_order_with_callbacks(contract,order):\n",
    "    trade=ib.placeOrder(contract,order)\n",
    "    trade.fillEvent+=on_fill_event\n",
    "    trade.filledEvent+=on_filled_event\n",
    "    return trade\n",
    "ib.execDetailsEvent.clear()\n",
    "ib.execDetailsEvent+=on_execution_details"
   ]
  },
  {
   "cell_type": "code",
   "execution_count": 46,
   "id": "0d402403",
   "metadata": {},
   "outputs": [
    {
     "name": "stdout",
     "output_type": "stream",
     "text": [
      "ON EXECUTION DETAILS EVENT\n",
      "STATUS Submitted\n",
      "FILL CONTRACT Bag(conId=28812380, symbol='TSLA', right='C', exchange='SMART', currency='USD', localSymbol='TSLA', tradingClass='COMB')\n",
      "SHARES 1.0\n",
      "SIDE BOT\n",
      " \n",
      " \n",
      "ON EXECUTION DETAILS EVENT\n",
      "STATUS Filled\n",
      "FILL CONTRACT Option(conId=681737259, symbol='TSLA', lastTradeDateOrContractMonth='20240322', strike=200.0, right='C', multiplier='100', exchange='PSE', currency='USD', localSymbol='TSLA  240322C00200000', tradingClass='TSLA')\n",
      "SHARES 1.0\n",
      "SIDE SLD\n",
      " \n",
      " \n",
      "ON EXECUTION DETAILS EVENT\n",
      "STATUS Filled\n",
      "FILL CONTRACT Option(conId=681737225, symbol='TSLA', lastTradeDateOrContractMonth='20240322', strike=190.0, right='C', multiplier='100', exchange='PSE', currency='USD', localSymbol='TSLA  240322C00190000', tradingClass='TSLA')\n",
      "SHARES 1.0\n",
      "SIDE BOT\n",
      " \n",
      " \n"
     ]
    }
   ],
   "source": [
    "order = LimitOrder(\"BUY\",1,1.71)\n",
    "trade = place_order_with_callbacks(bull_call,order)"
   ]
  },
  {
   "cell_type": "code",
   "execution_count": 41,
   "id": "d10d4de0",
   "metadata": {},
   "outputs": [
    {
     "data": {
      "text/plain": [
       "Option(conId=680390304, symbol='TSLA', lastTradeDateOrContractMonth='20240308', strike=190.0, right='C', multiplier='100', exchange='SMART', currency='USD', localSymbol='TSLA  240308C00190000', tradingClass='TSLA')"
      ]
     },
     "execution_count": 41,
     "metadata": {},
     "output_type": "execute_result"
    }
   ],
   "source": [
    "this_week_call = get_option_contract_from_option_dict('TSLA', {'sec_type':'option','right':'call','strike':190,'expiry':'20240308'})\n",
    "this_week_call"
   ]
  },
  {
   "cell_type": "code",
   "execution_count": 43,
   "id": "6b2fa65e",
   "metadata": {},
   "outputs": [],
   "source": [
    "def on_fill_event(trade:Trade,fill:Fill):\n",
    "    child_action = 'SELL' if fill.execution.side=='BOT' else 'BUY' \n",
    "    qty = fill.execution.shares\n",
    "    price = fill.execution.price\n",
    "    take_profit_price = price + 0.02 if child_action=='SELL' else price - 0.02\n",
    "    child_limit_order = LimitOrder(action=child_action,totalQuantity=qty,lmtPrice=take_profit_price)\n",
    "    if fill.contract.secType=='BAG':\n",
    "        ib.placeOrder(this_week_call,child_limit_order)\n",
    "        "
   ]
  },
  {
   "cell_type": "code",
   "execution_count": 44,
   "id": "77379802",
   "metadata": {},
   "outputs": [],
   "source": [
    "def place_order_with_callbacks(contract,order):\n",
    "    trade=ib.placeOrder(contract,order)\n",
    "    trade.fillEvent+=on_fill_event\n",
    "    return trade"
   ]
  },
  {
   "cell_type": "code",
   "execution_count": 18,
   "id": "d9de7c12",
   "metadata": {},
   "outputs": [
    {
     "data": {
      "text/plain": [
       "OrderStatus(orderId=159, status='PreSubmitted', filled=0.0, remaining=1.0, avgFillPrice=0.0, permId=1108837094, parentId=0, lastFillPrice=0.0, clientId=1, whyHeld='', mktCapPrice=0.0)"
      ]
     },
     "execution_count": 18,
     "metadata": {},
     "output_type": "execute_result"
    },
    {
     "name": "stderr",
     "output_type": "stream",
     "text": [
      "Value (Trade(contract=Bag(conId=-1, symbol='TSLA', exchange='SMART', currency='USD', comboLegs=[ComboLeg(conId=681737225, ratio=1, action='BUY', exchange='SMART', openClose=0, shortSaleSlot=0, designatedLocation='', exemptCode=-1), ComboLeg(conId=681737259, ratio=1, action='SELL', exchange='SMART', openClose=0, shortSaleSlot=0, designatedLocation='', exemptCode=-1)]), order=LimitOrder(orderId=159, clientId=1, permId=1108837094, action='BUY', totalQuantity=1.0, lmtPrice=1.63, auxPrice=0.0), orderStatus=OrderStatus(orderId=159, status='Filled', filled=1.0, remaining=0.0, avgFillPrice=1.63, permId=1108837094, parentId=0, lastFillPrice=1.63, clientId=1, whyHeld='', mktCapPrice=0.0), fills=[Fill(contract=Bag(conId=28812380, symbol='TSLA', right='C', exchange='SMART', currency='USD', localSymbol='TSLA', tradingClass='COMB'), execution=Execution(execId='000318a5.65e7feed.01.01', time=datetime.datetime(2024, 3, 6, 16, 21, 41, tzinfo=datetime.timezone.utc), acctNumber='U8765400', exchange='SMART', side='BOT', shares=1.0, price=1.63, permId=1108837094, clientId=1, orderId=159, liquidation=0, cumQty=1.0, avgPrice=1.63, orderRef='', evRule='', evMultiplier=0.0, modelCode='', lastLiquidity=1), commissionReport=CommissionReport(execId='', commission=0.0, currency='', realizedPNL=0.0, yield_=0.0, yieldRedemptionDate=0), time=datetime.datetime(2024, 3, 6, 16, 21, 42, 267507, tzinfo=datetime.timezone.utc))], log=[TradeLogEntry(time=datetime.datetime(2024, 3, 6, 16, 21, 21, 512338, tzinfo=datetime.timezone.utc), status='PendingSubmit', message='', errorCode=0), TradeLogEntry(time=datetime.datetime(2024, 3, 6, 16, 21, 21, 756577, tzinfo=datetime.timezone.utc), status='PreSubmitted', message='', errorCode=0), TradeLogEntry(time=datetime.datetime(2024, 3, 6, 16, 21, 26, 781684, tzinfo=datetime.timezone.utc), status='Submitted', message='', errorCode=0), TradeLogEntry(time=datetime.datetime(2024, 3, 6, 16, 21, 42, 267507, tzinfo=datetime.timezone.utc), status='Submitted', message='Fill 1.0@1.63', errorCode=0), TradeLogEntry(time=datetime.datetime(2024, 3, 6, 16, 21, 42, 267507, tzinfo=datetime.timezone.utc), status='Filled', message='', errorCode=0)], advancedError=''),) caused exception for event Event<filledEvent, [[None, None, <function on_filled_event at 0x0000021DDB560280>]]>\n",
      "Traceback (most recent call last):\n",
      "  File \"C:\\Users\\adidr\\miniconda3\\envs\\py310\\lib\\site-packages\\eventkit\\event.py\", line 198, in emit\n",
      "    result = func(*args)\n",
      "  File \"C:\\Users\\adidr\\AppData\\Local\\Temp\\ipykernel_7356\\1481248418.py\", line 14, in on_filled_event\n",
      "    print(\"FILL CONTRACT\",fill.contract)\n",
      "NameError: name 'fill' is not defined. Did you mean: 'Fill'?\n"
     ]
    },
    {
     "name": "stdout",
     "output_type": "stream",
     "text": [
      "ON EXECUTION DETAILS FILEVENT\n",
      "STATUS Submitted\n",
      "FILL CONTRACT Bag(conId=28812380, symbol='TSLA', right='C', exchange='SMART', currency='USD', localSymbol='TSLA', tradingClass='COMB')\n",
      "SHARES 1.0\n",
      "SIDE BOT\n",
      "ON TRADE FILL EVENT\n",
      "TRADE ORDER STATUS Submitted\n",
      "TRADE CONTRACT Bag(conId=-1, symbol='TSLA', exchange='SMART', currency='USD', comboLegs=[ComboLeg(conId=681737225, ratio=1, action='BUY', exchange='SMART', openClose=0, shortSaleSlot=0, designatedLocation='', exemptCode=-1), ComboLeg(conId=681737259, ratio=1, action='SELL', exchange='SMART', openClose=0, shortSaleSlot=0, designatedLocation='', exemptCode=-1)])\n",
      "FILL CONTRACT Bag(conId=28812380, symbol='TSLA', right='C', exchange='SMART', currency='USD', localSymbol='TSLA', tradingClass='COMB')\n",
      "PERM ID 1108837094\n",
      "SHARES 1.0\n",
      "SIDE BOT\n",
      "PRICE 1.63\n",
      "ON TRADE FILLED EVENT\n",
      "TRADE CONTRACT Bag(conId=-1, symbol='TSLA', exchange='SMART', currency='USD', comboLegs=[ComboLeg(conId=681737225, ratio=1, action='BUY', exchange='SMART', openClose=0, shortSaleSlot=0, designatedLocation='', exemptCode=-1), ComboLeg(conId=681737259, ratio=1, action='SELL', exchange='SMART', openClose=0, shortSaleSlot=0, designatedLocation='', exemptCode=-1)])\n",
      "ON EXECUTION DETAILS FILEVENT\n",
      "STATUS Filled\n",
      "FILL CONTRACT Option(conId=681737259, symbol='TSLA', lastTradeDateOrContractMonth='20240322', strike=200.0, right='C', multiplier='100', exchange='PSE', currency='USD', localSymbol='TSLA  240322C00200000', tradingClass='TSLA')\n",
      "SHARES 1.0\n",
      "SIDE SLD\n",
      "ON TRADE FILL EVENT\n",
      "TRADE ORDER STATUS Filled\n",
      "TRADE CONTRACT Bag(conId=-1, symbol='TSLA', exchange='SMART', currency='USD', comboLegs=[ComboLeg(conId=681737225, ratio=1, action='BUY', exchange='SMART', openClose=0, shortSaleSlot=0, designatedLocation='', exemptCode=-1), ComboLeg(conId=681737259, ratio=1, action='SELL', exchange='SMART', openClose=0, shortSaleSlot=0, designatedLocation='', exemptCode=-1)])\n",
      "FILL CONTRACT Option(conId=681737259, symbol='TSLA', lastTradeDateOrContractMonth='20240322', strike=200.0, right='C', multiplier='100', exchange='PSE', currency='USD', localSymbol='TSLA  240322C00200000', tradingClass='TSLA')\n",
      "PERM ID 1108837094\n",
      "SHARES 1.0\n",
      "SIDE SLD\n",
      "PRICE 1.33\n",
      "ON EXECUTION DETAILS FILEVENT\n",
      "STATUS Filled\n",
      "FILL CONTRACT Option(conId=681737225, symbol='TSLA', lastTradeDateOrContractMonth='20240322', strike=190.0, right='C', multiplier='100', exchange='PSE', currency='USD', localSymbol='TSLA  240322C00190000', tradingClass='TSLA')\n",
      "SHARES 1.0\n",
      "SIDE BOT\n",
      "ON TRADE FILL EVENT\n",
      "TRADE ORDER STATUS Filled\n",
      "TRADE CONTRACT Bag(conId=-1, symbol='TSLA', exchange='SMART', currency='USD', comboLegs=[ComboLeg(conId=681737225, ratio=1, action='BUY', exchange='SMART', openClose=0, shortSaleSlot=0, designatedLocation='', exemptCode=-1), ComboLeg(conId=681737259, ratio=1, action='SELL', exchange='SMART', openClose=0, shortSaleSlot=0, designatedLocation='', exemptCode=-1)])\n",
      "FILL CONTRACT Option(conId=681737225, symbol='TSLA', lastTradeDateOrContractMonth='20240322', strike=190.0, right='C', multiplier='100', exchange='PSE', currency='USD', localSymbol='TSLA  240322C00190000', tradingClass='TSLA')\n",
      "PERM ID 1108837094\n",
      "SHARES 1.0\n",
      "SIDE BOT\n",
      "PRICE 2.96\n"
     ]
    },
    {
     "name": "stderr",
     "output_type": "stream",
     "text": [
      "Value (Trade(contract=Bag(conId=-1, symbol='TSLA', exchange='SMART', currency='USD', comboLegs=[ComboLeg(conId=681737225, ratio=1, action='BUY', exchange='SMART', openClose=0, shortSaleSlot=0, designatedLocation='', exemptCode=-1), ComboLeg(conId=681737259, ratio=1, action='SELL', exchange='SMART', openClose=0, shortSaleSlot=0, designatedLocation='', exemptCode=-1)]), order=LimitOrder(orderId=158, clientId=1, permId=1108837093, action='BUY', totalQuantity=1.0, lmtPrice=1.62, auxPrice=0.0), orderStatus=OrderStatus(orderId=158, status='Filled', filled=1.0, remaining=0.0, avgFillPrice=1.62, permId=1108837093, parentId=0, lastFillPrice=1.62, clientId=1, whyHeld='', mktCapPrice=0.0), fills=[Fill(contract=Bag(conId=28812380, symbol='TSLA', right='C', exchange='SMART', currency='USD', localSymbol='TSLA', tradingClass='COMB'), execution=Execution(execId='000318a5.65e7feef.01.01', time=datetime.datetime(2024, 3, 6, 16, 21, 46, tzinfo=datetime.timezone.utc), acctNumber='U8765400', exchange='SMART', side='BOT', shares=1.0, price=1.62, permId=1108837093, clientId=1, orderId=158, liquidation=0, cumQty=1.0, avgPrice=1.62, orderRef='', evRule='', evMultiplier=0.0, modelCode='', lastLiquidity=1), commissionReport=CommissionReport(execId='', commission=0.0, currency='', realizedPNL=0.0, yield_=0.0, yieldRedemptionDate=0), time=datetime.datetime(2024, 3, 6, 16, 21, 46, 947346, tzinfo=datetime.timezone.utc))], log=[TradeLogEntry(time=datetime.datetime(2024, 3, 6, 16, 21, 12, 608897, tzinfo=datetime.timezone.utc), status='PendingSubmit', message='', errorCode=0), TradeLogEntry(time=datetime.datetime(2024, 3, 6, 16, 21, 12, 959728, tzinfo=datetime.timezone.utc), status='PreSubmitted', message='', errorCode=0), TradeLogEntry(time=datetime.datetime(2024, 3, 6, 16, 21, 17, 982561, tzinfo=datetime.timezone.utc), status='Submitted', message='', errorCode=0), TradeLogEntry(time=datetime.datetime(2024, 3, 6, 16, 21, 46, 947346, tzinfo=datetime.timezone.utc), status='Submitted', message='Fill 1.0@1.62', errorCode=0), TradeLogEntry(time=datetime.datetime(2024, 3, 6, 16, 21, 46, 948342, tzinfo=datetime.timezone.utc), status='Filled', message='', errorCode=0)], advancedError=''),) caused exception for event Event<filledEvent, [[None, None, <function on_filled_event at 0x0000021DDB560280>]]>\n",
      "Traceback (most recent call last):\n",
      "  File \"C:\\Users\\adidr\\miniconda3\\envs\\py310\\lib\\site-packages\\eventkit\\event.py\", line 198, in emit\n",
      "    result = func(*args)\n",
      "  File \"C:\\Users\\adidr\\AppData\\Local\\Temp\\ipykernel_7356\\1481248418.py\", line 14, in on_filled_event\n",
      "    print(\"FILL CONTRACT\",fill.contract)\n",
      "NameError: name 'fill' is not defined. Did you mean: 'Fill'?\n"
     ]
    },
    {
     "name": "stdout",
     "output_type": "stream",
     "text": [
      "ON EXECUTION DETAILS FILEVENT\n",
      "STATUS Submitted\n",
      "FILL CONTRACT Bag(conId=28812380, symbol='TSLA', right='C', exchange='SMART', currency='USD', localSymbol='TSLA', tradingClass='COMB')\n",
      "SHARES 1.0\n",
      "SIDE BOT\n",
      "ON TRADE FILL EVENT\n",
      "TRADE ORDER STATUS Submitted\n",
      "TRADE CONTRACT Bag(conId=-1, symbol='TSLA', exchange='SMART', currency='USD', comboLegs=[ComboLeg(conId=681737225, ratio=1, action='BUY', exchange='SMART', openClose=0, shortSaleSlot=0, designatedLocation='', exemptCode=-1), ComboLeg(conId=681737259, ratio=1, action='SELL', exchange='SMART', openClose=0, shortSaleSlot=0, designatedLocation='', exemptCode=-1)])\n",
      "FILL CONTRACT Bag(conId=28812380, symbol='TSLA', right='C', exchange='SMART', currency='USD', localSymbol='TSLA', tradingClass='COMB')\n",
      "PERM ID 1108837093\n",
      "SHARES 1.0\n",
      "SIDE BOT\n",
      "PRICE 1.62\n",
      "ON TRADE FILLED EVENT\n",
      "TRADE CONTRACT Bag(conId=-1, symbol='TSLA', exchange='SMART', currency='USD', comboLegs=[ComboLeg(conId=681737225, ratio=1, action='BUY', exchange='SMART', openClose=0, shortSaleSlot=0, designatedLocation='', exemptCode=-1), ComboLeg(conId=681737259, ratio=1, action='SELL', exchange='SMART', openClose=0, shortSaleSlot=0, designatedLocation='', exemptCode=-1)])\n",
      "ON EXECUTION DETAILS FILEVENT\n",
      "STATUS Filled\n",
      "FILL CONTRACT Option(conId=681737259, symbol='TSLA', lastTradeDateOrContractMonth='20240322', strike=200.0, right='C', multiplier='100', exchange='PSE', currency='USD', localSymbol='TSLA  240322C00200000', tradingClass='TSLA')\n",
      "SHARES 1.0\n",
      "SIDE SLD\n",
      "ON TRADE FILL EVENT\n",
      "TRADE ORDER STATUS Filled\n",
      "TRADE CONTRACT Bag(conId=-1, symbol='TSLA', exchange='SMART', currency='USD', comboLegs=[ComboLeg(conId=681737225, ratio=1, action='BUY', exchange='SMART', openClose=0, shortSaleSlot=0, designatedLocation='', exemptCode=-1), ComboLeg(conId=681737259, ratio=1, action='SELL', exchange='SMART', openClose=0, shortSaleSlot=0, designatedLocation='', exemptCode=-1)])\n",
      "FILL CONTRACT Option(conId=681737259, symbol='TSLA', lastTradeDateOrContractMonth='20240322', strike=200.0, right='C', multiplier='100', exchange='PSE', currency='USD', localSymbol='TSLA  240322C00200000', tradingClass='TSLA')\n",
      "PERM ID 1108837093\n",
      "SHARES 1.0\n",
      "SIDE SLD\n",
      "PRICE 1.32\n",
      "ON EXECUTION DETAILS FILEVENT\n",
      "STATUS Filled\n",
      "FILL CONTRACT Option(conId=681737225, symbol='TSLA', lastTradeDateOrContractMonth='20240322', strike=190.0, right='C', multiplier='100', exchange='PSE', currency='USD', localSymbol='TSLA  240322C00190000', tradingClass='TSLA')\n",
      "SHARES 1.0\n",
      "SIDE BOT\n",
      "ON TRADE FILL EVENT\n",
      "TRADE ORDER STATUS Filled\n",
      "TRADE CONTRACT Bag(conId=-1, symbol='TSLA', exchange='SMART', currency='USD', comboLegs=[ComboLeg(conId=681737225, ratio=1, action='BUY', exchange='SMART', openClose=0, shortSaleSlot=0, designatedLocation='', exemptCode=-1), ComboLeg(conId=681737259, ratio=1, action='SELL', exchange='SMART', openClose=0, shortSaleSlot=0, designatedLocation='', exemptCode=-1)])\n",
      "FILL CONTRACT Option(conId=681737225, symbol='TSLA', lastTradeDateOrContractMonth='20240322', strike=190.0, right='C', multiplier='100', exchange='PSE', currency='USD', localSymbol='TSLA  240322C00190000', tradingClass='TSLA')\n",
      "PERM ID 1108837093\n",
      "SHARES 1.0\n",
      "SIDE BOT\n",
      "PRICE 2.94\n"
     ]
    },
    {
     "name": "stderr",
     "output_type": "stream",
     "text": [
      "Value (Trade(contract=Bag(conId=-1, symbol='TSLA', exchange='SMART', currency='USD', comboLegs=[ComboLeg(conId=681737225, ratio=1, action='BUY', exchange='SMART', openClose=0, shortSaleSlot=0, designatedLocation='', exemptCode=-1), ComboLeg(conId=681737259, ratio=1, action='SELL', exchange='SMART', openClose=0, shortSaleSlot=0, designatedLocation='', exemptCode=-1)]), order=LimitOrder(orderId=157, clientId=1, permId=1108837092, action='BUY', totalQuantity=1.0, lmtPrice=1.61, auxPrice=0.0), orderStatus=OrderStatus(orderId=157, status='Filled', filled=1.0, remaining=0.0, avgFillPrice=1.61, permId=1108837092, parentId=0, lastFillPrice=1.61, clientId=1, whyHeld='', mktCapPrice=0.0), fills=[Fill(contract=Bag(conId=28812380, symbol='TSLA', right='C', exchange='SMART', currency='USD', localSymbol='TSLA', tradingClass='COMB'), execution=Execution(execId='000318a5.65e7fef1.01.01', time=datetime.datetime(2024, 3, 6, 16, 22, 31, tzinfo=datetime.timezone.utc), acctNumber='U8765400', exchange='SMART', side='BOT', shares=1.0, price=1.61, permId=1108837092, clientId=1, orderId=157, liquidation=0, cumQty=1.0, avgPrice=1.61, orderRef='', evRule='', evMultiplier=0.0, modelCode='', lastLiquidity=1), commissionReport=CommissionReport(execId='', commission=0.0, currency='', realizedPNL=0.0, yield_=0.0, yieldRedemptionDate=0), time=datetime.datetime(2024, 3, 6, 16, 22, 31, 928054, tzinfo=datetime.timezone.utc))], log=[TradeLogEntry(time=datetime.datetime(2024, 3, 6, 16, 20, 7, 735348, tzinfo=datetime.timezone.utc), status='PendingSubmit', message='', errorCode=0), TradeLogEntry(time=datetime.datetime(2024, 3, 6, 16, 20, 7, 983471, tzinfo=datetime.timezone.utc), status='PreSubmitted', message='', errorCode=0), TradeLogEntry(time=datetime.datetime(2024, 3, 6, 16, 20, 13, 8722, tzinfo=datetime.timezone.utc), status='Submitted', message='', errorCode=0), TradeLogEntry(time=datetime.datetime(2024, 3, 6, 16, 22, 31, 928054, tzinfo=datetime.timezone.utc), status='Submitted', message='Fill 1.0@1.61', errorCode=0), TradeLogEntry(time=datetime.datetime(2024, 3, 6, 16, 22, 31, 928558, tzinfo=datetime.timezone.utc), status='Filled', message='', errorCode=0)], advancedError=''),) caused exception for event Event<filledEvent, [[None, None, <function on_filled_event at 0x0000021DDB560280>]]>\n",
      "Traceback (most recent call last):\n",
      "  File \"C:\\Users\\adidr\\miniconda3\\envs\\py310\\lib\\site-packages\\eventkit\\event.py\", line 198, in emit\n",
      "    result = func(*args)\n",
      "  File \"C:\\Users\\adidr\\AppData\\Local\\Temp\\ipykernel_7356\\1481248418.py\", line 14, in on_filled_event\n",
      "    print(\"FILL CONTRACT\",fill.contract)\n",
      "NameError: name 'fill' is not defined. Did you mean: 'Fill'?\n"
     ]
    },
    {
     "name": "stdout",
     "output_type": "stream",
     "text": [
      "ON EXECUTION DETAILS FILEVENT\n",
      "STATUS Submitted\n",
      "FILL CONTRACT Bag(conId=28812380, symbol='TSLA', right='C', exchange='SMART', currency='USD', localSymbol='TSLA', tradingClass='COMB')\n",
      "SHARES 1.0\n",
      "SIDE BOT\n",
      "ON TRADE FILL EVENT\n",
      "TRADE ORDER STATUS Submitted\n",
      "TRADE CONTRACT Bag(conId=-1, symbol='TSLA', exchange='SMART', currency='USD', comboLegs=[ComboLeg(conId=681737225, ratio=1, action='BUY', exchange='SMART', openClose=0, shortSaleSlot=0, designatedLocation='', exemptCode=-1), ComboLeg(conId=681737259, ratio=1, action='SELL', exchange='SMART', openClose=0, shortSaleSlot=0, designatedLocation='', exemptCode=-1)])\n",
      "FILL CONTRACT Bag(conId=28812380, symbol='TSLA', right='C', exchange='SMART', currency='USD', localSymbol='TSLA', tradingClass='COMB')\n",
      "PERM ID 1108837092\n",
      "SHARES 1.0\n",
      "SIDE BOT\n",
      "PRICE 1.61\n",
      "ON TRADE FILLED EVENT\n",
      "TRADE CONTRACT Bag(conId=-1, symbol='TSLA', exchange='SMART', currency='USD', comboLegs=[ComboLeg(conId=681737225, ratio=1, action='BUY', exchange='SMART', openClose=0, shortSaleSlot=0, designatedLocation='', exemptCode=-1), ComboLeg(conId=681737259, ratio=1, action='SELL', exchange='SMART', openClose=0, shortSaleSlot=0, designatedLocation='', exemptCode=-1)])\n",
      "ON EXECUTION DETAILS FILEVENT\n",
      "STATUS Filled\n",
      "FILL CONTRACT Option(conId=681737259, symbol='TSLA', lastTradeDateOrContractMonth='20240322', strike=200.0, right='C', multiplier='100', exchange='PSE', currency='USD', localSymbol='TSLA  240322C00200000', tradingClass='TSLA')\n",
      "SHARES 1.0\n",
      "SIDE SLD\n",
      "ON TRADE FILL EVENT\n",
      "TRADE ORDER STATUS Filled\n",
      "TRADE CONTRACT Bag(conId=-1, symbol='TSLA', exchange='SMART', currency='USD', comboLegs=[ComboLeg(conId=681737225, ratio=1, action='BUY', exchange='SMART', openClose=0, shortSaleSlot=0, designatedLocation='', exemptCode=-1), ComboLeg(conId=681737259, ratio=1, action='SELL', exchange='SMART', openClose=0, shortSaleSlot=0, designatedLocation='', exemptCode=-1)])\n",
      "FILL CONTRACT Option(conId=681737259, symbol='TSLA', lastTradeDateOrContractMonth='20240322', strike=200.0, right='C', multiplier='100', exchange='PSE', currency='USD', localSymbol='TSLA  240322C00200000', tradingClass='TSLA')\n",
      "PERM ID 1108837092\n",
      "SHARES 1.0\n",
      "SIDE SLD\n",
      "PRICE 1.3\n",
      "ON EXECUTION DETAILS FILEVENT\n",
      "STATUS Filled\n",
      "FILL CONTRACT Option(conId=681737225, symbol='TSLA', lastTradeDateOrContractMonth='20240322', strike=190.0, right='C', multiplier='100', exchange='PSE', currency='USD', localSymbol='TSLA  240322C00190000', tradingClass='TSLA')\n",
      "SHARES 1.0\n",
      "SIDE BOT\n",
      "ON TRADE FILL EVENT\n",
      "TRADE ORDER STATUS Filled\n",
      "TRADE CONTRACT Bag(conId=-1, symbol='TSLA', exchange='SMART', currency='USD', comboLegs=[ComboLeg(conId=681737225, ratio=1, action='BUY', exchange='SMART', openClose=0, shortSaleSlot=0, designatedLocation='', exemptCode=-1), ComboLeg(conId=681737259, ratio=1, action='SELL', exchange='SMART', openClose=0, shortSaleSlot=0, designatedLocation='', exemptCode=-1)])\n",
      "FILL CONTRACT Option(conId=681737225, symbol='TSLA', lastTradeDateOrContractMonth='20240322', strike=190.0, right='C', multiplier='100', exchange='PSE', currency='USD', localSymbol='TSLA  240322C00190000', tradingClass='TSLA')\n",
      "PERM ID 1108837092\n",
      "SHARES 1.0\n",
      "SIDE BOT\n",
      "PRICE 2.91\n"
     ]
    },
    {
     "name": "stderr",
     "output_type": "stream",
     "text": [
      "Value (Trade(contract=Bag(conId=-1, symbol='TSLA', exchange='SMART', currency='USD', comboLegs=[ComboLeg(conId=681737225, ratio=1, action='BUY', exchange='SMART', openClose=0, shortSaleSlot=0, designatedLocation='', exemptCode=-1), ComboLeg(conId=681737259, ratio=1, action='SELL', exchange='SMART', openClose=0, shortSaleSlot=0, designatedLocation='', exemptCode=-1)]), order=LimitOrder(orderId=156, clientId=1, permId=1108837091, action='BUY', totalQuantity=1.0, lmtPrice=1.59, auxPrice=0.0), orderStatus=OrderStatus(orderId=156, status='Filled', filled=1.0, remaining=0.0, avgFillPrice=1.59, permId=1108837091, parentId=0, lastFillPrice=1.59, clientId=1, whyHeld='', mktCapPrice=0.0), fills=[Fill(contract=Bag(conId=28812380, symbol='TSLA', right='C', exchange='SMART', currency='USD', localSymbol='TSLA', tradingClass='COMB'), execution=Execution(execId='000318a5.65e7fef3.01.01', time=datetime.datetime(2024, 3, 6, 16, 25, 47, tzinfo=datetime.timezone.utc), acctNumber='U8765400', exchange='SMART', side='BOT', shares=1.0, price=1.59, permId=1108837091, clientId=1, orderId=156, liquidation=0, cumQty=1.0, avgPrice=1.59, orderRef='', evRule='', evMultiplier=0.0, modelCode='', lastLiquidity=1), commissionReport=CommissionReport(execId='', commission=0.0, currency='', realizedPNL=0.0, yield_=0.0, yieldRedemptionDate=0), time=datetime.datetime(2024, 3, 6, 16, 25, 48, 267394, tzinfo=datetime.timezone.utc))], log=[TradeLogEntry(time=datetime.datetime(2024, 3, 6, 16, 18, 35, 51720, tzinfo=datetime.timezone.utc), status='PendingSubmit', message='', errorCode=0), TradeLogEntry(time=datetime.datetime(2024, 3, 6, 16, 18, 35, 303466, tzinfo=datetime.timezone.utc), status='PreSubmitted', message='', errorCode=0), TradeLogEntry(time=datetime.datetime(2024, 3, 6, 16, 18, 40, 334893, tzinfo=datetime.timezone.utc), status='Submitted', message='', errorCode=0), TradeLogEntry(time=datetime.datetime(2024, 3, 6, 16, 25, 48, 267394, tzinfo=datetime.timezone.utc), status='Submitted', message='Fill 1.0@1.59', errorCode=0), TradeLogEntry(time=datetime.datetime(2024, 3, 6, 16, 25, 48, 268407, tzinfo=datetime.timezone.utc), status='Filled', message='', errorCode=0)], advancedError=''),) caused exception for event Event<filledEvent, [[None, None, <function on_filled_event at 0x0000021DDB560280>]]>\n",
      "Traceback (most recent call last):\n",
      "  File \"C:\\Users\\adidr\\miniconda3\\envs\\py310\\lib\\site-packages\\eventkit\\event.py\", line 198, in emit\n",
      "    result = func(*args)\n",
      "  File \"C:\\Users\\adidr\\AppData\\Local\\Temp\\ipykernel_7356\\1481248418.py\", line 14, in on_filled_event\n",
      "    print(\"FILL CONTRACT\",fill.contract)\n",
      "NameError: name 'fill' is not defined. Did you mean: 'Fill'?\n"
     ]
    },
    {
     "name": "stdout",
     "output_type": "stream",
     "text": [
      "ON EXECUTION DETAILS FILEVENT\n",
      "STATUS Submitted\n",
      "FILL CONTRACT Bag(conId=28812380, symbol='TSLA', right='C', exchange='SMART', currency='USD', localSymbol='TSLA', tradingClass='COMB')\n",
      "SHARES 1.0\n",
      "SIDE BOT\n",
      "ON TRADE FILL EVENT\n",
      "TRADE ORDER STATUS Submitted\n",
      "TRADE CONTRACT Bag(conId=-1, symbol='TSLA', exchange='SMART', currency='USD', comboLegs=[ComboLeg(conId=681737225, ratio=1, action='BUY', exchange='SMART', openClose=0, shortSaleSlot=0, designatedLocation='', exemptCode=-1), ComboLeg(conId=681737259, ratio=1, action='SELL', exchange='SMART', openClose=0, shortSaleSlot=0, designatedLocation='', exemptCode=-1)])\n",
      "FILL CONTRACT Bag(conId=28812380, symbol='TSLA', right='C', exchange='SMART', currency='USD', localSymbol='TSLA', tradingClass='COMB')\n",
      "PERM ID 1108837091\n",
      "SHARES 1.0\n",
      "SIDE BOT\n",
      "PRICE 1.59\n",
      "ON TRADE FILLED EVENT\n",
      "TRADE CONTRACT Bag(conId=-1, symbol='TSLA', exchange='SMART', currency='USD', comboLegs=[ComboLeg(conId=681737225, ratio=1, action='BUY', exchange='SMART', openClose=0, shortSaleSlot=0, designatedLocation='', exemptCode=-1), ComboLeg(conId=681737259, ratio=1, action='SELL', exchange='SMART', openClose=0, shortSaleSlot=0, designatedLocation='', exemptCode=-1)])\n",
      "ON EXECUTION DETAILS FILEVENT\n",
      "STATUS Filled\n",
      "FILL CONTRACT Option(conId=681737259, symbol='TSLA', lastTradeDateOrContractMonth='20240322', strike=200.0, right='C', multiplier='100', exchange='PSE', currency='USD', localSymbol='TSLA  240322C00200000', tradingClass='TSLA')\n",
      "SHARES 1.0\n",
      "SIDE SLD\n",
      "ON TRADE FILL EVENT\n",
      "TRADE ORDER STATUS Filled\n",
      "TRADE CONTRACT Bag(conId=-1, symbol='TSLA', exchange='SMART', currency='USD', comboLegs=[ComboLeg(conId=681737225, ratio=1, action='BUY', exchange='SMART', openClose=0, shortSaleSlot=0, designatedLocation='', exemptCode=-1), ComboLeg(conId=681737259, ratio=1, action='SELL', exchange='SMART', openClose=0, shortSaleSlot=0, designatedLocation='', exemptCode=-1)])\n",
      "FILL CONTRACT Option(conId=681737259, symbol='TSLA', lastTradeDateOrContractMonth='20240322', strike=200.0, right='C', multiplier='100', exchange='PSE', currency='USD', localSymbol='TSLA  240322C00200000', tradingClass='TSLA')\n",
      "PERM ID 1108837091\n",
      "SHARES 1.0\n",
      "SIDE SLD\n",
      "PRICE 1.28\n",
      "ON EXECUTION DETAILS FILEVENT\n",
      "STATUS Filled\n",
      "FILL CONTRACT Option(conId=681737225, symbol='TSLA', lastTradeDateOrContractMonth='20240322', strike=190.0, right='C', multiplier='100', exchange='PSE', currency='USD', localSymbol='TSLA  240322C00190000', tradingClass='TSLA')\n",
      "SHARES 1.0\n",
      "SIDE BOT\n",
      "ON TRADE FILL EVENT\n",
      "TRADE ORDER STATUS Filled\n",
      "TRADE CONTRACT Bag(conId=-1, symbol='TSLA', exchange='SMART', currency='USD', comboLegs=[ComboLeg(conId=681737225, ratio=1, action='BUY', exchange='SMART', openClose=0, shortSaleSlot=0, designatedLocation='', exemptCode=-1), ComboLeg(conId=681737259, ratio=1, action='SELL', exchange='SMART', openClose=0, shortSaleSlot=0, designatedLocation='', exemptCode=-1)])\n",
      "FILL CONTRACT Option(conId=681737225, symbol='TSLA', lastTradeDateOrContractMonth='20240322', strike=190.0, right='C', multiplier='100', exchange='PSE', currency='USD', localSymbol='TSLA  240322C00190000', tradingClass='TSLA')\n",
      "PERM ID 1108837091\n",
      "SHARES 1.0\n",
      "SIDE BOT\n",
      "PRICE 2.87\n"
     ]
    }
   ],
   "source": [
    "trade.orderStatus"
   ]
  },
  {
   "cell_type": "raw",
   "id": "aaa23d3b",
   "metadata": {},
   "source": [
    "trade = place_order_with_callbacks(bull_call,order)"
   ]
  },
  {
   "cell_type": "code",
   "execution_count": 10,
   "id": "3b96eb96",
   "metadata": {},
   "outputs": [
    {
     "data": {
      "text/plain": [
       "3"
      ]
     },
     "execution_count": 10,
     "metadata": {},
     "output_type": "execute_result"
    }
   ],
   "source": [
    "3"
   ]
  },
  {
   "cell_type": "code",
   "execution_count": null,
   "id": "c20ecf2c",
   "metadata": {},
   "outputs": [],
   "source": []
  },
  {
   "cell_type": "code",
   "execution_count": null,
   "id": "255fa540",
   "metadata": {},
   "outputs": [],
   "source": [
    "changed_strike_call = \n",
    "order = LimitOrder(\"BUY\",1,1.59)\n",
    "trade = place_order_with_callbacks(bull_call,order)"
   ]
  }
 ],
 "metadata": {
  "kernelspec": {
   "display_name": "py310",
   "language": "python",
   "name": "py310"
  },
  "language_info": {
   "codemirror_mode": {
    "name": "ipython",
    "version": 3
   },
   "file_extension": ".py",
   "mimetype": "text/x-python",
   "name": "python",
   "nbconvert_exporter": "python",
   "pygments_lexer": "ipython3",
   "version": "3.10.13"
  }
 },
 "nbformat": 4,
 "nbformat_minor": 5
}
