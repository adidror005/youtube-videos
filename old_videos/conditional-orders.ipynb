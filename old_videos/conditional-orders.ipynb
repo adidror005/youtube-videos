{
 "cells": [
  {
   "cell_type": "code",
   "execution_count": 1,
   "id": "f8e8337c",
   "metadata": {},
   "outputs": [
    {
     "data": {
      "text/plain": [
       "<IB connected to 127.0.0.1:4004 clientId=0>"
      ]
     },
     "execution_count": 1,
     "metadata": {},
     "output_type": "execute_result"
    }
   ],
   "source": [
    "from ib_insync import *\n",
    "ib = IB()\n",
    "util.startLoop()\n",
    "ib.connect(port=4004,clientId=0)"
   ]
  },
  {
   "cell_type": "markdown",
   "id": "489309b4",
   "metadata": {},
   "source": [
    "### Time based condition"
   ]
  },
  {
   "cell_type": "code",
   "execution_count": 123,
   "id": "a99e1b74",
   "metadata": {},
   "outputs": [
    {
     "data": {
      "text/plain": [
       "OrderStatus(orderId=3932, status='PreSubmitted', filled=0.0, remaining=1.0, avgFillPrice=0.0, permId=1077044632, parentId=0, lastFillPrice=0.0, clientId=0, whyHeld='', mktCapPrice=0.0)"
      ]
     },
     "execution_count": 123,
     "metadata": {},
     "output_type": "execute_result"
    }
   ],
   "source": [
    "conditional_order = MarketOrder(action='BUY',totalQuantity=1)\n",
    "timeCondition = TimeCondition()\n",
    "timeCondition.time = \"20240109 15:10:00\"  # Format: YYYYMMDD HH:MM:SS\n",
    "timeCondition.conjunction='a'\n",
    "timeCondition.isMore=True\n",
    "conditional_order.conditions.append(timeCondition)\n",
    "nvda = Stock('NVDA', 'SMART', 'USD')\n",
    "ib.qualifyContracts(nvda)\n",
    "priceCondition=PriceCondition(conId=nvda.conId, conjunction='a',exch=\"SMART\", isMore=True, price=537)\n",
    "conditional_order.conditions.append(priceCondition)\n",
    "pctChangeCondition = PercentChangeCondition(\n",
    "    changePercent=4.0,  # 2 percent change\n",
    "    conId=nvda.conId, \n",
    "    exch='SMART'\n",
    ")\n",
    "conditional_order.conditions.append(pctChangeCondition)\n",
    "\n",
    "contract=Stock(\"TSLA\",exchange='SMART',currency='USD')\n",
    "ib.qualifyContracts(contract)\n",
    "trade=ib.placeOrder(contract,conditional_order)\n",
    "ib.sleep(3)\n",
    "trade.orderStatus"
   ]
  },
  {
   "cell_type": "code",
   "execution_count": 124,
   "id": "b4d197c8",
   "metadata": {},
   "outputs": [
    {
     "data": {
      "text/plain": [
       "datetime.datetime(2024, 1, 9, 15, 12, 0, 110656)"
      ]
     },
     "execution_count": 124,
     "metadata": {},
     "output_type": "execute_result"
    }
   ],
   "source": [
    "import datetime\n",
    "datetime.datetime.now()"
   ]
  },
  {
   "cell_type": "code",
   "execution_count": 127,
   "id": "7b46a3c9",
   "metadata": {},
   "outputs": [
    {
     "data": {
      "text/plain": [
       "OrderStatus(orderId=3932, status='PreSubmitted', filled=0.0, remaining=1.0, avgFillPrice=0.0, permId=1077044632, parentId=0, lastFillPrice=0.0, clientId=0, whyHeld='', mktCapPrice=0.0)"
      ]
     },
     "execution_count": 127,
     "metadata": {},
     "output_type": "execute_result"
    }
   ],
   "source": [
    "trade.orderStatus"
   ]
  },
  {
   "cell_type": "code",
   "execution_count": null,
   "id": "7e6e6b8b",
   "metadata": {},
   "outputs": [],
   "source": []
  },
  {
   "cell_type": "code",
   "execution_count": 53,
   "id": "9f87b9cf",
   "metadata": {},
   "outputs": [
    {
     "data": {
      "text/plain": [
       "OrderStatus(orderId=3900, status='PreSubmitted', filled=0.0, remaining=1.0, avgFillPrice=0.0, permId=1077044622, parentId=0, lastFillPrice=0.0, clientId=0, whyHeld='', mktCapPrice=0.0)"
      ]
     },
     "execution_count": 53,
     "metadata": {},
     "output_type": "execute_result"
    }
   ],
   "source": [
    "trade=ib.placeOrder(contract,conditional_order)\n",
    "ib.sleep(3)\n",
    "trade.orderStatus"
   ]
  },
  {
   "cell_type": "code",
   "execution_count": 54,
   "id": "51ecb4f2",
   "metadata": {},
   "outputs": [
    {
     "data": {
      "text/plain": [
       "MarketOrder(orderId=3900, permId=1077044622, action='BUY', totalQuantity=1.0, lmtPrice=0.0, auxPrice=0.0, conditions=[TimeCondition(condType=3, conjunction='a', isMore=True, time='20240109 14:53:00'), PriceCondition(condType=1, conjunction='a', isMore=True, price=550, conId=4815747, exch='SMART', triggerMethod=0)])"
      ]
     },
     "execution_count": 54,
     "metadata": {},
     "output_type": "execute_result"
    }
   ],
   "source": [
    "trade.order\n"
   ]
  },
  {
   "cell_type": "code",
   "execution_count": 143,
   "id": "ab0a4b28",
   "metadata": {},
   "outputs": [],
   "source": [
    "]"
   ]
  },
  {
   "cell_type": "code",
   "execution_count": 58,
   "id": "90b58925",
   "metadata": {},
   "outputs": [
    {
     "data": {
      "text/plain": [
       "OrderStatus(orderId=3900, status='Filled', filled=1.0, remaining=0.0, avgFillPrice=234.08, permId=1077044622, parentId=0, lastFillPrice=234.08, clientId=0, whyHeld='', mktCapPrice=0.0)"
      ]
     },
     "execution_count": 58,
     "metadata": {},
     "output_type": "execute_result"
    }
   ],
   "source": [
    "trade.orderStatus"
   ]
  },
  {
   "cell_type": "code",
   "execution_count": 145,
   "id": "a19fbb5c",
   "metadata": {},
   "outputs": [
    {
     "data": {
      "text/plain": [
       "<bound method IB.placeOrder of <IB connected to 127.0.0.1:4003 clientId=0>>"
      ]
     },
     "execution_count": 145,
     "metadata": {},
     "output_type": "execute_result"
    }
   ],
   "source": [
    "ib.placeOrder"
   ]
  },
  {
   "cell_type": "code",
   "execution_count": 24,
   "id": "c4eaa7df",
   "metadata": {},
   "outputs": [
    {
     "data": {
      "text/plain": [
       "MarketOrder(orderId=322, permId=951219239, action='BUY', totalQuantity=1.0, lmtPrice=0.0, auxPrice=0.0, conditions=[TimeCondition(condType=3, conjunction='a', isMore=True, time='20240109 13:12:00')])"
      ]
     },
     "execution_count": 24,
     "metadata": {},
     "output_type": "execute_result"
    }
   ],
   "source": [
    "trade.order"
   ]
  },
  {
   "cell_type": "code",
   "execution_count": 166,
   "id": "1fd91413",
   "metadata": {},
   "outputs": [
    {
     "name": "stdout",
     "output_type": "stream",
     "text": [
      "Time zone: Eastern Standard Time\n"
     ]
    },
    {
     "name": "stderr",
     "output_type": "stream",
     "text": [
      "Peer closed connection.\n"
     ]
    }
   ],
   "source": [
    "import datetime\n",
    "\n",
    "# Get the current time and date\n",
    "current_time = datetime.datetime.now()\n",
    "\n",
    "# Get the time zone information\n",
    "time_zone = current_time.astimezone().tzinfo\n",
    "\n",
    "# Print the time zone information\n",
    "print(\"Time zone:\", time_zone)\n"
   ]
  },
  {
   "cell_type": "code",
   "execution_count": 6,
   "id": "12369b71",
   "metadata": {},
   "outputs": [],
   "source": [
    "ticker = ib.reqMktData(contract,\"\",False,False)\n"
   ]
  },
  {
   "cell_type": "code",
   "execution_count": 7,
   "id": "31b39455",
   "metadata": {},
   "outputs": [],
   "source": [
    "import numpy as np\n",
    "def onTickerUpdate(ticker):\n",
    "    global trade\n",
    "    trade.order.lmtPrice=np.round(ticker.midpoint(),2) \n",
    "    trade=ib.placeOrder(contract,trade.order)"
   ]
  },
  {
   "cell_type": "code",
   "execution_count": 8,
   "id": "15e0a924",
   "metadata": {},
   "outputs": [],
   "source": [
    "ticker.updateEvent+=onTickerUpdate"
   ]
  },
  {
   "cell_type": "code",
   "execution_count": 18,
   "id": "b464488c",
   "metadata": {},
   "outputs": [
    {
     "data": {
      "text/plain": [
       "Order(orderId=3855, permId=1899152479, action='BUY', totalQuantity=1.0, orderType='MKT', lmtPrice=234.66, auxPrice=0.0, outsideRth=True, conditions=[TimeCondition(condType=3, conjunction='a', isMore=True, time='20240109 12:59:00')])"
      ]
     },
     "execution_count": 18,
     "metadata": {},
     "output_type": "execute_result"
    }
   ],
   "source": [
    "\n",
    "trade.orer"
   ]
  },
  {
   "cell_type": "code",
   "execution_count": 17,
   "id": "c3cc7de0",
   "metadata": {},
   "outputs": [
    {
     "data": {
      "text/plain": [
       "'PreSubmitted'"
      ]
     },
     "execution_count": 17,
     "metadata": {},
     "output_type": "execute_result"
    }
   ],
   "source": [
    "trade.orderStatus.status"
   ]
  },
  {
   "cell_type": "code",
   "execution_count": null,
   "id": "84ed84b2",
   "metadata": {},
   "outputs": [],
   "source": []
  },
  {
   "cell_type": "code",
   "execution_count": null,
   "id": "3c89b64b",
   "metadata": {},
   "outputs": [],
   "source": []
  }
 ],
 "metadata": {
  "kernelspec": {
   "display_name": "py310",
   "language": "python",
   "name": "py310"
  },
  "language_info": {
   "codemirror_mode": {
    "name": "ipython",
    "version": 3
   },
   "file_extension": ".py",
   "mimetype": "text/x-python",
   "name": "python",
   "nbconvert_exporter": "python",
   "pygments_lexer": "ipython3",
   "version": "3.10.13"
  }
 },
 "nbformat": 4,
 "nbformat_minor": 5
}
