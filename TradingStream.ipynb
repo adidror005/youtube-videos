{
  "cells": [
    {
      "cell_type": "markdown",
      "metadata": {
        "id": "view-in-github",
        "colab_type": "text"
      },
      "source": [
        "<a href=\"https://colab.research.google.com/github/adidror005/youtube-videos/blob/main/TradingStream.ipynb\" target=\"_parent\"><img src=\"https://colab.research.google.com/assets/colab-badge.svg\" alt=\"Open In Colab\"/></a>"
      ]
    },
    {
      "cell_type": "markdown",
      "metadata": {
        "id": "WBFiHh7B4i6Q"
      },
      "source": [
        "# Setup\n",
        "\n",
        "### Install Python SDK\n"
      ]
    },
    {
      "cell_type": "code",
      "execution_count": 1,
      "metadata": {
        "colab": {
          "base_uri": "https://localhost:8080/"
        },
        "id": "hOR_HPraHxRC",
        "outputId": "83b3b327-0f31-497b-e3d9-0be89757ce4e"
      },
      "outputs": [
        {
          "output_type": "stream",
          "name": "stdout",
          "text": [
            "Collecting alpaca-py\n",
            "  Downloading alpaca_py-0.40.0-py3-none-any.whl.metadata (13 kB)\n",
            "Requirement already satisfied: msgpack<2.0.0,>=1.0.3 in /usr/local/lib/python3.11/dist-packages (from alpaca-py) (1.1.0)\n",
            "Requirement already satisfied: pandas>=1.5.3 in /usr/local/lib/python3.11/dist-packages (from alpaca-py) (2.2.2)\n",
            "Requirement already satisfied: pydantic<3.0.0,>=2.0.3 in /usr/local/lib/python3.11/dist-packages (from alpaca-py) (2.11.4)\n",
            "Requirement already satisfied: requests<3.0.0,>=2.30.0 in /usr/local/lib/python3.11/dist-packages (from alpaca-py) (2.32.3)\n",
            "Collecting sseclient-py<2.0.0,>=1.7.2 (from alpaca-py)\n",
            "  Downloading sseclient_py-1.8.0-py2.py3-none-any.whl.metadata (2.0 kB)\n",
            "Requirement already satisfied: websockets>=10.4 in /usr/local/lib/python3.11/dist-packages (from alpaca-py) (15.0.1)\n",
            "Requirement already satisfied: numpy>=1.23.2 in /usr/local/lib/python3.11/dist-packages (from pandas>=1.5.3->alpaca-py) (2.0.2)\n",
            "Requirement already satisfied: python-dateutil>=2.8.2 in /usr/local/lib/python3.11/dist-packages (from pandas>=1.5.3->alpaca-py) (2.9.0.post0)\n",
            "Requirement already satisfied: pytz>=2020.1 in /usr/local/lib/python3.11/dist-packages (from pandas>=1.5.3->alpaca-py) (2025.2)\n",
            "Requirement already satisfied: tzdata>=2022.7 in /usr/local/lib/python3.11/dist-packages (from pandas>=1.5.3->alpaca-py) (2025.2)\n",
            "Requirement already satisfied: annotated-types>=0.6.0 in /usr/local/lib/python3.11/dist-packages (from pydantic<3.0.0,>=2.0.3->alpaca-py) (0.7.0)\n",
            "Requirement already satisfied: pydantic-core==2.33.2 in /usr/local/lib/python3.11/dist-packages (from pydantic<3.0.0,>=2.0.3->alpaca-py) (2.33.2)\n",
            "Requirement already satisfied: typing-extensions>=4.12.2 in /usr/local/lib/python3.11/dist-packages (from pydantic<3.0.0,>=2.0.3->alpaca-py) (4.13.2)\n",
            "Requirement already satisfied: typing-inspection>=0.4.0 in /usr/local/lib/python3.11/dist-packages (from pydantic<3.0.0,>=2.0.3->alpaca-py) (0.4.0)\n",
            "Requirement already satisfied: charset-normalizer<4,>=2 in /usr/local/lib/python3.11/dist-packages (from requests<3.0.0,>=2.30.0->alpaca-py) (3.4.2)\n",
            "Requirement already satisfied: idna<4,>=2.5 in /usr/local/lib/python3.11/dist-packages (from requests<3.0.0,>=2.30.0->alpaca-py) (3.10)\n",
            "Requirement already satisfied: urllib3<3,>=1.21.1 in /usr/local/lib/python3.11/dist-packages (from requests<3.0.0,>=2.30.0->alpaca-py) (2.4.0)\n",
            "Requirement already satisfied: certifi>=2017.4.17 in /usr/local/lib/python3.11/dist-packages (from requests<3.0.0,>=2.30.0->alpaca-py) (2025.4.26)\n",
            "Requirement already satisfied: six>=1.5 in /usr/local/lib/python3.11/dist-packages (from python-dateutil>=2.8.2->pandas>=1.5.3->alpaca-py) (1.17.0)\n",
            "Downloading alpaca_py-0.40.0-py3-none-any.whl (121 kB)\n",
            "\u001b[2K   \u001b[90m━━━━━━━━━━━━━━━━━━━━━━━━━━━━━━━━━━━━━━━━\u001b[0m \u001b[32m121.7/121.7 kB\u001b[0m \u001b[31m4.6 MB/s\u001b[0m eta \u001b[36m0:00:00\u001b[0m\n",
            "\u001b[?25hDownloading sseclient_py-1.8.0-py2.py3-none-any.whl (8.8 kB)\n",
            "Installing collected packages: sseclient-py, alpaca-py\n",
            "Successfully installed alpaca-py-0.40.0 sseclient-py-1.8.0\n"
          ]
        }
      ],
      "source": [
        "!pip install alpaca-py"
      ]
    },
    {
      "cell_type": "markdown",
      "metadata": {
        "id": "YksmyNWk45op"
      },
      "source": [
        "### Grab API key and Secret"
      ]
    },
    {
      "cell_type": "code",
      "execution_count": 2,
      "metadata": {
        "id": "gNadZhiAH0Cz"
      },
      "outputs": [],
      "source": [
        "from google.colab import userdata\n",
        "ALPACA_API_KEY = userdata.get('ALPACA_API_KEY')\n",
        "ALPACA_API_SECRET = userdata.get('ALPACA_API_SECRET')"
      ]
    },
    {
      "cell_type": "markdown",
      "metadata": {
        "id": "sHtVhd4248FR"
      },
      "source": [
        "### Connect to Trading Client"
      ]
    },
    {
      "cell_type": "code",
      "execution_count": 3,
      "metadata": {
        "id": "S-1nNEljH3Kw"
      },
      "outputs": [],
      "source": [
        "from alpaca.trading.client import TradingClient\n",
        "trading_client = TradingClient(ALPACA_API_KEY, ALPACA_API_SECRET, paper=True)"
      ]
    },
    {
      "cell_type": "markdown",
      "metadata": {
        "id": "zTKCQC8_GP9P"
      },
      "source": [
        "### Nest_Asnycio\n",
        "* Needed for running asyncio in Jupyter Credit Ewald De Wit!"
      ]
    },
    {
      "cell_type": "code",
      "execution_count": 3,
      "metadata": {
        "id": "6IppPUq9D2kD"
      },
      "outputs": [],
      "source": []
    },
    {
      "cell_type": "markdown",
      "metadata": {
        "id": "P88J6XKN64m4"
      },
      "source": [
        "# Trading Stream\n",
        "\n",
        "### Where we can handle events related to orders we placed.\n",
        "For example,\n",
        "* New Order\n",
        "* Replaced Order\n",
        "* Filled Ordre\n",
        "\n",
        "### Initialize Trading Stream"
      ]
    },
    {
      "cell_type": "code",
      "execution_count": 3,
      "metadata": {
        "id": "0W6B5FfP66yw"
      },
      "outputs": [],
      "source": []
    },
    {
      "cell_type": "markdown",
      "metadata": {
        "id": "7c2Ia5CBXiqv"
      },
      "source": [
        "### Example 1: Very Basic Example of TradingStream Couroutine"
      ]
    },
    {
      "cell_type": "markdown",
      "metadata": {
        "id": "kmVE3zILdWxh"
      },
      "source": [
        "### Subscribe to \"Trade\" Updates\n",
        "**Note** I wish they could rename it because this can be confusing from market data trade updates..."
      ]
    },
    {
      "cell_type": "code",
      "execution_count": null,
      "metadata": {
        "id": "Or_NSauUGMsM"
      },
      "outputs": [],
      "source": [
        "async def on_order_update(trade_event:TradeUpdate):\n",
        "    status = trade_event.order.status\n",
        "    side = trade_event.order.side\n",
        "    qty_filled = trade_event.qty\n",
        "    price_filled = trade_event.price\n",
        "    cum_filled = trade_event.order.filled_qty\n",
        "    total_qty = trade_event.order.qty\n",
        "    symbol = trade_event.order.symbol\n",
        "    print(f\"Update for order {trade_event.order.id}\")\n",
        "    print(f\"Order Status: {status}\")\n",
        "    print(f\"Filled: {side} {qty_filled} {symbol} at {price_filled}\")\n",
        "    print(f\"Total Filled: {cum_filled}/{total_qty} {symbol}\")\n"
      ]
    },
    {
      "cell_type": "markdown",
      "metadata": {
        "id": "xGFI0T168t4_"
      },
      "source": [
        "### Run the Websocket Stream\n",
        "* This is blocking later we can try the \"non-blocking\" version."
      ]
    },
    {
      "cell_type": "code",
      "execution_count": 3,
      "metadata": {
        "id": "02c7vxdHGNDI"
      },
      "outputs": [],
      "source": []
    },
    {
      "cell_type": "markdown",
      "metadata": {
        "id": "aoJNXUs8GEOn"
      },
      "source": [
        "### Let's trigger a take profit 1% Higher after a buy fill"
      ]
    },
    {
      "cell_type": "code",
      "execution_count": null,
      "metadata": {
        "id": "gIcOTp1oJsM6"
      },
      "outputs": [],
      "source": [
        "from alpaca.trading.models import TradeUpdate\n",
        "from alpaca.trading.enums import OrderStatus, OrderSide\n",
        "from alpaca.trading.requests import LimitOrderRequest\n",
        "from alpaca.trading.enums import TimeInForce\n",
        "import numpy as np\n",
        "\n",
        "trading_stream = TradingStream(ALPACA_API_KEY, ALPACA_API_SECRET)\n",
        "tp_pct = 0.01\n",
        "\n"
      ]
    },
    {
      "cell_type": "markdown",
      "source": [
        "### Subsribe to Trade Updates and Run"
      ],
      "metadata": {
        "id": "Pnl2CNP3F9Mn"
      }
    }
  ],
  "metadata": {
    "colab": {
      "provenance": [],
      "authorship_tag": "ABX9TyOqnkS/rNTD19KyTKCKlHwo",
      "include_colab_link": true
    },
    "kernelspec": {
      "display_name": "Python 3",
      "name": "python3"
    },
    "language_info": {
      "name": "python"
    }
  },
  "nbformat": 4,
  "nbformat_minor": 0
}