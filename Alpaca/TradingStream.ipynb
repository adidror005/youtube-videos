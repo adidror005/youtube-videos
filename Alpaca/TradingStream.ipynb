{
  "cells": [
    {
      "cell_type": "markdown",
      "metadata": {
        "id": "view-in-github",
        "colab_type": "text"
      },
      "source": [
        "<a href=\"https://colab.research.google.com/github/adidror005/youtube-videos/blob/main/TradingStream.ipynb\" target=\"_parent\"><img src=\"https://colab.research.google.com/assets/colab-badge.svg\" alt=\"Open In Colab\"/></a>"
      ]
    },
    {
      "cell_type": "markdown",
      "metadata": {
        "id": "WBFiHh7B4i6Q"
      },
      "source": [
        "# Setup\n",
        "\n",
        "### Install Python SDK\n"
      ]
    },
    {
      "cell_type": "code",
      "execution_count": 20,
      "metadata": {
        "colab": {
          "base_uri": "https://localhost:8080/"
        },
        "id": "hOR_HPraHxRC",
        "outputId": "24b16eb3-e205-4aa2-c333-795dd6a7973a"
      },
      "outputs": [
        {
          "output_type": "stream",
          "name": "stdout",
          "text": [
            "Requirement already satisfied: alpaca-py in /usr/local/lib/python3.11/dist-packages (0.40.0)\n",
            "Requirement already satisfied: msgpack<2.0.0,>=1.0.3 in /usr/local/lib/python3.11/dist-packages (from alpaca-py) (1.1.0)\n",
            "Requirement already satisfied: pandas>=1.5.3 in /usr/local/lib/python3.11/dist-packages (from alpaca-py) (2.2.2)\n",
            "Requirement already satisfied: pydantic<3.0.0,>=2.0.3 in /usr/local/lib/python3.11/dist-packages (from alpaca-py) (2.11.4)\n",
            "Requirement already satisfied: requests<3.0.0,>=2.30.0 in /usr/local/lib/python3.11/dist-packages (from alpaca-py) (2.32.3)\n",
            "Requirement already satisfied: sseclient-py<2.0.0,>=1.7.2 in /usr/local/lib/python3.11/dist-packages (from alpaca-py) (1.8.0)\n",
            "Requirement already satisfied: websockets>=10.4 in /usr/local/lib/python3.11/dist-packages (from alpaca-py) (15.0.1)\n",
            "Requirement already satisfied: numpy>=1.23.2 in /usr/local/lib/python3.11/dist-packages (from pandas>=1.5.3->alpaca-py) (2.0.2)\n",
            "Requirement already satisfied: python-dateutil>=2.8.2 in /usr/local/lib/python3.11/dist-packages (from pandas>=1.5.3->alpaca-py) (2.9.0.post0)\n",
            "Requirement already satisfied: pytz>=2020.1 in /usr/local/lib/python3.11/dist-packages (from pandas>=1.5.3->alpaca-py) (2025.2)\n",
            "Requirement already satisfied: tzdata>=2022.7 in /usr/local/lib/python3.11/dist-packages (from pandas>=1.5.3->alpaca-py) (2025.2)\n",
            "Requirement already satisfied: annotated-types>=0.6.0 in /usr/local/lib/python3.11/dist-packages (from pydantic<3.0.0,>=2.0.3->alpaca-py) (0.7.0)\n",
            "Requirement already satisfied: pydantic-core==2.33.2 in /usr/local/lib/python3.11/dist-packages (from pydantic<3.0.0,>=2.0.3->alpaca-py) (2.33.2)\n",
            "Requirement already satisfied: typing-extensions>=4.12.2 in /usr/local/lib/python3.11/dist-packages (from pydantic<3.0.0,>=2.0.3->alpaca-py) (4.13.2)\n",
            "Requirement already satisfied: typing-inspection>=0.4.0 in /usr/local/lib/python3.11/dist-packages (from pydantic<3.0.0,>=2.0.3->alpaca-py) (0.4.0)\n",
            "Requirement already satisfied: charset-normalizer<4,>=2 in /usr/local/lib/python3.11/dist-packages (from requests<3.0.0,>=2.30.0->alpaca-py) (3.4.2)\n",
            "Requirement already satisfied: idna<4,>=2.5 in /usr/local/lib/python3.11/dist-packages (from requests<3.0.0,>=2.30.0->alpaca-py) (3.10)\n",
            "Requirement already satisfied: urllib3<3,>=1.21.1 in /usr/local/lib/python3.11/dist-packages (from requests<3.0.0,>=2.30.0->alpaca-py) (2.4.0)\n",
            "Requirement already satisfied: certifi>=2017.4.17 in /usr/local/lib/python3.11/dist-packages (from requests<3.0.0,>=2.30.0->alpaca-py) (2025.4.26)\n",
            "Requirement already satisfied: six>=1.5 in /usr/local/lib/python3.11/dist-packages (from python-dateutil>=2.8.2->pandas>=1.5.3->alpaca-py) (1.17.0)\n"
          ]
        }
      ],
      "source": [
        "!pip install alpaca-py"
      ]
    },
    {
      "cell_type": "markdown",
      "metadata": {
        "id": "YksmyNWk45op"
      },
      "source": [
        "### Grab API key and Secret"
      ]
    },
    {
      "cell_type": "code",
      "execution_count": 21,
      "metadata": {
        "id": "gNadZhiAH0Cz"
      },
      "outputs": [],
      "source": [
        "from google.colab import userdata\n",
        "ALPACA_API_KEY = userdata.get('ALPACA_API_KEY')\n",
        "ALPACA_API_SECRET = userdata.get('ALPACA_API_SECRET')"
      ]
    },
    {
      "cell_type": "markdown",
      "metadata": {
        "id": "sHtVhd4248FR"
      },
      "source": [
        "### Connect to Trading Client"
      ]
    },
    {
      "cell_type": "code",
      "execution_count": 22,
      "metadata": {
        "id": "S-1nNEljH3Kw"
      },
      "outputs": [],
      "source": [
        "from alpaca.trading.client import TradingClient\n",
        "trading_client = TradingClient(ALPACA_API_KEY, ALPACA_API_SECRET, paper=True)"
      ]
    },
    {
      "cell_type": "markdown",
      "metadata": {
        "id": "zTKCQC8_GP9P"
      },
      "source": [
        "### Nest_Asnycio\n",
        "* Needed for running asyncio in Jupyter Credit Ewald De Wit!"
      ]
    },
    {
      "cell_type": "code",
      "execution_count": 24,
      "metadata": {
        "id": "6IppPUq9D2kD"
      },
      "outputs": [],
      "source": [
        "import nest_asyncio\n",
        "nest_asyncio.apply()"
      ]
    },
    {
      "cell_type": "markdown",
      "metadata": {
        "id": "P88J6XKN64m4"
      },
      "source": [
        "# Trading Stream\n",
        "\n",
        "### Where we can handle events related to orders we placed.\n",
        "For example,\n",
        "* New Order\n",
        "* Replaced Order\n",
        "* Filled Order\n",
        "\n",
        "### Initialize Trading Stream"
      ]
    },
    {
      "cell_type": "code",
      "execution_count": 25,
      "metadata": {
        "id": "0W6B5FfP66yw"
      },
      "outputs": [],
      "source": [
        "from alpaca.trading.stream import TradingStream\n",
        "trading_stream = TradingStream(ALPACA_API_KEY, ALPACA_API_SECRET)"
      ]
    },
    {
      "cell_type": "markdown",
      "metadata": {
        "id": "7c2Ia5CBXiqv"
      },
      "source": [
        "### Example 1: Very Basic Example of TradingStream Couroutine"
      ]
    },
    {
      "cell_type": "code",
      "source": [
        "??TradeUpdate\n",
        "??TradeEvent"
      ],
      "metadata": {
        "id": "6DxmlO9vz59a"
      },
      "execution_count": 28,
      "outputs": []
    },
    {
      "cell_type": "code",
      "source": [
        "from alpaca.trading.models import TradeUpdate\n",
        "from alpaca.trading.enums import OrderStatus, OrderSide,TradeEvent\n",
        "from alpaca.trading.requests import LimitOrderRequest\n",
        "from alpaca.trading.enums import TimeInForce\n",
        "import numpy as np\n",
        "\n",
        "trading_stream = TradingStream(ALPACA_API_KEY, ALPACA_API_SECRET)\n",
        "\n",
        "async def on_order_update(trade_update:TradeUpdate):\n",
        "  order_id = trade_update.order.id\n",
        "  side = trade_update.order.side\n",
        "  event = trade_update.event\n",
        "  price = trade_update.price\n",
        "  qty = trade_update.qty\n",
        "  timestamp = trade_update.timestamp\n",
        "  print(f\"OrderId: {order_id}\")\n",
        "  print(f\"Timestamp: {timestamp}\")\n",
        "  print(f\"Side: {side}\")\n",
        "  print(f\"Event: {event}\")\n",
        "  print(f\"Price: {price}\")\n",
        "  print(f\"Qty: {qty}\")\n",
        "\n"
      ],
      "metadata": {
        "id": "EE4-Z0glzb1S"
      },
      "execution_count": 29,
      "outputs": []
    },
    {
      "cell_type": "markdown",
      "metadata": {
        "id": "kmVE3zILdWxh"
      },
      "source": [
        "### Subscribe to \"Trade\" Updates\n",
        "**Note** I wish they could rename it because this can be confusing from market data trade updates..."
      ]
    },
    {
      "cell_type": "code",
      "execution_count": 30,
      "metadata": {
        "id": "Or_NSauUGMsM"
      },
      "outputs": [],
      "source": [
        "trading_stream.subscribe_trade_updates(on_order_update)"
      ]
    },
    {
      "cell_type": "markdown",
      "metadata": {
        "id": "xGFI0T168t4_"
      },
      "source": [
        "### Run the Websocket Stream\n",
        "* This is blocking later we can try the \"non-blocking\" version."
      ]
    },
    {
      "cell_type": "code",
      "execution_count": 31,
      "metadata": {
        "id": "02c7vxdHGNDI",
        "outputId": "6c9adab8-bcef-46ae-9074-e6bc28231f48",
        "colab": {
          "base_uri": "https://localhost:8080/"
        }
      },
      "outputs": [
        {
          "output_type": "stream",
          "name": "stdout",
          "text": [
            "OrderId: 2732ad45-433b-49fc-b6fd-ffee1f932044\n",
            "Timestamp: 2025-05-16 11:21:58.683150+00:00\n",
            "Side: OrderSide.BUY\n",
            "Event: canceled\n",
            "Price: None\n",
            "Qty: None\n",
            "OrderId: a480f13d-f447-4bb8-abd9-d604ae2b83e7\n",
            "Timestamp: 2025-05-16 11:21:58.686700+00:00\n",
            "Side: OrderSide.BUY\n",
            "Event: canceled\n",
            "Price: None\n",
            "Qty: None\n",
            "OrderId: 2e36e34f-735c-4d75-943e-c5f0da41d809\n",
            "Timestamp: 2025-05-16 11:23:05.298404+00:00\n",
            "Side: OrderSide.BUY\n",
            "Event: pending_new\n",
            "Price: None\n",
            "Qty: None\n",
            "OrderId: 2e36e34f-735c-4d75-943e-c5f0da41d809\n",
            "Timestamp: 2025-05-16 11:23:05.301936+00:00\n",
            "Side: OrderSide.BUY\n",
            "Event: new\n",
            "Price: None\n",
            "Qty: None\n",
            "OrderId: 56f978ce-baac-4927-9d03-e41c34fae102\n",
            "Timestamp: 2025-05-16 11:23:37.685036+00:00\n",
            "Side: OrderSide.BUY\n",
            "Event: pending_new\n",
            "Price: None\n",
            "Qty: None\n",
            "OrderId: 56f978ce-baac-4927-9d03-e41c34fae102\n",
            "Timestamp: 2025-05-16 11:23:37.690378+00:00\n",
            "Side: OrderSide.BUY\n",
            "Event: new\n",
            "Price: None\n",
            "Qty: None\n",
            "OrderId: 2a43f40f-d6fe-4d8b-8c06-d22f8b39185a\n",
            "Timestamp: 2025-05-16 11:24:10.155066+00:00\n",
            "Side: OrderSide.BUY\n",
            "Event: pending_new\n",
            "Price: None\n",
            "Qty: None\n",
            "OrderId: 2a43f40f-d6fe-4d8b-8c06-d22f8b39185a\n",
            "Timestamp: 2025-05-16 11:24:10.159821+00:00\n",
            "Side: OrderSide.BUY\n",
            "Event: new\n",
            "Price: None\n",
            "Qty: None\n",
            "OrderId: 2a43f40f-d6fe-4d8b-8c06-d22f8b39185a\n",
            "Timestamp: 2025-05-16 11:24:10.379012+00:00\n",
            "Side: OrderSide.BUY\n",
            "Event: partial_fill\n",
            "Price: 118.41\n",
            "Qty: 6.0\n",
            "OrderId: 2a43f40f-d6fe-4d8b-8c06-d22f8b39185a\n",
            "Timestamp: 2025-05-16 11:24:10.524544+00:00\n",
            "Side: OrderSide.BUY\n",
            "Event: partial_fill\n",
            "Price: 118.41\n",
            "Qty: 1.445232666\n",
            "OrderId: 2a43f40f-d6fe-4d8b-8c06-d22f8b39185a\n",
            "Timestamp: 2025-05-16 11:24:10.522413+00:00\n",
            "Side: OrderSide.BUY\n",
            "Event: fill\n",
            "Price: 118.41\n",
            "Qty: 1.0\n",
            "OrderId: 9d9bea5a-8114-4570-8c39-7718b46f37bd\n",
            "Timestamp: 2025-05-16 11:26:02.111320+00:00\n",
            "Side: OrderSide.BUY\n",
            "Event: pending_new\n",
            "Price: None\n",
            "Qty: None\n",
            "OrderId: 9d9bea5a-8114-4570-8c39-7718b46f37bd\n",
            "Timestamp: 2025-05-16 11:26:02.115710+00:00\n",
            "Side: OrderSide.BUY\n",
            "Event: new\n",
            "Price: None\n",
            "Qty: None\n",
            "OrderId: 9d9bea5a-8114-4570-8c39-7718b46f37bd\n",
            "Timestamp: 2025-05-16 11:26:02.208366+00:00\n",
            "Side: OrderSide.BUY\n",
            "Event: partial_fill\n",
            "Price: 118.45\n",
            "Qty: 4.0\n",
            "OrderId: 9d9bea5a-8114-4570-8c39-7718b46f37bd\n",
            "Timestamp: 2025-05-16 11:26:02.366264+00:00\n",
            "Side: OrderSide.BUY\n",
            "Event: partial_fill\n",
            "Price: 118.45\n",
            "Qty: 2.0\n",
            "OrderId: 9d9bea5a-8114-4570-8c39-7718b46f37bd\n",
            "Timestamp: 2025-05-16 11:26:02.544618+00:00\n",
            "Side: OrderSide.BUY\n",
            "Event: partial_fill\n",
            "Price: 118.45\n",
            "Qty: 1.442380751\n",
            "OrderId: 9d9bea5a-8114-4570-8c39-7718b46f37bd\n",
            "Timestamp: 2025-05-16 11:26:02.542283+00:00\n",
            "Side: OrderSide.BUY\n",
            "Event: fill\n",
            "Price: 118.45\n",
            "Qty: 1.0\n",
            "OrderId: 76915acc-e402-4850-8784-f011bb63029c\n",
            "Timestamp: 2025-05-16 11:26:23.897595+00:00\n",
            "Side: OrderSide.BUY\n",
            "Event: pending_new\n",
            "Price: None\n",
            "Qty: None\n",
            "OrderId: 76915acc-e402-4850-8784-f011bb63029c\n",
            "Timestamp: 2025-05-16 11:26:23.901573+00:00\n",
            "Side: OrderSide.BUY\n",
            "Event: new\n",
            "Price: None\n",
            "Qty: None\n",
            "OrderId: 76915acc-e402-4850-8784-f011bb63029c\n",
            "Timestamp: 2025-05-16 11:26:24.006081+00:00\n",
            "Side: OrderSide.BUY\n",
            "Event: partial_fill\n",
            "Price: 118.45\n",
            "Qty: 3.0\n",
            "OrderId: 76915acc-e402-4850-8784-f011bb63029c\n",
            "Timestamp: 2025-05-16 11:26:24.184702+00:00\n",
            "Side: OrderSide.BUY\n",
            "Event: partial_fill\n",
            "Price: 118.45\n",
            "Qty: 1.442380751\n",
            "OrderId: 76915acc-e402-4850-8784-f011bb63029c\n",
            "Timestamp: 2025-05-16 11:26:24.182486+00:00\n",
            "Side: OrderSide.BUY\n",
            "Event: fill\n",
            "Price: 118.45\n",
            "Qty: 4.0\n",
            "keyboard interrupt, bye\n"
          ]
        }
      ],
      "source": [
        "trading_stream.run()"
      ]
    },
    {
      "cell_type": "markdown",
      "metadata": {
        "id": "aoJNXUs8GEOn"
      },
      "source": [
        "### Let's trigger a take profit 1% Higher after a buy fill"
      ]
    },
    {
      "cell_type": "code",
      "execution_count": 33,
      "metadata": {
        "id": "gIcOTp1oJsM6"
      },
      "outputs": [],
      "source": [
        "from alpaca.trading.models import TradeUpdate\n",
        "from alpaca.trading.enums import OrderStatus, OrderSide,TradeEvent\n",
        "from alpaca.trading.requests import LimitOrderRequest\n",
        "from alpaca.trading.enums import TimeInForce\n",
        "import numpy as np\n",
        "\n",
        "trading_stream = TradingStream(ALPACA_API_KEY, ALPACA_API_SECRET)\n",
        "\n",
        "async def on_order_update(trade_update:TradeUpdate):\n",
        "  order_id = trade_update.order.id\n",
        "  symbol = trade_update.order.symbol\n",
        "  side = trade_update.order.side\n",
        "  event = trade_update.event\n",
        "  price = trade_update.price\n",
        "  qty = trade_update.qty\n",
        "  timestamp = trade_update.timestamp\n",
        "  print(f\"OrderId: {order_id}\")\n",
        "  print(f\"Symbol: {symbol}\")\n",
        "  print(f\"Timestamp: {timestamp}\")\n",
        "  print(f\"Side: {side}\")\n",
        "  print(f\"Event: {event}\")\n",
        "  print(f\"Price: {price}\")\n",
        "  print(f\"Qty: {qty}\")\n",
        "  if event in [TradeEvent.PARTIAL_FILL,TradeEvent.FILL]:\n",
        "    take_profit_price = np.round(price * 1.01,2)\n",
        "    take_profit_qty = qty\n",
        "    take_profit_side = OrderSide.SELL\n",
        "    limit_order_request = LimitOrderRequest(\n",
        "        symbol=symbol,\n",
        "        qty=take_profit_qty,\n",
        "        side=take_profit_side,\n",
        "        limit_price = take_profit_price,\n",
        "        extended_hours=True,\n",
        "        time_in_force=TimeInForce.DAY\n",
        "    )\n",
        "    take_profit_order = trading_client.submit_order(\n",
        "        order_data=limit_order_request\n",
        "    )\n",
        "    print(f\"Trying to Submit Take Profit Order for {take_profit_qty} shares at {take_profit_price}\")\n",
        "\n"
      ]
    },
    {
      "cell_type": "markdown",
      "source": [
        "### Subsribe to Trade Updates and Run"
      ],
      "metadata": {
        "id": "Pnl2CNP3F9Mn"
      }
    },
    {
      "cell_type": "code",
      "source": [
        "trading_stream.subscribe_trade_updates(on_order_update)\n",
        "trading_stream.run()"
      ],
      "metadata": {
        "id": "NehHYaM2nzrH",
        "outputId": "ce8325bd-3ac1-4f13-ceba-6c45468553ab",
        "colab": {
          "base_uri": "https://localhost:8080/"
        }
      },
      "execution_count": null,
      "outputs": [
        {
          "output_type": "stream",
          "name": "stdout",
          "text": [
            "OrderId: 2e36e34f-735c-4d75-943e-c5f0da41d809\n",
            "Symbol: AMD\n",
            "Timestamp: 2025-05-16 11:34:22.687141+00:00\n",
            "Side: OrderSide.BUY\n",
            "Event: canceled\n",
            "Price: None\n",
            "Qty: None\n",
            "OrderId: 56f978ce-baac-4927-9d03-e41c34fae102\n",
            "Symbol: AMD\n",
            "Timestamp: 2025-05-16 11:34:22.702451+00:00\n",
            "Side: OrderSide.BUY\n",
            "Event: canceled\n",
            "Price: None\n",
            "Qty: None\n",
            "OrderId: 2f9d0e3b-e41f-4970-a5b8-f07928d764c6\n",
            "Symbol: AMD\n",
            "Timestamp: 2025-05-16 11:35:04.572745+00:00\n",
            "Side: OrderSide.BUY\n",
            "Event: pending_new\n",
            "Price: None\n",
            "Qty: None\n",
            "OrderId: 2f9d0e3b-e41f-4970-a5b8-f07928d764c6\n",
            "Symbol: AMD\n",
            "Timestamp: 2025-05-16 11:35:04.576062+00:00\n",
            "Side: OrderSide.BUY\n",
            "Event: new\n",
            "Price: None\n",
            "Qty: None\n",
            "OrderId: 2f9d0e3b-e41f-4970-a5b8-f07928d764c6\n",
            "Symbol: AMD\n",
            "Timestamp: 2025-05-16 11:35:04.712641+00:00\n",
            "Side: OrderSide.BUY\n",
            "Event: partial_fill\n",
            "Price: 118.09\n",
            "Qty: 1.0\n",
            "Trying to Submit Take Profit Order for 1.0 shares at 119.27\n",
            "OrderId: 2f9d0e3b-e41f-4970-a5b8-f07928d764c6\n",
            "Symbol: AMD\n",
            "Timestamp: 2025-05-16 11:35:04.871949+00:00\n",
            "Side: OrderSide.BUY\n",
            "Event: partial_fill\n",
            "Price: 118.09\n",
            "Qty: 2.0\n",
            "Trying to Submit Take Profit Order for 2.0 shares at 119.27\n",
            "OrderId: 2f9d0e3b-e41f-4970-a5b8-f07928d764c6\n",
            "Symbol: AMD\n",
            "Timestamp: 2025-05-16 11:35:05.058655+00:00\n",
            "Side: OrderSide.BUY\n",
            "Event: partial_fill\n",
            "Price: 118.09\n",
            "Qty: 1.468117537\n",
            "Trying to Submit Take Profit Order for 1.468117537 shares at 119.27\n",
            "OrderId: 2f9d0e3b-e41f-4970-a5b8-f07928d764c6\n",
            "Symbol: AMD\n",
            "Timestamp: 2025-05-16 11:35:05.056115+00:00\n",
            "Side: OrderSide.BUY\n",
            "Event: fill\n",
            "Price: 118.09\n",
            "Qty: 4.0\n",
            "Trying to Submit Take Profit Order for 4.0 shares at 119.27\n",
            "OrderId: 2e1afd40-e7e8-4482-b542-126642660127\n",
            "Symbol: AMD\n",
            "Timestamp: 2025-05-16 11:35:05.075999+00:00\n",
            "Side: OrderSide.SELL\n",
            "Event: pending_new\n",
            "Price: None\n",
            "Qty: None\n",
            "OrderId: 2e1afd40-e7e8-4482-b542-126642660127\n",
            "Symbol: AMD\n",
            "Timestamp: 2025-05-16 11:35:05.079502+00:00\n",
            "Side: OrderSide.SELL\n",
            "Event: new\n",
            "Price: None\n",
            "Qty: None\n",
            "OrderId: f1693dc9-8312-4f02-9197-4d2296819efc\n",
            "Symbol: AMD\n",
            "Timestamp: 2025-05-16 11:35:05.142611+00:00\n",
            "Side: OrderSide.SELL\n",
            "Event: pending_new\n",
            "Price: None\n",
            "Qty: None\n",
            "OrderId: f1693dc9-8312-4f02-9197-4d2296819efc\n",
            "Symbol: AMD\n",
            "Timestamp: 2025-05-16 11:35:05.145563+00:00\n",
            "Side: OrderSide.SELL\n",
            "Event: new\n",
            "Price: None\n",
            "Qty: None\n",
            "OrderId: e22deea3-4085-4006-b5d1-eaa3adffe1a3\n",
            "Symbol: AMD\n",
            "Timestamp: 2025-05-16 11:35:05.211169+00:00\n",
            "Side: OrderSide.SELL\n",
            "Event: pending_new\n",
            "Price: None\n",
            "Qty: None\n",
            "OrderId: e22deea3-4085-4006-b5d1-eaa3adffe1a3\n",
            "Symbol: AMD\n",
            "Timestamp: 2025-05-16 11:35:05.214569+00:00\n",
            "Side: OrderSide.SELL\n",
            "Event: new\n",
            "Price: None\n",
            "Qty: None\n",
            "OrderId: ff63c883-461b-4a92-972a-cf6273d0b827\n",
            "Symbol: AMD\n",
            "Timestamp: 2025-05-16 11:35:05.277162+00:00\n",
            "Side: OrderSide.SELL\n",
            "Event: pending_new\n",
            "Price: None\n",
            "Qty: None\n",
            "OrderId: ff63c883-461b-4a92-972a-cf6273d0b827\n",
            "Symbol: AMD\n",
            "Timestamp: 2025-05-16 11:35:05.280833+00:00\n",
            "Side: OrderSide.SELL\n",
            "Event: new\n",
            "Price: None\n",
            "Qty: None\n"
          ]
        }
      ]
    },
    {
      "cell_type": "code",
      "source": [],
      "metadata": {
        "id": "X-7evzvr3ygF"
      },
      "execution_count": null,
      "outputs": []
    }
  ],
  "metadata": {
    "colab": {
      "provenance": [],
      "authorship_tag": "ABX9TyO+KhStfH/z4gMiZ0Clc9qj",
      "include_colab_link": true
    },
    "kernelspec": {
      "display_name": "Python 3",
      "name": "python3"
    },
    "language_info": {
      "name": "python"
    }
  },
  "nbformat": 4,
  "nbformat_minor": 0
}