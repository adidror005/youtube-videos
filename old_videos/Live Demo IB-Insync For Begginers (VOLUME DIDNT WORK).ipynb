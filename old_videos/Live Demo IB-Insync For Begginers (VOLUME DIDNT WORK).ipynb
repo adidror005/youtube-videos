{
 "cells": [
  {
   "cell_type": "code",
   "execution_count": 4,
   "id": "f78550d3",
   "metadata": {},
   "outputs": [
    {
     "data": {
      "text/plain": [
       "<IB connected to 127.0.0.1:4004 clientId=0>"
      ]
     },
     "execution_count": 4,
     "metadata": {},
     "output_type": "execute_result"
    }
   ],
   "source": [
    "from ib_async import *\n",
    "ib = IB()\n",
    "util.startLoop() # Only for jupyter\n",
    "ib.connect(port=4004,clientId=0)\n"
   ]
  },
  {
   "cell_type": "markdown",
   "id": "e3f6cc5f",
   "metadata": {},
   "source": [
    "### View Your Positions"
   ]
  },
  {
   "cell_type": "code",
   "execution_count": 5,
   "id": "ad714ad8",
   "metadata": {},
   "outputs": [
    {
     "data": {
      "text/plain": [
       "[Position(account='DU7351505', contract=Option(conId=695095758, symbol='TSLA', lastTradeDateOrContractMonth='20240524', strike=165.0, right='C', multiplier='100', currency='USD', localSymbol='TSLA  240524C00165000', tradingClass='TSLA'), position=4.0, avgCost=1267.07185),\n",
       " Position(account='DU7351505', contract=Option(conId=695072875, symbol='RIVN', lastTradeDateOrContractMonth='20240524', strike=8.5, right='C', multiplier='100', currency='USD', localSymbol='RIVN  240524C00008500', tradingClass='RIVN'), position=5.0, avgCost=257.69686),\n",
       " Position(account='DU7351505', contract=Stock(conId=76792991, symbol='TSLA', exchange='NASDAQ', currency='USD', localSymbol='TSLA', tradingClass='NMS'), position=600.0, avgCost=175.04833335)]"
      ]
     },
     "execution_count": 5,
     "metadata": {},
     "output_type": "execute_result"
    }
   ],
   "source": [
    "ib.positions()"
   ]
  },
  {
   "cell_type": "code",
   "execution_count": 6,
   "id": "e83e981f",
   "metadata": {},
   "outputs": [],
   "source": [
    "df_positions=util.df(ib.positions())"
   ]
  },
  {
   "cell_type": "code",
   "execution_count": 12,
   "id": "2086402b",
   "metadata": {},
   "outputs": [
    {
     "data": {
      "text/html": [
       "<div>\n",
       "<style scoped>\n",
       "    .dataframe tbody tr th:only-of-type {\n",
       "        vertical-align: middle;\n",
       "    }\n",
       "\n",
       "    .dataframe tbody tr th {\n",
       "        vertical-align: top;\n",
       "    }\n",
       "\n",
       "    .dataframe thead th {\n",
       "        text-align: right;\n",
       "    }\n",
       "</style>\n",
       "<table border=\"1\" class=\"dataframe\">\n",
       "  <thead>\n",
       "    <tr style=\"text-align: right;\">\n",
       "      <th></th>\n",
       "      <th>account</th>\n",
       "      <th>contract</th>\n",
       "      <th>position</th>\n",
       "      <th>avgCost</th>\n",
       "      <th>symbol</th>\n",
       "      <th>contract_type</th>\n",
       "      <th>expiry</th>\n",
       "      <th>strike</th>\n",
       "    </tr>\n",
       "  </thead>\n",
       "  <tbody>\n",
       "    <tr>\n",
       "      <th>0</th>\n",
       "      <td>DU7351505</td>\n",
       "      <td>Option(conId=695095758, symbol='TSLA', lastTra...</td>\n",
       "      <td>4.0</td>\n",
       "      <td>1267.071850</td>\n",
       "      <td>TSLA</td>\n",
       "      <td>OPT</td>\n",
       "      <td>20240524</td>\n",
       "      <td>165.0</td>\n",
       "    </tr>\n",
       "    <tr>\n",
       "      <th>1</th>\n",
       "      <td>DU7351505</td>\n",
       "      <td>Option(conId=695072875, symbol='RIVN', lastTra...</td>\n",
       "      <td>5.0</td>\n",
       "      <td>257.696860</td>\n",
       "      <td>RIVN</td>\n",
       "      <td>OPT</td>\n",
       "      <td>20240524</td>\n",
       "      <td>8.5</td>\n",
       "    </tr>\n",
       "    <tr>\n",
       "      <th>2</th>\n",
       "      <td>DU7351505</td>\n",
       "      <td>Stock(conId=76792991, symbol='TSLA', exchange=...</td>\n",
       "      <td>600.0</td>\n",
       "      <td>175.048333</td>\n",
       "      <td>TSLA</td>\n",
       "      <td>STK</td>\n",
       "      <td>None</td>\n",
       "      <td>NaN</td>\n",
       "    </tr>\n",
       "  </tbody>\n",
       "</table>\n",
       "</div>"
      ],
      "text/plain": [
       "     account                                           contract  position  \\\n",
       "0  DU7351505  Option(conId=695095758, symbol='TSLA', lastTra...       4.0   \n",
       "1  DU7351505  Option(conId=695072875, symbol='RIVN', lastTra...       5.0   \n",
       "2  DU7351505  Stock(conId=76792991, symbol='TSLA', exchange=...     600.0   \n",
       "\n",
       "       avgCost symbol contract_type    expiry  strike  \n",
       "0  1267.071850   TSLA           OPT  20240524   165.0  \n",
       "1   257.696860   RIVN           OPT  20240524     8.5  \n",
       "2   175.048333   TSLA           STK      None     NaN  "
      ]
     },
     "execution_count": 12,
     "metadata": {},
     "output_type": "execute_result"
    }
   ],
   "source": [
    "df_positions['symbol']=df_positions.contract.apply(lambda l:l.symbol)\n",
    "df_positions['contract_type']=df_positions.contract.apply(lambda l:l.secType)\n",
    "df_positions['expiry']=df_positions.contract.apply(lambda l:l.lastTradeDateOrContractMonth if l.secType=='OPT' else None)\n",
    "df_positions['strike']=df_positions.contract.apply(lambda l:l.strike if l.secType == 'OPT' else None)\n",
    "df_positions"
   ]
  },
  {
   "cell_type": "markdown",
   "id": "cbcebb54",
   "metadata": {},
   "source": [
    "### Account Info/Summary"
   ]
  },
  {
   "cell_type": "code",
   "execution_count": 13,
   "id": "315bc4ee",
   "metadata": {},
   "outputs": [
    {
     "data": {
      "text/plain": [
       "[AccountValue(account='DU7351505', tag='AccountType', value='TRUST', currency='', modelCode=''),\n",
       " AccountValue(account='DU7351505', tag='Cushion', value='1', currency='', modelCode=''),\n",
       " AccountValue(account='DU7351505', tag='DayTradesRemaining', value='-1', currency='', modelCode=''),\n",
       " AccountValue(account='DU7351505', tag='DayTradesRemainingT+1', value='-1', currency='', modelCode=''),\n",
       " AccountValue(account='DU7351505', tag='DayTradesRemainingT+2', value='-1', currency='', modelCode=''),\n",
       " AccountValue(account='DU7351505', tag='DayTradesRemainingT+3', value='-1', currency='', modelCode=''),\n",
       " AccountValue(account='DU7351505', tag='DayTradesRemainingT+4', value='-1', currency='', modelCode=''),\n",
       " AccountValue(account='DU7351505', tag='LookAheadNextChange', value='1715952600', currency='', modelCode=''),\n",
       " AccountValue(account='DU7351505', tag='AccruedCash', value='-2080.80', currency='USD', modelCode=''),\n",
       " AccountValue(account='DU7351505', tag='AvailableFunds', value='898230.35', currency='USD', modelCode=''),\n",
       " AccountValue(account='DU7351505', tag='BuyingPower', value='3592921.39', currency='USD', modelCode=''),\n",
       " AccountValue(account='DU7351505', tag='EquityWithLoanValue', value='956361.77', currency='USD', modelCode=''),\n",
       " AccountValue(account='DU7351505', tag='ExcessLiquidity', value='903954.71', currency='USD', modelCode=''),\n",
       " AccountValue(account='DU7351505', tag='FullAvailableFunds', value='898230.35', currency='USD', modelCode=''),\n",
       " AccountValue(account='DU7351505', tag='FullExcessLiquidity', value='903954.71', currency='USD', modelCode=''),\n",
       " AccountValue(account='DU7351505', tag='FullInitMarginReq', value='58131.43', currency='USD', modelCode=''),\n",
       " AccountValue(account='DU7351505', tag='FullMaintMarginReq', value='52407.07', currency='USD', modelCode=''),\n",
       " AccountValue(account='DU7351505', tag='GrossPositionValue', value='110413.04', currency='USD', modelCode=''),\n",
       " AccountValue(account='DU7351505', tag='InitMarginReq', value='58131.43', currency='USD', modelCode=''),\n",
       " AccountValue(account='DU7351505', tag='LookAheadAvailableFunds', value='898230.35', currency='USD', modelCode=''),\n",
       " AccountValue(account='DU7351505', tag='LookAheadExcessLiquidity', value='903954.71', currency='USD', modelCode=''),\n",
       " AccountValue(account='DU7351505', tag='LookAheadInitMarginReq', value='58131.43', currency='USD', modelCode=''),\n",
       " AccountValue(account='DU7351505', tag='LookAheadMaintMarginReq', value='52407.07', currency='USD', modelCode=''),\n",
       " AccountValue(account='DU7351505', tag='MaintMarginReq', value='52407.07', currency='USD', modelCode=''),\n",
       " AccountValue(account='DU7351505', tag='NetLiquidation', value='961809.92', currency='USD', modelCode=''),\n",
       " AccountValue(account='DU7351505', tag='PreviousDayEquityWithLoanValue', value='957196.29', currency='USD', modelCode=''),\n",
       " AccountValue(account='DU7351505', tag='RegTEquity', value='956462.88', currency='USD', modelCode=''),\n",
       " AccountValue(account='DU7351505', tag='RegTMargin', value='52533.00', currency='USD', modelCode=''),\n",
       " AccountValue(account='DU7351505', tag='SMA', value='1145117.13', currency='USD', modelCode=''),\n",
       " AccountValue(account='DU7351505', tag='TotalCashValue', value='853477.68', currency='USD', modelCode=''),\n",
       " AccountValue(account='All', tag='Currency', value='ILS', currency='ILS', modelCode=''),\n",
       " AccountValue(account='All', tag='CashBalance', value='724560.00', currency='ILS', modelCode=''),\n",
       " AccountValue(account='All', tag='TotalCashBalance', value='724560.00', currency='ILS', modelCode=''),\n",
       " AccountValue(account='All', tag='AccruedCash', value='0.00', currency='ILS', modelCode=''),\n",
       " AccountValue(account='All', tag='StockMarketValue', value='0.00', currency='ILS', modelCode=''),\n",
       " AccountValue(account='All', tag='OptionMarketValue', value='0.00', currency='ILS', modelCode=''),\n",
       " AccountValue(account='All', tag='FutureOptionValue', value='0.00', currency='ILS', modelCode=''),\n",
       " AccountValue(account='All', tag='FuturesPNL', value='0.00', currency='ILS', modelCode=''),\n",
       " AccountValue(account='All', tag='NetLiquidationByCurrency', value='724560.00', currency='ILS', modelCode=''),\n",
       " AccountValue(account='All', tag='UnrealizedPnL', value='0.00', currency='ILS', modelCode=''),\n",
       " AccountValue(account='All', tag='RealizedPnL', value='0.00', currency='ILS', modelCode=''),\n",
       " AccountValue(account='All', tag='ExchangeRate', value='0.2692855', currency='ILS', modelCode=''),\n",
       " AccountValue(account='All', tag='FundValue', value='0.00', currency='ILS', modelCode=''),\n",
       " AccountValue(account='All', tag='NetDividend', value='0.00', currency='ILS', modelCode=''),\n",
       " AccountValue(account='All', tag='MutualFundValue', value='0.00', currency='ILS', modelCode=''),\n",
       " AccountValue(account='All', tag='MoneyMarketFundValue', value='0.00', currency='ILS', modelCode=''),\n",
       " AccountValue(account='All', tag='CorporateBondValue', value='0.00', currency='ILS', modelCode=''),\n",
       " AccountValue(account='All', tag='TBondValue', value='0.00', currency='ILS', modelCode=''),\n",
       " AccountValue(account='All', tag='TBillValue', value='0.00', currency='ILS', modelCode=''),\n",
       " AccountValue(account='All', tag='WarrantValue', value='0.00', currency='ILS', modelCode=''),\n",
       " AccountValue(account='All', tag='FxCashBalance', value='0.00', currency='ILS', modelCode=''),\n",
       " AccountValue(account='All', tag='AccountOrGroup', value='All', currency='ILS', modelCode=''),\n",
       " AccountValue(account='All', tag='RealCurrency', value='ILS', currency='ILS', modelCode=''),\n",
       " AccountValue(account='All', tag='IssuerOptionValue', value='0.00', currency='ILS', modelCode=''),\n",
       " AccountValue(account='All', tag='Cryptocurrency', value='', currency='ILS', modelCode=''),\n",
       " AccountValue(account='All', tag='Currency', value='USD', currency='USD', modelCode=''),\n",
       " AccountValue(account='All', tag='CashBalance', value='658526.98', currency='USD', modelCode=''),\n",
       " AccountValue(account='All', tag='TotalCashBalance', value='658526.98', currency='USD', modelCode=''),\n",
       " AccountValue(account='All', tag='AccruedCash', value='-2080.80', currency='USD', modelCode=''),\n",
       " AccountValue(account='All', tag='StockMarketValue', value='105066.00', currency='USD', modelCode=''),\n",
       " AccountValue(account='All', tag='OptionMarketValue', value='5347.04', currency='USD', modelCode=''),\n",
       " AccountValue(account='All', tag='FutureOptionValue', value='0.00', currency='USD', modelCode=''),\n",
       " AccountValue(account='All', tag='FuturesPNL', value='0.00', currency='USD', modelCode=''),\n",
       " AccountValue(account='All', tag='NetLiquidationByCurrency', value='766859.2164', currency='USD', modelCode=''),\n",
       " AccountValue(account='All', tag='UnrealizedPnL', value='-972.74', currency='USD', modelCode=''),\n",
       " AccountValue(account='All', tag='RealizedPnL', value='0.00', currency='USD', modelCode=''),\n",
       " AccountValue(account='All', tag='ExchangeRate', value='1.00', currency='USD', modelCode=''),\n",
       " AccountValue(account='All', tag='FundValue', value='0.00', currency='USD', modelCode=''),\n",
       " AccountValue(account='All', tag='NetDividend', value='0.00', currency='USD', modelCode=''),\n",
       " AccountValue(account='All', tag='MutualFundValue', value='0.00', currency='USD', modelCode=''),\n",
       " AccountValue(account='All', tag='MoneyMarketFundValue', value='0.00', currency='USD', modelCode=''),\n",
       " AccountValue(account='All', tag='CorporateBondValue', value='0.00', currency='USD', modelCode=''),\n",
       " AccountValue(account='All', tag='TBondValue', value='0.00', currency='USD', modelCode=''),\n",
       " AccountValue(account='All', tag='TBillValue', value='0.00', currency='USD', modelCode=''),\n",
       " AccountValue(account='All', tag='WarrantValue', value='0.00', currency='USD', modelCode=''),\n",
       " AccountValue(account='All', tag='FxCashBalance', value='0.00', currency='USD', modelCode=''),\n",
       " AccountValue(account='All', tag='AccountOrGroup', value='All', currency='USD', modelCode=''),\n",
       " AccountValue(account='All', tag='RealCurrency', value='USD', currency='USD', modelCode=''),\n",
       " AccountValue(account='All', tag='IssuerOptionValue', value='0.00', currency='USD', modelCode=''),\n",
       " AccountValue(account='All', tag='Cryptocurrency', value='', currency='USD', modelCode=''),\n",
       " AccountValue(account='All', tag='Currency', value='BASE', currency='BASE', modelCode=''),\n",
       " AccountValue(account='All', tag='CashBalance', value='853477.6831', currency='BASE', modelCode=''),\n",
       " AccountValue(account='All', tag='TotalCashBalance', value='853477.6831', currency='BASE', modelCode=''),\n",
       " AccountValue(account='All', tag='AccruedCash', value='-2080.80', currency='BASE', modelCode=''),\n",
       " AccountValue(account='All', tag='StockMarketValue', value='105066.00', currency='BASE', modelCode=''),\n",
       " AccountValue(account='All', tag='OptionMarketValue', value='5347.04', currency='BASE', modelCode=''),\n",
       " AccountValue(account='All', tag='FutureOptionValue', value='0.00', currency='BASE', modelCode=''),\n",
       " AccountValue(account='All', tag='FuturesPNL', value='0.00', currency='BASE', modelCode=''),\n",
       " AccountValue(account='All', tag='NetLiquidationByCurrency', value='961809.9195', currency='BASE', modelCode=''),\n",
       " AccountValue(account='All', tag='UnrealizedPnL', value='-972.74', currency='BASE', modelCode=''),\n",
       " AccountValue(account='All', tag='RealizedPnL', value='0.00', currency='BASE', modelCode=''),\n",
       " AccountValue(account='All', tag='ExchangeRate', value='1.00', currency='BASE', modelCode=''),\n",
       " AccountValue(account='All', tag='FundValue', value='0.00', currency='BASE', modelCode=''),\n",
       " AccountValue(account='All', tag='NetDividend', value='0.00', currency='BASE', modelCode=''),\n",
       " AccountValue(account='All', tag='MutualFundValue', value='0.00', currency='BASE', modelCode=''),\n",
       " AccountValue(account='All', tag='MoneyMarketFundValue', value='0.00', currency='BASE', modelCode=''),\n",
       " AccountValue(account='All', tag='CorporateBondValue', value='0.00', currency='BASE', modelCode=''),\n",
       " AccountValue(account='All', tag='TBondValue', value='0.00', currency='BASE', modelCode=''),\n",
       " AccountValue(account='All', tag='TBillValue', value='0.00', currency='BASE', modelCode=''),\n",
       " AccountValue(account='All', tag='WarrantValue', value='0.00', currency='BASE', modelCode=''),\n",
       " AccountValue(account='All', tag='FxCashBalance', value='0.00', currency='BASE', modelCode=''),\n",
       " AccountValue(account='All', tag='AccountOrGroup', value='All', currency='BASE', modelCode=''),\n",
       " AccountValue(account='All', tag='RealCurrency', value='BASE', currency='BASE', modelCode=''),\n",
       " AccountValue(account='All', tag='IssuerOptionValue', value='0.00', currency='BASE', modelCode=''),\n",
       " AccountValue(account='All', tag='Cryptocurrency', value='', currency='BASE', modelCode='')]"
      ]
     },
     "execution_count": 13,
     "metadata": {},
     "output_type": "execute_result"
    }
   ],
   "source": [
    "ib.accountSummary()"
   ]
  },
  {
   "cell_type": "code",
   "execution_count": 14,
   "id": "65d90fe4",
   "metadata": {},
   "outputs": [
    {
     "data": {
      "text/plain": [
       "[AccountValue(account='DU7351505', tag='AccountCode', value='DU7351505', currency='', modelCode=''),\n",
       " AccountValue(account='DU7351505', tag='AccountOrGroup', value='DU7351505', currency='BASE', modelCode=''),\n",
       " AccountValue(account='DU7351505', tag='AccountOrGroup', value='DU7351505', currency='ILS', modelCode=''),\n",
       " AccountValue(account='DU7351505', tag='AccountOrGroup', value='DU7351505', currency='USD', modelCode=''),\n",
       " AccountValue(account='DU7351505', tag='AccountReady', value='true', currency='', modelCode=''),\n",
       " AccountValue(account='DU7351505', tag='AccountType', value='TRUST', currency='', modelCode=''),\n",
       " AccountValue(account='DU7351505', tag='AccruedCash', value='-2080.80', currency='BASE', modelCode=''),\n",
       " AccountValue(account='DU7351505', tag='AccruedCash', value='0.00', currency='ILS', modelCode=''),\n",
       " AccountValue(account='DU7351505', tag='AccruedCash', value='-2080.80', currency='USD', modelCode=''),\n",
       " AccountValue(account='DU7351505', tag='AccruedCash-C', value='0.00', currency='USD', modelCode=''),\n",
       " AccountValue(account='DU7351505', tag='AccruedCash-S', value='-2080.80', currency='USD', modelCode=''),\n",
       " AccountValue(account='DU7351505', tag='AccruedDividend', value='0.00', currency='USD', modelCode=''),\n",
       " AccountValue(account='DU7351505', tag='AccruedDividend-C', value='0.00', currency='USD', modelCode=''),\n",
       " AccountValue(account='DU7351505', tag='AccruedDividend-S', value='0.00', currency='USD', modelCode=''),\n",
       " AccountValue(account='DU7351505', tag='AvailableFunds', value='898230.35', currency='USD', modelCode=''),\n",
       " AccountValue(account='DU7351505', tag='AvailableFunds-C', value='0.00', currency='USD', modelCode=''),\n",
       " AccountValue(account='DU7351505', tag='AvailableFunds-S', value='898230.35', currency='USD', modelCode=''),\n",
       " AccountValue(account='DU7351505', tag='Billable', value='0.00', currency='USD', modelCode=''),\n",
       " AccountValue(account='DU7351505', tag='Billable-C', value='0.00', currency='USD', modelCode=''),\n",
       " AccountValue(account='DU7351505', tag='Billable-S', value='0.00', currency='USD', modelCode=''),\n",
       " AccountValue(account='DU7351505', tag='BuyingPower', value='3592921.39', currency='USD', modelCode=''),\n",
       " AccountValue(account='DU7351505', tag='CashBalance', value='853477.6831', currency='BASE', modelCode=''),\n",
       " AccountValue(account='DU7351505', tag='CashBalance', value='724560.00', currency='ILS', modelCode=''),\n",
       " AccountValue(account='DU7351505', tag='CashBalance', value='658526.98', currency='USD', modelCode=''),\n",
       " AccountValue(account='DU7351505', tag='ColumnPrio-C', value='2', currency='', modelCode=''),\n",
       " AccountValue(account='DU7351505', tag='ColumnPrio-S', value='1', currency='', modelCode=''),\n",
       " AccountValue(account='DU7351505', tag='CorporateBondValue', value='0.00', currency='BASE', modelCode=''),\n",
       " AccountValue(account='DU7351505', tag='CorporateBondValue', value='0.00', currency='ILS', modelCode=''),\n",
       " AccountValue(account='DU7351505', tag='CorporateBondValue', value='0.00', currency='USD', modelCode=''),\n",
       " AccountValue(account='DU7351505', tag='Currency', value='BASE', currency='BASE', modelCode=''),\n",
       " AccountValue(account='DU7351505', tag='Currency', value='ILS', currency='ILS', modelCode=''),\n",
       " AccountValue(account='DU7351505', tag='Currency', value='USD', currency='USD', modelCode=''),\n",
       " AccountValue(account='DU7351505', tag='Cushion', value='1', currency='', modelCode=''),\n",
       " AccountValue(account='DU7351505', tag='DayTradesRemaining', value='-1', currency='', modelCode=''),\n",
       " AccountValue(account='DU7351505', tag='DayTradesRemainingT+1', value='-1', currency='', modelCode=''),\n",
       " AccountValue(account='DU7351505', tag='DayTradesRemainingT+2', value='-1', currency='', modelCode=''),\n",
       " AccountValue(account='DU7351505', tag='DayTradesRemainingT+3', value='-1', currency='', modelCode=''),\n",
       " AccountValue(account='DU7351505', tag='DayTradesRemainingT+4', value='-1', currency='', modelCode=''),\n",
       " AccountValue(account='DU7351505', tag='DayTradingStatus-S', value='20240516::true:963890.72::false', currency='', modelCode=''),\n",
       " AccountValue(account='DU7351505', tag='EquityWithLoanValue', value='956361.77', currency='USD', modelCode=''),\n",
       " AccountValue(account='DU7351505', tag='EquityWithLoanValue-C', value='0.00', currency='USD', modelCode=''),\n",
       " AccountValue(account='DU7351505', tag='EquityWithLoanValue-S', value='956361.77', currency='USD', modelCode=''),\n",
       " AccountValue(account='DU7351505', tag='ExcessLiquidity', value='903954.71', currency='USD', modelCode=''),\n",
       " AccountValue(account='DU7351505', tag='ExcessLiquidity-C', value='0.00', currency='USD', modelCode=''),\n",
       " AccountValue(account='DU7351505', tag='ExcessLiquidity-S', value='903954.71', currency='USD', modelCode=''),\n",
       " AccountValue(account='DU7351505', tag='ExchangeRate', value='1.00', currency='BASE', modelCode=''),\n",
       " AccountValue(account='DU7351505', tag='ExchangeRate', value='0.2692855', currency='ILS', modelCode=''),\n",
       " AccountValue(account='DU7351505', tag='ExchangeRate', value='1.00', currency='USD', modelCode=''),\n",
       " AccountValue(account='DU7351505', tag='FullAvailableFunds', value='898230.35', currency='USD', modelCode=''),\n",
       " AccountValue(account='DU7351505', tag='FullAvailableFunds-C', value='0.00', currency='USD', modelCode=''),\n",
       " AccountValue(account='DU7351505', tag='FullAvailableFunds-S', value='898230.35', currency='USD', modelCode=''),\n",
       " AccountValue(account='DU7351505', tag='FullExcessLiquidity', value='903954.71', currency='USD', modelCode=''),\n",
       " AccountValue(account='DU7351505', tag='FullExcessLiquidity-C', value='0.00', currency='USD', modelCode=''),\n",
       " AccountValue(account='DU7351505', tag='FullExcessLiquidity-S', value='903954.71', currency='USD', modelCode=''),\n",
       " AccountValue(account='DU7351505', tag='FullInitMarginReq', value='58131.43', currency='USD', modelCode=''),\n",
       " AccountValue(account='DU7351505', tag='FullInitMarginReq-C', value='0.00', currency='USD', modelCode=''),\n",
       " AccountValue(account='DU7351505', tag='FullInitMarginReq-S', value='58131.43', currency='USD', modelCode=''),\n",
       " AccountValue(account='DU7351505', tag='FullMaintMarginReq', value='52407.07', currency='USD', modelCode=''),\n",
       " AccountValue(account='DU7351505', tag='FullMaintMarginReq-C', value='0.00', currency='USD', modelCode=''),\n",
       " AccountValue(account='DU7351505', tag='FullMaintMarginReq-S', value='52407.07', currency='USD', modelCode=''),\n",
       " AccountValue(account='DU7351505', tag='FundValue', value='0.00', currency='BASE', modelCode=''),\n",
       " AccountValue(account='DU7351505', tag='FundValue', value='0.00', currency='ILS', modelCode=''),\n",
       " AccountValue(account='DU7351505', tag='FundValue', value='0.00', currency='USD', modelCode=''),\n",
       " AccountValue(account='DU7351505', tag='FutureOptionValue', value='0.00', currency='BASE', modelCode=''),\n",
       " AccountValue(account='DU7351505', tag='FutureOptionValue', value='0.00', currency='ILS', modelCode=''),\n",
       " AccountValue(account='DU7351505', tag='FutureOptionValue', value='0.00', currency='USD', modelCode=''),\n",
       " AccountValue(account='DU7351505', tag='FuturesPNL', value='0.00', currency='BASE', modelCode=''),\n",
       " AccountValue(account='DU7351505', tag='FuturesPNL', value='0.00', currency='ILS', modelCode=''),\n",
       " AccountValue(account='DU7351505', tag='FuturesPNL', value='0.00', currency='USD', modelCode=''),\n",
       " AccountValue(account='DU7351505', tag='FxCashBalance', value='0.00', currency='BASE', modelCode=''),\n",
       " AccountValue(account='DU7351505', tag='FxCashBalance', value='0.00', currency='ILS', modelCode=''),\n",
       " AccountValue(account='DU7351505', tag='FxCashBalance', value='0.00', currency='USD', modelCode=''),\n",
       " AccountValue(account='DU7351505', tag='GrossPositionValue', value='110413.04', currency='USD', modelCode=''),\n",
       " AccountValue(account='DU7351505', tag='GrossPositionValue-S', value='110413.04', currency='USD', modelCode=''),\n",
       " AccountValue(account='DU7351505', tag='Guarantee', value='0.00', currency='USD', modelCode=''),\n",
       " AccountValue(account='DU7351505', tag='Guarantee-C', value='0.00', currency='USD', modelCode=''),\n",
       " AccountValue(account='DU7351505', tag='Guarantee-S', value='0.00', currency='USD', modelCode=''),\n",
       " AccountValue(account='DU7351505', tag='IndianStockHaircut', value='0.00', currency='USD', modelCode=''),\n",
       " AccountValue(account='DU7351505', tag='IndianStockHaircut-C', value='0.00', currency='USD', modelCode=''),\n",
       " AccountValue(account='DU7351505', tag='IndianStockHaircut-S', value='0.00', currency='USD', modelCode=''),\n",
       " AccountValue(account='DU7351505', tag='InitMarginReq', value='58131.43', currency='USD', modelCode=''),\n",
       " AccountValue(account='DU7351505', tag='InitMarginReq-C', value='0.00', currency='USD', modelCode=''),\n",
       " AccountValue(account='DU7351505', tag='InitMarginReq-S', value='58131.43', currency='USD', modelCode=''),\n",
       " AccountValue(account='DU7351505', tag='IssuerOptionValue', value='0.00', currency='BASE', modelCode=''),\n",
       " AccountValue(account='DU7351505', tag='IssuerOptionValue', value='0.00', currency='ILS', modelCode=''),\n",
       " AccountValue(account='DU7351505', tag='IssuerOptionValue', value='0.00', currency='USD', modelCode=''),\n",
       " AccountValue(account='DU7351505', tag='Leverage-S', value='0.11', currency='', modelCode=''),\n",
       " AccountValue(account='DU7351505', tag='LookAheadAvailableFunds', value='898230.35', currency='USD', modelCode=''),\n",
       " AccountValue(account='DU7351505', tag='LookAheadAvailableFunds-C', value='0.00', currency='USD', modelCode=''),\n",
       " AccountValue(account='DU7351505', tag='LookAheadAvailableFunds-S', value='898230.35', currency='USD', modelCode=''),\n",
       " AccountValue(account='DU7351505', tag='LookAheadExcessLiquidity', value='903954.71', currency='USD', modelCode=''),\n",
       " AccountValue(account='DU7351505', tag='LookAheadExcessLiquidity-C', value='0.00', currency='USD', modelCode=''),\n",
       " AccountValue(account='DU7351505', tag='LookAheadExcessLiquidity-S', value='903954.71', currency='USD', modelCode=''),\n",
       " AccountValue(account='DU7351505', tag='LookAheadInitMarginReq', value='58131.43', currency='USD', modelCode=''),\n",
       " AccountValue(account='DU7351505', tag='LookAheadInitMarginReq-C', value='0.00', currency='USD', modelCode=''),\n",
       " AccountValue(account='DU7351505', tag='LookAheadInitMarginReq-S', value='58131.43', currency='USD', modelCode=''),\n",
       " AccountValue(account='DU7351505', tag='LookAheadMaintMarginReq', value='52407.07', currency='USD', modelCode=''),\n",
       " AccountValue(account='DU7351505', tag='LookAheadMaintMarginReq-C', value='0.00', currency='USD', modelCode=''),\n",
       " AccountValue(account='DU7351505', tag='LookAheadMaintMarginReq-S', value='52407.07', currency='USD', modelCode=''),\n",
       " AccountValue(account='DU7351505', tag='LookAheadNextChange', value='1715952600', currency='', modelCode=''),\n",
       " AccountValue(account='DU7351505', tag='MaintMarginReq', value='52407.07', currency='USD', modelCode=''),\n",
       " AccountValue(account='DU7351505', tag='MaintMarginReq-C', value='0.00', currency='USD', modelCode=''),\n",
       " AccountValue(account='DU7351505', tag='MaintMarginReq-S', value='52407.07', currency='USD', modelCode=''),\n",
       " AccountValue(account='DU7351505', tag='MoneyMarketFundValue', value='0.00', currency='BASE', modelCode=''),\n",
       " AccountValue(account='DU7351505', tag='MoneyMarketFundValue', value='0.00', currency='ILS', modelCode=''),\n",
       " AccountValue(account='DU7351505', tag='MoneyMarketFundValue', value='0.00', currency='USD', modelCode=''),\n",
       " AccountValue(account='DU7351505', tag='MutualFundValue', value='0.00', currency='BASE', modelCode=''),\n",
       " AccountValue(account='DU7351505', tag='MutualFundValue', value='0.00', currency='ILS', modelCode=''),\n",
       " AccountValue(account='DU7351505', tag='MutualFundValue', value='0.00', currency='USD', modelCode=''),\n",
       " AccountValue(account='DU7351505', tag='NLVAndMarginInReview', value='false', currency='', modelCode=''),\n",
       " AccountValue(account='DU7351505', tag='NetDividend', value='0.00', currency='BASE', modelCode=''),\n",
       " AccountValue(account='DU7351505', tag='NetDividend', value='0.00', currency='ILS', modelCode=''),\n",
       " AccountValue(account='DU7351505', tag='NetDividend', value='0.00', currency='USD', modelCode=''),\n",
       " AccountValue(account='DU7351505', tag='NetLiquidation', value='961809.92', currency='USD', modelCode=''),\n",
       " AccountValue(account='DU7351505', tag='NetLiquidation-C', value='0.00', currency='USD', modelCode=''),\n",
       " AccountValue(account='DU7351505', tag='NetLiquidation-S', value='961809.92', currency='USD', modelCode=''),\n",
       " AccountValue(account='DU7351505', tag='NetLiquidationByCurrency', value='961809.9195', currency='BASE', modelCode=''),\n",
       " AccountValue(account='DU7351505', tag='NetLiquidationByCurrency', value='724560.00', currency='ILS', modelCode=''),\n",
       " AccountValue(account='DU7351505', tag='NetLiquidationByCurrency', value='766859.2164', currency='USD', modelCode=''),\n",
       " AccountValue(account='DU7351505', tag='NetLiquidationUncertainty', value='0.00', currency='USD', modelCode=''),\n",
       " AccountValue(account='DU7351505', tag='OptionMarketValue', value='5347.04', currency='BASE', modelCode=''),\n",
       " AccountValue(account='DU7351505', tag='OptionMarketValue', value='0.00', currency='ILS', modelCode=''),\n",
       " AccountValue(account='DU7351505', tag='OptionMarketValue', value='5347.04', currency='USD', modelCode=''),\n",
       " AccountValue(account='DU7351505', tag='PASharesValue', value='0.00', currency='USD', modelCode=''),\n",
       " AccountValue(account='DU7351505', tag='PASharesValue-C', value='0.00', currency='USD', modelCode=''),\n",
       " AccountValue(account='DU7351505', tag='PASharesValue-S', value='0.00', currency='USD', modelCode=''),\n",
       " AccountValue(account='DU7351505', tag='PhysicalCertificateValue', value='0.00', currency='USD', modelCode=''),\n",
       " AccountValue(account='DU7351505', tag='PhysicalCertificateValue-C', value='0.00', currency='USD', modelCode=''),\n",
       " AccountValue(account='DU7351505', tag='PhysicalCertificateValue-S', value='0.00', currency='USD', modelCode=''),\n",
       " AccountValue(account='DU7351505', tag='PostExpirationExcess', value='0.00', currency='USD', modelCode=''),\n",
       " AccountValue(account='DU7351505', tag='PostExpirationExcess-C', value='0.00', currency='USD', modelCode=''),\n",
       " AccountValue(account='DU7351505', tag='PostExpirationExcess-S', value='0.00', currency='USD', modelCode=''),\n",
       " AccountValue(account='DU7351505', tag='PostExpirationMargin', value='0.00', currency='USD', modelCode=''),\n",
       " AccountValue(account='DU7351505', tag='PostExpirationMargin-C', value='0.00', currency='USD', modelCode=''),\n",
       " AccountValue(account='DU7351505', tag='PostExpirationMargin-S', value='0.00', currency='USD', modelCode=''),\n",
       " AccountValue(account='DU7351505', tag='PreviousDayEquityWithLoanValue', value='957196.29', currency='USD', modelCode=''),\n",
       " AccountValue(account='DU7351505', tag='PreviousDayEquityWithLoanValue-S', value='957196.29', currency='USD', modelCode=''),\n",
       " AccountValue(account='DU7351505', tag='RealCurrency', value='BASE', currency='BASE', modelCode=''),\n",
       " AccountValue(account='DU7351505', tag='RealCurrency', value='ILS', currency='ILS', modelCode=''),\n",
       " AccountValue(account='DU7351505', tag='RealCurrency', value='USD', currency='USD', modelCode=''),\n",
       " AccountValue(account='DU7351505', tag='RealizedPnL', value='0.00', currency='BASE', modelCode=''),\n",
       " AccountValue(account='DU7351505', tag='RealizedPnL', value='0.00', currency='ILS', modelCode=''),\n",
       " AccountValue(account='DU7351505', tag='RealizedPnL', value='0.00', currency='USD', modelCode=''),\n",
       " AccountValue(account='DU7351505', tag='RegTEquity', value='956462.88', currency='USD', modelCode=''),\n",
       " AccountValue(account='DU7351505', tag='RegTEquity-S', value='956462.88', currency='USD', modelCode=''),\n",
       " AccountValue(account='DU7351505', tag='RegTMargin', value='52533.00', currency='USD', modelCode=''),\n",
       " AccountValue(account='DU7351505', tag='RegTMargin-S', value='52533.00', currency='USD', modelCode=''),\n",
       " AccountValue(account='DU7351505', tag='SMA', value='1145117.13', currency='USD', modelCode=''),\n",
       " AccountValue(account='DU7351505', tag='SMA-S', value='1145117.13', currency='USD', modelCode=''),\n",
       " AccountValue(account='DU7351505', tag='SegmentTitle-C', value='US Commodities', currency='', modelCode=''),\n",
       " AccountValue(account='DU7351505', tag='SegmentTitle-S', value='US Securities', currency='', modelCode=''),\n",
       " AccountValue(account='DU7351505', tag='StockMarketValue', value='105066.00', currency='BASE', modelCode=''),\n",
       " AccountValue(account='DU7351505', tag='StockMarketValue', value='0.00', currency='ILS', modelCode=''),\n",
       " AccountValue(account='DU7351505', tag='StockMarketValue', value='105066.00', currency='USD', modelCode=''),\n",
       " AccountValue(account='DU7351505', tag='TBillValue', value='0.00', currency='BASE', modelCode=''),\n",
       " AccountValue(account='DU7351505', tag='TBillValue', value='0.00', currency='ILS', modelCode=''),\n",
       " AccountValue(account='DU7351505', tag='TBillValue', value='0.00', currency='USD', modelCode=''),\n",
       " AccountValue(account='DU7351505', tag='TBondValue', value='0.00', currency='BASE', modelCode=''),\n",
       " AccountValue(account='DU7351505', tag='TBondValue', value='0.00', currency='ILS', modelCode=''),\n",
       " AccountValue(account='DU7351505', tag='TBondValue', value='0.00', currency='USD', modelCode=''),\n",
       " AccountValue(account='DU7351505', tag='TotalCashBalance', value='853477.6831', currency='BASE', modelCode=''),\n",
       " AccountValue(account='DU7351505', tag='TotalCashBalance', value='724560.00', currency='ILS', modelCode=''),\n",
       " AccountValue(account='DU7351505', tag='TotalCashBalance', value='658526.98', currency='USD', modelCode=''),\n",
       " AccountValue(account='DU7351505', tag='TotalCashValue', value='853477.68', currency='USD', modelCode=''),\n",
       " AccountValue(account='DU7351505', tag='TotalCashValue-C', value='0.00', currency='USD', modelCode=''),\n",
       " AccountValue(account='DU7351505', tag='TotalCashValue-S', value='853477.68', currency='USD', modelCode=''),\n",
       " AccountValue(account='DU7351505', tag='TotalDebitCardPendingCharges', value='0.00', currency='USD', modelCode=''),\n",
       " AccountValue(account='DU7351505', tag='TotalDebitCardPendingCharges-C', value='0.00', currency='USD', modelCode=''),\n",
       " AccountValue(account='DU7351505', tag='TotalDebitCardPendingCharges-S', value='0.00', currency='USD', modelCode=''),\n",
       " AccountValue(account='DU7351505', tag='TradingType-S', value='STKNOPT', currency='', modelCode=''),\n",
       " AccountValue(account='DU7351505', tag='UnrealizedPnL', value='-972.74', currency='BASE', modelCode=''),\n",
       " AccountValue(account='DU7351505', tag='UnrealizedPnL', value='0.00', currency='ILS', modelCode=''),\n",
       " AccountValue(account='DU7351505', tag='UnrealizedPnL', value='-972.74', currency='USD', modelCode=''),\n",
       " AccountValue(account='DU7351505', tag='WarrantValue', value='0.00', currency='BASE', modelCode=''),\n",
       " AccountValue(account='DU7351505', tag='WarrantValue', value='0.00', currency='ILS', modelCode=''),\n",
       " AccountValue(account='DU7351505', tag='WarrantValue', value='0.00', currency='USD', modelCode=''),\n",
       " AccountValue(account='DU7351505', tag='WhatIfPMEnabled', value='true', currency='', modelCode=''),\n",
       " AccountValue(account='DU7351505', tag='Cryptocurrency', value='', currency='ILS', modelCode=''),\n",
       " AccountValue(account='DU7351505', tag='Cryptocurrency', value='', currency='USD', modelCode=''),\n",
       " AccountValue(account='DU7351505', tag='Cryptocurrency', value='', currency='BASE', modelCode='')]"
      ]
     },
     "execution_count": 14,
     "metadata": {},
     "output_type": "execute_result"
    }
   ],
   "source": [
    "ib.accountValues()"
   ]
  },
  {
   "cell_type": "code",
   "execution_count": 17,
   "id": "f9b3bb23",
   "metadata": {},
   "outputs": [
    {
     "data": {
      "text/html": [
       "<div>\n",
       "<style scoped>\n",
       "    .dataframe tbody tr th:only-of-type {\n",
       "        vertical-align: middle;\n",
       "    }\n",
       "\n",
       "    .dataframe tbody tr th {\n",
       "        vertical-align: top;\n",
       "    }\n",
       "\n",
       "    .dataframe thead th {\n",
       "        text-align: right;\n",
       "    }\n",
       "</style>\n",
       "<table border=\"1\" class=\"dataframe\">\n",
       "  <thead>\n",
       "    <tr style=\"text-align: right;\">\n",
       "      <th></th>\n",
       "      <th>account</th>\n",
       "      <th>tag</th>\n",
       "      <th>value</th>\n",
       "      <th>currency</th>\n",
       "      <th>modelCode</th>\n",
       "    </tr>\n",
       "  </thead>\n",
       "  <tbody>\n",
       "    <tr>\n",
       "      <th>0</th>\n",
       "      <td>DU7351505</td>\n",
       "      <td>AccountType</td>\n",
       "      <td>TRUST</td>\n",
       "      <td></td>\n",
       "      <td></td>\n",
       "    </tr>\n",
       "    <tr>\n",
       "      <th>1</th>\n",
       "      <td>DU7351505</td>\n",
       "      <td>Cushion</td>\n",
       "      <td>1</td>\n",
       "      <td></td>\n",
       "      <td></td>\n",
       "    </tr>\n",
       "    <tr>\n",
       "      <th>2</th>\n",
       "      <td>DU7351505</td>\n",
       "      <td>DayTradesRemaining</td>\n",
       "      <td>-1</td>\n",
       "      <td></td>\n",
       "      <td></td>\n",
       "    </tr>\n",
       "    <tr>\n",
       "      <th>3</th>\n",
       "      <td>DU7351505</td>\n",
       "      <td>DayTradesRemainingT+1</td>\n",
       "      <td>-1</td>\n",
       "      <td></td>\n",
       "      <td></td>\n",
       "    </tr>\n",
       "    <tr>\n",
       "      <th>4</th>\n",
       "      <td>DU7351505</td>\n",
       "      <td>DayTradesRemainingT+2</td>\n",
       "      <td>-1</td>\n",
       "      <td></td>\n",
       "      <td></td>\n",
       "    </tr>\n",
       "  </tbody>\n",
       "</table>\n",
       "</div>"
      ],
      "text/plain": [
       "     account                    tag  value currency modelCode\n",
       "0  DU7351505            AccountType  TRUST                   \n",
       "1  DU7351505                Cushion      1                   \n",
       "2  DU7351505     DayTradesRemaining     -1                   \n",
       "3  DU7351505  DayTradesRemainingT+1     -1                   \n",
       "4  DU7351505  DayTradesRemainingT+2     -1                   "
      ]
     },
     "execution_count": 17,
     "metadata": {},
     "output_type": "execute_result"
    }
   ],
   "source": [
    "df_account_summary=util.df(ib.accountSummary())\n",
    "df_account_summary.head()"
   ]
  },
  {
   "cell_type": "code",
   "execution_count": 20,
   "id": "53816283",
   "metadata": {},
   "outputs": [
    {
     "data": {
      "text/html": [
       "<div>\n",
       "<style scoped>\n",
       "    .dataframe tbody tr th:only-of-type {\n",
       "        vertical-align: middle;\n",
       "    }\n",
       "\n",
       "    .dataframe tbody tr th {\n",
       "        vertical-align: top;\n",
       "    }\n",
       "\n",
       "    .dataframe thead th {\n",
       "        text-align: right;\n",
       "    }\n",
       "</style>\n",
       "<table border=\"1\" class=\"dataframe\">\n",
       "  <thead>\n",
       "    <tr style=\"text-align: right;\">\n",
       "      <th></th>\n",
       "      <th>account</th>\n",
       "      <th>tag</th>\n",
       "      <th>value</th>\n",
       "      <th>currency</th>\n",
       "      <th>modelCode</th>\n",
       "    </tr>\n",
       "  </thead>\n",
       "  <tbody>\n",
       "    <tr>\n",
       "      <th>24</th>\n",
       "      <td>DU7351505</td>\n",
       "      <td>NetLiquidation</td>\n",
       "      <td>961809.92</td>\n",
       "      <td>USD</td>\n",
       "      <td></td>\n",
       "    </tr>\n",
       "    <tr>\n",
       "      <th>38</th>\n",
       "      <td>All</td>\n",
       "      <td>NetLiquidationByCurrency</td>\n",
       "      <td>724560.00</td>\n",
       "      <td>ILS</td>\n",
       "      <td></td>\n",
       "    </tr>\n",
       "    <tr>\n",
       "      <th>63</th>\n",
       "      <td>All</td>\n",
       "      <td>NetLiquidationByCurrency</td>\n",
       "      <td>766859.2164</td>\n",
       "      <td>USD</td>\n",
       "      <td></td>\n",
       "    </tr>\n",
       "    <tr>\n",
       "      <th>88</th>\n",
       "      <td>All</td>\n",
       "      <td>NetLiquidationByCurrency</td>\n",
       "      <td>961809.9195</td>\n",
       "      <td>BASE</td>\n",
       "      <td></td>\n",
       "    </tr>\n",
       "  </tbody>\n",
       "</table>\n",
       "</div>"
      ],
      "text/plain": [
       "      account                       tag        value currency modelCode\n",
       "24  DU7351505            NetLiquidation    961809.92      USD          \n",
       "38        All  NetLiquidationByCurrency    724560.00      ILS          \n",
       "63        All  NetLiquidationByCurrency  766859.2164      USD          \n",
       "88        All  NetLiquidationByCurrency  961809.9195     BASE          "
      ]
     },
     "execution_count": 20,
     "metadata": {},
     "output_type": "execute_result"
    }
   ],
   "source": [
    "df_account_summary[df_account_summary['tag'].str.contains('netLiquidation',case=False)]"
   ]
  },
  {
   "cell_type": "markdown",
   "id": "7d5dc4d8",
   "metadata": {},
   "source": [
    "### Market Data\n",
    "* Need a few subscriptions!\n",
    "* US Equity and Options Add-On Streaming Bundle (NP) - Trader Workstation\n",
    "* US Securities Snapshot and Futures Value Bundle (NP,L1) - Trader Workstation ( Waived if monthly commissions reach 30 USD )"
   ]
  },
  {
   "cell_type": "code",
   "execution_count": 22,
   "id": "301709c8",
   "metadata": {},
   "outputs": [
    {
     "data": {
      "text/plain": [
       "Stock(symbol='TSLA', exchange='SMART', currency='USD')"
      ]
     },
     "execution_count": 22,
     "metadata": {},
     "output_type": "execute_result"
    }
   ],
   "source": [
    "contract = Stock(symbol='TSLA',exchange='SMART',currency='USD')\n",
    "contract"
   ]
  },
  {
   "cell_type": "code",
   "execution_count": 23,
   "id": "4e5a915e",
   "metadata": {},
   "outputs": [
    {
     "data": {
      "text/plain": [
       "Stock(conId=76792991, symbol='TSLA', exchange='SMART', primaryExchange='NASDAQ', currency='USD', localSymbol='TSLA', tradingClass='NMS')"
      ]
     },
     "execution_count": 23,
     "metadata": {},
     "output_type": "execute_result"
    }
   ],
   "source": [
    "ib.qualifyContracts(contract)\n",
    "contract"
   ]
  },
  {
   "cell_type": "markdown",
   "id": "fe748848",
   "metadata": {},
   "source": [
    "### Get historical 5 minute data"
   ]
  },
  {
   "cell_type": "code",
   "execution_count": 24,
   "id": "ed36b3e1",
   "metadata": {},
   "outputs": [],
   "source": [
    "bars=ib.reqHistoricalData(contract=contract,endDateTime='',durationStr='3 D',barSizeSetting='5 mins',\n",
    "                     whatToShow='TRADES',useRTH=False,keepUpToDate=True)"
   ]
  },
  {
   "cell_type": "code",
   "execution_count": 32,
   "id": "8f9dd8e5",
   "metadata": {},
   "outputs": [
    {
     "data": {
      "text/html": [
       "<div>\n",
       "<style scoped>\n",
       "    .dataframe tbody tr th:only-of-type {\n",
       "        vertical-align: middle;\n",
       "    }\n",
       "\n",
       "    .dataframe tbody tr th {\n",
       "        vertical-align: top;\n",
       "    }\n",
       "\n",
       "    .dataframe thead th {\n",
       "        text-align: right;\n",
       "    }\n",
       "</style>\n",
       "<table border=\"1\" class=\"dataframe\">\n",
       "  <thead>\n",
       "    <tr style=\"text-align: right;\">\n",
       "      <th></th>\n",
       "      <th>date</th>\n",
       "      <th>open</th>\n",
       "      <th>high</th>\n",
       "      <th>low</th>\n",
       "      <th>close</th>\n",
       "      <th>volume</th>\n",
       "      <th>average</th>\n",
       "      <th>barCount</th>\n",
       "    </tr>\n",
       "  </thead>\n",
       "  <tbody>\n",
       "    <tr>\n",
       "      <th>0</th>\n",
       "      <td>2024-05-15 04:00:00-04:00</td>\n",
       "      <td>178.08</td>\n",
       "      <td>178.20</td>\n",
       "      <td>177.90</td>\n",
       "      <td>178.16</td>\n",
       "      <td>9636.0</td>\n",
       "      <td>178.032000</td>\n",
       "      <td>48</td>\n",
       "    </tr>\n",
       "    <tr>\n",
       "      <th>1</th>\n",
       "      <td>2024-05-15 04:05:00-04:00</td>\n",
       "      <td>178.16</td>\n",
       "      <td>178.20</td>\n",
       "      <td>178.00</td>\n",
       "      <td>178.20</td>\n",
       "      <td>6539.0</td>\n",
       "      <td>178.153000</td>\n",
       "      <td>39</td>\n",
       "    </tr>\n",
       "    <tr>\n",
       "      <th>2</th>\n",
       "      <td>2024-05-15 04:10:00-04:00</td>\n",
       "      <td>178.15</td>\n",
       "      <td>178.20</td>\n",
       "      <td>178.00</td>\n",
       "      <td>178.20</td>\n",
       "      <td>6800.0</td>\n",
       "      <td>178.131000</td>\n",
       "      <td>24</td>\n",
       "    </tr>\n",
       "    <tr>\n",
       "      <th>3</th>\n",
       "      <td>2024-05-15 04:15:00-04:00</td>\n",
       "      <td>178.20</td>\n",
       "      <td>178.23</td>\n",
       "      <td>178.06</td>\n",
       "      <td>178.10</td>\n",
       "      <td>8400.0</td>\n",
       "      <td>178.176000</td>\n",
       "      <td>35</td>\n",
       "    </tr>\n",
       "    <tr>\n",
       "      <th>4</th>\n",
       "      <td>2024-05-15 04:20:00-04:00</td>\n",
       "      <td>178.19</td>\n",
       "      <td>178.20</td>\n",
       "      <td>178.10</td>\n",
       "      <td>178.20</td>\n",
       "      <td>2388.0</td>\n",
       "      <td>178.173000</td>\n",
       "      <td>14</td>\n",
       "    </tr>\n",
       "    <tr>\n",
       "      <th>...</th>\n",
       "      <td>...</td>\n",
       "      <td>...</td>\n",
       "      <td>...</td>\n",
       "      <td>...</td>\n",
       "      <td>...</td>\n",
       "      <td>...</td>\n",
       "      <td>...</td>\n",
       "      <td>...</td>\n",
       "    </tr>\n",
       "    <tr>\n",
       "      <th>419</th>\n",
       "      <td>2024-05-17 06:55:00-04:00</td>\n",
       "      <td>174.72</td>\n",
       "      <td>174.84</td>\n",
       "      <td>174.72</td>\n",
       "      <td>174.84</td>\n",
       "      <td>2843.0</td>\n",
       "      <td>174.766000</td>\n",
       "      <td>8</td>\n",
       "    </tr>\n",
       "    <tr>\n",
       "      <th>420</th>\n",
       "      <td>2024-05-17 07:00:00-04:00</td>\n",
       "      <td>174.84</td>\n",
       "      <td>175.29</td>\n",
       "      <td>174.75</td>\n",
       "      <td>175.10</td>\n",
       "      <td>11397.0</td>\n",
       "      <td>174.993000</td>\n",
       "      <td>66</td>\n",
       "    </tr>\n",
       "    <tr>\n",
       "      <th>421</th>\n",
       "      <td>2024-05-17 07:05:00-04:00</td>\n",
       "      <td>175.13</td>\n",
       "      <td>175.15</td>\n",
       "      <td>175.03</td>\n",
       "      <td>175.03</td>\n",
       "      <td>2872.0</td>\n",
       "      <td>175.101000</td>\n",
       "      <td>13</td>\n",
       "    </tr>\n",
       "    <tr>\n",
       "      <th>422</th>\n",
       "      <td>2024-05-17 07:10:00-04:00</td>\n",
       "      <td>175.03</td>\n",
       "      <td>175.09</td>\n",
       "      <td>174.89</td>\n",
       "      <td>175.09</td>\n",
       "      <td>2387.0</td>\n",
       "      <td>175.029000</td>\n",
       "      <td>14</td>\n",
       "    </tr>\n",
       "    <tr>\n",
       "      <th>423</th>\n",
       "      <td>2024-05-17 07:15:00-04:00</td>\n",
       "      <td>175.05</td>\n",
       "      <td>175.10</td>\n",
       "      <td>175.05</td>\n",
       "      <td>175.10</td>\n",
       "      <td>2417.0</td>\n",
       "      <td>175.097931</td>\n",
       "      <td>13</td>\n",
       "    </tr>\n",
       "  </tbody>\n",
       "</table>\n",
       "<p>424 rows × 8 columns</p>\n",
       "</div>"
      ],
      "text/plain": [
       "                         date    open    high     low   close   volume  \\\n",
       "0   2024-05-15 04:00:00-04:00  178.08  178.20  177.90  178.16   9636.0   \n",
       "1   2024-05-15 04:05:00-04:00  178.16  178.20  178.00  178.20   6539.0   \n",
       "2   2024-05-15 04:10:00-04:00  178.15  178.20  178.00  178.20   6800.0   \n",
       "3   2024-05-15 04:15:00-04:00  178.20  178.23  178.06  178.10   8400.0   \n",
       "4   2024-05-15 04:20:00-04:00  178.19  178.20  178.10  178.20   2388.0   \n",
       "..                        ...     ...     ...     ...     ...      ...   \n",
       "419 2024-05-17 06:55:00-04:00  174.72  174.84  174.72  174.84   2843.0   \n",
       "420 2024-05-17 07:00:00-04:00  174.84  175.29  174.75  175.10  11397.0   \n",
       "421 2024-05-17 07:05:00-04:00  175.13  175.15  175.03  175.03   2872.0   \n",
       "422 2024-05-17 07:10:00-04:00  175.03  175.09  174.89  175.09   2387.0   \n",
       "423 2024-05-17 07:15:00-04:00  175.05  175.10  175.05  175.10   2417.0   \n",
       "\n",
       "        average  barCount  \n",
       "0    178.032000        48  \n",
       "1    178.153000        39  \n",
       "2    178.131000        24  \n",
       "3    178.176000        35  \n",
       "4    178.173000        14  \n",
       "..          ...       ...  \n",
       "419  174.766000         8  \n",
       "420  174.993000        66  \n",
       "421  175.101000        13  \n",
       "422  175.029000        14  \n",
       "423  175.097931        13  \n",
       "\n",
       "[424 rows x 8 columns]"
      ]
     },
     "execution_count": 32,
     "metadata": {},
     "output_type": "execute_result"
    }
   ],
   "source": [
    "util.df(bars)"
   ]
  },
  {
   "cell_type": "markdown",
   "id": "de1d5e16",
   "metadata": {},
   "source": [
    "### ORDERING ( DO NOT RUN!!!)"
   ]
  },
  {
   "cell_type": "code",
   "execution_count": 31,
   "id": "35000c69",
   "metadata": {},
   "outputs": [],
   "source": [
    "limit_order = LimitOrder(action='BUY',totalQuantity=100,lmtPrice=10)"
   ]
  },
  {
   "cell_type": "code",
   "execution_count": 33,
   "id": "bdbc7819",
   "metadata": {},
   "outputs": [],
   "source": [
    "trade = ib.placeOrder(contract,limit_order)"
   ]
  },
  {
   "cell_type": "code",
   "execution_count": 37,
   "id": "085c0e04",
   "metadata": {},
   "outputs": [
    {
     "data": {
      "text/plain": [
       "[TradeLogEntry(time=datetime.datetime(2024, 5, 17, 11, 18, 29, 545449, tzinfo=datetime.timezone.utc), status='PendingSubmit', message='', errorCode=0),\n",
       " TradeLogEntry(time=datetime.datetime(2024, 5, 17, 11, 18, 30, 282764, tzinfo=datetime.timezone.utc), status='PreSubmitted', message='', errorCode=0)]"
      ]
     },
     "execution_count": 37,
     "metadata": {},
     "output_type": "execute_result"
    }
   ],
   "source": [
    "trade.log"
   ]
  },
  {
   "cell_type": "code",
   "execution_count": 34,
   "id": "894fcbb6",
   "metadata": {},
   "outputs": [
    {
     "data": {
      "text/plain": [
       "OrderStatus(orderId=4588, status='PreSubmitted', filled=0.0, remaining=100.0, avgFillPrice=0.0, permId=1842923052, parentId=0, lastFillPrice=0.0, clientId=0, whyHeld='', mktCapPrice=0.0)"
      ]
     },
     "execution_count": 34,
     "metadata": {},
     "output_type": "execute_result"
    }
   ],
   "source": [
    "trade.orderStatus"
   ]
  },
  {
   "cell_type": "code",
   "execution_count": 35,
   "id": "5746a079",
   "metadata": {},
   "outputs": [
    {
     "data": {
      "text/plain": [
       "[LimitOrder(orderId=4588, permId=1842923052, action='BUY', totalQuantity=100.0, lmtPrice=10.0, auxPrice=0.0)]"
      ]
     },
     "execution_count": 35,
     "metadata": {},
     "output_type": "execute_result"
    }
   ],
   "source": [
    "ib.openOrders()"
   ]
  },
  {
   "cell_type": "code",
   "execution_count": 36,
   "id": "d77b9e0e",
   "metadata": {},
   "outputs": [
    {
     "data": {
      "text/plain": [
       "[Trade(contract=Stock(conId=76792991, symbol='TSLA', exchange='SMART', primaryExchange='NASDAQ', currency='USD', localSymbol='TSLA', tradingClass='NMS'), order=LimitOrder(orderId=4588, permId=1842923052, action='BUY', totalQuantity=100.0, lmtPrice=10.0, auxPrice=0.0), orderStatus=OrderStatus(orderId=4588, status='PreSubmitted', filled=0.0, remaining=100.0, avgFillPrice=0.0, permId=1842923052, parentId=0, lastFillPrice=0.0, clientId=0, whyHeld='', mktCapPrice=0.0), fills=[], log=[TradeLogEntry(time=datetime.datetime(2024, 5, 17, 11, 18, 29, 545449, tzinfo=datetime.timezone.utc), status='PendingSubmit', message='', errorCode=0), TradeLogEntry(time=datetime.datetime(2024, 5, 17, 11, 18, 30, 282764, tzinfo=datetime.timezone.utc), status='PreSubmitted', message='', errorCode=0)], advancedError='')]"
      ]
     },
     "execution_count": 36,
     "metadata": {},
     "output_type": "execute_result"
    }
   ],
   "source": [
    "ib.openTrades()"
   ]
  },
  {
   "cell_type": "markdown",
   "id": "d727006c",
   "metadata": {},
   "source": [
    "#### Modify Order"
   ]
  },
  {
   "cell_type": "code",
   "execution_count": 39,
   "id": "4aaa7972",
   "metadata": {},
   "outputs": [],
   "source": [
    "order = trade.order\n",
    "order.lmtPrice=200\n",
    "trade = ib.placeOrder(contract,order)"
   ]
  },
  {
   "cell_type": "code",
   "execution_count": 40,
   "id": "1221acbe",
   "metadata": {},
   "outputs": [
    {
     "data": {
      "text/plain": [
       "OrderStatus(orderId=4588, status='PreSubmitted', filled=0.0, remaining=100.0, avgFillPrice=0.0, permId=1842923052, parentId=0, lastFillPrice=0.0, clientId=0, whyHeld='', mktCapPrice=0.0)"
      ]
     },
     "execution_count": 40,
     "metadata": {},
     "output_type": "execute_result"
    }
   ],
   "source": [
    "trade.orderStatus"
   ]
  },
  {
   "cell_type": "markdown",
   "id": "45976688",
   "metadata": {},
   "source": [
    "##### Order didn't fill because we are premarket and didn't specify outsideRTH=True"
   ]
  },
  {
   "cell_type": "markdown",
   "id": "919a8482",
   "metadata": {},
   "source": [
    "### Lets cancel the orders"
   ]
  },
  {
   "cell_type": "code",
   "execution_count": 41,
   "id": "0391659e",
   "metadata": {},
   "outputs": [],
   "source": [
    "for order in ib.openOrders():\n",
    "    ib.cancelOrder(order)"
   ]
  },
  {
   "cell_type": "code",
   "execution_count": 42,
   "id": "b4becfef",
   "metadata": {},
   "outputs": [
    {
     "data": {
      "text/plain": [
       "[]"
      ]
     },
     "execution_count": 42,
     "metadata": {},
     "output_type": "execute_result"
    }
   ],
   "source": [
    "ib.openOrders()"
   ]
  },
  {
   "cell_type": "markdown",
   "id": "b606df5e",
   "metadata": {},
   "source": [
    "#### But we are premarket so specify outsideRth=True"
   ]
  },
  {
   "cell_type": "code",
   "execution_count": 48,
   "id": "ffe1696d",
   "metadata": {},
   "outputs": [],
   "source": [
    "limit_order = LimitOrder(action='BUY',totalQuantity=100,lmtPrice=176,outsideRth=True)"
   ]
  },
  {
   "cell_type": "code",
   "execution_count": 49,
   "id": "ca4f4eab",
   "metadata": {},
   "outputs": [],
   "source": [
    "trade = ib.placeOrder(contract,limit_order)"
   ]
  },
  {
   "cell_type": "code",
   "execution_count": 50,
   "id": "734d8c9d",
   "metadata": {},
   "outputs": [
    {
     "data": {
      "text/plain": [
       "OrderStatus(orderId=4590, status='Filled', filled=100.0, remaining=0.0, avgFillPrice=175.16, permId=1842923054, parentId=0, lastFillPrice=175.16, clientId=0, whyHeld='', mktCapPrice=0.0)"
      ]
     },
     "execution_count": 50,
     "metadata": {},
     "output_type": "execute_result"
    }
   ],
   "source": [
    "trade.orderStatus"
   ]
  },
  {
   "cell_type": "markdown",
   "id": "6a020816",
   "metadata": {},
   "source": [
    "### Look at fills"
   ]
  },
  {
   "cell_type": "code",
   "execution_count": 51,
   "id": "bb2c2cc3",
   "metadata": {},
   "outputs": [
    {
     "data": {
      "text/plain": [
       "[Fill(contract=Stock(conId=76792991, symbol='TSLA', exchange='SMART', primaryExchange='NASDAQ', currency='USD', localSymbol='TSLA', tradingClass='NMS'), execution=Execution(execId='00025b46.6646d784.01.01', time=datetime.datetime(2024, 5, 17, 11, 22, 45, tzinfo=datetime.timezone.utc), acctNumber='DU7351505', exchange='ISLAND', side='BOT', shares=100.0, price=175.16, permId=1842923054, clientId=0, orderId=4590, liquidation=0, cumQty=100.0, avgPrice=175.16, orderRef='', evRule='', evMultiplier=0.0, modelCode='', lastLiquidity=2, pendingPriceRevision=False), commissionReport=CommissionReport(execId='00025b46.6646d784.01.01', commission=1.0, currency='USD', realizedPNL=0.0, yield_=0.0, yieldRedemptionDate=0), time=datetime.datetime(2024, 5, 17, 11, 22, 46, 410116, tzinfo=datetime.timezone.utc))]"
      ]
     },
     "execution_count": 51,
     "metadata": {},
     "output_type": "execute_result"
    }
   ],
   "source": [
    "ib.fills()"
   ]
  },
  {
   "cell_type": "code",
   "execution_count": 53,
   "id": "98696a9c",
   "metadata": {},
   "outputs": [],
   "source": [
    "df_fills=util.df(ib.fills())"
   ]
  },
  {
   "cell_type": "code",
   "execution_count": 59,
   "id": "70a74526",
   "metadata": {},
   "outputs": [
    {
     "data": {
      "text/html": [
       "<div>\n",
       "<style scoped>\n",
       "    .dataframe tbody tr th:only-of-type {\n",
       "        vertical-align: middle;\n",
       "    }\n",
       "\n",
       "    .dataframe tbody tr th {\n",
       "        vertical-align: top;\n",
       "    }\n",
       "\n",
       "    .dataframe thead th {\n",
       "        text-align: right;\n",
       "    }\n",
       "</style>\n",
       "<table border=\"1\" class=\"dataframe\">\n",
       "  <thead>\n",
       "    <tr style=\"text-align: right;\">\n",
       "      <th></th>\n",
       "      <th>execId</th>\n",
       "      <th>time</th>\n",
       "      <th>acctNumber</th>\n",
       "      <th>exchange</th>\n",
       "      <th>side</th>\n",
       "      <th>shares</th>\n",
       "      <th>price</th>\n",
       "      <th>permId</th>\n",
       "      <th>clientId</th>\n",
       "      <th>orderId</th>\n",
       "      <th>liquidation</th>\n",
       "      <th>cumQty</th>\n",
       "      <th>avgPrice</th>\n",
       "      <th>orderRef</th>\n",
       "      <th>evRule</th>\n",
       "      <th>evMultiplier</th>\n",
       "      <th>modelCode</th>\n",
       "      <th>lastLiquidity</th>\n",
       "      <th>pendingPriceRevision</th>\n",
       "    </tr>\n",
       "  </thead>\n",
       "  <tbody>\n",
       "    <tr>\n",
       "      <th>0</th>\n",
       "      <td>00025b46.6646d784.01.01</td>\n",
       "      <td>2024-05-17 11:22:45+00:00</td>\n",
       "      <td>DU7351505</td>\n",
       "      <td>ISLAND</td>\n",
       "      <td>BOT</td>\n",
       "      <td>100.0</td>\n",
       "      <td>175.16</td>\n",
       "      <td>1842923054</td>\n",
       "      <td>0</td>\n",
       "      <td>4590</td>\n",
       "      <td>0</td>\n",
       "      <td>100.0</td>\n",
       "      <td>175.16</td>\n",
       "      <td></td>\n",
       "      <td></td>\n",
       "      <td>0.0</td>\n",
       "      <td></td>\n",
       "      <td>2</td>\n",
       "      <td>False</td>\n",
       "    </tr>\n",
       "  </tbody>\n",
       "</table>\n",
       "</div>"
      ],
      "text/plain": [
       "                    execId                      time acctNumber exchange side  \\\n",
       "0  00025b46.6646d784.01.01 2024-05-17 11:22:45+00:00  DU7351505   ISLAND  BOT   \n",
       "\n",
       "   shares   price      permId  clientId  orderId  liquidation  cumQty  \\\n",
       "0   100.0  175.16  1842923054         0     4590            0   100.0   \n",
       "\n",
       "   avgPrice orderRef evRule  evMultiplier modelCode  lastLiquidity  \\\n",
       "0    175.16                           0.0                        2   \n",
       "\n",
       "   pendingPriceRevision  \n",
       "0                 False  "
      ]
     },
     "execution_count": 59,
     "metadata": {},
     "output_type": "execute_result"
    }
   ],
   "source": [
    "util.df(df_fills.execution.tolist())"
   ]
  },
  {
   "cell_type": "code",
   "execution_count": 61,
   "id": "9f1251fe",
   "metadata": {},
   "outputs": [
    {
     "data": {
      "text/html": [
       "<div>\n",
       "<style scoped>\n",
       "    .dataframe tbody tr th:only-of-type {\n",
       "        vertical-align: middle;\n",
       "    }\n",
       "\n",
       "    .dataframe tbody tr th {\n",
       "        vertical-align: top;\n",
       "    }\n",
       "\n",
       "    .dataframe thead th {\n",
       "        text-align: right;\n",
       "    }\n",
       "</style>\n",
       "<table border=\"1\" class=\"dataframe\">\n",
       "  <thead>\n",
       "    <tr style=\"text-align: right;\">\n",
       "      <th></th>\n",
       "      <th>execId</th>\n",
       "      <th>commission</th>\n",
       "      <th>currency</th>\n",
       "      <th>realizedPNL</th>\n",
       "      <th>yield_</th>\n",
       "      <th>yieldRedemptionDate</th>\n",
       "    </tr>\n",
       "  </thead>\n",
       "  <tbody>\n",
       "    <tr>\n",
       "      <th>0</th>\n",
       "      <td>00025b46.6646d784.01.01</td>\n",
       "      <td>1.0</td>\n",
       "      <td>USD</td>\n",
       "      <td>0.0</td>\n",
       "      <td>0.0</td>\n",
       "      <td>0</td>\n",
       "    </tr>\n",
       "  </tbody>\n",
       "</table>\n",
       "</div>"
      ],
      "text/plain": [
       "                    execId  commission currency  realizedPNL  yield_  \\\n",
       "0  00025b46.6646d784.01.01         1.0      USD          0.0     0.0   \n",
       "\n",
       "   yieldRedemptionDate  \n",
       "0                    0  "
      ]
     },
     "execution_count": 61,
     "metadata": {},
     "output_type": "execute_result"
    }
   ],
   "source": [
    "util.df(df_fills.commissionReport.tolist())"
   ]
  },
  {
   "cell_type": "code",
   "execution_count": null,
   "id": "e3efd9ff",
   "metadata": {},
   "outputs": [],
   "source": []
  }
 ],
 "metadata": {
  "kernelspec": {
   "display_name": "py310",
   "language": "python",
   "name": "py310"
  },
  "language_info": {
   "codemirror_mode": {
    "name": "ipython",
    "version": 3
   },
   "file_extension": ".py",
   "mimetype": "text/x-python",
   "name": "python",
   "nbconvert_exporter": "python",
   "pygments_lexer": "ipython3",
   "version": "3.10.13"
  }
 },
 "nbformat": 4,
 "nbformat_minor": 5
}
